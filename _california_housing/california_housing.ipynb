{
 "cells": [
  {
   "cell_type": "markdown",
   "id": "41c78e61",
   "metadata": {},
   "source": [
    "![arknights](images/California_Housing.jpg)"
   ]
  },
  {
   "cell_type": "markdown",
   "id": "0f19e804",
   "metadata": {},
   "source": [
    "# Median house value prediction – pySpark pipline\n",
    "\n",
    "---\n",
    "\n",
    "**Цель**\n",
    "\n",
    "Обучить модель линейной регрессии для прогнозирования медианной стоимости жилья в определенном районе.  \n",
    "Метрики для оценки модели: R2, RMSE, MAE.  \n",
    "\n",
    "---\n",
    "\n",
    "**Входные данные**: данные о жилье в Калифорнии в 1990 году.\n",
    "\n",
    "---\n",
    "\n",
    "**Задачи:**  \n",
    "\n",
    "- для решения использовать pySpark, MLlib;\n",
    "- разделить данные на обучающую и отложенную выборки: train и test;\n",
    "- для числовых признаков применить:\n",
    "    - масштабирование;\n",
    "    - полиномиальное приеобразование;\n",
    "- для категориальных признаков применить:\n",
    "    - one hote encoding;\n",
    "    - кластеризацию на основе числовых признаков;\n",
    "- при подборе гиперпараметров применить метод случайного поиска по сетке;\n",
    "- подбор гиперпараметров сделать с помощью кросс-валидации;\n",
    "- объединить все шаги в pipeline;\n",
    "- создать 2 модели:\n",
    "    - используя все доступные признаки;\n",
    "    - используя только числовые признаки.\n",
    "- оценить метрики созданных моделей:\n",
    "    - по результатам кросс-валидации;\n",
    "    - на отложенной выборке."
   ]
  },
  {
   "cell_type": "markdown",
   "id": "64d3b239",
   "metadata": {},
   "source": [
    "**Some explanations**\n",
    "\n",
    "---\n",
    "\n",
    "Permanent data tables named like: **data**.  \n",
    "\n",
    "Temporary data tables named like: **df**.  \n",
    "\n",
    "---\n",
    "\n",
    "Intermediate conclusions are highlighted as follows:\n",
    "\n",
    "> Intermediate conclusion.\n",
    "\n",
    "---\n",
    "\n",
    "The code of the cells are as independent as possible from each other in order to freely manipulate the cells."
   ]
  },
  {
   "cell_type": "markdown",
   "id": "a5d94030",
   "metadata": {},
   "source": [
    "---"
   ]
  },
  {
   "cell_type": "markdown",
   "id": "782fee2d",
   "metadata": {
    "tags": []
   },
   "source": [
    "## Intro"
   ]
  },
  {
   "cell_type": "markdown",
   "id": "b3f45f3e",
   "metadata": {},
   "source": [
    "| Признак              | Описание                                              |\n",
    "|:---------------------|:------------------------------------------------------|\n",
    "| `longitude`          | широта                                                |\n",
    "| `latitude`           | долгота                                               |\n",
    "| `housing_median_age` | медианный возраст жителей жилого массива              |\n",
    "| `total_rooms`        | общее количество комнат в домах жилого массива        |\n",
    "| `total_bedrooms`     | общее количество спален в домах жилого массива        |\n",
    "| `population`         | количество человек, которые проживают в жилом массиве |\n",
    "| `households`         | количество домовладений в жилом массиве               |\n",
    "| `median_income`      | медианный доход жителей жилого массива                |\n",
    "| `median_house_value` | медианная стоимость дома в жилом массиве              |\n",
    "| `ocean_proximity`    | близость к океану                                     |"
   ]
  },
  {
   "cell_type": "markdown",
   "id": "ae7325b3",
   "metadata": {},
   "source": [
    "---"
   ]
  },
  {
   "cell_type": "markdown",
   "id": "bb9072f2",
   "metadata": {
    "tags": []
   },
   "source": [
    "## Initial"
   ]
  },
  {
   "cell_type": "code",
   "execution_count": 1,
   "id": "f4189144",
   "metadata": {},
   "outputs": [],
   "source": [
    "# # если возникают проблемы с environment\n",
    "\n",
    "# import os\n",
    "\n",
    "# os.environ['JAVA_HOME'] = \"C:\\\\Program Files\\\\Java\\\\jdk-19\\\\\"\n",
    "# os.environ['PYSPARK_SUBMIT_ARGS'] = \"--master local[2] pyspark-shell\""
   ]
  },
  {
   "cell_type": "markdown",
   "id": "f5cef155",
   "metadata": {},
   "source": [
    "### Imports"
   ]
  },
  {
   "cell_type": "code",
   "execution_count": 2,
   "id": "9c0bf8a2",
   "metadata": {},
   "outputs": [],
   "source": [
    "import pandas as pd\n",
    "import numpy as np\n",
    "\n",
    "import os\n",
    "import warnings\n",
    "\n",
    "import matplotlib.pyplot as plt\n",
    "import seaborn as sns\n",
    "from matplotlib.colors import LinearSegmentedColormap\n",
    "import plotly.graph_objects as go\n",
    "import plotly.io as pio\n",
    "\n",
    "import pyspark\n",
    "from pyspark.sql import SparkSession\n",
    "from pyspark.sql.types import *\n",
    "import pyspark.sql.functions as F\n",
    "from pyspark.sql.window import Window\n",
    "\n",
    "from pyspark.ml.feature import QuantileDiscretizer, StringIndexer, OneHotEncoder, StandardScaler, RobustScaler\n",
    "from pyspark.ml.feature import PolynomialExpansion, VectorAssembler\n",
    "from pyspark.ml.clustering import KMeans\n",
    "from pyspark.ml.tuning import CrossValidator, ParamGridBuilder\n",
    "from pyspark.ml.regression import LinearRegression\n",
    "from pyspark.ml.evaluation import RegressionEvaluator\n",
    "from pyspark.ml import Pipeline"
   ]
  },
  {
   "cell_type": "markdown",
   "id": "7c9327a4",
   "metadata": {},
   "source": [
    "### Constants"
   ]
  },
  {
   "cell_type": "code",
   "execution_count": 3,
   "id": "dc48b1fb",
   "metadata": {},
   "outputs": [],
   "source": [
    "PATH_LOCAL = 'datasets/'                      # local path to data\n",
    "PATH_REMOTE = '/datasets/'                    # remote path to data\n",
    "\n",
    "CR = '\\n'                                     # new line\n",
    "RANDOM_STATE = RANDOM_SEED = RS = 66          # random_state\n",
    "TEST_FRAC = 0.1                               # доля отложенной выборки\n",
    "\n",
    "N_TRIALS = 10                                 # количество попыток при подборе гиперпараметров\n",
    "N_CV = 4                                      # количество фолдов при кросс-валидации\n",
    "MAX_ITER = 1000                               # max количество итераций для LinearRegression\n",
    "DEGREE_POLYNOMIAL = 5                         # степень для полиномиального преобразования"
   ]
  },
  {
   "cell_type": "markdown",
   "id": "c3161820",
   "metadata": {},
   "source": [
    "### Functions"
   ]
  },
  {
   "cell_type": "code",
   "execution_count": 4,
   "id": "a8068b9c",
   "metadata": {},
   "outputs": [],
   "source": [
    "def custom_read_spark(spark_session, file_name, file_format='csv', separator=',', header='true'):\n",
    "    \"\"\"\n",
    "    чтение датасета в spark-сессии:\n",
    "      сначала из локального хранилища;\n",
    "      при неудаче — из удаленного хранилища\n",
    "    \"\"\"\n",
    "\n",
    "    path_local = f'{PATH_LOCAL}{file_name}'\n",
    "    path_remote = f'{PATH_REMOTE}{file_name}'\n",
    "    \n",
    "    if os.path.exists(path_local):\n",
    "        return spark_session.read.load(\n",
    "                                       path_local,\n",
    "                                       inferSchema=True,\n",
    "                                       format=file_format,\n",
    "                                       sep=separator,\n",
    "                                       header=header,\n",
    "                                      )\n",
    "\n",
    "    elif os.path.exists(path_remote):\n",
    "        return spark_session.read.load(\n",
    "                                       path_remote,\n",
    "                                       inferSchema=True,\n",
    "                                       format=file_format,\n",
    "                                       sep=separator,\n",
    "                                       header=header,\n",
    "                                      )\n",
    "\n",
    "    else:\n",
    "        print(f'File \"{file_name}\" not found at the specified path.')"
   ]
  },
  {
   "cell_type": "code",
   "execution_count": 5,
   "id": "6bc6110a",
   "metadata": {},
   "outputs": [],
   "source": [
    "def var_name(var):\n",
    "    \"\"\"\n",
    "    var name determination\n",
    "    \"\"\"\n",
    "    return [name for name in globals() if globals()[name] is var][0]"
   ]
  },
  {
   "cell_type": "code",
   "execution_count": 6,
   "id": "1d075fdd",
   "metadata": {},
   "outputs": [],
   "source": [
    "# найдено в Инете\n",
    "\n",
    "class RandomGridBuilder: \n",
    "  '''\n",
    "  Grid builder for random search. Sets up grids for use in CrossValidator in Spark\n",
    "  using values randomly sampled from user-provided distributions.\n",
    "  Distributions should be provided as lambda functions, so that the numbers are generated at call time.\n",
    "  \n",
    "  Parameters:\n",
    "    num_models: Integer (Python) - number of models to generate hyperparameters for\n",
    "    seed: Integer (Python) - seed (optional, default is None)\n",
    "    \n",
    "  Returns:\n",
    "    param_map: list of parameter maps to use in cross validation.\n",
    "    \n",
    "  Example usage:\n",
    "    from pyspark.ml.classification import LogisticRegression\n",
    "    lr = LogisticRegression()\n",
    "    paramGrid = RandomGridBuilder(2)\\\n",
    "               .addDistr(lr.regParam, lambda: np.random.rand()) \\\n",
    "               .addDistr(lr.maxIter, lambda : np.random.randint(10))\\\n",
    "               .build()\n",
    "               \n",
    "    Returns similar output as Spark ML class ParamGridBuilder and can be used in its place.\n",
    "    The above paramGrid provides random hyperparameters for 2 models.\n",
    "    '''\n",
    "  \n",
    "  def __init__(self, num_models, seed=None):\n",
    "    self._param_grid = {}\n",
    "    self.num_models = num_models\n",
    "    self.seed = seed\n",
    "    \n",
    "  def addDistr(self, param, distr_generator):\n",
    "    '''Add distribution based on dictionary generated by function passed to addDistr.'''\n",
    "    \n",
    "    if 'pyspark.ml.param.Param' in str(type(param)):\n",
    "      self._param_grid[param] = distr_generator\n",
    "    else:\n",
    "      raise TypeError('param must be an instance of Param')\n",
    "\n",
    "    return self\n",
    "  \n",
    "  def build(self):    \n",
    "    param_map = []\n",
    "    for n in range(self.num_models):\n",
    "      if self.seed:\n",
    "        # Set seeds for both numpy and random in case either is used for the random distribution\n",
    "        np.random.seed(self.seed + n)\n",
    "        random.seed(self.seed + n)\n",
    "      param_dict = {}\n",
    "      for param, distr in self._param_grid.items():\n",
    "        param_dict[param] = distr()\n",
    "      param_map.append(param_dict)\n",
    "    \n",
    "    return param_map"
   ]
  },
  {
   "cell_type": "markdown",
   "id": "f4825471",
   "metadata": {},
   "source": [
    "### Settings"
   ]
  },
  {
   "cell_type": "code",
   "execution_count": 7,
   "id": "604a0591",
   "metadata": {},
   "outputs": [],
   "source": [
    "# text styles\n",
    "class f:\n",
    "    BOLD = \"\\033[1m\"\n",
    "    ITALIC = \"\\033[3m\"\n",
    "    END = \"\\033[0m\""
   ]
  },
  {
   "cell_type": "code",
   "execution_count": 8,
   "id": "67297223",
   "metadata": {},
   "outputs": [],
   "source": [
    "# defaults for charts\n",
    "\n",
    "# Matplotlib, Seaborn\n",
    "PLOT_DPI = 150  # dpi for charts rendering \n",
    "sns.set_style('whitegrid', {'axes.facecolor': '0.98', 'grid.color': '0.9', 'axes.edgecolor': '1.0'})\n",
    "plt.rc(\n",
    "       'axes',\n",
    "       labelweight='bold',\n",
    "       titlesize=16,\n",
    "       titlepad=10,\n",
    "      )\n",
    "\n",
    "# Plotly Graph_Objects\n",
    "pio.templates['my_theme'] = go.layout.Template(\n",
    "                                               layout_autosize=True,\n",
    "                                               # width=900,\n",
    "                                               layout_height=200,\n",
    "                                               layout_legend_orientation=\"h\",\n",
    "                                               layout_margin=dict(t=40, b=40),         # (l=0, r=0, b=0, t=0, pad=0)\n",
    "                                               layout_template='seaborn',\n",
    "                                              )\n",
    "pio.templates.default = 'my_theme'\n",
    "\n",
    "# colors, color schemes\n",
    "CMAP_SYMMETRIC = LinearSegmentedColormap.from_list('', ['steelblue', 'aliceblue', 'steelblue'])"
   ]
  },
  {
   "cell_type": "code",
   "execution_count": 9,
   "id": "705dd986",
   "metadata": {},
   "outputs": [],
   "source": [
    "# Pandas defaults\n",
    "pd.options.display.max_colwidth = 100\n",
    "pd.options.display.max_rows = 500\n",
    "pd.options.display.max_columns = 100\n",
    "pd.options.display.float_format = '{:.3f}'.format\n",
    "pd.options.display.colheader_justify = 'left'"
   ]
  },
  {
   "cell_type": "code",
   "execution_count": 10,
   "id": "a0d24efb",
   "metadata": {},
   "outputs": [],
   "source": [
    "# others\n",
    "warnings.filterwarnings('ignore')"
   ]
  },
  {
   "cell_type": "markdown",
   "id": "d6e7da7a",
   "metadata": {},
   "source": [
    "---"
   ]
  },
  {
   "cell_type": "markdown",
   "id": "89d54c2e",
   "metadata": {},
   "source": [
    "## Spark session open"
   ]
  },
  {
   "cell_type": "code",
   "execution_count": 11,
   "id": "f1cc2d6c",
   "metadata": {},
   "outputs": [
    {
     "data": {
      "text/html": [
       "\n",
       "            <div>\n",
       "                <p><b>SparkSession - in-memory</b></p>\n",
       "                \n",
       "        <div>\n",
       "            <p><b>SparkContext</b></p>\n",
       "\n",
       "            <p><a href=\"http://jupyter-user-0-90463478:4040\">Spark UI</a></p>\n",
       "\n",
       "            <dl>\n",
       "              <dt>Version</dt>\n",
       "                <dd><code>v3.0.2</code></dd>\n",
       "              <dt>Master</dt>\n",
       "                <dd><code>local</code></dd>\n",
       "              <dt>AppName</dt>\n",
       "                <dd><code>California Housing – Price Regression</code></dd>\n",
       "            </dl>\n",
       "        </div>\n",
       "        \n",
       "            </div>\n",
       "        "
      ],
      "text/plain": [
       "<pyspark.sql.session.SparkSession at 0x7f15d702d5e0>"
      ]
     },
     "execution_count": 11,
     "metadata": {},
     "output_type": "execute_result"
    }
   ],
   "source": [
    "spark = (\n",
    "         SparkSession\n",
    "         .builder\n",
    "         .master('local')\n",
    "         .appName('California Housing – Price Regression')\n",
    "         .getOrCreate()\n",
    "        )\n",
    "\n",
    "spark"
   ]
  },
  {
   "cell_type": "markdown",
   "id": "30757a9f",
   "metadata": {},
   "source": [
    "## Read and Check data"
   ]
  },
  {
   "cell_type": "markdown",
   "id": "52961e98",
   "metadata": {},
   "source": [
    "### Read data"
   ]
  },
  {
   "cell_type": "code",
   "execution_count": 12,
   "id": "bcaca142",
   "metadata": {},
   "outputs": [
    {
     "name": "stderr",
     "output_type": "stream",
     "text": [
      "                                                                                \r"
     ]
    }
   ],
   "source": [
    "data = custom_read_spark(spark, 'housing.csv', file_format='csv', separator=',', header='true')"
   ]
  },
  {
   "cell_type": "markdown",
   "id": "608e22e0",
   "metadata": {},
   "source": [
    "### First look at data"
   ]
  },
  {
   "cell_type": "code",
   "execution_count": 14,
   "id": "13061597",
   "metadata": {},
   "outputs": [
    {
     "name": "stdout",
     "output_type": "stream",
     "text": [
      "root\n",
      " |-- longitude: double (nullable = true)\n",
      " |-- latitude: double (nullable = true)\n",
      " |-- housing_median_age: double (nullable = true)\n",
      " |-- total_rooms: double (nullable = true)\n",
      " |-- total_bedrooms: double (nullable = true)\n",
      " |-- population: double (nullable = true)\n",
      " |-- households: double (nullable = true)\n",
      " |-- median_income: double (nullable = true)\n",
      " |-- median_house_value: double (nullable = true)\n",
      " |-- ocean_proximity: string (nullable = true)\n",
      "\n"
     ]
    }
   ],
   "source": [
    "data.printSchema()\n",
    "# pd.DataFrame(data.dtypes, columns=['column', 'type'])      # либо так"
   ]
  },
  {
   "cell_type": "code",
   "execution_count": 15,
   "id": "c862603e",
   "metadata": {
    "scrolled": false
   },
   "outputs": [
    {
     "name": "stdout",
     "output_type": "stream",
     "text": [
      "+---------+--------+------------------+-----------+--------------+----------+----------+-------------+------------------+---------------+\n",
      "|longitude|latitude|housing_median_age|total_rooms|total_bedrooms|population|households|median_income|median_house_value|ocean_proximity|\n",
      "+---------+--------+------------------+-----------+--------------+----------+----------+-------------+------------------+---------------+\n",
      "|  -122.23|   37.88|              41.0|      880.0|         129.0|     322.0|     126.0|       8.3252|          452600.0|       NEAR BAY|\n",
      "|  -122.22|   37.86|              21.0|     7099.0|        1106.0|    2401.0|    1138.0|       8.3014|          358500.0|       NEAR BAY|\n",
      "|  -122.24|   37.85|              52.0|     1467.0|         190.0|     496.0|     177.0|       7.2574|          352100.0|       NEAR BAY|\n",
      "+---------+--------+------------------+-----------+--------------+----------+----------+-------------+------------------+---------------+\n",
      "only showing top 3 rows\n",
      "\n"
     ]
    }
   ],
   "source": [
    "data.show(3)"
   ]
  },
  {
   "cell_type": "code",
   "execution_count": 16,
   "id": "c6ebb216",
   "metadata": {},
   "outputs": [
    {
     "name": "stderr",
     "output_type": "stream",
     "text": [
      "                                                                                \r"
     ]
    },
    {
     "data": {
      "text/html": [
       "<div>\n",
       "<style scoped>\n",
       "    .dataframe tbody tr th:only-of-type {\n",
       "        vertical-align: middle;\n",
       "    }\n",
       "\n",
       "    .dataframe tbody tr th {\n",
       "        vertical-align: top;\n",
       "    }\n",
       "\n",
       "    .dataframe thead th {\n",
       "        text-align: right;\n",
       "    }\n",
       "</style>\n",
       "<table border=\"1\" class=\"dataframe\">\n",
       "  <thead>\n",
       "    <tr style=\"text-align: left;\">\n",
       "      <th></th>\n",
       "      <th>longitude</th>\n",
       "      <th>latitude</th>\n",
       "      <th>housing_median_age</th>\n",
       "      <th>total_rooms</th>\n",
       "      <th>total_bedrooms</th>\n",
       "      <th>population</th>\n",
       "      <th>households</th>\n",
       "      <th>median_income</th>\n",
       "      <th>median_house_value</th>\n",
       "      <th>ocean_proximity</th>\n",
       "    </tr>\n",
       "    <tr>\n",
       "      <th>summary</th>\n",
       "      <th></th>\n",
       "      <th></th>\n",
       "      <th></th>\n",
       "      <th></th>\n",
       "      <th></th>\n",
       "      <th></th>\n",
       "      <th></th>\n",
       "      <th></th>\n",
       "      <th></th>\n",
       "      <th></th>\n",
       "    </tr>\n",
       "  </thead>\n",
       "  <tbody>\n",
       "    <tr>\n",
       "      <th>count</th>\n",
       "      <td>20640</td>\n",
       "      <td>20640</td>\n",
       "      <td>20640</td>\n",
       "      <td>20640</td>\n",
       "      <td>20433</td>\n",
       "      <td>20640</td>\n",
       "      <td>20640</td>\n",
       "      <td>20640</td>\n",
       "      <td>20640</td>\n",
       "      <td>20640</td>\n",
       "    </tr>\n",
       "    <tr>\n",
       "      <th>mean</th>\n",
       "      <td>-119.56970445736148</td>\n",
       "      <td>35.6318614341087</td>\n",
       "      <td>28.639486434108527</td>\n",
       "      <td>2635.7630813953488</td>\n",
       "      <td>537.8705525375618</td>\n",
       "      <td>1425.4767441860465</td>\n",
       "      <td>499.5396802325581</td>\n",
       "      <td>3.8706710029070246</td>\n",
       "      <td>206855.81690891474</td>\n",
       "      <td>None</td>\n",
       "    </tr>\n",
       "    <tr>\n",
       "      <th>stddev</th>\n",
       "      <td>2.003531723502584</td>\n",
       "      <td>2.135952397457101</td>\n",
       "      <td>12.58555761211163</td>\n",
       "      <td>2181.6152515827944</td>\n",
       "      <td>421.38507007403115</td>\n",
       "      <td>1132.46212176534</td>\n",
       "      <td>382.3297528316098</td>\n",
       "      <td>1.899821717945263</td>\n",
       "      <td>115395.61587441359</td>\n",
       "      <td>None</td>\n",
       "    </tr>\n",
       "    <tr>\n",
       "      <th>min</th>\n",
       "      <td>-124.35</td>\n",
       "      <td>32.54</td>\n",
       "      <td>1.0</td>\n",
       "      <td>2.0</td>\n",
       "      <td>1.0</td>\n",
       "      <td>3.0</td>\n",
       "      <td>1.0</td>\n",
       "      <td>0.4999</td>\n",
       "      <td>14999.0</td>\n",
       "      <td>&lt;1H OCEAN</td>\n",
       "    </tr>\n",
       "    <tr>\n",
       "      <th>max</th>\n",
       "      <td>-114.31</td>\n",
       "      <td>41.95</td>\n",
       "      <td>52.0</td>\n",
       "      <td>39320.0</td>\n",
       "      <td>6445.0</td>\n",
       "      <td>35682.0</td>\n",
       "      <td>6082.0</td>\n",
       "      <td>15.0001</td>\n",
       "      <td>500001.0</td>\n",
       "      <td>NEAR OCEAN</td>\n",
       "    </tr>\n",
       "  </tbody>\n",
       "</table>\n",
       "</div>"
      ],
      "text/plain": [
       "        longitude            latitude           housing_median_age   \\\n",
       "summary                                                               \n",
       "count                  20640              20640               20640   \n",
       "mean     -119.56970445736148   35.6318614341087  28.639486434108527   \n",
       "stddev     2.003531723502584  2.135952397457101   12.58555761211163   \n",
       "min                  -124.35              32.54                 1.0   \n",
       "max                  -114.31              41.95                52.0   \n",
       "\n",
       "        total_rooms         total_bedrooms      population           \\\n",
       "summary                                                               \n",
       "count                 20640               20433               20640   \n",
       "mean     2635.7630813953488   537.8705525375618  1425.4767441860465   \n",
       "stddev   2181.6152515827944  421.38507007403115    1132.46212176534   \n",
       "min                     2.0                 1.0                 3.0   \n",
       "max                 39320.0              6445.0             35682.0   \n",
       "\n",
       "        households         median_income       median_house_value   \\\n",
       "summary                                                              \n",
       "count                20640               20640               20640   \n",
       "mean     499.5396802325581  3.8706710029070246  206855.81690891474   \n",
       "stddev   382.3297528316098   1.899821717945263  115395.61587441359   \n",
       "min                    1.0              0.4999             14999.0   \n",
       "max                 6082.0             15.0001            500001.0   \n",
       "\n",
       "        ocean_proximity  \n",
       "summary                  \n",
       "count         20640      \n",
       "mean           None      \n",
       "stddev         None      \n",
       "min       <1H OCEAN      \n",
       "max      NEAR OCEAN      "
      ]
     },
     "execution_count": 16,
     "metadata": {},
     "output_type": "execute_result"
    }
   ],
   "source": [
    "data.describe().toPandas().set_index('summary')"
   ]
  },
  {
   "cell_type": "markdown",
   "id": "62765482",
   "metadata": {},
   "source": [
    "## Preprocessing"
   ]
  },
  {
   "cell_type": "markdown",
   "id": "e720db79",
   "metadata": {},
   "source": [
    "### Drop features"
   ]
  },
  {
   "cell_type": "code",
   "execution_count": 17,
   "id": "c05885b7",
   "metadata": {
    "scrolled": true
   },
   "outputs": [],
   "source": [
    "# data = data.drop('index')\n",
    "# data.sample(0.001).show(1)"
   ]
  },
  {
   "cell_type": "markdown",
   "id": "8f44d4a2",
   "metadata": {},
   "source": [
    "> Поле `index` содержит уникальные номера наблюдений, поэтому удалено."
   ]
  },
  {
   "cell_type": "markdown",
   "id": "80bf97e7",
   "metadata": {},
   "source": [
    "### Missing values"
   ]
  },
  {
   "cell_type": "code",
   "execution_count": 18,
   "id": "6a88b9de",
   "metadata": {},
   "outputs": [],
   "source": [
    "def count_null(df):\n",
    "    '''\n",
    "    Функция для подсчета пропущенных значений в датасете.\n",
    "    Выводит результат на экран.\n",
    "    '''\n",
    "\n",
    "    print(f'missing values:{CR}')\n",
    "\n",
    "    for column in data.columns:\n",
    "#         is_null = F.col(column).isNull() | F.col(column).isin([None, np.nan])\n",
    "        is_null = F.isnull(F.col(column)) | F.isnan(F.col(column))\n",
    "        print(f'{column:25} {data.filter(is_null).count():5d}')"
   ]
  },
  {
   "cell_type": "code",
   "execution_count": 19,
   "id": "7d60af9f",
   "metadata": {},
   "outputs": [
    {
     "name": "stdout",
     "output_type": "stream",
     "text": [
      "missing values:\n",
      "\n",
      "longitude                     0\n",
      "latitude                      0\n",
      "housing_median_age            0\n",
      "total_rooms                   0\n",
      "total_bedrooms              207\n",
      "population                    0\n",
      "households                    0\n",
      "median_income                 0\n",
      "median_house_value            0\n",
      "ocean_proximity               0\n"
     ]
    }
   ],
   "source": [
    "count_null(data)"
   ]
  },
  {
   "cell_type": "markdown",
   "id": "ea106040",
   "metadata": {},
   "source": [
    "> Есть пропущенные значения.\n",
    "> \n",
    "> Можно заменить их средними значениями с учетом контекста.  \n",
    "> Предполагаемые зависимости:\n",
    "> - `total_rooms`: больше комнат – больше спален среди них;\n",
    "> - `population`: больше людей – больше спален;\n",
    "> - `median_income`: выше доход – просторнее размещение.\n",
    "\n",
    "> Для более взвешенного решения лучше изучить корреляции признаков."
   ]
  },
  {
   "cell_type": "markdown",
   "id": "6fecca84",
   "metadata": {},
   "source": [
    "Для того, чтобы использовать непрерывные значения для группировки, необходимо их дискретизировать.  \n",
    "По 10 интервалов для каждой переменной должно хватить для достижения приемлемой точности, не создавая при этом слишком много групп."
   ]
  },
  {
   "cell_type": "code",
   "execution_count": 22,
   "id": "807c1414",
   "metadata": {},
   "outputs": [
    {
     "name": "stderr",
     "output_type": "stream",
     "text": [
      "                                                                                \r"
     ]
    }
   ],
   "source": [
    "df_stats_before = data.describe().toPandas().set_index('summary').dropna(axis=1).astype('float')     # before change "
   ]
  },
  {
   "cell_type": "code",
   "execution_count": 23,
   "id": "dd0a61a7",
   "metadata": {},
   "outputs": [],
   "source": [
    "data = (QuantileDiscretizer(\n",
    "                            numBucketsArray=[10,10,10],\n",
    "                            inputCols=['total_rooms','population','median_income'],\n",
    "                            outputCols=['total_rooms_discrete','population_discrete','median_income_discrete'],\n",
    "                            relativeError=0.01,\n",
    "                            handleInvalid='error',\n",
    "                           )\n",
    "        .fit(data)\n",
    "        .transform(data)\n",
    "       )"
   ]
  },
  {
   "cell_type": "code",
   "execution_count": 24,
   "id": "4ac5bf33",
   "metadata": {},
   "outputs": [
    {
     "name": "stdout",
     "output_type": "stream",
     "text": [
      "+-----------+--------------------+----------+-------------------+-------------+----------------------+\n",
      "|total_rooms|total_rooms_discrete|population|population_discrete|median_income|median_income_discrete|\n",
      "+-----------+--------------------+----------+-------------------+-------------+----------------------+\n",
      "|     3761.0|                 8.0|    1776.0|                7.0|       4.5317|                   7.0|\n",
      "|     1739.0|                 3.0|     820.0|                2.0|       4.0556|                   6.0|\n",
      "|     2718.0|                 6.0|    3018.0|                9.0|       2.9076|                   3.0|\n",
      "|     4624.0|                 9.0|    1572.0|                7.0|       6.5533|                   9.0|\n",
      "|     1292.0|                 1.0|    2081.0|                8.0|       0.9563|                   0.0|\n",
      "+-----------+--------------------+----------+-------------------+-------------+----------------------+\n",
      "only showing top 5 rows\n",
      "\n"
     ]
    }
   ],
   "source": [
    "data.select('total_rooms','total_rooms_discrete','population','population_discrete',\n",
    "            'median_income','median_income_discrete').sample(0.001).show(3)"
   ]
  },
  {
   "cell_type": "markdown",
   "id": "9439e087",
   "metadata": {},
   "source": [
    "Используя оконную функцию, заполним пропуски в `total_bedrooms` средним (медианным) значением `total_bedrooms` для каждой группы.\n",
    "\n",
    "**!!! функция percentile_approx(), используемая для вычисления медианы, добавлена в Spark, начиная с версии 3.1**"
   ]
  },
  {
   "cell_type": "code",
   "execution_count": 25,
   "id": "91983910",
   "metadata": {},
   "outputs": [],
   "source": [
    "window = Window().partitionBy('total_rooms_discrete','population_discrete','median_income_discrete')\n",
    "\n",
    "data = (data.withColumn('total_bedrooms',\n",
    "                        F.when(\n",
    "                               F.col('total_bedrooms').isNull(),\n",
    "                               F.avg(F.col('total_bedrooms')).over(window)\n",
    "#                                F.percentile_approx(F.col('total_bedrooms'), 0.5).over(window)\n",
    "                              )\n",
    "                         .otherwise(F.col('total_bedrooms'))\n",
    "                       )\n",
    "       )"
   ]
  },
  {
   "cell_type": "markdown",
   "id": "66b434c2",
   "metadata": {},
   "source": [
    "Проверка результата."
   ]
  },
  {
   "cell_type": "code",
   "execution_count": 26,
   "id": "081d8f14",
   "metadata": {},
   "outputs": [
    {
     "name": "stdout",
     "output_type": "stream",
     "text": [
      "missing values:\n",
      "\n",
      "longitude                     0\n",
      "latitude                      0\n",
      "housing_median_age            0\n",
      "total_rooms                   0\n"
     ]
    },
    {
     "name": "stderr",
     "output_type": "stream",
     "text": [
      "[Stage 38:===================================================>  (192 + 1) / 200]\r"
     ]
    },
    {
     "name": "stdout",
     "output_type": "stream",
     "text": [
      "total_bedrooms                1\n"
     ]
    },
    {
     "name": "stderr",
     "output_type": "stream",
     "text": [
      "                                                                                \r"
     ]
    },
    {
     "name": "stdout",
     "output_type": "stream",
     "text": [
      "population                    0\n",
      "households                    0\n",
      "median_income                 0\n",
      "median_house_value            0\n",
      "ocean_proximity               0\n",
      "total_rooms_discrete          0\n",
      "population_discrete           0\n",
      "median_income_discrete        0\n"
     ]
    }
   ],
   "source": [
    "count_null(data)"
   ]
  },
  {
   "cell_type": "markdown",
   "id": "3b857e7a",
   "metadata": {},
   "source": [
    "> Отсталось одно пропущенное значение. Вероятно, это наблюдение выбивается из общего ряда, и для него не нашлось соответствующей группы.  \n",
    "> Оставшиеся пропущенные значения заменим, уменьшив количество полей для группировки (оконной функции)."
   ]
  },
  {
   "cell_type": "code",
   "execution_count": 27,
   "id": "c7c2b44b",
   "metadata": {},
   "outputs": [],
   "source": [
    "window = Window().partitionBy('population_discrete')\n",
    "\n",
    "data = (data.withColumn('total_bedrooms',\n",
    "                        F.when(\n",
    "                               F.col('total_bedrooms').isNull(),\n",
    "                               F.avg(F.col('total_bedrooms')).over(window)\n",
    "#                                F.percentile_approx(F.col('total_bedrooms'), 0.5).over(window)\n",
    "                              )\n",
    "                         .otherwise(F.col('total_bedrooms'))\n",
    "                       )\n",
    "       )"
   ]
  },
  {
   "cell_type": "markdown",
   "id": "40bf8161",
   "metadata": {},
   "source": [
    "Проверка результата."
   ]
  },
  {
   "cell_type": "code",
   "execution_count": 28,
   "id": "5e2fa979",
   "metadata": {},
   "outputs": [
    {
     "name": "stdout",
     "output_type": "stream",
     "text": [
      "missing values:\n",
      "\n",
      "longitude                     0\n",
      "latitude                      0\n",
      "housing_median_age            0\n",
      "total_rooms                   0\n"
     ]
    },
    {
     "name": "stderr",
     "output_type": "stream",
     "text": [
      "                                                                                \r"
     ]
    },
    {
     "name": "stdout",
     "output_type": "stream",
     "text": [
      "total_bedrooms                0\n",
      "population                    0\n",
      "households                    0\n",
      "median_income                 0\n",
      "median_house_value            0\n",
      "ocean_proximity               0\n",
      "total_rooms_discrete          0\n",
      "population_discrete           0\n",
      "median_income_discrete        0\n"
     ]
    }
   ],
   "source": [
    "count_null(data)"
   ]
  },
  {
   "cell_type": "markdown",
   "id": "ecb13d74",
   "metadata": {},
   "source": [
    "Удаление временных полей."
   ]
  },
  {
   "cell_type": "code",
   "execution_count": 29,
   "id": "c9fe6512",
   "metadata": {},
   "outputs": [],
   "source": [
    "data = data.drop('total_rooms_discrete','population_discrete','median_income_discrete')"
   ]
  },
  {
   "cell_type": "markdown",
   "id": "403d391f",
   "metadata": {},
   "source": [
    "Сравнение статистик до и после заполнения пропущенных значений."
   ]
  },
  {
   "cell_type": "code",
   "execution_count": 30,
   "id": "1254d5af",
   "metadata": {},
   "outputs": [
    {
     "name": "stderr",
     "output_type": "stream",
     "text": [
      "                                                                                \r"
     ]
    }
   ],
   "source": [
    "df_stats_after = data.describe().toPandas().set_index('summary').dropna(axis=1).astype('float')      # after change"
   ]
  },
  {
   "cell_type": "code",
   "execution_count": 31,
   "id": "2d29c083",
   "metadata": {},
   "outputs": [
    {
     "data": {
      "text/html": [
       "<style  type=\"text/css\" >\n",
       "#T_881d9_row0_col4,#T_881d9_row1_col4,#T_881d9_row2_col4{\n",
       "            color: red;\n",
       "        }</style><table id=\"T_881d9_\" ><thead>    <tr>        <th class=\"blank level0\" ></th>        <th class=\"col_heading level0 col0\" >longitude</th>        <th class=\"col_heading level0 col1\" >latitude</th>        <th class=\"col_heading level0 col2\" >housing_median_age</th>        <th class=\"col_heading level0 col3\" >total_rooms</th>        <th class=\"col_heading level0 col4\" >total_bedrooms</th>        <th class=\"col_heading level0 col5\" >population</th>        <th class=\"col_heading level0 col6\" >households</th>        <th class=\"col_heading level0 col7\" >median_income</th>        <th class=\"col_heading level0 col8\" >median_house_value</th>    </tr>    <tr>        <th class=\"index_name level0\" >summary</th>        <th class=\"blank\" ></th>        <th class=\"blank\" ></th>        <th class=\"blank\" ></th>        <th class=\"blank\" ></th>        <th class=\"blank\" ></th>        <th class=\"blank\" ></th>        <th class=\"blank\" ></th>        <th class=\"blank\" ></th>        <th class=\"blank\" ></th>    </tr></thead><tbody>\n",
       "                <tr>\n",
       "                        <th id=\"T_881d9_level0_row0\" class=\"row_heading level0 row0\" >count</th>\n",
       "                        <td id=\"T_881d9_row0_col0\" class=\"data row0 col0\" >0.000%</td>\n",
       "                        <td id=\"T_881d9_row0_col1\" class=\"data row0 col1\" >0.000%</td>\n",
       "                        <td id=\"T_881d9_row0_col2\" class=\"data row0 col2\" >0.000%</td>\n",
       "                        <td id=\"T_881d9_row0_col3\" class=\"data row0 col3\" >0.000%</td>\n",
       "                        <td id=\"T_881d9_row0_col4\" class=\"data row0 col4\" >1.013%</td>\n",
       "                        <td id=\"T_881d9_row0_col5\" class=\"data row0 col5\" >0.000%</td>\n",
       "                        <td id=\"T_881d9_row0_col6\" class=\"data row0 col6\" >0.000%</td>\n",
       "                        <td id=\"T_881d9_row0_col7\" class=\"data row0 col7\" >0.000%</td>\n",
       "                        <td id=\"T_881d9_row0_col8\" class=\"data row0 col8\" >0.000%</td>\n",
       "            </tr>\n",
       "            <tr>\n",
       "                        <th id=\"T_881d9_level0_row1\" class=\"row_heading level0 row1\" >mean</th>\n",
       "                        <td id=\"T_881d9_row1_col0\" class=\"data row1 col0\" >0.000%</td>\n",
       "                        <td id=\"T_881d9_row1_col1\" class=\"data row1 col1\" >-0.000%</td>\n",
       "                        <td id=\"T_881d9_row1_col2\" class=\"data row1 col2\" >0.000%</td>\n",
       "                        <td id=\"T_881d9_row1_col3\" class=\"data row1 col3\" >0.000%</td>\n",
       "                        <td id=\"T_881d9_row1_col4\" class=\"data row1 col4\" >0.025%</td>\n",
       "                        <td id=\"T_881d9_row1_col5\" class=\"data row1 col5\" >0.000%</td>\n",
       "                        <td id=\"T_881d9_row1_col6\" class=\"data row1 col6\" >0.000%</td>\n",
       "                        <td id=\"T_881d9_row1_col7\" class=\"data row1 col7\" >-0.000%</td>\n",
       "                        <td id=\"T_881d9_row1_col8\" class=\"data row1 col8\" >0.000%</td>\n",
       "            </tr>\n",
       "            <tr>\n",
       "                        <th id=\"T_881d9_level0_row2\" class=\"row_heading level0 row2\" >stddev</th>\n",
       "                        <td id=\"T_881d9_row2_col0\" class=\"data row2 col0\" >0.000%</td>\n",
       "                        <td id=\"T_881d9_row2_col1\" class=\"data row2 col1\" >0.000%</td>\n",
       "                        <td id=\"T_881d9_row2_col2\" class=\"data row2 col2\" >0.000%</td>\n",
       "                        <td id=\"T_881d9_row2_col3\" class=\"data row2 col3\" >-0.000%</td>\n",
       "                        <td id=\"T_881d9_row2_col4\" class=\"data row2 col4\" >-0.072%</td>\n",
       "                        <td id=\"T_881d9_row2_col5\" class=\"data row2 col5\" >0.000%</td>\n",
       "                        <td id=\"T_881d9_row2_col6\" class=\"data row2 col6\" >0.000%</td>\n",
       "                        <td id=\"T_881d9_row2_col7\" class=\"data row2 col7\" >0.000%</td>\n",
       "                        <td id=\"T_881d9_row2_col8\" class=\"data row2 col8\" >0.000%</td>\n",
       "            </tr>\n",
       "            <tr>\n",
       "                        <th id=\"T_881d9_level0_row3\" class=\"row_heading level0 row3\" >min</th>\n",
       "                        <td id=\"T_881d9_row3_col0\" class=\"data row3 col0\" >-0.000%</td>\n",
       "                        <td id=\"T_881d9_row3_col1\" class=\"data row3 col1\" >0.000%</td>\n",
       "                        <td id=\"T_881d9_row3_col2\" class=\"data row3 col2\" >0.000%</td>\n",
       "                        <td id=\"T_881d9_row3_col3\" class=\"data row3 col3\" >0.000%</td>\n",
       "                        <td id=\"T_881d9_row3_col4\" class=\"data row3 col4\" >0.000%</td>\n",
       "                        <td id=\"T_881d9_row3_col5\" class=\"data row3 col5\" >0.000%</td>\n",
       "                        <td id=\"T_881d9_row3_col6\" class=\"data row3 col6\" >0.000%</td>\n",
       "                        <td id=\"T_881d9_row3_col7\" class=\"data row3 col7\" >0.000%</td>\n",
       "                        <td id=\"T_881d9_row3_col8\" class=\"data row3 col8\" >0.000%</td>\n",
       "            </tr>\n",
       "            <tr>\n",
       "                        <th id=\"T_881d9_level0_row4\" class=\"row_heading level0 row4\" >max</th>\n",
       "                        <td id=\"T_881d9_row4_col0\" class=\"data row4 col0\" >-0.000%</td>\n",
       "                        <td id=\"T_881d9_row4_col1\" class=\"data row4 col1\" >0.000%</td>\n",
       "                        <td id=\"T_881d9_row4_col2\" class=\"data row4 col2\" >0.000%</td>\n",
       "                        <td id=\"T_881d9_row4_col3\" class=\"data row4 col3\" >0.000%</td>\n",
       "                        <td id=\"T_881d9_row4_col4\" class=\"data row4 col4\" >0.000%</td>\n",
       "                        <td id=\"T_881d9_row4_col5\" class=\"data row4 col5\" >0.000%</td>\n",
       "                        <td id=\"T_881d9_row4_col6\" class=\"data row4 col6\" >0.000%</td>\n",
       "                        <td id=\"T_881d9_row4_col7\" class=\"data row4 col7\" >0.000%</td>\n",
       "                        <td id=\"T_881d9_row4_col8\" class=\"data row4 col8\" >0.000%</td>\n",
       "            </tr>\n",
       "    </tbody></table>"
      ],
      "text/plain": [
       "<pandas.io.formats.style.Styler at 0x7f1631f37af0>"
      ]
     },
     "execution_count": 31,
     "metadata": {},
     "output_type": "execute_result"
    }
   ],
   "source": [
    "# разница статистик до и после заполнения пропущенных значений\n",
    "\n",
    "df_chng = (df_stats_after - df_stats_before) / df_stats_before\n",
    "\n",
    "df_chng.style.format('{:.3%}', na_rep='-').applymap(lambda value: 'color:red;' if abs(value) > 0.0001 else None)"
   ]
  },
  {
   "cell_type": "markdown",
   "id": "1d02d747",
   "metadata": {},
   "source": [
    "> Пропущенные значения заполнены с учетом контекста.\n",
    "> \n",
    "> Процесс получился длинным, поэтому для будущих применений можно оформить его в виде функции."
   ]
  },
  {
   "cell_type": "markdown",
   "id": "b39a3267",
   "metadata": {},
   "source": [
    "### New calculated features\n",
    "\n",
    "Несколько расчетных признаков, которые, возможно, улучшат качество модели."
   ]
  },
  {
   "cell_type": "code",
   "execution_count": 32,
   "id": "ab872a82",
   "metadata": {},
   "outputs": [],
   "source": [
    "# rooms / people\n",
    "data = data.withColumn('rooms_div_population', F.col('total_rooms') / F.col('population'))\n",
    "\n",
    "# bedrooms / people\n",
    "# data = data.withColumn('bedrooms_div_population', F.col('total_bedrooms') / F.col('population'))\n",
    "\n",
    "# rooms / bedrooms\n",
    "# data = data.withColumn('rooms_div_bedrooms', F.col('total_rooms') / F.col('total_bedrooms'))\n",
    "\n",
    "# rooms / households\n",
    "# data = data.withColumn('rooms_div_households', F.col('total_rooms') / F.col('households'))\n",
    "\n",
    "# bedrooms / households\n",
    "# data = data.withColumn('bedrooms_div_households', F.col('total_bedrooms') / F.col('households'))\n",
    "\n",
    "# people / households\n",
    "# data = data.withColumn('population_div_households', F.col('population') / F.col('households'))\n",
    "\n",
    "# total income\n",
    "# data = data.withColumn('total_income', F.col('population') * F.col('median_income'))"
   ]
  },
  {
   "cell_type": "markdown",
   "id": "987ab343",
   "metadata": {},
   "source": [
    "> Все перечисленные расчетные признаки проверены экспериментально.  \n",
    "> Небольшой прирост метрики дал только `rooms_div_population` – количество комнат на одного человека."
   ]
  },
  {
   "cell_type": "markdown",
   "id": "56ceb55c",
   "metadata": {},
   "source": [
    "### Target and Feature lists (categorical and numerical)"
   ]
  },
  {
   "cell_type": "code",
   "execution_count": 33,
   "id": "4784dbfd",
   "metadata": {},
   "outputs": [],
   "source": [
    "target = 'median_house_value'"
   ]
  },
  {
   "cell_type": "code",
   "execution_count": 36,
   "id": "858ec1d1",
   "metadata": {},
   "outputs": [],
   "source": [
    "# creation of nunerical and categorical lists\n",
    "\n",
    "num_feature_list = []\n",
    "cat_feature_list = []\n",
    "\n",
    "for feature in data.dtypes:\n",
    "    if feature[1] in ['double','float','int']:\n",
    "        num_feature_list.append(feature[0])\n",
    "    elif feature[1] in ['string']:\n",
    "        cat_feature_list.append(feature[0])\n",
    "\n",
    "num_feature_list = list(set(num_feature_list) - set([target]))     # исключение целевого признака из списков\n",
    "cat_feature_list = list(set(cat_feature_list) - set([target]))     # универсальный вариант – почти готовая функция"
   ]
  },
  {
   "cell_type": "code",
   "execution_count": 37,
   "id": "7ebe3a03",
   "metadata": {},
   "outputs": [
    {
     "data": {
      "text/plain": [
       "['housing_median_age',\n",
       " 'latitude',\n",
       " 'total_rooms',\n",
       " 'households',\n",
       " 'total_bedrooms',\n",
       " 'rooms_div_population',\n",
       " 'population',\n",
       " 'median_income',\n",
       " 'longitude']"
      ]
     },
     "execution_count": 37,
     "metadata": {},
     "output_type": "execute_result"
    }
   ],
   "source": [
    "num_feature_list"
   ]
  },
  {
   "cell_type": "code",
   "execution_count": 38,
   "id": "449bdc1d",
   "metadata": {},
   "outputs": [
    {
     "data": {
      "text/plain": [
       "['ocean_proximity']"
      ]
     },
     "execution_count": 38,
     "metadata": {},
     "output_type": "execute_result"
    }
   ],
   "source": [
    "cat_feature_list"
   ]
  },
  {
   "cell_type": "markdown",
   "id": "261c6a8b",
   "metadata": {},
   "source": [
    "### Split data for train and test"
   ]
  },
  {
   "cell_type": "code",
   "execution_count": 39,
   "id": "bcaee076",
   "metadata": {},
   "outputs": [
    {
     "name": "stderr",
     "output_type": "stream",
     "text": [
      "                                                                                \r"
     ]
    },
    {
     "name": "stdout",
     "output_type": "stream",
     "text": [
      "train samples:  18557\n"
     ]
    },
    {
     "name": "stderr",
     "output_type": "stream",
     "text": [
      "[Stage 94:===================================================>  (191 + 1) / 200]\r"
     ]
    },
    {
     "name": "stdout",
     "output_type": "stream",
     "text": [
      "test samples:    2083\n"
     ]
    },
    {
     "name": "stderr",
     "output_type": "stream",
     "text": [
      "                                                                                \r"
     ]
    }
   ],
   "source": [
    "data_train, data_test = data.randomSplit([1-TEST_FRAC, TEST_FRAC], seed=RS)\n",
    "\n",
    "print(f'train samples: {data_train.count():6d}')\n",
    "print(f'test samples:  {data_test.count():6d}')"
   ]
  },
  {
   "cell_type": "markdown",
   "id": "d261036d",
   "metadata": {},
   "source": [
    "## Stages for pipeline"
   ]
  },
  {
   "cell_type": "markdown",
   "id": "c23f7d87",
   "metadata": {},
   "source": [
    "### Numerical features"
   ]
  },
  {
   "cell_type": "markdown",
   "id": "f6b669c4",
   "metadata": {},
   "source": [
    "#### Initial num vector"
   ]
  },
  {
   "cell_type": "code",
   "execution_count": 40,
   "id": "ca46ba83",
   "metadata": {},
   "outputs": [],
   "source": [
    "def crteate_initial_num_vector():\n",
    "    \n",
    "    return VectorAssembler(\n",
    "                           inputCols=num_feature_list,\n",
    "                           outputCol='num_features'\n",
    "                          )"
   ]
  },
  {
   "cell_type": "markdown",
   "id": "a0a6206a",
   "metadata": {},
   "source": [
    "#### Scaler"
   ]
  },
  {
   "cell_type": "code",
   "execution_count": 41,
   "id": "0c2a5bcd",
   "metadata": {},
   "outputs": [],
   "source": [
    "def create_scaler():\n",
    "    \n",
    "    return RobustScaler(\n",
    "                        inputCol='num_features',\n",
    "                        outputCol='num_features_scaled'\n",
    "                       )"
   ]
  },
  {
   "cell_type": "markdown",
   "id": "87ae4886",
   "metadata": {},
   "source": [
    "#### PolynomialExpansion"
   ]
  },
  {
   "cell_type": "code",
   "execution_count": 42,
   "id": "8dac2a8c",
   "metadata": {},
   "outputs": [],
   "source": [
    "def create_polynomial(degree=2):\n",
    "    \n",
    "    return PolynomialExpansion(\n",
    "                               degree=degree,\n",
    "                               inputCol='num_features_scaled',\n",
    "                               outputCol='num_features_poly'\n",
    "                              )"
   ]
  },
  {
   "cell_type": "markdown",
   "id": "197e84da",
   "metadata": {},
   "source": [
    "### Categoriacal features"
   ]
  },
  {
   "cell_type": "markdown",
   "id": "bccb0f29",
   "metadata": {},
   "source": [
    "#### One hot encoding"
   ]
  },
  {
   "cell_type": "code",
   "execution_count": 43,
   "id": "10268b55",
   "metadata": {},
   "outputs": [],
   "source": [
    "def create_string_indexer():\n",
    "    \n",
    "    return StringIndexer(\n",
    "                         inputCols=cat_feature_list,\n",
    "                         outputCols=[f'{feature}_indexer' for feature in cat_feature_list]\n",
    "                        )"
   ]
  },
  {
   "cell_type": "code",
   "execution_count": 44,
   "id": "908896ee",
   "metadata": {},
   "outputs": [],
   "source": [
    "def create_ohe():\n",
    "    \n",
    "    return OneHotEncoder(\n",
    "                         inputCols=[f'{feature}_indexer' for feature in cat_feature_list],\n",
    "                         outputCols=[f'{feature}_ohe' for feature in cat_feature_list]\n",
    "                        )"
   ]
  },
  {
   "cell_type": "markdown",
   "id": "e0292f76",
   "metadata": {},
   "source": [
    "#### K-Means clustering"
   ]
  },
  {
   "cell_type": "code",
   "execution_count": 45,
   "id": "7fcd81fa",
   "metadata": {},
   "outputs": [],
   "source": [
    "def create_KMeans_prepare(feature_list, outputCol_name):\n",
    "    \n",
    "    return VectorAssembler(\n",
    "                           inputCols=feature_list,\n",
    "                           outputCol=outputCol_name\n",
    "                          )"
   ]
  },
  {
   "cell_type": "code",
   "execution_count": 46,
   "id": "3a6ede14",
   "metadata": {},
   "outputs": [],
   "source": [
    "def create_KMeans_clusters(featuresCol_name, predictionCol_name, k_clusters=5):\n",
    "    \n",
    "    return KMeans(\n",
    "                  k=k_clusters,\n",
    "#                   maxIter=100,\n",
    "                  featuresCol=featuresCol_name,\n",
    "                  predictionCol=predictionCol_name,\n",
    "                  seed=RS,\n",
    "                 )"
   ]
  },
  {
   "cell_type": "markdown",
   "id": "63fc07bd",
   "metadata": {},
   "source": [
    "#### VectorAssembler for categoriacal features"
   ]
  },
  {
   "cell_type": "code",
   "execution_count": 47,
   "id": "16070693",
   "metadata": {},
   "outputs": [],
   "source": [
    "def create_cat_features_encoded_vector():\n",
    "    \n",
    "    return VectorAssembler(\n",
    "                           inputCols=[f'{feature}_ohe' for feature in cat_feature_list] + ['cluster_group'],\n",
    "                           outputCol='cat_features_encoded'\n",
    "                          )"
   ]
  },
  {
   "cell_type": "markdown",
   "id": "1b40ce03",
   "metadata": {},
   "source": [
    "### Final VectorAssembler"
   ]
  },
  {
   "cell_type": "code",
   "execution_count": 48,
   "id": "2301892e",
   "metadata": {},
   "outputs": [],
   "source": [
    "def create_final_feature_vector(switch='all'):\n",
    "    \n",
    "    if switch == 'all':\n",
    "        return VectorAssembler(inputCols=['cat_features_encoded','num_features_poly'],\n",
    "                               outputCol='features')\n",
    "    \n",
    "    elif switch == 'num_only':\n",
    "        return VectorAssembler(inputCols=['num_features_poly'],\n",
    "                               outputCol='features')"
   ]
  },
  {
   "cell_type": "markdown",
   "id": "cc2ef236",
   "metadata": {},
   "source": [
    "### Crossvalidation"
   ]
  },
  {
   "cell_type": "code",
   "execution_count": 49,
   "id": "6d332221",
   "metadata": {},
   "outputs": [],
   "source": [
    "def create_estimator(estimator_name, features_col_name):\n",
    "    \n",
    "    if estimator_name == 'LinearRegression':\n",
    "        \n",
    "        return LinearRegression(\n",
    "                                labelCol=target,\n",
    "                                featuresCol=features_col_name,\n",
    "                                standardization=False,\n",
    "                                maxIter=MAX_ITER,\n",
    "                               )"
   ]
  },
  {
   "cell_type": "code",
   "execution_count": 50,
   "id": "322939af",
   "metadata": {},
   "outputs": [],
   "source": [
    "# def create_params_grid(estimator):\n",
    "    \n",
    "#     return (ParamGridBuilder()\n",
    "#             .addGrid(estimator.regParam, [0.0, 0.1, 0.2, 0.4, 0.6, 0.8, 1.0])\n",
    "#             .addGrid(estimator.elasticNetParam, [0.0, 0.25, 0.5, 0.75, 1.0])\n",
    "#             .build()\n",
    "#            )"
   ]
  },
  {
   "cell_type": "code",
   "execution_count": 51,
   "id": "afc685ff",
   "metadata": {},
   "outputs": [],
   "source": [
    "def create_params_grid(estimator):\n",
    "    \n",
    "    return (RandomGridBuilder(N_TRIALS)\n",
    "            .addDistr(estimator.regParam, lambda: np.random.rand())\n",
    "            .addDistr(estimator.elasticNetParam, lambda: np.random.rand())\n",
    "            .build()\n",
    "           )"
   ]
  },
  {
   "cell_type": "code",
   "execution_count": 52,
   "id": "9526da79",
   "metadata": {},
   "outputs": [],
   "source": [
    "def create_crossvalidator(estimator, params_grid):\n",
    "\n",
    "    return CrossValidator(\n",
    "                          estimator=estimator,\n",
    "                          estimatorParamMaps=params_grid,\n",
    "                          evaluator=RegressionEvaluator(labelCol=target, predictionCol='prediction',  metricName='r2'),\n",
    "                          numFolds=N_CV,\n",
    "                          parallelism=16,\n",
    "                          seed=RS,\n",
    "                         )"
   ]
  },
  {
   "cell_type": "markdown",
   "id": "ba87b71a",
   "metadata": {},
   "source": [
    "## Modeling"
   ]
  },
  {
   "cell_type": "markdown",
   "id": "c08ce481",
   "metadata": {},
   "source": [
    "### Pipeline"
   ]
  },
  {
   "cell_type": "code",
   "execution_count": 53,
   "id": "c745fff8",
   "metadata": {},
   "outputs": [],
   "source": [
    "def create_pipeline(estimator_name, features_col_name, switch='all'):\n",
    "\n",
    "    # numerical features preprocessing\n",
    "    \n",
    "    initial_num_vector = crteate_initial_num_vector()\n",
    "    \n",
    "    scaler = create_scaler()\n",
    "    \n",
    "    polynomial = create_polynomial(degree=DEGREE_POLYNOMIAL)\n",
    "    \n",
    "\n",
    "    # categorical features preprocessing\n",
    "\n",
    "    string_indexer = create_string_indexer()\n",
    "    \n",
    "    ohe = create_ohe()\n",
    "    \n",
    "    kmeans_prepare = create_KMeans_prepare(['latitude','longitude', 'median_income'], 'KMeans_group')\n",
    "    kmeans_clusters = create_KMeans_clusters('KMeans_group', 'cluster_group', k_clusters=6)\n",
    "\n",
    "    cat_features_encoded_vector = create_cat_features_encoded_vector()\n",
    "    \n",
    "    \n",
    "    # preprocessing finalization\n",
    "    \n",
    "    final_feature_vector = create_final_feature_vector(switch=switch)\n",
    "\n",
    "\n",
    "    # hyperparameters searching with cross-validation\n",
    "\n",
    "    estimator = create_estimator(estimator_name, features_col_name)\n",
    "    params_grid = create_params_grid(estimator)\n",
    "    crossvalidator = create_crossvalidator(estimator, params_grid)\n",
    "    \n",
    "    return Pipeline(stages=[\n",
    "                            initial_num_vector,            # объединение числовых признаков в вектор\n",
    "                            scaler,                        # масштабирование числовых признаков\n",
    "                            polynomial,                    # полиномиальное преобразование вектора числовых признаков\n",
    "                            string_indexer,                # преобразование категориальных признаков в числовые (а-ля OrdinalEncoder)\n",
    "                            ohe,                           # OHE для категориальных признаков, преобразованых ранее в числовые\n",
    "                            kmeans_prepare,                # подготовка вектора признаков для кластеризации посредством K-Means\n",
    "                            kmeans_clusters,               # кластеризация посредством K-Means\n",
    "                            cat_features_encoded_vector,   # объединение категориальных признаков в вектор\n",
    "                            final_feature_vector,          # объединение числового и категориального векторов в общий вектор признаков \n",
    "                            crossvalidator,                # кроссвалидация\n",
    "                           ]\n",
    "                   )"
   ]
  },
  {
   "cell_type": "markdown",
   "id": "9b4d8062",
   "metadata": {},
   "source": [
    "### Fit pipelines\n",
    "\n",
    "Поиск оптимальных гиперпараметров."
   ]
  },
  {
   "cell_type": "code",
   "execution_count": 54,
   "id": "10ab0abe",
   "metadata": {},
   "outputs": [
    {
     "name": "stderr",
     "output_type": "stream",
     "text": [
      "23/03/16 14:40:17 WARN BLAS: Failed to load implementation from: com.github.fommil.netlib.NativeSystemBLAS\n",
      "23/03/16 14:40:17 WARN BLAS: Failed to load implementation from: com.github.fommil.netlib.NativeRefBLAS\n",
      "23/03/16 14:41:34 WARN MemoryStore: Not enough space to cache rdd_529_187 in memory! (computed 47.1 MiB so far)\n",
      "23/03/16 14:41:34 WARN BlockManager: Persisting block rdd_529_187 to disk instead.\n",
      "23/03/16 14:41:34 WARN MemoryStore: Not enough space to cache rdd_529_187 in memory! (computed 47.1 MiB so far)\n",
      "23/03/16 14:42:19 WARN MemoryStore: Not enough space to cache rdd_529_187 in memory! (computed 47.1 MiB so far)\n",
      "23/03/16 14:42:58 WARN MemoryStore: Not enough space to cache rdd_529_187 in memory! (computed 47.1 MiB so far)\n",
      "23/03/16 14:43:37 WARN MemoryStore: Not enough space to cache rdd_529_187 in memory! (computed 47.1 MiB so far)\n",
      "23/03/16 14:44:17 WARN MemoryStore: Not enough space to cache rdd_529_187 in memory! (computed 47.1 MiB so far)\n",
      "23/03/16 14:44:56 WARN MemoryStore: Not enough space to cache rdd_529_187 in memory! (computed 47.1 MiB so far)\n",
      "23/03/16 14:45:34 WARN MemoryStore: Not enough space to cache rdd_529_187 in memory! (computed 47.1 MiB so far)\n",
      "23/03/16 14:46:15 WARN MemoryStore: Not enough space to cache rdd_529_187 in memory! (computed 47.1 MiB so far)\n",
      "23/03/16 14:46:53 WARN MemoryStore: Not enough space to cache rdd_529_187 in memory! (computed 47.1 MiB so far)\n",
      "23/03/16 14:47:31 WARN MemoryStore: Not enough space to cache rdd_529_187 in memory! (computed 47.1 MiB so far)\n",
      "23/03/16 14:47:40 WARN MemoryStore: Not enough space to cache rdd_529_187 in memory! (computed 47.1 MiB so far)\n",
      "23/03/16 14:47:45 WARN MemoryStore: Not enough space to cache rdd_529_187 in memory! (computed 47.1 MiB so far)\n",
      "23/03/16 14:47:50 WARN MemoryStore: Not enough space to cache rdd_529_187 in memory! (computed 47.1 MiB so far)\n",
      "23/03/16 14:47:54 WARN MemoryStore: Not enough space to cache rdd_529_187 in memory! (computed 47.1 MiB so far)\n",
      "23/03/16 14:47:59 WARN MemoryStore: Not enough space to cache rdd_529_187 in memory! (computed 47.1 MiB so far)\n",
      "23/03/16 14:48:04 WARN MemoryStore: Not enough space to cache rdd_529_187 in memory! (computed 47.1 MiB so far)\n",
      "23/03/16 14:48:06 WARN MemoryStore: Not enough space to cache rdd_529_187 in memory! (computed 47.1 MiB so far)\n",
      "23/03/16 14:48:08 WARN MemoryStore: Not enough space to cache rdd_529_187 in memory! (computed 47.1 MiB so far)\n",
      "23/03/16 14:48:10 WARN MemoryStore: Not enough space to cache rdd_529_187 in memory! (computed 47.1 MiB so far)\n",
      "23/03/16 14:48:12 WARN MemoryStore: Not enough space to cache rdd_529_187 in memory! (computed 47.1 MiB so far)\n",
      "23/03/16 14:48:15 WARN MemoryStore: Not enough space to cache rdd_529_187 in memory! (computed 47.1 MiB so far)\n",
      "23/03/16 14:48:17 WARN MemoryStore: Not enough space to cache rdd_529_187 in memory! (computed 47.1 MiB so far)\n",
      "23/03/16 14:48:19 WARN MemoryStore: Not enough space to cache rdd_529_187 in memory! (computed 47.1 MiB so far)\n",
      "23/03/16 14:48:21 WARN MemoryStore: Not enough space to cache rdd_529_187 in memory! (computed 47.1 MiB so far)\n",
      "23/03/16 14:48:23 WARN MemoryStore: Not enough space to cache rdd_529_187 in memory! (computed 47.1 MiB so far)\n",
      "23/03/16 14:48:24 WARN MemoryStore: Not enough space to cache rdd_529_187 in memory! (computed 47.1 MiB so far)\n",
      "23/03/16 14:48:26 WARN MemoryStore: Not enough space to cache rdd_529_187 in memory! (computed 47.1 MiB so far)\n",
      "23/03/16 14:48:28 WARN MemoryStore: Not enough space to cache rdd_529_187 in memory! (computed 47.1 MiB so far)\n",
      "23/03/16 14:48:31 WARN MemoryStore: Not enough space to cache rdd_529_187 in memory! (computed 47.1 MiB so far)\n",
      "23/03/16 14:48:52 WARN MemoryStore: Not enough space to cache rdd_529_187 in memory! (computed 47.1 MiB so far)\n",
      "23/03/16 14:49:31 WARN MemoryStore: Not enough space to cache rdd_1027_187 in memory! (computed 4.0 MiB so far)\n",
      "23/03/16 14:49:31 WARN BlockManager: Persisting block rdd_1027_187 to disk instead.\n",
      "23/03/16 14:49:32 WARN MemoryStore: Not enough space to cache rdd_1027_187 in memory! (computed 46.9 MiB so far)\n",
      "23/03/16 14:50:12 WARN MemoryStore: Not enough space to cache rdd_1027_187 in memory! (computed 46.9 MiB so far)\n",
      "23/03/16 14:50:49 WARN MemoryStore: Not enough space to cache rdd_1027_187 in memory! (computed 46.9 MiB so far)\n",
      "23/03/16 14:51:27 WARN MemoryStore: Not enough space to cache rdd_1027_187 in memory! (computed 46.9 MiB so far)\n",
      "23/03/16 14:52:07 WARN MemoryStore: Not enough space to cache rdd_1027_187 in memory! (computed 46.9 MiB so far)\n",
      "23/03/16 14:52:45 WARN MemoryStore: Not enough space to cache rdd_1027_187 in memory! (computed 46.9 MiB so far)\n",
      "23/03/16 14:53:21 WARN MemoryStore: Not enough space to cache rdd_1027_187 in memory! (computed 46.9 MiB so far)\n",
      "23/03/16 14:53:59 WARN MemoryStore: Not enough space to cache rdd_1027_187 in memory! (computed 46.9 MiB so far)\n",
      "23/03/16 14:54:38 WARN MemoryStore: Not enough space to cache rdd_1027_187 in memory! (computed 46.9 MiB so far)\n",
      "23/03/16 14:55:16 WARN MemoryStore: Not enough space to cache rdd_1027_187 in memory! (computed 46.9 MiB so far)\n",
      "23/03/16 14:55:25 WARN MemoryStore: Not enough space to cache rdd_1027_187 in memory! (computed 46.9 MiB so far)\n",
      "23/03/16 14:55:29 WARN MemoryStore: Not enough space to cache rdd_1027_187 in memory! (computed 46.9 MiB so far)\n",
      "23/03/16 14:55:33 WARN MemoryStore: Not enough space to cache rdd_1027_187 in memory! (computed 46.9 MiB so far)\n",
      "23/03/16 14:55:38 WARN MemoryStore: Not enough space to cache rdd_1027_187 in memory! (computed 46.9 MiB so far)\n",
      "23/03/16 14:55:42 WARN MemoryStore: Not enough space to cache rdd_1027_187 in memory! (computed 46.9 MiB so far)\n",
      "23/03/16 14:55:46 WARN MemoryStore: Not enough space to cache rdd_1027_187 in memory! (computed 46.9 MiB so far)\n",
      "23/03/16 14:55:49 WARN MemoryStore: Not enough space to cache rdd_1027_187 in memory! (computed 46.9 MiB so far)\n",
      "23/03/16 14:55:51 WARN MemoryStore: Not enough space to cache rdd_1027_187 in memory! (computed 46.9 MiB so far)\n",
      "23/03/16 14:55:53 WARN MemoryStore: Not enough space to cache rdd_1027_187 in memory! (computed 46.9 MiB so far)\n",
      "23/03/16 14:55:55 WARN MemoryStore: Not enough space to cache rdd_1027_187 in memory! (computed 46.9 MiB so far)\n",
      "23/03/16 14:55:57 WARN MemoryStore: Not enough space to cache rdd_1027_187 in memory! (computed 46.9 MiB so far)\n",
      "23/03/16 14:55:59 WARN MemoryStore: Not enough space to cache rdd_1027_187 in memory! (computed 46.9 MiB so far)\n",
      "23/03/16 14:56:01 WARN MemoryStore: Not enough space to cache rdd_1027_187 in memory! (computed 46.9 MiB so far)\n",
      "23/03/16 14:56:02 WARN MemoryStore: Not enough space to cache rdd_1027_187 in memory! (computed 46.9 MiB so far)\n",
      "23/03/16 14:56:04 WARN MemoryStore: Not enough space to cache rdd_1027_187 in memory! (computed 46.9 MiB so far)\n",
      "23/03/16 14:56:06 WARN MemoryStore: Not enough space to cache rdd_1027_187 in memory! (computed 46.9 MiB so far)\n",
      "23/03/16 14:56:08 WARN MemoryStore: Not enough space to cache rdd_1027_187 in memory! (computed 46.9 MiB so far)\n",
      "23/03/16 14:56:09 WARN MemoryStore: Not enough space to cache rdd_1027_187 in memory! (computed 46.9 MiB so far)\n",
      "23/03/16 14:56:11 WARN MemoryStore: Not enough space to cache rdd_1027_187 in memory! (computed 46.9 MiB so far)\n",
      "23/03/16 14:56:34 WARN MemoryStore: Not enough space to cache rdd_1027_187 in memory! (computed 46.9 MiB so far)\n",
      "23/03/16 14:57:09 WARN MemoryStore: Failed to reserve initial memory threshold of 1024.0 KiB for computing block rdd_1525_187 in memory.\n",
      "23/03/16 14:57:09 WARN MemoryStore: Not enough space to cache rdd_1525_187 in memory! (computed 384.0 B so far)\n",
      "23/03/16 14:57:09 WARN BlockManager: Persisting block rdd_1525_187 to disk instead.\n",
      "23/03/16 14:57:10 WARN MemoryStore: Not enough space to cache rdd_1525_187 in memory! (computed 48.5 MiB so far)\n",
      "23/03/16 14:57:48 WARN MemoryStore: Not enough space to cache rdd_1525_187 in memory! (computed 48.5 MiB so far)\n",
      "23/03/16 14:58:27 WARN MemoryStore: Not enough space to cache rdd_1525_187 in memory! (computed 48.5 MiB so far)\n",
      "23/03/16 14:59:05 WARN MemoryStore: Not enough space to cache rdd_1525_187 in memory! (computed 48.5 MiB so far)\n",
      "23/03/16 14:59:43 WARN MemoryStore: Not enough space to cache rdd_1525_187 in memory! (computed 48.5 MiB so far)\n",
      "23/03/16 15:00:21 WARN MemoryStore: Not enough space to cache rdd_1525_187 in memory! (computed 48.5 MiB so far)\n",
      "23/03/16 15:00:59 WARN MemoryStore: Not enough space to cache rdd_1525_187 in memory! (computed 48.5 MiB so far)\n",
      "23/03/16 15:01:39 WARN MemoryStore: Not enough space to cache rdd_1525_187 in memory! (computed 48.5 MiB so far)\n",
      "23/03/16 15:02:18 WARN MemoryStore: Not enough space to cache rdd_1525_187 in memory! (computed 48.5 MiB so far)\n",
      "23/03/16 15:02:56 WARN MemoryStore: Not enough space to cache rdd_1525_187 in memory! (computed 48.5 MiB so far)\n",
      "23/03/16 15:03:05 WARN MemoryStore: Not enough space to cache rdd_1525_187 in memory! (computed 48.5 MiB so far)\n",
      "23/03/16 15:03:10 WARN MemoryStore: Not enough space to cache rdd_1525_187 in memory! (computed 48.5 MiB so far)\n",
      "23/03/16 15:03:15 WARN MemoryStore: Not enough space to cache rdd_1525_187 in memory! (computed 48.5 MiB so far)\n",
      "23/03/16 15:03:20 WARN MemoryStore: Not enough space to cache rdd_1525_187 in memory! (computed 48.5 MiB so far)\n",
      "23/03/16 15:03:25 WARN MemoryStore: Not enough space to cache rdd_1525_187 in memory! (computed 48.5 MiB so far)\n",
      "23/03/16 15:03:29 WARN MemoryStore: Not enough space to cache rdd_1525_187 in memory! (computed 48.5 MiB so far)\n",
      "23/03/16 15:03:33 WARN MemoryStore: Not enough space to cache rdd_1525_187 in memory! (computed 48.5 MiB so far)\n",
      "23/03/16 15:03:35 WARN MemoryStore: Not enough space to cache rdd_1525_187 in memory! (computed 48.5 MiB so far)\n",
      "23/03/16 15:03:38 WARN MemoryStore: Not enough space to cache rdd_1525_187 in memory! (computed 48.5 MiB so far)\n",
      "23/03/16 15:03:39 WARN MemoryStore: Not enough space to cache rdd_1525_187 in memory! (computed 48.5 MiB so far)\n",
      "23/03/16 15:03:41 WARN MemoryStore: Not enough space to cache rdd_1525_187 in memory! (computed 48.5 MiB so far)\n",
      "23/03/16 15:03:43 WARN MemoryStore: Not enough space to cache rdd_1525_187 in memory! (computed 48.5 MiB so far)\n",
      "23/03/16 15:03:45 WARN MemoryStore: Not enough space to cache rdd_1525_187 in memory! (computed 48.5 MiB so far)\n",
      "23/03/16 15:03:46 WARN MemoryStore: Not enough space to cache rdd_1525_187 in memory! (computed 48.5 MiB so far)\n",
      "23/03/16 15:03:48 WARN MemoryStore: Not enough space to cache rdd_1525_187 in memory! (computed 48.5 MiB so far)\n",
      "23/03/16 15:03:50 WARN MemoryStore: Not enough space to cache rdd_1525_187 in memory! (computed 48.5 MiB so far)\n",
      "23/03/16 15:03:52 WARN MemoryStore: Not enough space to cache rdd_1525_187 in memory! (computed 48.5 MiB so far)\n",
      "23/03/16 15:03:53 WARN MemoryStore: Not enough space to cache rdd_1525_187 in memory! (computed 48.5 MiB so far)\n",
      "23/03/16 15:03:55 WARN MemoryStore: Not enough space to cache rdd_1525_187 in memory! (computed 48.5 MiB so far)\n",
      "23/03/16 15:04:19 WARN MemoryStore: Not enough space to cache rdd_1525_187 in memory! (computed 48.5 MiB so far)\n",
      "23/03/16 15:04:57 WARN MemoryStore: Not enough space to cache rdd_2023_187 in memory! (computed 4.0 MiB so far)\n",
      "23/03/16 15:04:57 WARN BlockManager: Persisting block rdd_2023_187 to disk instead.\n",
      "23/03/16 15:04:58 WARN MemoryStore: Not enough space to cache rdd_2023_187 in memory! (computed 47.9 MiB so far)\n",
      "23/03/16 15:05:38 WARN MemoryStore: Not enough space to cache rdd_2023_187 in memory! (computed 47.9 MiB so far)\n",
      "23/03/16 15:06:18 WARN MemoryStore: Not enough space to cache rdd_2023_187 in memory! (computed 47.9 MiB so far)\n",
      "23/03/16 15:06:57 WARN MemoryStore: Not enough space to cache rdd_2023_187 in memory! (computed 47.9 MiB so far)\n",
      "23/03/16 15:07:37 WARN MemoryStore: Not enough space to cache rdd_2023_187 in memory! (computed 47.9 MiB so far)\n",
      "23/03/16 15:08:19 WARN MemoryStore: Not enough space to cache rdd_2023_187 in memory! (computed 47.9 MiB so far)\n",
      "23/03/16 15:09:00 WARN MemoryStore: Not enough space to cache rdd_2023_187 in memory! (computed 47.9 MiB so far)\n",
      "23/03/16 15:09:40 WARN MemoryStore: Not enough space to cache rdd_2023_187 in memory! (computed 47.9 MiB so far)\n",
      "23/03/16 15:10:21 WARN MemoryStore: Not enough space to cache rdd_2023_187 in memory! (computed 47.9 MiB so far)\n",
      "23/03/16 15:11:02 WARN MemoryStore: Not enough space to cache rdd_2023_187 in memory! (computed 47.9 MiB so far)\n",
      "23/03/16 15:11:11 WARN MemoryStore: Not enough space to cache rdd_2023_187 in memory! (computed 47.9 MiB so far)\n",
      "23/03/16 15:11:16 WARN MemoryStore: Not enough space to cache rdd_2023_187 in memory! (computed 47.9 MiB so far)\n",
      "23/03/16 15:11:22 WARN MemoryStore: Not enough space to cache rdd_2023_187 in memory! (computed 47.9 MiB so far)\n",
      "23/03/16 15:11:26 WARN MemoryStore: Not enough space to cache rdd_2023_187 in memory! (computed 47.9 MiB so far)\n",
      "23/03/16 15:11:31 WARN MemoryStore: Not enough space to cache rdd_2023_187 in memory! (computed 47.9 MiB so far)\n",
      "23/03/16 15:11:36 WARN MemoryStore: Not enough space to cache rdd_2023_187 in memory! (computed 47.9 MiB so far)\n",
      "23/03/16 15:11:40 WARN MemoryStore: Not enough space to cache rdd_2023_187 in memory! (computed 47.9 MiB so far)\n",
      "23/03/16 15:11:42 WARN MemoryStore: Not enough space to cache rdd_2023_187 in memory! (computed 47.9 MiB so far)\n",
      "23/03/16 15:11:44 WARN MemoryStore: Not enough space to cache rdd_2023_187 in memory! (computed 47.9 MiB so far)\n",
      "23/03/16 15:11:46 WARN MemoryStore: Not enough space to cache rdd_2023_187 in memory! (computed 47.9 MiB so far)\n",
      "23/03/16 15:11:48 WARN MemoryStore: Not enough space to cache rdd_2023_187 in memory! (computed 47.9 MiB so far)\n",
      "23/03/16 15:11:50 WARN MemoryStore: Not enough space to cache rdd_2023_187 in memory! (computed 47.9 MiB so far)\n",
      "23/03/16 15:11:51 WARN MemoryStore: Not enough space to cache rdd_2023_187 in memory! (computed 47.9 MiB so far)\n",
      "23/03/16 15:11:53 WARN MemoryStore: Not enough space to cache rdd_2023_187 in memory! (computed 47.9 MiB so far)\n",
      "23/03/16 15:11:55 WARN MemoryStore: Not enough space to cache rdd_2023_187 in memory! (computed 47.9 MiB so far)\n",
      "23/03/16 15:11:58 WARN MemoryStore: Not enough space to cache rdd_2023_187 in memory! (computed 47.9 MiB so far)\n",
      "23/03/16 15:12:00 WARN MemoryStore: Not enough space to cache rdd_2023_187 in memory! (computed 47.9 MiB so far)\n",
      "23/03/16 15:12:02 WARN MemoryStore: Not enough space to cache rdd_2023_187 in memory! (computed 47.9 MiB so far)\n",
      "23/03/16 15:12:04 WARN MemoryStore: Not enough space to cache rdd_2023_187 in memory! (computed 47.9 MiB so far)\n",
      "23/03/16 15:12:29 WARN MemoryStore: Not enough space to cache rdd_2023_187 in memory! (computed 47.9 MiB so far)\n",
      "[Stage 562:===================================================> (193 + 1) / 200]\r"
     ]
    },
    {
     "name": "stdout",
     "output_type": "stream",
     "text": [
      "CPU times: user 3.59 s, sys: 1.48 s, total: 5.07 s\n",
      "Wall time: 34min 7s\n"
     ]
    },
    {
     "name": "stderr",
     "output_type": "stream",
     "text": [
      "                                                                                \r"
     ]
    }
   ],
   "source": [
    "%%time\n",
    "\n",
    "# для всех признаков\n",
    "pipeline_num_cat = create_pipeline('LinearRegression', 'features', switch='all').fit(data_train)"
   ]
  },
  {
   "cell_type": "code",
   "execution_count": 55,
   "id": "ecd5af80",
   "metadata": {},
   "outputs": [
    {
     "name": "stderr",
     "output_type": "stream",
     "text": [
      "23/03/16 15:15:15 WARN MemoryStore: Not enough space to cache rdd_2756_187 in memory! (computed 47.1 MiB so far)\n",
      "23/03/16 15:15:15 WARN BlockManager: Persisting block rdd_2756_187 to disk instead.\n",
      "23/03/16 15:15:15 WARN MemoryStore: Not enough space to cache rdd_2756_187 in memory! (computed 47.1 MiB so far)\n",
      "23/03/16 15:15:56 WARN MemoryStore: Not enough space to cache rdd_2756_187 in memory! (computed 47.1 MiB so far)\n",
      "23/03/16 15:16:36 WARN MemoryStore: Not enough space to cache rdd_2756_187 in memory! (computed 47.1 MiB so far)\n",
      "23/03/16 15:17:14 WARN MemoryStore: Not enough space to cache rdd_2756_187 in memory! (computed 47.1 MiB so far)\n",
      "23/03/16 15:17:52 WARN MemoryStore: Not enough space to cache rdd_2756_187 in memory! (computed 47.1 MiB so far)\n",
      "23/03/16 15:18:32 WARN MemoryStore: Not enough space to cache rdd_2756_187 in memory! (computed 47.1 MiB so far)\n",
      "23/03/16 15:19:11 WARN MemoryStore: Not enough space to cache rdd_2756_187 in memory! (computed 47.1 MiB so far)\n",
      "23/03/16 15:19:51 WARN MemoryStore: Not enough space to cache rdd_2756_187 in memory! (computed 47.1 MiB so far)\n",
      "23/03/16 15:20:30 WARN MemoryStore: Not enough space to cache rdd_2756_187 in memory! (computed 47.1 MiB so far)\n",
      "23/03/16 15:21:09 WARN MemoryStore: Not enough space to cache rdd_2756_187 in memory! (computed 47.1 MiB so far)\n",
      "23/03/16 15:21:18 WARN MemoryStore: Not enough space to cache rdd_2756_187 in memory! (computed 47.1 MiB so far)\n",
      "23/03/16 15:21:23 WARN MemoryStore: Not enough space to cache rdd_2756_187 in memory! (computed 47.1 MiB so far)\n",
      "23/03/16 15:21:28 WARN MemoryStore: Not enough space to cache rdd_2756_187 in memory! (computed 47.1 MiB so far)\n",
      "23/03/16 15:21:33 WARN MemoryStore: Not enough space to cache rdd_2756_187 in memory! (computed 47.1 MiB so far)\n",
      "23/03/16 15:21:38 WARN MemoryStore: Not enough space to cache rdd_2756_187 in memory! (computed 47.1 MiB so far)\n",
      "23/03/16 15:21:42 WARN MemoryStore: Not enough space to cache rdd_2756_187 in memory! (computed 47.1 MiB so far)\n",
      "23/03/16 15:21:46 WARN MemoryStore: Not enough space to cache rdd_2756_187 in memory! (computed 47.1 MiB so far)\n",
      "23/03/16 15:21:48 WARN MemoryStore: Not enough space to cache rdd_2756_187 in memory! (computed 47.1 MiB so far)\n",
      "23/03/16 15:21:50 WARN MemoryStore: Not enough space to cache rdd_2756_187 in memory! (computed 47.1 MiB so far)\n",
      "23/03/16 15:21:52 WARN MemoryStore: Not enough space to cache rdd_2756_187 in memory! (computed 47.1 MiB so far)\n",
      "23/03/16 15:21:54 WARN MemoryStore: Not enough space to cache rdd_2756_187 in memory! (computed 47.1 MiB so far)\n",
      "23/03/16 15:21:55 WARN MemoryStore: Not enough space to cache rdd_2756_187 in memory! (computed 47.1 MiB so far)\n",
      "23/03/16 15:21:58 WARN MemoryStore: Not enough space to cache rdd_2756_187 in memory! (computed 47.1 MiB so far)\n",
      "23/03/16 15:22:00 WARN MemoryStore: Not enough space to cache rdd_2756_187 in memory! (computed 47.1 MiB so far)\n",
      "23/03/16 15:22:02 WARN MemoryStore: Not enough space to cache rdd_2756_187 in memory! (computed 47.1 MiB so far)\n",
      "23/03/16 15:22:04 WARN MemoryStore: Not enough space to cache rdd_2756_187 in memory! (computed 47.1 MiB so far)\n",
      "23/03/16 15:22:06 WARN MemoryStore: Not enough space to cache rdd_2756_187 in memory! (computed 47.1 MiB so far)\n",
      "23/03/16 15:22:07 WARN MemoryStore: Not enough space to cache rdd_2756_187 in memory! (computed 47.1 MiB so far)\n",
      "23/03/16 15:22:09 WARN MemoryStore: Not enough space to cache rdd_2756_187 in memory! (computed 47.1 MiB so far)\n",
      "23/03/16 15:22:33 WARN MemoryStore: Not enough space to cache rdd_2756_187 in memory! (computed 47.1 MiB so far)\n",
      "23/03/16 15:23:09 WARN MemoryStore: Not enough space to cache rdd_3254_187 in memory! (computed 4.0 MiB so far)\n",
      "23/03/16 15:23:09 WARN BlockManager: Persisting block rdd_3254_187 to disk instead.\n",
      "23/03/16 15:23:10 WARN MemoryStore: Not enough space to cache rdd_3254_187 in memory! (computed 46.9 MiB so far)\n",
      "23/03/16 15:23:50 WARN MemoryStore: Not enough space to cache rdd_3254_187 in memory! (computed 46.9 MiB so far)\n",
      "23/03/16 15:24:31 WARN MemoryStore: Not enough space to cache rdd_3254_187 in memory! (computed 46.9 MiB so far)\n",
      "23/03/16 15:25:11 WARN MemoryStore: Not enough space to cache rdd_3254_187 in memory! (computed 46.9 MiB so far)\n",
      "23/03/16 15:25:50 WARN MemoryStore: Not enough space to cache rdd_3254_187 in memory! (computed 46.9 MiB so far)\n",
      "23/03/16 15:26:28 WARN MemoryStore: Not enough space to cache rdd_3254_187 in memory! (computed 46.9 MiB so far)\n",
      "23/03/16 15:27:08 WARN MemoryStore: Not enough space to cache rdd_3254_187 in memory! (computed 46.9 MiB so far)\n",
      "23/03/16 15:27:47 WARN MemoryStore: Not enough space to cache rdd_3254_187 in memory! (computed 46.9 MiB so far)\n",
      "23/03/16 15:28:29 WARN MemoryStore: Not enough space to cache rdd_3254_187 in memory! (computed 46.9 MiB so far)\n",
      "23/03/16 15:29:09 WARN MemoryStore: Not enough space to cache rdd_3254_187 in memory! (computed 46.9 MiB so far)\n",
      "23/03/16 15:29:18 WARN MemoryStore: Not enough space to cache rdd_3254_187 in memory! (computed 46.9 MiB so far)\n",
      "23/03/16 15:29:23 WARN MemoryStore: Not enough space to cache rdd_3254_187 in memory! (computed 46.9 MiB so far)\n",
      "23/03/16 15:29:28 WARN MemoryStore: Not enough space to cache rdd_3254_187 in memory! (computed 46.9 MiB so far)\n",
      "23/03/16 15:29:33 WARN MemoryStore: Not enough space to cache rdd_3254_187 in memory! (computed 46.9 MiB so far)\n",
      "23/03/16 15:29:38 WARN MemoryStore: Not enough space to cache rdd_3254_187 in memory! (computed 46.9 MiB so far)\n",
      "23/03/16 15:29:43 WARN MemoryStore: Not enough space to cache rdd_3254_187 in memory! (computed 46.9 MiB so far)\n",
      "23/03/16 15:29:46 WARN MemoryStore: Not enough space to cache rdd_3254_187 in memory! (computed 46.9 MiB so far)\n",
      "23/03/16 15:29:49 WARN MemoryStore: Not enough space to cache rdd_3254_187 in memory! (computed 46.9 MiB so far)\n",
      "23/03/16 15:29:51 WARN MemoryStore: Not enough space to cache rdd_3254_187 in memory! (computed 46.9 MiB so far)\n",
      "23/03/16 15:29:53 WARN MemoryStore: Not enough space to cache rdd_3254_187 in memory! (computed 46.9 MiB so far)\n",
      "23/03/16 15:29:55 WARN MemoryStore: Not enough space to cache rdd_3254_187 in memory! (computed 46.9 MiB so far)\n",
      "23/03/16 15:29:57 WARN MemoryStore: Not enough space to cache rdd_3254_187 in memory! (computed 46.9 MiB so far)\n",
      "23/03/16 15:29:59 WARN MemoryStore: Not enough space to cache rdd_3254_187 in memory! (computed 46.9 MiB so far)\n",
      "23/03/16 15:30:01 WARN MemoryStore: Not enough space to cache rdd_3254_187 in memory! (computed 46.9 MiB so far)\n",
      "23/03/16 15:30:03 WARN MemoryStore: Not enough space to cache rdd_3254_187 in memory! (computed 46.9 MiB so far)\n",
      "23/03/16 15:30:05 WARN MemoryStore: Not enough space to cache rdd_3254_187 in memory! (computed 46.9 MiB so far)\n",
      "23/03/16 15:30:07 WARN MemoryStore: Not enough space to cache rdd_3254_187 in memory! (computed 46.9 MiB so far)\n",
      "23/03/16 15:30:09 WARN MemoryStore: Not enough space to cache rdd_3254_187 in memory! (computed 46.9 MiB so far)\n",
      "23/03/16 15:30:11 WARN MemoryStore: Not enough space to cache rdd_3254_187 in memory! (computed 46.9 MiB so far)\n",
      "23/03/16 15:30:35 WARN MemoryStore: Not enough space to cache rdd_3254_187 in memory! (computed 46.9 MiB so far)\n",
      "23/03/16 15:31:13 WARN MemoryStore: Failed to reserve initial memory threshold of 1024.0 KiB for computing block rdd_3752_187 in memory.\n",
      "23/03/16 15:31:13 WARN MemoryStore: Not enough space to cache rdd_3752_187 in memory! (computed 384.0 B so far)\n",
      "23/03/16 15:31:13 WARN BlockManager: Persisting block rdd_3752_187 to disk instead.\n",
      "23/03/16 15:31:14 WARN MemoryStore: Not enough space to cache rdd_3752_187 in memory! (computed 48.4 MiB so far)\n",
      "23/03/16 15:31:54 WARN MemoryStore: Not enough space to cache rdd_3752_187 in memory! (computed 48.4 MiB so far)\n",
      "23/03/16 15:32:35 WARN MemoryStore: Not enough space to cache rdd_3752_187 in memory! (computed 48.4 MiB so far)\n",
      "23/03/16 15:33:14 WARN MemoryStore: Not enough space to cache rdd_3752_187 in memory! (computed 48.4 MiB so far)\n",
      "23/03/16 15:33:54 WARN MemoryStore: Not enough space to cache rdd_3752_187 in memory! (computed 48.4 MiB so far)\n",
      "23/03/16 15:34:34 WARN MemoryStore: Not enough space to cache rdd_3752_187 in memory! (computed 48.4 MiB so far)\n",
      "23/03/16 15:35:12 WARN MemoryStore: Not enough space to cache rdd_3752_187 in memory! (computed 48.4 MiB so far)\n",
      "23/03/16 15:35:52 WARN MemoryStore: Not enough space to cache rdd_3752_187 in memory! (computed 48.4 MiB so far)\n",
      "23/03/16 15:36:33 WARN MemoryStore: Not enough space to cache rdd_3752_187 in memory! (computed 48.4 MiB so far)\n",
      "23/03/16 15:37:13 WARN MemoryStore: Not enough space to cache rdd_3752_187 in memory! (computed 48.4 MiB so far)\n",
      "23/03/16 15:37:23 WARN MemoryStore: Not enough space to cache rdd_3752_187 in memory! (computed 48.4 MiB so far)\n",
      "23/03/16 15:37:28 WARN MemoryStore: Not enough space to cache rdd_3752_187 in memory! (computed 48.4 MiB so far)\n",
      "23/03/16 15:37:34 WARN MemoryStore: Not enough space to cache rdd_3752_187 in memory! (computed 48.4 MiB so far)\n",
      "23/03/16 15:37:39 WARN MemoryStore: Not enough space to cache rdd_3752_187 in memory! (computed 48.4 MiB so far)\n",
      "23/03/16 15:37:44 WARN MemoryStore: Not enough space to cache rdd_3752_187 in memory! (computed 48.4 MiB so far)\n",
      "23/03/16 15:37:49 WARN MemoryStore: Not enough space to cache rdd_3752_187 in memory! (computed 48.4 MiB so far)\n",
      "23/03/16 15:37:51 WARN MemoryStore: Not enough space to cache rdd_3752_187 in memory! (computed 48.4 MiB so far)\n",
      "23/03/16 15:37:53 WARN MemoryStore: Not enough space to cache rdd_3752_187 in memory! (computed 48.4 MiB so far)\n",
      "23/03/16 15:37:55 WARN MemoryStore: Not enough space to cache rdd_3752_187 in memory! (computed 48.4 MiB so far)\n",
      "23/03/16 15:37:57 WARN MemoryStore: Not enough space to cache rdd_3752_187 in memory! (computed 48.4 MiB so far)\n",
      "23/03/16 15:37:59 WARN MemoryStore: Not enough space to cache rdd_3752_187 in memory! (computed 48.4 MiB so far)\n",
      "23/03/16 15:38:01 WARN MemoryStore: Not enough space to cache rdd_3752_187 in memory! (computed 48.4 MiB so far)\n",
      "23/03/16 15:38:03 WARN MemoryStore: Not enough space to cache rdd_3752_187 in memory! (computed 48.4 MiB so far)\n",
      "23/03/16 15:38:05 WARN MemoryStore: Not enough space to cache rdd_3752_187 in memory! (computed 48.4 MiB so far)\n",
      "23/03/16 15:38:07 WARN MemoryStore: Not enough space to cache rdd_3752_187 in memory! (computed 48.4 MiB so far)\n",
      "23/03/16 15:38:09 WARN MemoryStore: Not enough space to cache rdd_3752_187 in memory! (computed 48.4 MiB so far)\n",
      "23/03/16 15:38:10 WARN MemoryStore: Not enough space to cache rdd_3752_187 in memory! (computed 48.4 MiB so far)\n",
      "23/03/16 15:38:12 WARN MemoryStore: Not enough space to cache rdd_3752_187 in memory! (computed 48.4 MiB so far)\n",
      "23/03/16 15:38:14 WARN MemoryStore: Not enough space to cache rdd_3752_187 in memory! (computed 48.4 MiB so far)\n",
      "23/03/16 15:38:34 WARN MemoryStore: Not enough space to cache rdd_3752_187 in memory! (computed 48.4 MiB so far)\n",
      "23/03/16 15:39:13 WARN MemoryStore: Not enough space to cache rdd_4250_187 in memory! (computed 4.0 MiB so far)\n",
      "23/03/16 15:39:13 WARN BlockManager: Persisting block rdd_4250_187 to disk instead.\n",
      "23/03/16 15:39:14 WARN MemoryStore: Not enough space to cache rdd_4250_187 in memory! (computed 47.8 MiB so far)\n",
      "23/03/16 15:39:54 WARN MemoryStore: Not enough space to cache rdd_4250_187 in memory! (computed 47.8 MiB so far)\n",
      "23/03/16 15:40:34 WARN MemoryStore: Not enough space to cache rdd_4250_187 in memory! (computed 47.8 MiB so far)\n",
      "23/03/16 15:41:12 WARN MemoryStore: Not enough space to cache rdd_4250_187 in memory! (computed 47.8 MiB so far)\n",
      "23/03/16 15:41:53 WARN MemoryStore: Not enough space to cache rdd_4250_187 in memory! (computed 47.8 MiB so far)\n",
      "23/03/16 15:42:34 WARN MemoryStore: Not enough space to cache rdd_4250_187 in memory! (computed 47.8 MiB so far)\n",
      "23/03/16 15:43:13 WARN MemoryStore: Not enough space to cache rdd_4250_187 in memory! (computed 47.8 MiB so far)\n",
      "23/03/16 15:43:53 WARN MemoryStore: Not enough space to cache rdd_4250_187 in memory! (computed 47.8 MiB so far)\n",
      "23/03/16 15:44:35 WARN MemoryStore: Not enough space to cache rdd_4250_187 in memory! (computed 47.8 MiB so far)\n",
      "23/03/16 15:45:24 WARN MemoryStore: Not enough space to cache rdd_4250_187 in memory! (computed 47.8 MiB so far)\n",
      "23/03/16 15:45:34 WARN MemoryStore: Not enough space to cache rdd_4250_187 in memory! (computed 47.8 MiB so far)\n",
      "23/03/16 15:45:39 WARN MemoryStore: Not enough space to cache rdd_4250_187 in memory! (computed 47.8 MiB so far)\n",
      "23/03/16 15:45:45 WARN MemoryStore: Not enough space to cache rdd_4250_187 in memory! (computed 47.8 MiB so far)\n",
      "23/03/16 15:45:50 WARN MemoryStore: Not enough space to cache rdd_4250_187 in memory! (computed 47.8 MiB so far)\n",
      "23/03/16 15:45:55 WARN MemoryStore: Not enough space to cache rdd_4250_187 in memory! (computed 47.8 MiB so far)\n",
      "23/03/16 15:46:01 WARN MemoryStore: Not enough space to cache rdd_4250_187 in memory! (computed 47.8 MiB so far)\n",
      "23/03/16 15:46:06 WARN MemoryStore: Not enough space to cache rdd_4250_187 in memory! (computed 47.8 MiB so far)\n",
      "23/03/16 15:46:08 WARN MemoryStore: Not enough space to cache rdd_4250_187 in memory! (computed 47.8 MiB so far)\n",
      "23/03/16 15:46:11 WARN MemoryStore: Not enough space to cache rdd_4250_187 in memory! (computed 47.8 MiB so far)\n",
      "23/03/16 15:46:13 WARN MemoryStore: Not enough space to cache rdd_4250_187 in memory! (computed 47.8 MiB so far)\n",
      "23/03/16 15:46:16 WARN MemoryStore: Not enough space to cache rdd_4250_187 in memory! (computed 47.8 MiB so far)\n",
      "23/03/16 15:46:18 WARN MemoryStore: Not enough space to cache rdd_4250_187 in memory! (computed 47.8 MiB so far)\n",
      "23/03/16 15:46:20 WARN MemoryStore: Not enough space to cache rdd_4250_187 in memory! (computed 47.8 MiB so far)\n",
      "23/03/16 15:46:22 WARN MemoryStore: Not enough space to cache rdd_4250_187 in memory! (computed 47.8 MiB so far)\n",
      "23/03/16 15:46:24 WARN MemoryStore: Not enough space to cache rdd_4250_187 in memory! (computed 47.8 MiB so far)\n",
      "23/03/16 15:46:26 WARN MemoryStore: Not enough space to cache rdd_4250_187 in memory! (computed 47.8 MiB so far)\n",
      "23/03/16 15:46:28 WARN MemoryStore: Not enough space to cache rdd_4250_187 in memory! (computed 47.8 MiB so far)\n",
      "23/03/16 15:46:30 WARN MemoryStore: Not enough space to cache rdd_4250_187 in memory! (computed 47.8 MiB so far)\n",
      "23/03/16 15:46:32 WARN MemoryStore: Not enough space to cache rdd_4250_187 in memory! (computed 47.8 MiB so far)\n",
      "23/03/16 15:46:57 WARN MemoryStore: Not enough space to cache rdd_4250_187 in memory! (computed 47.8 MiB so far)\n",
      "[Stage 1030:===================================================>(198 + 1) / 200]\r"
     ]
    },
    {
     "name": "stdout",
     "output_type": "stream",
     "text": [
      "CPU times: user 3.72 s, sys: 1.51 s, total: 5.23 s\n",
      "Wall time: 34min 28s\n"
     ]
    },
    {
     "name": "stderr",
     "output_type": "stream",
     "text": [
      "                                                                                \r"
     ]
    }
   ],
   "source": [
    "%%time\n",
    "\n",
    "# только для числовых исходных признаков\n",
    "pipeline_num_only = create_pipeline('LinearRegression', 'features', switch='num_only').fit(data_train)"
   ]
  },
  {
   "cell_type": "markdown",
   "id": "76a3b71d",
   "metadata": {},
   "source": [
    "### Best models\n",
    "\n",
    "Фиксация модели с лучшими гиперпараматрами."
   ]
  },
  {
   "cell_type": "code",
   "execution_count": 56,
   "id": "9d1d9a02",
   "metadata": {},
   "outputs": [],
   "source": [
    "model_num_cat = pipeline_num_cat.stages[-1].bestModel\n",
    "model_num_only = pipeline_num_only.stages[-1].bestModel"
   ]
  },
  {
   "cell_type": "markdown",
   "id": "25fdf634",
   "metadata": {},
   "source": [
    "## Results"
   ]
  },
  {
   "cell_type": "markdown",
   "id": "29611ed1",
   "metadata": {},
   "source": [
    "### Prediction"
   ]
  },
  {
   "cell_type": "code",
   "execution_count": 57,
   "id": "d5f8d099",
   "metadata": {},
   "outputs": [],
   "source": [
    "def prediction_results(pipeline):\n",
    "    '''\n",
    "    Выводит несколько строк для сравнения правильного значения с прогнозом\n",
    "    '''\n",
    "    print(f'{CR}Predictions for LinearRegression with {f.BOLD}{(var_name(pipeline))}{f.END}{CR}')\n",
    "    pipeline.transform(data_test).select('median_house_value', 'prediction').sample(0.01).show(5)    "
   ]
  },
  {
   "cell_type": "code",
   "execution_count": 58,
   "id": "7ad4ab70",
   "metadata": {},
   "outputs": [
    {
     "name": "stdout",
     "output_type": "stream",
     "text": [
      "\n",
      "Predictions for LinearRegression with \u001b[1mpipeline_num_cat\u001b[0m\n",
      "\n"
     ]
    },
    {
     "name": "stderr",
     "output_type": "stream",
     "text": [
      "                                                                                \r"
     ]
    },
    {
     "name": "stdout",
     "output_type": "stream",
     "text": [
      "+------------------+------------------+\n",
      "|median_house_value|        prediction|\n",
      "+------------------+------------------+\n",
      "|          322900.0|234548.19174208213|\n",
      "|          177800.0| 222221.7127292715|\n",
      "|          229500.0|238866.84257583087|\n",
      "|           48800.0| 89042.94886647398|\n",
      "|           71400.0| 120957.3273287355|\n",
      "+------------------+------------------+\n",
      "only showing top 5 rows\n",
      "\n",
      "\n",
      "Predictions for LinearRegression with \u001b[1mpipeline_num_only\u001b[0m\n",
      "\n"
     ]
    },
    {
     "name": "stderr",
     "output_type": "stream",
     "text": [
      "[Stage 1064:======================================>               (54 + 1) / 75]\r"
     ]
    },
    {
     "name": "stdout",
     "output_type": "stream",
     "text": [
      "+------------------+------------------+\n",
      "|median_house_value|        prediction|\n",
      "+------------------+------------------+\n",
      "|          166800.0| 244661.6385811898|\n",
      "|          328000.0|  315869.907160006|\n",
      "|          239600.0|262549.26060199086|\n",
      "|          195400.0| 182979.9533693944|\n",
      "|           71500.0|137075.68152344413|\n",
      "+------------------+------------------+\n",
      "only showing top 5 rows\n",
      "\n"
     ]
    },
    {
     "name": "stderr",
     "output_type": "stream",
     "text": [
      "                                                                                \r"
     ]
    }
   ],
   "source": [
    "prediction_results(pipeline_num_cat)\n",
    "prediction_results(pipeline_num_only)"
   ]
  },
  {
   "cell_type": "markdown",
   "id": "862310b8",
   "metadata": {},
   "source": [
    "### Model summary"
   ]
  },
  {
   "cell_type": "code",
   "execution_count": 59,
   "id": "13ea7ba1",
   "metadata": {},
   "outputs": [],
   "source": [
    "def model_summary(model):\n",
    "    '''\n",
    "    Выводит ряд метрик и параметров/гиперпараметров модели, определенных после кросс-валидации.\n",
    "    '''\n",
    "\n",
    "    print(f'{CR}Summary for LinearRegression with {f.BOLD}{var_name(model)}{f.END}{CR}')\n",
    "    \n",
    "    # metrics\n",
    "    print(f'R2   = {model.summary.r2:0.3f}')\n",
    "    print(f'RMSE = {model.summary.rootMeanSquaredError:0.0f}')\n",
    "    print(f'MAE  = {model.summary.meanAbsoluteError:0.0f}')\n",
    "    \n",
    "    # params\n",
    "#     print(f'{CR}intercept: {model.intercept:0.0f}')\n",
    "    # print(f'coeffs: {np.round(model.coefficients, 0)}{CR}')\n",
    "    print(f'ElasticNetParam: {model.getElasticNetParam()}')\n",
    "    print(f'RegParam: {model.getRegParam()}{CR}')"
   ]
  },
  {
   "cell_type": "code",
   "execution_count": 60,
   "id": "d0e7ed5c",
   "metadata": {},
   "outputs": [
    {
     "name": "stdout",
     "output_type": "stream",
     "text": [
      "\n",
      "Summary for LinearRegression with \u001b[1mmodel_num_cat\u001b[0m\n",
      "\n",
      "R2   = 0.739\n",
      "RMSE = 58886\n",
      "MAE  = 41969\n",
      "\n",
      "intercept: -2875445\n",
      "ElasticNetParam: 0.8317666450465439\n",
      "RegParam: 0.8955744454811672\n",
      "\n",
      "\n",
      "Summary for LinearRegression with \u001b[1mmodel_num_only\u001b[0m\n",
      "\n",
      "R2   = 0.732\n",
      "RMSE = 59703\n",
      "MAE  = 42825\n",
      "\n",
      "intercept: -2112386\n",
      "ElasticNetParam: 0.2973922567847659\n",
      "RegParam: 0.6324419065503356\n",
      "\n"
     ]
    }
   ],
   "source": [
    "model_summary(model_num_cat)\n",
    "model_summary(model_num_only)"
   ]
  },
  {
   "cell_type": "markdown",
   "id": "119392c7",
   "metadata": {},
   "source": [
    "> Модель без использования категориального признака из входных данных оказалась немного хуже.  \n",
    "> Вероятно, почти вся полезная информация содержится в других признаках. Либо деление на категории слишком грубое. Но тем не менее, какую-то часть полезной информации он все-таки содержит."
   ]
  },
  {
   "cell_type": "markdown",
   "id": "2d4a34f2",
   "metadata": {},
   "source": [
    "<div class=\"alert alert-block alert-success\">\n",
    "<b>Комментарий от ревьюера v1</b>\n",
    "    \n",
    "✔️ С выводом согласен.\n",
    "</div> \n"
   ]
  },
  {
   "cell_type": "markdown",
   "id": "c9730f82",
   "metadata": {},
   "source": [
    "### Metrics with test data"
   ]
  },
  {
   "cell_type": "code",
   "execution_count": 61,
   "id": "1f6c1b19",
   "metadata": {},
   "outputs": [],
   "source": [
    "def model_metric(pipeline, metric_dict={'r2':3}):\n",
    "    '''\n",
    "    Выводит ряд метрик для тестовой (отложенной) выборки.\n",
    "    '''\n",
    "    predicted = pipeline.transform(data_test)\n",
    "    \n",
    "    print(f'{CR}{f.BOLD}{var_name(pipeline)}{f.END} metrics:')\n",
    "    \n",
    "    for metric_name, metric_precission in metric_dict.items():\n",
    "        metric = RegressionEvaluator(labelCol=target, predictionCol='prediction', metricName=metric_name).evaluate(predicted)\n",
    "        print(f'{metric_name.upper():4} = {metric :{metric_precission}}')"
   ]
  },
  {
   "cell_type": "code",
   "execution_count": 62,
   "id": "725d9aa4",
   "metadata": {
    "scrolled": true
   },
   "outputs": [
    {
     "name": "stderr",
     "output_type": "stream",
     "text": [
      "                                                                                \r"
     ]
    },
    {
     "name": "stdout",
     "output_type": "stream",
     "text": [
      "\n",
      "\u001b[1mpipeline_num_cat\u001b[0m metrics:\n"
     ]
    },
    {
     "name": "stderr",
     "output_type": "stream",
     "text": [
      "                                                                                \r"
     ]
    },
    {
     "name": "stdout",
     "output_type": "stream",
     "text": [
      "R2   = 0.736\n"
     ]
    },
    {
     "name": "stderr",
     "output_type": "stream",
     "text": [
      "                                                                                \r"
     ]
    },
    {
     "name": "stdout",
     "output_type": "stream",
     "text": [
      "RMSE = 59750\n"
     ]
    },
    {
     "name": "stderr",
     "output_type": "stream",
     "text": [
      "                                                                                \r"
     ]
    },
    {
     "name": "stdout",
     "output_type": "stream",
     "text": [
      "MAE  = 42369\n"
     ]
    },
    {
     "name": "stderr",
     "output_type": "stream",
     "text": [
      "                                                                                \r"
     ]
    },
    {
     "name": "stdout",
     "output_type": "stream",
     "text": [
      "\n",
      "\u001b[1mpipeline_num_only\u001b[0m metrics:\n"
     ]
    },
    {
     "name": "stderr",
     "output_type": "stream",
     "text": [
      "                                                                                \r"
     ]
    },
    {
     "name": "stdout",
     "output_type": "stream",
     "text": [
      "R2   = 0.730\n"
     ]
    },
    {
     "name": "stderr",
     "output_type": "stream",
     "text": [
      "                                                                                \r"
     ]
    },
    {
     "name": "stdout",
     "output_type": "stream",
     "text": [
      "RMSE = 60509\n"
     ]
    },
    {
     "name": "stderr",
     "output_type": "stream",
     "text": [
      "[Stage 1099:================================================>   (186 + 1) / 200]\r"
     ]
    },
    {
     "name": "stdout",
     "output_type": "stream",
     "text": [
      "MAE  = 43166\n"
     ]
    },
    {
     "name": "stderr",
     "output_type": "stream",
     "text": [
      "                                                                                \r"
     ]
    }
   ],
   "source": [
    "model_metric(pipeline_num_cat, {'r2':'0.3f','rmse':'0.0f','mae':'0.0f'})\n",
    "model_metric(pipeline_num_only, {'r2':'0.3f','rmse':'0.0f','mae':'0.0f'})"
   ]
  },
  {
   "cell_type": "markdown",
   "id": "dcc641a3",
   "metadata": {},
   "source": [
    "> На тестовой выборке значения метрик примерно такие же.\n",
    "\n",
    "> Для повышения качества модели вместо категориального признака `ocean proximity` стоит попробовать числовой признак. Для его генерации можно использовать имеющиеся долготу-широту и сторонние гео-данные линии побережья."
   ]
  },
  {
   "cell_type": "markdown",
   "id": "47da2c28",
   "metadata": {},
   "source": [
    "## Conclusion"
   ]
  },
  {
   "cell_type": "markdown",
   "id": "b33b2321",
   "metadata": {},
   "source": [
    "### Краткий обзор проведенной работы\n",
    "\n",
    "1. Выполнена проверка входных данных и незначительная их правка.\n",
    "1. Создан (и далее проверен) ряд расчетных признаков.\n",
    "1. Из исходного набора данных выделена тестовая (отложенная) выборка для последующего тестирования моделей.\n",
    "1. Создан пайплайн.  \n",
    "1. Обучены две модели на разных наборах признаков.\n",
    "1. Оценены метрики и параметры созданных моделей."
   ]
  },
  {
   "cell_type": "markdown",
   "id": "b480289d",
   "metadata": {},
   "source": [
    "### Основная часть"
   ]
  },
  {
   "cell_type": "markdown",
   "id": "9d9f4432",
   "metadata": {},
   "source": [
    "#### Проверка данных\n",
    "\n",
    "Удалены лишние признаки (уникальный id).\n",
    "\n",
    "В данных обнаружено незначительное количество пропущенных значений (1% от всех наблюдений).  \n",
    "Наблюдения с пропусками удалены.\n",
    "\n",
    "Сделана попытка заполнения пропусков средними значениями с учетом контекста. Заполнение выполнено успешно, но после этой операции наблюдается критическое падение скорости обучения моделей – примерно в 20-40 раз. Причину такого поведения выяснить не удалось, поиск причины продолжается."
   ]
  },
  {
   "cell_type": "markdown",
   "id": "e5a3703d",
   "metadata": {},
   "source": [
    "#### Подготовка данных для моделей\n",
    "\n",
    "Создан и проверен ряд признаков на основе арифметических операций. Небольшой прирост метрики дал признак `количество комнат на одного человека`.\n",
    "\n",
    "Выделена целевая переменная и признаки.\n",
    "\n",
    "Из исходного набора данных выделена тестовая (отложенная) выборка для последующего тестирования моделей."
   ]
  },
  {
   "cell_type": "markdown",
   "id": "a920f8c6",
   "metadata": {},
   "source": [
    "#### Пайплайн\n",
    "\n",
    "Разработанный пайплайн включает:\n",
    "\n",
    "a) стандартизацию числовых признаков;  \n",
    "b) полиномиальное преобразование числовых признаков;  \n",
    "c) One-Hote-Encoding категориальных признаков;  \n",
    "d) создание нового признака посредством кластеризации;  \n",
    "e) кросс-валидацию для подбора гиперпараметров.\n",
    "\n",
    "В пайплайн не включены некоторые шаги по предобработке. Их можно добавить после решения описанной выше проблемы с падением скорости обучения."
   ]
  },
  {
   "cell_type": "markdown",
   "id": "ea64abbf",
   "metadata": {},
   "source": [
    "#### Результат\n",
    "\n",
    "Обучены две модели:  \n",
    "a) на всем входном наборе признаков;  \n",
    "b) без использования категориальных входных признаков.\n",
    "\n",
    "Оценены метрики и параметры созданных моделей:  \n",
    "a) по результатам кроссвалидации;  \n",
    "b) на тестовой (отложенной) выборке.\n",
    "\n",
    "Модель на полном наборе признаков показала результат выше, чем модель без использования входных категориальных признаков. Но отличие невелико.\n",
    "\n",
    "Обе модели ведут себя устойчиво: значения метрик для тестовой выборки отличаются незначительно от результатов на кроссвалидации."
   ]
  },
  {
   "cell_type": "markdown",
   "id": "cd0a5bdc",
   "metadata": {},
   "source": [
    "### Рекомендации и риски\n",
    "\n",
    "Необходимо найти причину описанной выше проблемы с падением скорости обучения. \n",
    "\n",
    "Сделать полноценный исследовательский анализ. Основная цель — выбор наиболее подходящих признаков для обучения.  \n",
    "В качестве примера можно отметить, что во входных данных есть признаки клиппинга: целевой признак обрезан на уровне 500К.\n",
    "\n",
    "По результатам исследовательского анализа провести feature engineering.\n",
    "\n",
    "По мере решения описанных задач включать решение в разработанный пайплайн."
   ]
  }
 ],
 "metadata": {
  "ExecuteTimeLog": [
   {
    "duration": 8,
    "start_time": "2023-03-16T05:27:51.244Z"
   },
   {
    "duration": 1558,
    "start_time": "2023-03-16T05:27:51.257Z"
   },
   {
    "duration": 4,
    "start_time": "2023-03-16T05:27:52.817Z"
   },
   {
    "duration": 13,
    "start_time": "2023-03-16T05:27:52.822Z"
   },
   {
    "duration": 26,
    "start_time": "2023-03-16T05:27:52.839Z"
   },
   {
    "duration": 40,
    "start_time": "2023-03-16T05:27:52.867Z"
   },
   {
    "duration": 16,
    "start_time": "2023-03-16T05:27:52.909Z"
   },
   {
    "duration": 260,
    "start_time": "2023-03-16T05:27:52.927Z"
   },
   {
    "duration": 3,
    "start_time": "2023-03-16T05:27:53.189Z"
   },
   {
    "duration": 14,
    "start_time": "2023-03-16T05:27:53.194Z"
   },
   {
    "duration": 305,
    "start_time": "2023-03-16T05:27:53.211Z"
   },
   {
    "duration": 0,
    "start_time": "2023-03-16T05:27:53.520Z"
   },
   {
    "duration": 0,
    "start_time": "2023-03-16T05:27:53.521Z"
   },
   {
    "duration": 0,
    "start_time": "2023-03-16T05:27:53.522Z"
   },
   {
    "duration": 0,
    "start_time": "2023-03-16T05:27:53.523Z"
   },
   {
    "duration": 0,
    "start_time": "2023-03-16T05:27:53.524Z"
   },
   {
    "duration": 0,
    "start_time": "2023-03-16T05:27:53.525Z"
   },
   {
    "duration": 0,
    "start_time": "2023-03-16T05:27:53.526Z"
   },
   {
    "duration": 0,
    "start_time": "2023-03-16T05:27:53.527Z"
   },
   {
    "duration": 0,
    "start_time": "2023-03-16T05:27:53.528Z"
   },
   {
    "duration": 0,
    "start_time": "2023-03-16T05:27:53.529Z"
   },
   {
    "duration": 0,
    "start_time": "2023-03-16T05:27:53.530Z"
   },
   {
    "duration": 0,
    "start_time": "2023-03-16T05:27:53.531Z"
   },
   {
    "duration": 0,
    "start_time": "2023-03-16T05:27:53.532Z"
   },
   {
    "duration": 0,
    "start_time": "2023-03-16T05:27:53.533Z"
   },
   {
    "duration": 0,
    "start_time": "2023-03-16T05:27:53.534Z"
   },
   {
    "duration": 0,
    "start_time": "2023-03-16T05:27:53.535Z"
   },
   {
    "duration": 0,
    "start_time": "2023-03-16T05:27:53.536Z"
   },
   {
    "duration": 0,
    "start_time": "2023-03-16T05:27:53.537Z"
   },
   {
    "duration": 0,
    "start_time": "2023-03-16T05:27:53.538Z"
   },
   {
    "duration": 0,
    "start_time": "2023-03-16T05:27:53.539Z"
   },
   {
    "duration": 0,
    "start_time": "2023-03-16T05:27:53.540Z"
   },
   {
    "duration": 0,
    "start_time": "2023-03-16T05:27:53.541Z"
   },
   {
    "duration": 0,
    "start_time": "2023-03-16T05:27:53.578Z"
   },
   {
    "duration": 0,
    "start_time": "2023-03-16T05:27:53.579Z"
   },
   {
    "duration": 0,
    "start_time": "2023-03-16T05:27:53.580Z"
   },
   {
    "duration": 0,
    "start_time": "2023-03-16T05:27:53.581Z"
   },
   {
    "duration": 0,
    "start_time": "2023-03-16T05:27:53.582Z"
   },
   {
    "duration": 0,
    "start_time": "2023-03-16T05:27:53.583Z"
   },
   {
    "duration": 0,
    "start_time": "2023-03-16T05:27:53.585Z"
   },
   {
    "duration": 0,
    "start_time": "2023-03-16T05:27:53.585Z"
   },
   {
    "duration": 0,
    "start_time": "2023-03-16T05:27:53.586Z"
   },
   {
    "duration": 0,
    "start_time": "2023-03-16T05:27:53.587Z"
   },
   {
    "duration": 0,
    "start_time": "2023-03-16T05:27:53.588Z"
   },
   {
    "duration": 0,
    "start_time": "2023-03-16T05:27:53.589Z"
   },
   {
    "duration": 0,
    "start_time": "2023-03-16T05:27:53.590Z"
   },
   {
    "duration": 0,
    "start_time": "2023-03-16T05:27:53.591Z"
   },
   {
    "duration": 0,
    "start_time": "2023-03-16T05:27:53.592Z"
   },
   {
    "duration": 0,
    "start_time": "2023-03-16T05:27:53.593Z"
   },
   {
    "duration": 259,
    "start_time": "2023-03-16T05:30:50.130Z"
   },
   {
    "duration": 8,
    "start_time": "2023-03-16T05:31:13.249Z"
   },
   {
    "duration": 1285,
    "start_time": "2023-03-16T05:31:17.592Z"
   },
   {
    "duration": 4,
    "start_time": "2023-03-16T05:31:27.011Z"
   },
   {
    "duration": 5,
    "start_time": "2023-03-16T05:31:28.328Z"
   },
   {
    "duration": 3,
    "start_time": "2023-03-16T05:31:28.750Z"
   },
   {
    "duration": 6,
    "start_time": "2023-03-16T05:31:29.091Z"
   },
   {
    "duration": 3,
    "start_time": "2023-03-16T05:31:29.842Z"
   },
   {
    "duration": 245,
    "start_time": "2023-03-16T05:31:30.739Z"
   },
   {
    "duration": 4,
    "start_time": "2023-03-16T05:31:31.795Z"
   },
   {
    "duration": 4,
    "start_time": "2023-03-16T05:31:32.203Z"
   },
   {
    "duration": 17808,
    "start_time": "2023-03-16T05:31:33.795Z"
   },
   {
    "duration": 4309,
    "start_time": "2023-03-16T05:31:51.676Z"
   },
   {
    "duration": 2,
    "start_time": "2023-03-16T05:31:55.987Z"
   },
   {
    "duration": 85,
    "start_time": "2023-03-16T05:31:55.992Z"
   },
   {
    "duration": 6001,
    "start_time": "2023-03-16T05:31:56.080Z"
   },
   {
    "duration": 2099,
    "start_time": "2023-03-16T05:32:02.082Z"
   },
   {
    "duration": 824,
    "start_time": "2023-03-16T05:32:04.183Z"
   },
   {
    "duration": 4,
    "start_time": "2023-03-16T05:32:05.078Z"
   },
   {
    "duration": 6301,
    "start_time": "2023-03-16T05:32:05.083Z"
   },
   {
    "duration": 1819,
    "start_time": "2023-03-16T05:32:11.387Z"
   },
   {
    "duration": 110,
    "start_time": "2023-03-16T05:32:13.208Z"
   },
   {
    "duration": 25,
    "start_time": "2023-03-16T05:32:13.319Z"
   },
   {
    "duration": 4,
    "start_time": "2023-03-16T05:32:13.378Z"
   },
   {
    "duration": 529,
    "start_time": "2023-03-16T05:32:13.383Z"
   },
   {
    "duration": 485,
    "start_time": "2023-03-16T05:32:13.914Z"
   },
   {
    "duration": 1515,
    "start_time": "2023-03-16T05:32:14.401Z"
   },
   {
    "duration": 3,
    "start_time": "2023-03-16T05:32:15.918Z"
   },
   {
    "duration": 55,
    "start_time": "2023-03-16T05:32:15.923Z"
   },
   {
    "duration": 10,
    "start_time": "2023-03-16T05:32:15.980Z"
   },
   {
    "duration": 6,
    "start_time": "2023-03-16T05:32:15.992Z"
   },
   {
    "duration": 13,
    "start_time": "2023-03-16T05:32:16.000Z"
   },
   {
    "duration": 6,
    "start_time": "2023-03-16T05:32:16.015Z"
   },
   {
    "duration": 4,
    "start_time": "2023-03-16T05:32:16.077Z"
   },
   {
    "duration": 11,
    "start_time": "2023-03-16T05:32:16.083Z"
   },
   {
    "duration": 10,
    "start_time": "2023-03-16T05:32:16.096Z"
   },
   {
    "duration": 16,
    "start_time": "2023-03-16T05:32:16.108Z"
   },
   {
    "duration": 11,
    "start_time": "2023-03-16T05:32:16.126Z"
   },
   {
    "duration": 37,
    "start_time": "2023-03-16T05:32:16.140Z"
   },
   {
    "duration": 8,
    "start_time": "2023-03-16T05:32:16.179Z"
   },
   {
    "duration": 10,
    "start_time": "2023-03-16T05:32:16.188Z"
   },
   {
    "duration": 2057,
    "start_time": "2023-03-16T05:32:16.199Z"
   },
   {
    "duration": 833,
    "start_time": "2023-03-16T05:32:18.257Z"
   },
   {
    "duration": 10,
    "start_time": "2023-03-16T05:32:19.092Z"
   },
   {
    "duration": 0,
    "start_time": "2023-03-16T05:32:19.103Z"
   },
   {
    "duration": 0,
    "start_time": "2023-03-16T05:32:19.105Z"
   },
   {
    "duration": 0,
    "start_time": "2023-03-16T05:32:19.106Z"
   },
   {
    "duration": 0,
    "start_time": "2023-03-16T05:32:19.107Z"
   },
   {
    "duration": 0,
    "start_time": "2023-03-16T05:32:19.108Z"
   },
   {
    "duration": 0,
    "start_time": "2023-03-16T05:32:19.109Z"
   },
   {
    "duration": 118,
    "start_time": "2023-03-16T05:45:34.721Z"
   },
   {
    "duration": 56,
    "start_time": "2023-03-16T06:10:16.603Z"
   },
   {
    "duration": 51,
    "start_time": "2023-03-16T06:13:11.748Z"
   },
   {
    "duration": 50,
    "start_time": "2023-03-16T06:15:27.435Z"
   },
   {
    "duration": 803,
    "start_time": "2023-03-16T06:30:06.883Z"
   },
   {
    "duration": 1597,
    "start_time": "2023-03-16T06:30:08.380Z"
   },
   {
    "duration": 24,
    "start_time": "2023-03-16T06:30:14.042Z"
   },
   {
    "duration": 15,
    "start_time": "2023-03-16T06:30:20.173Z"
   },
   {
    "duration": 3,
    "start_time": "2023-03-16T06:30:21.979Z"
   },
   {
    "duration": 656,
    "start_time": "2023-03-16T06:30:22.214Z"
   },
   {
    "duration": 615,
    "start_time": "2023-03-16T06:30:22.878Z"
   },
   {
    "duration": 1193,
    "start_time": "2023-03-16T06:30:23.495Z"
   },
   {
    "duration": 3,
    "start_time": "2023-03-16T06:30:24.690Z"
   },
   {
    "duration": 8,
    "start_time": "2023-03-16T06:30:24.695Z"
   },
   {
    "duration": 2,
    "start_time": "2023-03-16T06:30:25.039Z"
   },
   {
    "duration": 3,
    "start_time": "2023-03-16T06:30:25.231Z"
   },
   {
    "duration": 3,
    "start_time": "2023-03-16T06:30:25.338Z"
   },
   {
    "duration": 3,
    "start_time": "2023-03-16T06:30:25.508Z"
   },
   {
    "duration": 3,
    "start_time": "2023-03-16T06:30:25.626Z"
   },
   {
    "duration": 3,
    "start_time": "2023-03-16T06:30:25.791Z"
   },
   {
    "duration": 3,
    "start_time": "2023-03-16T06:30:25.976Z"
   },
   {
    "duration": 4,
    "start_time": "2023-03-16T06:30:26.108Z"
   },
   {
    "duration": 2,
    "start_time": "2023-03-16T06:30:26.194Z"
   },
   {
    "duration": 3,
    "start_time": "2023-03-16T06:30:26.296Z"
   },
   {
    "duration": 4,
    "start_time": "2023-03-16T06:30:26.380Z"
   },
   {
    "duration": 7,
    "start_time": "2023-03-16T06:30:26.614Z"
   },
   {
    "duration": 2797370,
    "start_time": "2023-03-16T06:30:26.772Z"
   },
   {
    "duration": 2846511,
    "start_time": "2023-03-16T07:17:04.144Z"
   },
   {
    "duration": 29,
    "start_time": "2023-03-16T08:04:30.657Z"
   },
   {
    "duration": 15,
    "start_time": "2023-03-16T08:04:30.689Z"
   },
   {
    "duration": 1928,
    "start_time": "2023-03-16T08:04:30.706Z"
   },
   {
    "duration": 5,
    "start_time": "2023-03-16T08:04:32.636Z"
   },
   {
    "duration": 62,
    "start_time": "2023-03-16T08:04:32.643Z"
   },
   {
    "duration": 4,
    "start_time": "2023-03-16T08:04:32.707Z"
   },
   {
    "duration": 9296,
    "start_time": "2023-03-16T08:04:32.712Z"
   },
   {
    "duration": 68,
    "start_time": "2023-03-16T08:04:42.012Z"
   },
   {
    "duration": 2,
    "start_time": "2023-03-16T08:38:14.774Z"
   },
   {
    "duration": 1305,
    "start_time": "2023-03-16T08:38:14.780Z"
   },
   {
    "duration": 3,
    "start_time": "2023-03-16T08:38:16.086Z"
   },
   {
    "duration": 9,
    "start_time": "2023-03-16T08:38:16.090Z"
   },
   {
    "duration": 12,
    "start_time": "2023-03-16T08:38:16.101Z"
   },
   {
    "duration": 9,
    "start_time": "2023-03-16T08:38:16.114Z"
   },
   {
    "duration": 31,
    "start_time": "2023-03-16T08:38:16.125Z"
   },
   {
    "duration": 396,
    "start_time": "2023-03-16T08:38:16.158Z"
   },
   {
    "duration": 5,
    "start_time": "2023-03-16T08:38:16.555Z"
   },
   {
    "duration": 8,
    "start_time": "2023-03-16T08:38:16.562Z"
   },
   {
    "duration": 20471,
    "start_time": "2023-03-16T08:38:16.572Z"
   },
   {
    "duration": 3196,
    "start_time": "2023-03-16T08:38:37.045Z"
   },
   {
    "duration": 4,
    "start_time": "2023-03-16T08:38:40.243Z"
   },
   {
    "duration": 51,
    "start_time": "2023-03-16T08:38:40.248Z"
   },
   {
    "duration": 4852,
    "start_time": "2023-03-16T08:38:40.301Z"
   },
   {
    "duration": 2323,
    "start_time": "2023-03-16T08:38:45.155Z"
   },
   {
    "duration": 804,
    "start_time": "2023-03-16T08:38:47.479Z"
   },
   {
    "duration": 4,
    "start_time": "2023-03-16T08:38:48.285Z"
   },
   {
    "duration": 6276,
    "start_time": "2023-03-16T08:38:48.291Z"
   },
   {
    "duration": 1232,
    "start_time": "2023-03-16T08:38:54.569Z"
   },
   {
    "duration": 84,
    "start_time": "2023-03-16T08:38:55.803Z"
   },
   {
    "duration": 54,
    "start_time": "2023-03-16T08:38:55.888Z"
   },
   {
    "duration": 3,
    "start_time": "2023-03-16T08:38:55.944Z"
   },
   {
    "duration": 514,
    "start_time": "2023-03-16T08:38:55.949Z"
   },
   {
    "duration": 339,
    "start_time": "2023-03-16T08:38:56.465Z"
   },
   {
    "duration": 1737,
    "start_time": "2023-03-16T08:38:56.805Z"
   },
   {
    "duration": 5,
    "start_time": "2023-03-16T08:38:58.543Z"
   },
   {
    "duration": 14,
    "start_time": "2023-03-16T08:38:58.550Z"
   },
   {
    "duration": 22,
    "start_time": "2023-03-16T08:38:58.567Z"
   },
   {
    "duration": 8,
    "start_time": "2023-03-16T08:38:58.591Z"
   },
   {
    "duration": 40,
    "start_time": "2023-03-16T08:38:58.601Z"
   },
   {
    "duration": 9,
    "start_time": "2023-03-16T08:38:58.643Z"
   },
   {
    "duration": 12,
    "start_time": "2023-03-16T08:38:58.654Z"
   },
   {
    "duration": 27,
    "start_time": "2023-03-16T08:38:58.667Z"
   },
   {
    "duration": 10,
    "start_time": "2023-03-16T08:38:58.695Z"
   },
   {
    "duration": 11,
    "start_time": "2023-03-16T08:38:58.706Z"
   },
   {
    "duration": 21,
    "start_time": "2023-03-16T08:38:58.718Z"
   },
   {
    "duration": 11,
    "start_time": "2023-03-16T08:38:58.742Z"
   },
   {
    "duration": 17,
    "start_time": "2023-03-16T08:38:58.755Z"
   },
   {
    "duration": 19,
    "start_time": "2023-03-16T08:38:58.773Z"
   },
   {
    "duration": 2470,
    "start_time": "2023-03-16T08:38:58.794Z"
   },
   {
    "duration": 1133,
    "start_time": "2023-03-16T08:39:01.266Z"
   },
   {
    "duration": 8,
    "start_time": "2023-03-16T08:39:02.401Z"
   },
   {
    "duration": 0,
    "start_time": "2023-03-16T08:39:02.410Z"
   },
   {
    "duration": 0,
    "start_time": "2023-03-16T08:39:02.411Z"
   },
   {
    "duration": 0,
    "start_time": "2023-03-16T08:39:02.413Z"
   },
   {
    "duration": 0,
    "start_time": "2023-03-16T08:39:02.414Z"
   },
   {
    "duration": 0,
    "start_time": "2023-03-16T08:39:02.415Z"
   },
   {
    "duration": 0,
    "start_time": "2023-03-16T08:39:02.416Z"
   },
   {
    "duration": 9,
    "start_time": "2023-03-16T08:40:09.031Z"
   },
   {
    "duration": 973,
    "start_time": "2023-03-16T08:40:24.993Z"
   },
   {
    "duration": 2,
    "start_time": "2023-03-16T08:40:28.834Z"
   },
   {
    "duration": 7,
    "start_time": "2023-03-16T08:40:28.839Z"
   },
   {
    "duration": 13,
    "start_time": "2023-03-16T08:40:28.848Z"
   },
   {
    "duration": 26,
    "start_time": "2023-03-16T08:40:28.862Z"
   },
   {
    "duration": 12,
    "start_time": "2023-03-16T08:40:28.890Z"
   },
   {
    "duration": 13,
    "start_time": "2023-03-16T08:40:28.903Z"
   },
   {
    "duration": 10,
    "start_time": "2023-03-16T08:40:28.917Z"
   },
   {
    "duration": 67,
    "start_time": "2023-03-16T08:40:28.928Z"
   },
   {
    "duration": 3,
    "start_time": "2023-03-16T08:40:28.997Z"
   },
   {
    "duration": 6,
    "start_time": "2023-03-16T08:40:29.001Z"
   },
   {
    "duration": 8,
    "start_time": "2023-03-16T08:40:29.008Z"
   },
   {
    "duration": 553,
    "start_time": "2023-03-16T08:40:29.018Z"
   },
   {
    "duration": 2,
    "start_time": "2023-03-16T08:40:29.573Z"
   },
   {
    "duration": 116,
    "start_time": "2023-03-16T08:40:29.576Z"
   },
   {
    "duration": 3,
    "start_time": "2023-03-16T08:40:29.694Z"
   },
   {
    "duration": 251,
    "start_time": "2023-03-16T08:40:29.699Z"
   },
   {
    "duration": 868,
    "start_time": "2023-03-16T08:40:29.952Z"
   },
   {
    "duration": 320,
    "start_time": "2023-03-16T08:40:30.822Z"
   },
   {
    "duration": 4,
    "start_time": "2023-03-16T08:40:31.146Z"
   },
   {
    "duration": 3996,
    "start_time": "2023-03-16T08:40:31.152Z"
   },
   {
    "duration": 1023,
    "start_time": "2023-03-16T08:40:35.152Z"
   },
   {
    "duration": 16,
    "start_time": "2023-03-16T08:40:36.177Z"
   },
   {
    "duration": 37,
    "start_time": "2023-03-16T08:40:36.195Z"
   },
   {
    "duration": 48,
    "start_time": "2023-03-16T08:40:36.234Z"
   },
   {
    "duration": 387,
    "start_time": "2023-03-16T08:40:36.285Z"
   },
   {
    "duration": 283,
    "start_time": "2023-03-16T08:40:36.674Z"
   },
   {
    "duration": 896,
    "start_time": "2023-03-16T08:40:36.959Z"
   },
   {
    "duration": 3,
    "start_time": "2023-03-16T08:40:37.857Z"
   },
   {
    "duration": 10,
    "start_time": "2023-03-16T08:40:37.861Z"
   },
   {
    "duration": 16,
    "start_time": "2023-03-16T08:40:37.872Z"
   },
   {
    "duration": 5,
    "start_time": "2023-03-16T08:40:37.889Z"
   },
   {
    "duration": 9,
    "start_time": "2023-03-16T08:40:37.896Z"
   },
   {
    "duration": 6,
    "start_time": "2023-03-16T08:40:37.906Z"
   },
   {
    "duration": 6,
    "start_time": "2023-03-16T08:40:37.914Z"
   },
   {
    "duration": 10,
    "start_time": "2023-03-16T08:40:37.921Z"
   },
   {
    "duration": 13,
    "start_time": "2023-03-16T08:40:37.932Z"
   },
   {
    "duration": 13,
    "start_time": "2023-03-16T08:40:37.947Z"
   },
   {
    "duration": 6,
    "start_time": "2023-03-16T08:40:37.962Z"
   },
   {
    "duration": 6,
    "start_time": "2023-03-16T08:40:37.969Z"
   },
   {
    "duration": 5,
    "start_time": "2023-03-16T08:40:37.977Z"
   },
   {
    "duration": 9,
    "start_time": "2023-03-16T08:40:37.983Z"
   },
   {
    "duration": 730,
    "start_time": "2023-03-16T08:40:37.994Z"
   },
   {
    "duration": 703,
    "start_time": "2023-03-16T08:40:38.725Z"
   },
   {
    "duration": 9,
    "start_time": "2023-03-16T08:40:39.429Z"
   },
   {
    "duration": 0,
    "start_time": "2023-03-16T08:40:39.442Z"
   },
   {
    "duration": 0,
    "start_time": "2023-03-16T08:40:39.443Z"
   },
   {
    "duration": 0,
    "start_time": "2023-03-16T08:40:39.445Z"
   },
   {
    "duration": 0,
    "start_time": "2023-03-16T08:40:39.446Z"
   },
   {
    "duration": 1,
    "start_time": "2023-03-16T08:40:39.447Z"
   },
   {
    "duration": 0,
    "start_time": "2023-03-16T08:40:39.449Z"
   },
   {
    "duration": 3,
    "start_time": "2023-03-16T08:41:01.577Z"
   },
   {
    "duration": 112,
    "start_time": "2023-03-16T08:41:01.582Z"
   },
   {
    "duration": 39,
    "start_time": "2023-03-16T08:41:01.696Z"
   },
   {
    "duration": 23,
    "start_time": "2023-03-16T08:41:01.737Z"
   },
   {
    "duration": 67,
    "start_time": "2023-03-16T08:41:01.762Z"
   },
   {
    "duration": 35,
    "start_time": "2023-03-16T08:41:01.831Z"
   },
   {
    "duration": 32,
    "start_time": "2023-03-16T08:41:01.868Z"
   },
   {
    "duration": 131,
    "start_time": "2023-03-16T08:41:01.902Z"
   },
   {
    "duration": 38,
    "start_time": "2023-03-16T08:41:02.035Z"
   },
   {
    "duration": 31,
    "start_time": "2023-03-16T08:41:02.075Z"
   },
   {
    "duration": 28,
    "start_time": "2023-03-16T08:41:02.108Z"
   },
   {
    "duration": 362,
    "start_time": "2023-03-16T08:41:02.137Z"
   },
   {
    "duration": 3,
    "start_time": "2023-03-16T08:41:02.540Z"
   },
   {
    "duration": 132,
    "start_time": "2023-03-16T08:41:02.546Z"
   },
   {
    "duration": 4,
    "start_time": "2023-03-16T08:41:02.679Z"
   },
   {
    "duration": 210,
    "start_time": "2023-03-16T08:41:02.685Z"
   },
   {
    "duration": 1034,
    "start_time": "2023-03-16T08:41:02.897Z"
   },
   {
    "duration": 2,
    "start_time": "2023-03-16T08:41:03.933Z"
   },
   {
    "duration": 11,
    "start_time": "2023-03-16T08:41:03.941Z"
   },
   {
    "duration": 2795,
    "start_time": "2023-03-16T08:41:03.954Z"
   },
   {
    "duration": 1423,
    "start_time": "2023-03-16T08:41:06.752Z"
   },
   {
    "duration": 75,
    "start_time": "2023-03-16T08:41:08.177Z"
   },
   {
    "duration": 26,
    "start_time": "2023-03-16T08:41:08.254Z"
   },
   {
    "duration": 4,
    "start_time": "2023-03-16T08:41:08.341Z"
   },
   {
    "duration": 933,
    "start_time": "2023-03-16T08:41:08.347Z"
   },
   {
    "duration": 629,
    "start_time": "2023-03-16T08:41:09.282Z"
   },
   {
    "duration": 1528,
    "start_time": "2023-03-16T08:41:09.913Z"
   },
   {
    "duration": 6,
    "start_time": "2023-03-16T08:41:11.443Z"
   },
   {
    "duration": 37,
    "start_time": "2023-03-16T08:41:11.454Z"
   },
   {
    "duration": 96,
    "start_time": "2023-03-16T08:41:11.493Z"
   },
   {
    "duration": 8,
    "start_time": "2023-03-16T08:41:11.591Z"
   },
   {
    "duration": 41,
    "start_time": "2023-03-16T08:41:11.601Z"
   },
   {
    "duration": 23,
    "start_time": "2023-03-16T08:41:11.644Z"
   },
   {
    "duration": 32,
    "start_time": "2023-03-16T08:41:11.669Z"
   },
   {
    "duration": 38,
    "start_time": "2023-03-16T08:41:11.703Z"
   },
   {
    "duration": 4,
    "start_time": "2023-03-16T08:41:11.743Z"
   },
   {
    "duration": 11,
    "start_time": "2023-03-16T08:41:11.751Z"
   },
   {
    "duration": 8,
    "start_time": "2023-03-16T08:41:11.765Z"
   },
   {
    "duration": 8,
    "start_time": "2023-03-16T08:41:11.774Z"
   },
   {
    "duration": 6,
    "start_time": "2023-03-16T08:41:11.784Z"
   },
   {
    "duration": 8,
    "start_time": "2023-03-16T08:41:11.792Z"
   },
   {
    "duration": 1273,
    "start_time": "2023-03-16T08:41:11.801Z"
   },
   {
    "duration": 831,
    "start_time": "2023-03-16T08:41:13.075Z"
   },
   {
    "duration": 9,
    "start_time": "2023-03-16T08:41:13.907Z"
   },
   {
    "duration": 0,
    "start_time": "2023-03-16T08:41:13.917Z"
   },
   {
    "duration": 0,
    "start_time": "2023-03-16T08:41:13.919Z"
   },
   {
    "duration": 0,
    "start_time": "2023-03-16T08:41:13.919Z"
   },
   {
    "duration": 0,
    "start_time": "2023-03-16T08:41:13.920Z"
   },
   {
    "duration": 0,
    "start_time": "2023-03-16T08:41:13.921Z"
   },
   {
    "duration": 0,
    "start_time": "2023-03-16T08:41:13.922Z"
   },
   {
    "duration": 2,
    "start_time": "2023-03-16T08:43:40.425Z"
   },
   {
    "duration": 6,
    "start_time": "2023-03-16T08:43:40.445Z"
   },
   {
    "duration": 13,
    "start_time": "2023-03-16T08:43:40.459Z"
   },
   {
    "duration": 8,
    "start_time": "2023-03-16T08:43:40.474Z"
   },
   {
    "duration": 14,
    "start_time": "2023-03-16T08:43:40.483Z"
   },
   {
    "duration": 8,
    "start_time": "2023-03-16T08:43:40.499Z"
   },
   {
    "duration": 11,
    "start_time": "2023-03-16T08:43:40.509Z"
   },
   {
    "duration": 69,
    "start_time": "2023-03-16T08:43:40.521Z"
   },
   {
    "duration": 3,
    "start_time": "2023-03-16T08:43:40.592Z"
   },
   {
    "duration": 25,
    "start_time": "2023-03-16T08:43:40.596Z"
   },
   {
    "duration": 13,
    "start_time": "2023-03-16T08:43:40.623Z"
   },
   {
    "duration": 335,
    "start_time": "2023-03-16T08:43:40.638Z"
   },
   {
    "duration": 3,
    "start_time": "2023-03-16T08:43:40.975Z"
   },
   {
    "duration": 9,
    "start_time": "2023-03-16T08:43:40.979Z"
   },
   {
    "duration": 199,
    "start_time": "2023-03-16T08:43:40.989Z"
   },
   {
    "duration": 689,
    "start_time": "2023-03-16T08:43:41.191Z"
   },
   {
    "duration": 3,
    "start_time": "2023-03-16T08:43:41.882Z"
   },
   {
    "duration": 15,
    "start_time": "2023-03-16T08:43:41.887Z"
   },
   {
    "duration": 2144,
    "start_time": "2023-03-16T08:43:41.903Z"
   },
   {
    "duration": 874,
    "start_time": "2023-03-16T08:43:44.049Z"
   },
   {
    "duration": 23,
    "start_time": "2023-03-16T08:43:44.925Z"
   },
   {
    "duration": 38,
    "start_time": "2023-03-16T08:43:44.951Z"
   },
   {
    "duration": 2,
    "start_time": "2023-03-16T08:43:44.991Z"
   },
   {
    "duration": 397,
    "start_time": "2023-03-16T08:43:44.994Z"
   },
   {
    "duration": 387,
    "start_time": "2023-03-16T08:43:45.392Z"
   },
   {
    "duration": 1976,
    "start_time": "2023-03-16T08:43:45.780Z"
   },
   {
    "duration": 5,
    "start_time": "2023-03-16T08:43:47.757Z"
   },
   {
    "duration": 86,
    "start_time": "2023-03-16T08:43:47.764Z"
   },
   {
    "duration": 9,
    "start_time": "2023-03-16T08:43:47.851Z"
   },
   {
    "duration": 8,
    "start_time": "2023-03-16T08:43:47.862Z"
   },
   {
    "duration": 7,
    "start_time": "2023-03-16T08:43:47.872Z"
   },
   {
    "duration": 10,
    "start_time": "2023-03-16T08:43:47.881Z"
   },
   {
    "duration": 54,
    "start_time": "2023-03-16T08:43:47.893Z"
   },
   {
    "duration": 32,
    "start_time": "2023-03-16T08:43:47.948Z"
   },
   {
    "duration": 4,
    "start_time": "2023-03-16T08:43:47.982Z"
   },
   {
    "duration": 7,
    "start_time": "2023-03-16T08:43:47.987Z"
   },
   {
    "duration": 5,
    "start_time": "2023-03-16T08:43:47.996Z"
   },
   {
    "duration": 6,
    "start_time": "2023-03-16T08:43:48.002Z"
   },
   {
    "duration": 17,
    "start_time": "2023-03-16T08:43:48.041Z"
   },
   {
    "duration": 14,
    "start_time": "2023-03-16T08:43:48.060Z"
   },
   {
    "duration": 83715,
    "start_time": "2023-03-16T08:43:48.075Z"
   },
   {
    "duration": 55019,
    "start_time": "2023-03-16T08:45:11.792Z"
   },
   {
    "duration": 3,
    "start_time": "2023-03-16T08:46:06.844Z"
   },
   {
    "duration": 4,
    "start_time": "2023-03-16T08:46:06.849Z"
   },
   {
    "duration": 1630,
    "start_time": "2023-03-16T08:46:06.855Z"
   },
   {
    "duration": 4,
    "start_time": "2023-03-16T08:46:08.486Z"
   },
   {
    "duration": 16,
    "start_time": "2023-03-16T08:46:08.491Z"
   },
   {
    "duration": 32,
    "start_time": "2023-03-16T08:46:08.509Z"
   },
   {
    "duration": 3427,
    "start_time": "2023-03-16T08:46:08.543Z"
   },
   {
    "duration": 111,
    "start_time": "2023-03-16T08:49:29.827Z"
   },
   {
    "duration": 1970,
    "start_time": "2023-03-16T08:58:13.183Z"
   },
   {
    "duration": 1389,
    "start_time": "2023-03-16T08:58:24.179Z"
   },
   {
    "duration": 1185,
    "start_time": "2023-03-16T08:59:28.171Z"
   },
   {
    "duration": 1342,
    "start_time": "2023-03-16T08:59:43.727Z"
   },
   {
    "duration": 783,
    "start_time": "2023-03-16T09:00:29.799Z"
   },
   {
    "duration": 942,
    "start_time": "2023-03-16T09:00:37.331Z"
   },
   {
    "duration": 639,
    "start_time": "2023-03-16T09:00:47.927Z"
   },
   {
    "duration": 2,
    "start_time": "2023-03-16T09:03:07.403Z"
   },
   {
    "duration": 4,
    "start_time": "2023-03-16T09:03:07.419Z"
   },
   {
    "duration": 5,
    "start_time": "2023-03-16T09:03:07.425Z"
   },
   {
    "duration": 13,
    "start_time": "2023-03-16T09:03:07.432Z"
   },
   {
    "duration": 17,
    "start_time": "2023-03-16T09:03:07.447Z"
   },
   {
    "duration": 15,
    "start_time": "2023-03-16T09:03:07.466Z"
   },
   {
    "duration": 19,
    "start_time": "2023-03-16T09:03:07.483Z"
   },
   {
    "duration": 74,
    "start_time": "2023-03-16T09:03:07.504Z"
   },
   {
    "duration": 4,
    "start_time": "2023-03-16T09:03:07.579Z"
   },
   {
    "duration": 14,
    "start_time": "2023-03-16T09:03:07.584Z"
   },
   {
    "duration": 9,
    "start_time": "2023-03-16T09:03:07.599Z"
   },
   {
    "duration": 344,
    "start_time": "2023-03-16T09:03:07.609Z"
   },
   {
    "duration": 5,
    "start_time": "2023-03-16T09:03:07.957Z"
   },
   {
    "duration": 14,
    "start_time": "2023-03-16T09:03:07.964Z"
   },
   {
    "duration": 114,
    "start_time": "2023-03-16T09:03:07.980Z"
   },
   {
    "duration": 1482,
    "start_time": "2023-03-16T09:03:08.096Z"
   },
   {
    "duration": 2,
    "start_time": "2023-03-16T09:03:09.580Z"
   },
   {
    "duration": 7,
    "start_time": "2023-03-16T09:03:09.642Z"
   },
   {
    "duration": 1918,
    "start_time": "2023-03-16T09:03:09.651Z"
   },
   {
    "duration": 4,
    "start_time": "2023-03-16T09:04:04.187Z"
   },
   {
    "duration": 160,
    "start_time": "2023-03-16T09:04:05.787Z"
   },
   {
    "duration": 4,
    "start_time": "2023-03-16T09:04:19.340Z"
   },
   {
    "duration": 1545,
    "start_time": "2023-03-16T09:04:21.112Z"
   },
   {
    "duration": 3,
    "start_time": "2023-03-16T09:04:24.891Z"
   },
   {
    "duration": 1764,
    "start_time": "2023-03-16T09:04:26.599Z"
   },
   {
    "duration": 3,
    "start_time": "2023-03-16T09:04:35.715Z"
   },
   {
    "duration": 1452,
    "start_time": "2023-03-16T09:04:37.249Z"
   },
   {
    "duration": 4,
    "start_time": "2023-03-16T09:05:12.627Z"
   },
   {
    "duration": 1065,
    "start_time": "2023-03-16T09:05:15.147Z"
   },
   {
    "duration": 82,
    "start_time": "2023-03-16T09:16:11.952Z"
   },
   {
    "duration": 3,
    "start_time": "2023-03-16T09:19:43.262Z"
   },
   {
    "duration": 5,
    "start_time": "2023-03-16T09:19:43.300Z"
   },
   {
    "duration": 8,
    "start_time": "2023-03-16T09:19:43.307Z"
   },
   {
    "duration": 31,
    "start_time": "2023-03-16T09:19:43.317Z"
   },
   {
    "duration": 28,
    "start_time": "2023-03-16T09:19:43.352Z"
   },
   {
    "duration": 11,
    "start_time": "2023-03-16T09:19:43.382Z"
   },
   {
    "duration": 14,
    "start_time": "2023-03-16T09:19:43.395Z"
   },
   {
    "duration": 72,
    "start_time": "2023-03-16T09:19:43.411Z"
   },
   {
    "duration": 3,
    "start_time": "2023-03-16T09:19:43.485Z"
   },
   {
    "duration": 12,
    "start_time": "2023-03-16T09:19:43.489Z"
   },
   {
    "duration": 16,
    "start_time": "2023-03-16T09:19:43.502Z"
   },
   {
    "duration": 264,
    "start_time": "2023-03-16T09:19:43.520Z"
   },
   {
    "duration": 3,
    "start_time": "2023-03-16T09:19:43.785Z"
   },
   {
    "duration": 13,
    "start_time": "2023-03-16T09:19:43.789Z"
   },
   {
    "duration": 89,
    "start_time": "2023-03-16T09:19:43.806Z"
   },
   {
    "duration": 1045,
    "start_time": "2023-03-16T09:19:43.897Z"
   },
   {
    "duration": 6,
    "start_time": "2023-03-16T09:19:44.944Z"
   },
   {
    "duration": 14,
    "start_time": "2023-03-16T09:19:44.952Z"
   },
   {
    "duration": 1104,
    "start_time": "2023-03-16T09:19:44.968Z"
   },
   {
    "duration": 3,
    "start_time": "2023-03-16T09:19:46.074Z"
   },
   {
    "duration": 18,
    "start_time": "2023-03-16T09:19:46.079Z"
   },
   {
    "duration": 475,
    "start_time": "2023-03-16T09:19:46.100Z"
   },
   {
    "duration": 71,
    "start_time": "2023-03-16T09:19:46.641Z"
   },
   {
    "duration": 0,
    "start_time": "2023-03-16T09:19:46.714Z"
   },
   {
    "duration": 0,
    "start_time": "2023-03-16T09:19:46.715Z"
   },
   {
    "duration": 0,
    "start_time": "2023-03-16T09:19:46.716Z"
   },
   {
    "duration": 0,
    "start_time": "2023-03-16T09:19:46.717Z"
   },
   {
    "duration": 0,
    "start_time": "2023-03-16T09:19:46.719Z"
   },
   {
    "duration": 0,
    "start_time": "2023-03-16T09:19:46.720Z"
   },
   {
    "duration": 0,
    "start_time": "2023-03-16T09:19:46.721Z"
   },
   {
    "duration": 0,
    "start_time": "2023-03-16T09:19:46.722Z"
   },
   {
    "duration": 0,
    "start_time": "2023-03-16T09:19:46.723Z"
   },
   {
    "duration": 0,
    "start_time": "2023-03-16T09:19:46.724Z"
   },
   {
    "duration": 0,
    "start_time": "2023-03-16T09:19:46.725Z"
   },
   {
    "duration": 0,
    "start_time": "2023-03-16T09:19:46.741Z"
   },
   {
    "duration": 0,
    "start_time": "2023-03-16T09:19:46.744Z"
   },
   {
    "duration": 0,
    "start_time": "2023-03-16T09:19:46.746Z"
   },
   {
    "duration": 0,
    "start_time": "2023-03-16T09:19:46.747Z"
   },
   {
    "duration": 0,
    "start_time": "2023-03-16T09:19:46.748Z"
   },
   {
    "duration": 0,
    "start_time": "2023-03-16T09:19:46.749Z"
   },
   {
    "duration": 0,
    "start_time": "2023-03-16T09:19:46.751Z"
   },
   {
    "duration": 0,
    "start_time": "2023-03-16T09:19:46.752Z"
   },
   {
    "duration": 0,
    "start_time": "2023-03-16T09:19:46.753Z"
   },
   {
    "duration": 0,
    "start_time": "2023-03-16T09:19:46.755Z"
   },
   {
    "duration": 0,
    "start_time": "2023-03-16T09:19:46.756Z"
   },
   {
    "duration": 0,
    "start_time": "2023-03-16T09:19:46.759Z"
   },
   {
    "duration": 0,
    "start_time": "2023-03-16T09:19:46.760Z"
   },
   {
    "duration": 0,
    "start_time": "2023-03-16T09:19:46.761Z"
   },
   {
    "duration": 0,
    "start_time": "2023-03-16T09:19:46.762Z"
   },
   {
    "duration": 0,
    "start_time": "2023-03-16T09:19:46.763Z"
   },
   {
    "duration": 0,
    "start_time": "2023-03-16T09:19:46.765Z"
   },
   {
    "duration": 0,
    "start_time": "2023-03-16T09:19:46.766Z"
   },
   {
    "duration": 0,
    "start_time": "2023-03-16T09:19:46.767Z"
   },
   {
    "duration": 0,
    "start_time": "2023-03-16T09:19:46.768Z"
   },
   {
    "duration": 0,
    "start_time": "2023-03-16T09:19:46.769Z"
   },
   {
    "duration": 0,
    "start_time": "2023-03-16T09:19:46.770Z"
   },
   {
    "duration": 152,
    "start_time": "2023-03-16T09:23:10.015Z"
   },
   {
    "duration": 62,
    "start_time": "2023-03-16T09:23:14.211Z"
   },
   {
    "duration": 7343,
    "start_time": "2023-03-16T09:23:17.288Z"
   },
   {
    "duration": 27,
    "start_time": "2023-03-16T09:23:26.495Z"
   },
   {
    "duration": 11976,
    "start_time": "2023-03-16T09:23:29.727Z"
   },
   {
    "duration": 8,
    "start_time": "2023-03-16T09:23:44.843Z"
   },
   {
    "duration": 2,
    "start_time": "2023-03-16T09:23:57.208Z"
   },
   {
    "duration": 6,
    "start_time": "2023-03-16T09:23:57.223Z"
   },
   {
    "duration": 6,
    "start_time": "2023-03-16T09:23:57.231Z"
   },
   {
    "duration": 23,
    "start_time": "2023-03-16T09:23:57.239Z"
   },
   {
    "duration": 7,
    "start_time": "2023-03-16T09:23:57.264Z"
   },
   {
    "duration": 9,
    "start_time": "2023-03-16T09:23:57.273Z"
   },
   {
    "duration": 17,
    "start_time": "2023-03-16T09:23:57.284Z"
   },
   {
    "duration": 65,
    "start_time": "2023-03-16T09:23:57.303Z"
   },
   {
    "duration": 3,
    "start_time": "2023-03-16T09:23:57.370Z"
   },
   {
    "duration": 7,
    "start_time": "2023-03-16T09:23:57.375Z"
   },
   {
    "duration": 8,
    "start_time": "2023-03-16T09:23:57.384Z"
   },
   {
    "duration": 225,
    "start_time": "2023-03-16T09:23:57.393Z"
   },
   {
    "duration": 3,
    "start_time": "2023-03-16T09:23:57.620Z"
   },
   {
    "duration": 13,
    "start_time": "2023-03-16T09:23:57.624Z"
   },
   {
    "duration": 88,
    "start_time": "2023-03-16T09:23:57.638Z"
   },
   {
    "duration": 940,
    "start_time": "2023-03-16T09:23:57.727Z"
   },
   {
    "duration": 2,
    "start_time": "2023-03-16T09:23:58.669Z"
   },
   {
    "duration": 70,
    "start_time": "2023-03-16T09:23:58.672Z"
   },
   {
    "duration": 1451,
    "start_time": "2023-03-16T09:23:58.745Z"
   },
   {
    "duration": 3,
    "start_time": "2023-03-16T09:24:00.197Z"
   },
   {
    "duration": 28,
    "start_time": "2023-03-16T09:24:00.201Z"
   },
   {
    "duration": 528,
    "start_time": "2023-03-16T09:24:00.231Z"
   },
   {
    "duration": 299,
    "start_time": "2023-03-16T09:24:00.761Z"
   },
   {
    "duration": 86,
    "start_time": "2023-03-16T09:24:01.063Z"
   },
   {
    "duration": 5778,
    "start_time": "2023-03-16T09:24:01.150Z"
   },
   {
    "duration": 23,
    "start_time": "2023-03-16T09:24:06.930Z"
   },
   {
    "duration": 9417,
    "start_time": "2023-03-16T09:24:06.955Z"
   },
   {
    "duration": 7,
    "start_time": "2023-03-16T09:24:16.374Z"
   },
   {
    "duration": 14,
    "start_time": "2023-03-16T09:24:16.384Z"
   },
   {
    "duration": 3,
    "start_time": "2023-03-16T09:24:16.400Z"
   },
   {
    "duration": 7843,
    "start_time": "2023-03-16T09:24:16.405Z"
   },
   {
    "duration": 2494,
    "start_time": "2023-03-16T09:24:24.249Z"
   },
   {
    "duration": 14701,
    "start_time": "2023-03-16T09:24:26.746Z"
   },
   {
    "duration": 3,
    "start_time": "2023-03-16T09:24:41.449Z"
   },
   {
    "duration": 30,
    "start_time": "2023-03-16T09:24:41.453Z"
   },
   {
    "duration": 57,
    "start_time": "2023-03-16T09:24:41.485Z"
   },
   {
    "duration": 17,
    "start_time": "2023-03-16T09:24:41.544Z"
   },
   {
    "duration": 5,
    "start_time": "2023-03-16T09:24:41.564Z"
   },
   {
    "duration": 5,
    "start_time": "2023-03-16T09:24:41.571Z"
   },
   {
    "duration": 4,
    "start_time": "2023-03-16T09:24:41.579Z"
   },
   {
    "duration": 6,
    "start_time": "2023-03-16T09:24:41.585Z"
   },
   {
    "duration": 49,
    "start_time": "2023-03-16T09:24:41.593Z"
   },
   {
    "duration": 18,
    "start_time": "2023-03-16T09:24:41.644Z"
   },
   {
    "duration": 13,
    "start_time": "2023-03-16T09:24:41.664Z"
   },
   {
    "duration": 7,
    "start_time": "2023-03-16T09:24:41.679Z"
   },
   {
    "duration": 13,
    "start_time": "2023-03-16T09:24:41.687Z"
   },
   {
    "duration": 42,
    "start_time": "2023-03-16T09:24:41.702Z"
   },
   {
    "duration": 551672,
    "start_time": "2023-03-16T09:24:41.747Z"
   },
   {
    "duration": 480171,
    "start_time": "2023-03-16T09:33:53.421Z"
   },
   {
    "duration": 5,
    "start_time": "2023-03-16T09:41:53.594Z"
   },
   {
    "duration": 16,
    "start_time": "2023-03-16T09:41:53.600Z"
   },
   {
    "duration": 14186,
    "start_time": "2023-03-16T09:41:53.617Z"
   },
   {
    "duration": 5,
    "start_time": "2023-03-16T09:42:07.805Z"
   },
   {
    "duration": 87,
    "start_time": "2023-03-16T09:42:07.811Z"
   },
   {
    "duration": 40,
    "start_time": "2023-03-16T09:42:07.900Z"
   },
   {
    "duration": 39478,
    "start_time": "2023-03-16T09:42:07.942Z"
   },
   {
    "duration": 4,
    "start_time": "2023-03-16T09:43:02.153Z"
   },
   {
    "duration": 10,
    "start_time": "2023-03-16T09:52:16.277Z"
   },
   {
    "duration": 4,
    "start_time": "2023-03-16T09:52:25.645Z"
   },
   {
    "duration": 4,
    "start_time": "2023-03-16T09:52:34.024Z"
   },
   {
    "duration": 144,
    "start_time": "2023-03-16T09:53:21.400Z"
   },
   {
    "duration": 72,
    "start_time": "2023-03-16T09:54:25.333Z"
   },
   {
    "duration": 2,
    "start_time": "2023-03-16T09:54:46.096Z"
   },
   {
    "duration": 3,
    "start_time": "2023-03-16T09:54:49.780Z"
   },
   {
    "duration": 4,
    "start_time": "2023-03-16T09:54:58.638Z"
   },
   {
    "duration": 4,
    "start_time": "2023-03-16T09:55:05.264Z"
   },
   {
    "duration": 4,
    "start_time": "2023-03-16T09:55:46.024Z"
   },
   {
    "duration": 5,
    "start_time": "2023-03-16T09:56:16.091Z"
   },
   {
    "duration": 5,
    "start_time": "2023-03-16T10:03:17.036Z"
   },
   {
    "duration": 4,
    "start_time": "2023-03-16T10:03:34.079Z"
   },
   {
    "duration": 3,
    "start_time": "2023-03-16T10:03:47.695Z"
   },
   {
    "duration": 4,
    "start_time": "2023-03-16T10:05:03.541Z"
   },
   {
    "duration": 5,
    "start_time": "2023-03-16T10:05:38.993Z"
   },
   {
    "duration": 3,
    "start_time": "2023-03-16T10:07:32.506Z"
   },
   {
    "duration": 21,
    "start_time": "2023-03-16T10:07:32.511Z"
   },
   {
    "duration": 33,
    "start_time": "2023-03-16T10:07:32.534Z"
   },
   {
    "duration": 21,
    "start_time": "2023-03-16T10:07:32.569Z"
   },
   {
    "duration": 34,
    "start_time": "2023-03-16T10:07:32.593Z"
   },
   {
    "duration": 18,
    "start_time": "2023-03-16T10:07:32.629Z"
   },
   {
    "duration": 13,
    "start_time": "2023-03-16T10:07:32.649Z"
   },
   {
    "duration": 74,
    "start_time": "2023-03-16T10:07:32.664Z"
   },
   {
    "duration": 3,
    "start_time": "2023-03-16T10:07:32.740Z"
   },
   {
    "duration": 6,
    "start_time": "2023-03-16T10:07:32.745Z"
   },
   {
    "duration": 8,
    "start_time": "2023-03-16T10:07:32.753Z"
   },
   {
    "duration": 198,
    "start_time": "2023-03-16T10:07:32.763Z"
   },
   {
    "duration": 3,
    "start_time": "2023-03-16T10:07:32.963Z"
   },
   {
    "duration": 12,
    "start_time": "2023-03-16T10:07:32.967Z"
   },
   {
    "duration": 69,
    "start_time": "2023-03-16T10:07:32.981Z"
   },
   {
    "duration": 528,
    "start_time": "2023-03-16T10:07:33.052Z"
   },
   {
    "duration": 2,
    "start_time": "2023-03-16T10:07:33.582Z"
   },
   {
    "duration": 8,
    "start_time": "2023-03-16T10:07:33.586Z"
   },
   {
    "duration": 875,
    "start_time": "2023-03-16T10:07:33.595Z"
   },
   {
    "duration": 2,
    "start_time": "2023-03-16T10:07:34.471Z"
   },
   {
    "duration": 15,
    "start_time": "2023-03-16T10:07:34.475Z"
   },
   {
    "duration": 149,
    "start_time": "2023-03-16T10:07:34.491Z"
   },
   {
    "duration": 114,
    "start_time": "2023-03-16T10:07:34.642Z"
   },
   {
    "duration": 90,
    "start_time": "2023-03-16T10:07:34.757Z"
   },
   {
    "duration": 3532,
    "start_time": "2023-03-16T10:07:34.849Z"
   },
   {
    "duration": 27,
    "start_time": "2023-03-16T10:07:38.383Z"
   },
   {
    "duration": 6189,
    "start_time": "2023-03-16T10:07:38.412Z"
   },
   {
    "duration": 6,
    "start_time": "2023-03-16T10:07:44.603Z"
   },
   {
    "duration": 16,
    "start_time": "2023-03-16T10:07:44.610Z"
   },
   {
    "duration": 6,
    "start_time": "2023-03-16T10:07:44.627Z"
   },
   {
    "duration": 8,
    "start_time": "2023-03-16T10:07:44.634Z"
   },
   {
    "duration": 5,
    "start_time": "2023-03-16T10:07:44.643Z"
   },
   {
    "duration": 6,
    "start_time": "2023-03-16T10:07:44.650Z"
   },
   {
    "duration": 6,
    "start_time": "2023-03-16T10:07:44.657Z"
   },
   {
    "duration": 5,
    "start_time": "2023-03-16T10:07:44.664Z"
   },
   {
    "duration": 2,
    "start_time": "2023-03-16T10:26:34.956Z"
   },
   {
    "duration": 11,
    "start_time": "2023-03-16T10:26:34.961Z"
   },
   {
    "duration": 19,
    "start_time": "2023-03-16T10:26:34.974Z"
   },
   {
    "duration": 6,
    "start_time": "2023-03-16T10:26:34.996Z"
   },
   {
    "duration": 22,
    "start_time": "2023-03-16T10:26:35.003Z"
   },
   {
    "duration": 7,
    "start_time": "2023-03-16T10:26:35.027Z"
   },
   {
    "duration": 16,
    "start_time": "2023-03-16T10:26:35.036Z"
   },
   {
    "duration": 62,
    "start_time": "2023-03-16T10:26:35.054Z"
   },
   {
    "duration": 4,
    "start_time": "2023-03-16T10:26:35.117Z"
   },
   {
    "duration": 8,
    "start_time": "2023-03-16T10:26:35.123Z"
   },
   {
    "duration": 12,
    "start_time": "2023-03-16T10:26:35.132Z"
   },
   {
    "duration": 235,
    "start_time": "2023-03-16T10:26:35.145Z"
   },
   {
    "duration": 3,
    "start_time": "2023-03-16T10:26:35.381Z"
   },
   {
    "duration": 14,
    "start_time": "2023-03-16T10:26:35.385Z"
   },
   {
    "duration": 82,
    "start_time": "2023-03-16T10:26:35.401Z"
   },
   {
    "duration": 595,
    "start_time": "2023-03-16T10:26:35.485Z"
   },
   {
    "duration": 2,
    "start_time": "2023-03-16T10:26:36.081Z"
   },
   {
    "duration": 7,
    "start_time": "2023-03-16T10:26:36.085Z"
   },
   {
    "duration": 863,
    "start_time": "2023-03-16T10:26:36.093Z"
   },
   {
    "duration": 2,
    "start_time": "2023-03-16T10:26:36.957Z"
   },
   {
    "duration": 11,
    "start_time": "2023-03-16T10:26:36.961Z"
   },
   {
    "duration": 174,
    "start_time": "2023-03-16T10:26:36.974Z"
   },
   {
    "duration": 190,
    "start_time": "2023-03-16T10:26:37.150Z"
   },
   {
    "duration": 23,
    "start_time": "2023-03-16T10:26:37.343Z"
   },
   {
    "duration": 0,
    "start_time": "2023-03-16T10:26:37.368Z"
   },
   {
    "duration": 0,
    "start_time": "2023-03-16T10:26:37.372Z"
   },
   {
    "duration": 0,
    "start_time": "2023-03-16T10:26:37.373Z"
   },
   {
    "duration": 0,
    "start_time": "2023-03-16T10:26:37.375Z"
   },
   {
    "duration": 4,
    "start_time": "2023-03-16T10:30:40.054Z"
   },
   {
    "duration": 19,
    "start_time": "2023-03-16T10:30:42.143Z"
   },
   {
    "duration": 3,
    "start_time": "2023-03-16T10:30:58.050Z"
   },
   {
    "duration": 18,
    "start_time": "2023-03-16T10:31:00.205Z"
   },
   {
    "duration": 3,
    "start_time": "2023-03-16T10:31:07.449Z"
   },
   {
    "duration": 1259,
    "start_time": "2023-03-16T10:31:08.985Z"
   },
   {
    "duration": 4,
    "start_time": "2023-03-16T10:31:52.753Z"
   },
   {
    "duration": 1151,
    "start_time": "2023-03-16T10:31:54.533Z"
   },
   {
    "duration": 4,
    "start_time": "2023-03-16T10:32:04.957Z"
   },
   {
    "duration": 1352,
    "start_time": "2023-03-16T10:32:06.988Z"
   },
   {
    "duration": 28,
    "start_time": "2023-03-16T10:58:33.662Z"
   },
   {
    "duration": 29,
    "start_time": "2023-03-16T10:59:02.128Z"
   },
   {
    "duration": 27,
    "start_time": "2023-03-16T11:00:57.296Z"
   },
   {
    "duration": 3,
    "start_time": "2023-03-16T11:07:11.562Z"
   },
   {
    "duration": 4,
    "start_time": "2023-03-16T11:07:11.576Z"
   },
   {
    "duration": 7,
    "start_time": "2023-03-16T11:07:11.582Z"
   },
   {
    "duration": 6,
    "start_time": "2023-03-16T11:07:11.591Z"
   },
   {
    "duration": 9,
    "start_time": "2023-03-16T11:07:11.599Z"
   },
   {
    "duration": 17,
    "start_time": "2023-03-16T11:07:11.609Z"
   },
   {
    "duration": 8,
    "start_time": "2023-03-16T11:07:11.627Z"
   },
   {
    "duration": 82,
    "start_time": "2023-03-16T11:07:11.636Z"
   },
   {
    "duration": 3,
    "start_time": "2023-03-16T11:07:11.719Z"
   },
   {
    "duration": 43,
    "start_time": "2023-03-16T11:07:11.724Z"
   },
   {
    "duration": 9,
    "start_time": "2023-03-16T11:07:11.769Z"
   },
   {
    "duration": 223,
    "start_time": "2023-03-16T11:07:11.780Z"
   },
   {
    "duration": 2,
    "start_time": "2023-03-16T11:07:12.005Z"
   },
   {
    "duration": 14,
    "start_time": "2023-03-16T11:07:12.009Z"
   },
   {
    "duration": 85,
    "start_time": "2023-03-16T11:07:12.024Z"
   },
   {
    "duration": 446,
    "start_time": "2023-03-16T11:07:12.110Z"
   },
   {
    "duration": 3,
    "start_time": "2023-03-16T11:07:12.558Z"
   },
   {
    "duration": 34,
    "start_time": "2023-03-16T11:07:12.565Z"
   },
   {
    "duration": 1135,
    "start_time": "2023-03-16T11:07:12.601Z"
   },
   {
    "duration": 465,
    "start_time": "2023-03-16T11:07:13.737Z"
   },
   {
    "duration": 3,
    "start_time": "2023-03-16T11:07:14.204Z"
   },
   {
    "duration": 215,
    "start_time": "2023-03-16T11:07:14.208Z"
   },
   {
    "duration": 113,
    "start_time": "2023-03-16T11:07:14.424Z"
   },
   {
    "duration": 27,
    "start_time": "2023-03-16T11:07:14.539Z"
   },
   {
    "duration": 3223,
    "start_time": "2023-03-16T11:07:14.568Z"
   },
   {
    "duration": 26,
    "start_time": "2023-03-16T11:07:17.792Z"
   },
   {
    "duration": 8288,
    "start_time": "2023-03-16T11:07:17.820Z"
   },
   {
    "duration": 6,
    "start_time": "2023-03-16T11:07:26.111Z"
   },
   {
    "duration": 12426,
    "start_time": "2023-03-16T11:07:26.119Z"
   },
   {
    "duration": 24,
    "start_time": "2023-03-16T11:07:38.550Z"
   },
   {
    "duration": 12566,
    "start_time": "2023-03-16T11:08:47.215Z"
   },
   {
    "duration": 12932,
    "start_time": "2023-03-16T11:09:23.322Z"
   },
   {
    "duration": 12784,
    "start_time": "2023-03-16T11:10:05.205Z"
   },
   {
    "duration": 11918,
    "start_time": "2023-03-16T11:10:22.865Z"
   },
   {
    "duration": 11838,
    "start_time": "2023-03-16T11:10:44.451Z"
   },
   {
    "duration": 11813,
    "start_time": "2023-03-16T11:11:13.385Z"
   },
   {
    "duration": 11742,
    "start_time": "2023-03-16T11:12:18.259Z"
   },
   {
    "duration": 11777,
    "start_time": "2023-03-16T11:12:41.562Z"
   },
   {
    "duration": 2,
    "start_time": "2023-03-16T11:15:16.625Z"
   },
   {
    "duration": 10,
    "start_time": "2023-03-16T11:15:16.639Z"
   },
   {
    "duration": 9,
    "start_time": "2023-03-16T11:15:16.666Z"
   },
   {
    "duration": 5,
    "start_time": "2023-03-16T11:15:16.676Z"
   },
   {
    "duration": 7,
    "start_time": "2023-03-16T11:15:16.683Z"
   },
   {
    "duration": 7,
    "start_time": "2023-03-16T11:15:16.691Z"
   },
   {
    "duration": 14,
    "start_time": "2023-03-16T11:15:16.699Z"
   },
   {
    "duration": 69,
    "start_time": "2023-03-16T11:15:16.714Z"
   },
   {
    "duration": 3,
    "start_time": "2023-03-16T11:15:16.785Z"
   },
   {
    "duration": 10,
    "start_time": "2023-03-16T11:15:16.789Z"
   },
   {
    "duration": 6,
    "start_time": "2023-03-16T11:15:16.802Z"
   },
   {
    "duration": 206,
    "start_time": "2023-03-16T11:15:16.809Z"
   },
   {
    "duration": 3,
    "start_time": "2023-03-16T11:15:17.016Z"
   },
   {
    "duration": 10,
    "start_time": "2023-03-16T11:15:17.020Z"
   },
   {
    "duration": 70,
    "start_time": "2023-03-16T11:15:17.031Z"
   },
   {
    "duration": 392,
    "start_time": "2023-03-16T11:15:17.103Z"
   },
   {
    "duration": 2,
    "start_time": "2023-03-16T11:15:17.496Z"
   },
   {
    "duration": 11,
    "start_time": "2023-03-16T11:15:17.500Z"
   },
   {
    "duration": 1056,
    "start_time": "2023-03-16T11:15:17.513Z"
   },
   {
    "duration": 3,
    "start_time": "2023-03-16T11:15:18.571Z"
   },
   {
    "duration": 10,
    "start_time": "2023-03-16T11:15:18.575Z"
   },
   {
    "duration": 440,
    "start_time": "2023-03-16T11:15:18.587Z"
   },
   {
    "duration": 180,
    "start_time": "2023-03-16T11:15:19.029Z"
   },
   {
    "duration": 109,
    "start_time": "2023-03-16T11:15:19.210Z"
   },
   {
    "duration": 35,
    "start_time": "2023-03-16T11:15:19.321Z"
   },
   {
    "duration": 3119,
    "start_time": "2023-03-16T11:15:19.365Z"
   },
   {
    "duration": 24,
    "start_time": "2023-03-16T11:15:22.486Z"
   },
   {
    "duration": 5305,
    "start_time": "2023-03-16T11:15:22.512Z"
   },
   {
    "duration": 10,
    "start_time": "2023-03-16T11:15:27.819Z"
   },
   {
    "duration": 11876,
    "start_time": "2023-03-16T11:15:27.830Z"
   },
   {
    "duration": 18,
    "start_time": "2023-03-16T11:15:39.708Z"
   },
   {
    "duration": 11843,
    "start_time": "2023-03-16T11:16:08.629Z"
   },
   {
    "duration": 12657,
    "start_time": "2023-03-16T11:16:28.737Z"
   },
   {
    "duration": 20,
    "start_time": "2023-03-16T11:16:46.600Z"
   },
   {
    "duration": 25,
    "start_time": "2023-03-16T11:16:56.491Z"
   },
   {
    "duration": 3,
    "start_time": "2023-03-16T11:17:09.284Z"
   },
   {
    "duration": 13,
    "start_time": "2023-03-16T11:17:09.290Z"
   },
   {
    "duration": 10,
    "start_time": "2023-03-16T11:17:09.305Z"
   },
   {
    "duration": 18,
    "start_time": "2023-03-16T11:17:09.317Z"
   },
   {
    "duration": 40,
    "start_time": "2023-03-16T11:17:09.337Z"
   },
   {
    "duration": 33,
    "start_time": "2023-03-16T11:17:09.379Z"
   },
   {
    "duration": 24,
    "start_time": "2023-03-16T11:17:09.414Z"
   },
   {
    "duration": 119,
    "start_time": "2023-03-16T11:17:09.440Z"
   },
   {
    "duration": 3,
    "start_time": "2023-03-16T11:17:09.561Z"
   },
   {
    "duration": 14,
    "start_time": "2023-03-16T11:17:09.578Z"
   },
   {
    "duration": 18,
    "start_time": "2023-03-16T11:17:09.594Z"
   },
   {
    "duration": 274,
    "start_time": "2023-03-16T11:17:09.614Z"
   },
   {
    "duration": 3,
    "start_time": "2023-03-16T11:17:09.890Z"
   },
   {
    "duration": 24,
    "start_time": "2023-03-16T11:17:09.894Z"
   },
   {
    "duration": 87,
    "start_time": "2023-03-16T11:17:09.919Z"
   },
   {
    "duration": 456,
    "start_time": "2023-03-16T11:17:10.009Z"
   },
   {
    "duration": 3,
    "start_time": "2023-03-16T11:17:10.467Z"
   },
   {
    "duration": 11,
    "start_time": "2023-03-16T11:17:10.471Z"
   },
   {
    "duration": 1071,
    "start_time": "2023-03-16T11:17:10.483Z"
   },
   {
    "duration": 4,
    "start_time": "2023-03-16T11:17:11.555Z"
   },
   {
    "duration": 5,
    "start_time": "2023-03-16T11:17:11.560Z"
   },
   {
    "duration": 425,
    "start_time": "2023-03-16T11:17:11.567Z"
   },
   {
    "duration": 187,
    "start_time": "2023-03-16T11:17:11.994Z"
   },
   {
    "duration": 118,
    "start_time": "2023-03-16T11:17:12.182Z"
   },
   {
    "duration": 43,
    "start_time": "2023-03-16T11:17:12.303Z"
   },
   {
    "duration": 3526,
    "start_time": "2023-03-16T11:17:12.348Z"
   },
   {
    "duration": 20,
    "start_time": "2023-03-16T11:17:15.876Z"
   },
   {
    "duration": 5580,
    "start_time": "2023-03-16T11:17:15.898Z"
   },
   {
    "duration": 7,
    "start_time": "2023-03-16T11:17:21.480Z"
   },
   {
    "duration": 12515,
    "start_time": "2023-03-16T11:17:21.489Z"
   },
   {
    "duration": 18,
    "start_time": "2023-03-16T11:17:34.005Z"
   },
   {
    "duration": 2,
    "start_time": "2023-03-16T11:53:17.213Z"
   },
   {
    "duration": 5,
    "start_time": "2023-03-16T11:53:17.225Z"
   },
   {
    "duration": 6,
    "start_time": "2023-03-16T11:53:17.232Z"
   },
   {
    "duration": 22,
    "start_time": "2023-03-16T11:53:17.240Z"
   },
   {
    "duration": 10,
    "start_time": "2023-03-16T11:53:17.263Z"
   },
   {
    "duration": 5,
    "start_time": "2023-03-16T11:53:17.274Z"
   },
   {
    "duration": 7,
    "start_time": "2023-03-16T11:53:17.281Z"
   },
   {
    "duration": 62,
    "start_time": "2023-03-16T11:53:17.290Z"
   },
   {
    "duration": 6,
    "start_time": "2023-03-16T11:53:17.353Z"
   },
   {
    "duration": 4,
    "start_time": "2023-03-16T11:53:17.360Z"
   },
   {
    "duration": 7,
    "start_time": "2023-03-16T11:53:17.366Z"
   },
   {
    "duration": 208,
    "start_time": "2023-03-16T11:53:17.374Z"
   },
   {
    "duration": 2,
    "start_time": "2023-03-16T11:53:17.584Z"
   },
   {
    "duration": 17,
    "start_time": "2023-03-16T11:53:17.587Z"
   },
   {
    "duration": 72,
    "start_time": "2023-03-16T11:53:17.606Z"
   },
   {
    "duration": 349,
    "start_time": "2023-03-16T11:53:17.680Z"
   },
   {
    "duration": 2,
    "start_time": "2023-03-16T11:53:18.030Z"
   },
   {
    "duration": 9,
    "start_time": "2023-03-16T11:53:18.045Z"
   },
   {
    "duration": 1075,
    "start_time": "2023-03-16T11:53:18.056Z"
   },
   {
    "duration": 2,
    "start_time": "2023-03-16T11:53:19.132Z"
   },
   {
    "duration": 28,
    "start_time": "2023-03-16T11:53:19.136Z"
   },
   {
    "duration": 387,
    "start_time": "2023-03-16T11:53:19.166Z"
   },
   {
    "duration": 195,
    "start_time": "2023-03-16T11:53:19.554Z"
   },
   {
    "duration": 103,
    "start_time": "2023-03-16T11:53:19.755Z"
   },
   {
    "duration": 19,
    "start_time": "2023-03-16T11:53:19.860Z"
   },
   {
    "duration": 2977,
    "start_time": "2023-03-16T11:53:19.881Z"
   },
   {
    "duration": 24,
    "start_time": "2023-03-16T11:53:22.860Z"
   },
   {
    "duration": 5103,
    "start_time": "2023-03-16T11:53:22.886Z"
   },
   {
    "duration": 6,
    "start_time": "2023-03-16T11:53:27.990Z"
   },
   {
    "duration": 11367,
    "start_time": "2023-03-16T11:53:27.997Z"
   },
   {
    "duration": 17,
    "start_time": "2023-03-16T11:53:39.365Z"
   },
   {
    "duration": 9,
    "start_time": "2023-03-16T11:53:39.384Z"
   },
   {
    "duration": 3,
    "start_time": "2023-03-16T11:53:39.394Z"
   },
   {
    "duration": 8,
    "start_time": "2023-03-16T11:53:39.398Z"
   },
   {
    "duration": 18,
    "start_time": "2023-03-16T11:53:39.407Z"
   },
   {
    "duration": 8,
    "start_time": "2023-03-16T11:53:39.445Z"
   },
   {
    "duration": 10,
    "start_time": "2023-03-16T11:53:39.454Z"
   },
   {
    "duration": 5,
    "start_time": "2023-03-16T11:53:39.465Z"
   },
   {
    "duration": 10915,
    "start_time": "2023-03-16T11:53:39.471Z"
   },
   {
    "duration": 3,
    "start_time": "2023-03-16T11:53:50.388Z"
   },
   {
    "duration": 10,
    "start_time": "2023-03-16T11:53:50.393Z"
   },
   {
    "duration": 5,
    "start_time": "2023-03-16T11:53:50.404Z"
   },
   {
    "duration": 8,
    "start_time": "2023-03-16T11:53:50.410Z"
   },
   {
    "duration": 6,
    "start_time": "2023-03-16T11:53:50.419Z"
   },
   {
    "duration": 17,
    "start_time": "2023-03-16T11:53:50.426Z"
   },
   {
    "duration": 17,
    "start_time": "2023-03-16T11:53:50.446Z"
   },
   {
    "duration": 4,
    "start_time": "2023-03-16T11:53:50.465Z"
   },
   {
    "duration": 5,
    "start_time": "2023-03-16T11:53:50.471Z"
   },
   {
    "duration": 14,
    "start_time": "2023-03-16T11:53:50.478Z"
   },
   {
    "duration": 29,
    "start_time": "2023-03-16T11:53:50.494Z"
   },
   {
    "duration": 29,
    "start_time": "2023-03-16T11:53:50.525Z"
   },
   {
    "duration": 12,
    "start_time": "2023-03-16T11:53:50.556Z"
   },
   {
    "duration": 9,
    "start_time": "2023-03-16T11:53:50.570Z"
   },
   {
    "duration": 223640,
    "start_time": "2023-03-16T11:53:50.581Z"
   },
   {
    "duration": 221584,
    "start_time": "2023-03-16T11:57:34.223Z"
   },
   {
    "duration": 4,
    "start_time": "2023-03-16T12:01:15.809Z"
   },
   {
    "duration": 55,
    "start_time": "2023-03-16T12:01:15.818Z"
   },
   {
    "duration": 16215,
    "start_time": "2023-03-16T12:01:15.876Z"
   },
   {
    "duration": 3,
    "start_time": "2023-03-16T12:01:32.093Z"
   },
   {
    "duration": 35,
    "start_time": "2023-03-16T12:01:32.098Z"
   },
   {
    "duration": 44,
    "start_time": "2023-03-16T12:01:32.134Z"
   },
   {
    "duration": 46882,
    "start_time": "2023-03-16T12:01:32.179Z"
   },
   {
    "duration": 3,
    "start_time": "2023-03-16T12:11:24.232Z"
   },
   {
    "duration": 51,
    "start_time": "2023-03-16T12:11:24.238Z"
   },
   {
    "duration": 22,
    "start_time": "2023-03-16T12:11:24.291Z"
   },
   {
    "duration": 17,
    "start_time": "2023-03-16T12:11:24.315Z"
   },
   {
    "duration": 42,
    "start_time": "2023-03-16T12:11:24.335Z"
   },
   {
    "duration": 31,
    "start_time": "2023-03-16T12:11:24.379Z"
   },
   {
    "duration": 28,
    "start_time": "2023-03-16T12:11:24.413Z"
   },
   {
    "duration": 117,
    "start_time": "2023-03-16T12:11:24.443Z"
   },
   {
    "duration": 4,
    "start_time": "2023-03-16T12:11:24.566Z"
   },
   {
    "duration": 11,
    "start_time": "2023-03-16T12:11:24.572Z"
   },
   {
    "duration": 15,
    "start_time": "2023-03-16T12:11:24.586Z"
   },
   {
    "duration": 231,
    "start_time": "2023-03-16T12:11:24.603Z"
   },
   {
    "duration": 4,
    "start_time": "2023-03-16T12:11:24.836Z"
   },
   {
    "duration": 34,
    "start_time": "2023-03-16T12:11:24.842Z"
   },
   {
    "duration": 98,
    "start_time": "2023-03-16T12:11:24.878Z"
   },
   {
    "duration": 525,
    "start_time": "2023-03-16T12:11:24.978Z"
   },
   {
    "duration": 3,
    "start_time": "2023-03-16T12:11:25.505Z"
   },
   {
    "duration": 28,
    "start_time": "2023-03-16T12:11:25.510Z"
   },
   {
    "duration": 1276,
    "start_time": "2023-03-16T12:11:25.541Z"
   },
   {
    "duration": 9,
    "start_time": "2023-03-16T12:11:26.822Z"
   },
   {
    "duration": 41,
    "start_time": "2023-03-16T12:11:26.833Z"
   },
   {
    "duration": 28,
    "start_time": "2023-03-16T12:11:26.877Z"
   },
   {
    "duration": 10,
    "start_time": "2023-03-16T12:11:26.909Z"
   },
   {
    "duration": 23,
    "start_time": "2023-03-16T12:11:26.920Z"
   },
   {
    "duration": 114,
    "start_time": "2023-03-16T12:11:26.953Z"
   },
   {
    "duration": 39,
    "start_time": "2023-03-16T12:11:27.069Z"
   },
   {
    "duration": 22,
    "start_time": "2023-03-16T12:11:27.111Z"
   },
   {
    "duration": 39,
    "start_time": "2023-03-16T12:11:27.135Z"
   },
   {
    "duration": 8,
    "start_time": "2023-03-16T12:11:27.180Z"
   },
   {
    "duration": 9,
    "start_time": "2023-03-16T12:11:27.190Z"
   },
   {
    "duration": 10,
    "start_time": "2023-03-16T12:11:27.201Z"
   },
   {
    "duration": 29,
    "start_time": "2023-03-16T12:11:27.213Z"
   },
   {
    "duration": 30,
    "start_time": "2023-03-16T12:11:27.247Z"
   },
   {
    "duration": 17,
    "start_time": "2023-03-16T12:11:27.279Z"
   },
   {
    "duration": 10,
    "start_time": "2023-03-16T12:11:27.298Z"
   },
   {
    "duration": 9,
    "start_time": "2023-03-16T12:11:27.310Z"
   },
   {
    "duration": 8,
    "start_time": "2023-03-16T12:11:27.321Z"
   },
   {
    "duration": 32,
    "start_time": "2023-03-16T12:11:27.330Z"
   },
   {
    "duration": 452,
    "start_time": "2023-03-16T12:11:27.363Z"
   },
   {
    "duration": 142,
    "start_time": "2023-03-16T12:11:27.817Z"
   },
   {
    "duration": 3,
    "start_time": "2023-03-16T12:11:27.961Z"
   },
   {
    "duration": 9,
    "start_time": "2023-03-16T12:11:27.966Z"
   },
   {
    "duration": 9,
    "start_time": "2023-03-16T12:11:27.976Z"
   },
   {
    "duration": 15,
    "start_time": "2023-03-16T12:11:27.987Z"
   },
   {
    "duration": 18,
    "start_time": "2023-03-16T12:11:28.003Z"
   },
   {
    "duration": 11,
    "start_time": "2023-03-16T12:11:28.023Z"
   },
   {
    "duration": 27,
    "start_time": "2023-03-16T12:11:28.035Z"
   },
   {
    "duration": 8,
    "start_time": "2023-03-16T12:11:28.063Z"
   },
   {
    "duration": 7,
    "start_time": "2023-03-16T12:11:28.075Z"
   },
   {
    "duration": 11,
    "start_time": "2023-03-16T12:11:28.084Z"
   },
   {
    "duration": 17,
    "start_time": "2023-03-16T12:11:28.097Z"
   },
   {
    "duration": 13,
    "start_time": "2023-03-16T12:11:28.116Z"
   },
   {
    "duration": 9,
    "start_time": "2023-03-16T12:11:28.132Z"
   },
   {
    "duration": 25737,
    "start_time": "2023-03-16T12:11:28.142Z"
   },
   {
    "duration": 22899,
    "start_time": "2023-03-16T12:11:53.881Z"
   },
   {
    "duration": 5,
    "start_time": "2023-03-16T12:12:16.782Z"
   },
   {
    "duration": 29,
    "start_time": "2023-03-16T12:12:16.789Z"
   },
   {
    "duration": 1143,
    "start_time": "2023-03-16T12:12:16.820Z"
   },
   {
    "duration": 3,
    "start_time": "2023-03-16T12:12:17.965Z"
   },
   {
    "duration": 15,
    "start_time": "2023-03-16T12:12:17.970Z"
   },
   {
    "duration": 7,
    "start_time": "2023-03-16T12:12:17.986Z"
   },
   {
    "duration": 2358,
    "start_time": "2023-03-16T12:12:17.994Z"
   },
   {
    "duration": 3,
    "start_time": "2023-03-16T12:13:28.373Z"
   },
   {
    "duration": 18,
    "start_time": "2023-03-16T12:13:28.383Z"
   },
   {
    "duration": 20,
    "start_time": "2023-03-16T12:13:28.404Z"
   },
   {
    "duration": 12,
    "start_time": "2023-03-16T12:13:28.426Z"
   },
   {
    "duration": 26,
    "start_time": "2023-03-16T12:13:28.440Z"
   },
   {
    "duration": 15,
    "start_time": "2023-03-16T12:13:28.468Z"
   },
   {
    "duration": 12,
    "start_time": "2023-03-16T12:13:28.485Z"
   },
   {
    "duration": 75,
    "start_time": "2023-03-16T12:13:28.498Z"
   },
   {
    "duration": 3,
    "start_time": "2023-03-16T12:13:28.575Z"
   },
   {
    "duration": 7,
    "start_time": "2023-03-16T12:13:28.580Z"
   },
   {
    "duration": 7,
    "start_time": "2023-03-16T12:13:28.589Z"
   },
   {
    "duration": 204,
    "start_time": "2023-03-16T12:13:28.598Z"
   },
   {
    "duration": 3,
    "start_time": "2023-03-16T12:13:28.803Z"
   },
   {
    "duration": 10,
    "start_time": "2023-03-16T12:13:28.807Z"
   },
   {
    "duration": 66,
    "start_time": "2023-03-16T12:13:28.819Z"
   },
   {
    "duration": 396,
    "start_time": "2023-03-16T12:13:28.887Z"
   },
   {
    "duration": 2,
    "start_time": "2023-03-16T12:13:29.286Z"
   },
   {
    "duration": 18,
    "start_time": "2023-03-16T12:13:29.290Z"
   },
   {
    "duration": 1107,
    "start_time": "2023-03-16T12:13:29.310Z"
   },
   {
    "duration": 8,
    "start_time": "2023-03-16T12:13:30.418Z"
   },
   {
    "duration": 55,
    "start_time": "2023-03-16T12:13:30.446Z"
   },
   {
    "duration": 90,
    "start_time": "2023-03-16T12:13:30.502Z"
   },
   {
    "duration": 62,
    "start_time": "2023-03-16T12:13:30.594Z"
   },
   {
    "duration": 47,
    "start_time": "2023-03-16T12:13:30.658Z"
   },
   {
    "duration": 73,
    "start_time": "2023-03-16T12:13:30.708Z"
   },
   {
    "duration": 37,
    "start_time": "2023-03-16T12:13:30.783Z"
   },
   {
    "duration": 45,
    "start_time": "2023-03-16T12:13:30.822Z"
   },
   {
    "duration": 43,
    "start_time": "2023-03-16T12:13:30.869Z"
   },
   {
    "duration": 45,
    "start_time": "2023-03-16T12:13:30.916Z"
   },
   {
    "duration": 47,
    "start_time": "2023-03-16T12:13:30.963Z"
   },
   {
    "duration": 54,
    "start_time": "2023-03-16T12:13:31.012Z"
   },
   {
    "duration": 35,
    "start_time": "2023-03-16T12:13:31.067Z"
   },
   {
    "duration": 51,
    "start_time": "2023-03-16T12:13:31.104Z"
   },
   {
    "duration": 46,
    "start_time": "2023-03-16T12:13:31.156Z"
   },
   {
    "duration": 87,
    "start_time": "2023-03-16T12:13:31.204Z"
   },
   {
    "duration": 47,
    "start_time": "2023-03-16T12:13:31.293Z"
   },
   {
    "duration": 455,
    "start_time": "2023-03-16T12:13:31.341Z"
   },
   {
    "duration": 278,
    "start_time": "2023-03-16T12:13:31.798Z"
   },
   {
    "duration": 391,
    "start_time": "2023-03-16T12:13:32.078Z"
   },
   {
    "duration": 3,
    "start_time": "2023-03-16T12:13:32.471Z"
   },
   {
    "duration": 13,
    "start_time": "2023-03-16T12:13:32.475Z"
   },
   {
    "duration": 20,
    "start_time": "2023-03-16T12:13:32.490Z"
   },
   {
    "duration": 8,
    "start_time": "2023-03-16T12:13:32.512Z"
   },
   {
    "duration": 12,
    "start_time": "2023-03-16T12:13:32.522Z"
   },
   {
    "duration": 54,
    "start_time": "2023-03-16T12:13:32.536Z"
   },
   {
    "duration": 18,
    "start_time": "2023-03-16T12:13:32.592Z"
   },
   {
    "duration": 35,
    "start_time": "2023-03-16T12:13:32.612Z"
   },
   {
    "duration": 46,
    "start_time": "2023-03-16T12:13:32.649Z"
   },
   {
    "duration": 16,
    "start_time": "2023-03-16T12:13:32.697Z"
   },
   {
    "duration": 49,
    "start_time": "2023-03-16T12:13:32.715Z"
   },
   {
    "duration": 67,
    "start_time": "2023-03-16T12:13:32.766Z"
   },
   {
    "duration": 34,
    "start_time": "2023-03-16T12:13:32.835Z"
   },
   {
    "duration": 27,
    "start_time": "2023-03-16T12:13:32.874Z"
   },
   {
    "duration": 27944,
    "start_time": "2023-03-16T12:13:32.903Z"
   },
   {
    "duration": 23817,
    "start_time": "2023-03-16T12:14:00.851Z"
   },
   {
    "duration": 4,
    "start_time": "2023-03-16T12:14:24.669Z"
   },
   {
    "duration": 10,
    "start_time": "2023-03-16T12:14:24.674Z"
   },
   {
    "duration": 1238,
    "start_time": "2023-03-16T12:14:24.685Z"
   },
   {
    "duration": 3,
    "start_time": "2023-03-16T12:14:25.925Z"
   },
   {
    "duration": 31,
    "start_time": "2023-03-16T12:14:25.930Z"
   },
   {
    "duration": 12,
    "start_time": "2023-03-16T12:14:25.964Z"
   },
   {
    "duration": 2328,
    "start_time": "2023-03-16T12:14:25.977Z"
   },
   {
    "duration": 3,
    "start_time": "2023-03-16T12:15:25.413Z"
   },
   {
    "duration": 9,
    "start_time": "2023-03-16T12:15:25.418Z"
   },
   {
    "duration": 9,
    "start_time": "2023-03-16T12:15:25.429Z"
   },
   {
    "duration": 46,
    "start_time": "2023-03-16T12:15:25.439Z"
   },
   {
    "duration": 14,
    "start_time": "2023-03-16T12:15:25.488Z"
   },
   {
    "duration": 8,
    "start_time": "2023-03-16T12:15:25.504Z"
   },
   {
    "duration": 13,
    "start_time": "2023-03-16T12:15:25.513Z"
   },
   {
    "duration": 99,
    "start_time": "2023-03-16T12:15:25.527Z"
   },
   {
    "duration": 3,
    "start_time": "2023-03-16T12:15:25.628Z"
   },
   {
    "duration": 50,
    "start_time": "2023-03-16T12:15:25.632Z"
   },
   {
    "duration": 13,
    "start_time": "2023-03-16T12:15:25.684Z"
   },
   {
    "duration": 215,
    "start_time": "2023-03-16T12:15:25.699Z"
   },
   {
    "duration": 3,
    "start_time": "2023-03-16T12:15:25.916Z"
   },
   {
    "duration": 8,
    "start_time": "2023-03-16T12:15:25.923Z"
   },
   {
    "duration": 89,
    "start_time": "2023-03-16T12:15:25.943Z"
   },
   {
    "duration": 463,
    "start_time": "2023-03-16T12:15:26.033Z"
   },
   {
    "duration": 5,
    "start_time": "2023-03-16T12:15:26.541Z"
   },
   {
    "duration": 49,
    "start_time": "2023-03-16T12:15:26.551Z"
   },
   {
    "duration": 1317,
    "start_time": "2023-03-16T12:15:26.603Z"
   },
   {
    "duration": 2,
    "start_time": "2023-03-16T12:15:27.922Z"
   },
   {
    "duration": 38,
    "start_time": "2023-03-16T12:15:27.926Z"
   },
   {
    "duration": 434,
    "start_time": "2023-03-16T12:15:27.965Z"
   },
   {
    "duration": 205,
    "start_time": "2023-03-16T12:15:28.401Z"
   },
   {
    "duration": 123,
    "start_time": "2023-03-16T12:15:28.608Z"
   },
   {
    "duration": 36,
    "start_time": "2023-03-16T12:15:28.732Z"
   },
   {
    "duration": 4861,
    "start_time": "2023-03-16T12:15:28.770Z"
   },
   {
    "duration": 43,
    "start_time": "2023-03-16T12:15:33.633Z"
   },
   {
    "duration": 7406,
    "start_time": "2023-03-16T12:15:33.679Z"
   },
   {
    "duration": 7,
    "start_time": "2023-03-16T12:15:41.087Z"
   },
   {
    "duration": 14878,
    "start_time": "2023-03-16T12:15:41.096Z"
   },
   {
    "duration": 16,
    "start_time": "2023-03-16T12:15:55.976Z"
   },
   {
    "duration": 8,
    "start_time": "2023-03-16T12:15:55.993Z"
   },
   {
    "duration": 2,
    "start_time": "2023-03-16T12:15:56.003Z"
   },
   {
    "duration": 5,
    "start_time": "2023-03-16T12:15:56.007Z"
   },
   {
    "duration": 8,
    "start_time": "2023-03-16T12:15:56.013Z"
   },
   {
    "duration": 4,
    "start_time": "2023-03-16T12:15:56.023Z"
   },
   {
    "duration": 6934,
    "start_time": "2023-03-16T12:15:56.029Z"
   },
   {
    "duration": 1645,
    "start_time": "2023-03-16T12:16:02.965Z"
   },
   {
    "duration": 10886,
    "start_time": "2023-03-16T12:16:04.611Z"
   },
   {
    "duration": 3,
    "start_time": "2023-03-16T12:16:15.499Z"
   },
   {
    "duration": 17,
    "start_time": "2023-03-16T12:16:15.507Z"
   },
   {
    "duration": 7,
    "start_time": "2023-03-16T12:16:15.526Z"
   },
   {
    "duration": 11,
    "start_time": "2023-03-16T12:16:15.535Z"
   },
   {
    "duration": 33,
    "start_time": "2023-03-16T12:16:15.548Z"
   },
   {
    "duration": 17,
    "start_time": "2023-03-16T12:16:15.582Z"
   },
   {
    "duration": 14,
    "start_time": "2023-03-16T12:16:15.600Z"
   },
   {
    "duration": 18,
    "start_time": "2023-03-16T12:16:15.616Z"
   },
   {
    "duration": 40,
    "start_time": "2023-03-16T12:16:15.636Z"
   },
   {
    "duration": 13,
    "start_time": "2023-03-16T12:16:15.678Z"
   },
   {
    "duration": 18,
    "start_time": "2023-03-16T12:16:15.693Z"
   },
   {
    "duration": 29,
    "start_time": "2023-03-16T12:16:15.712Z"
   },
   {
    "duration": 26,
    "start_time": "2023-03-16T12:16:15.748Z"
   },
   {
    "duration": 20,
    "start_time": "2023-03-16T12:16:15.776Z"
   },
   {
    "duration": 231283,
    "start_time": "2023-03-16T12:16:15.798Z"
   },
   {
    "duration": 232403,
    "start_time": "2023-03-16T12:20:07.083Z"
   },
   {
    "duration": 4,
    "start_time": "2023-03-16T12:23:59.488Z"
   },
   {
    "duration": 24,
    "start_time": "2023-03-16T12:23:59.495Z"
   },
   {
    "duration": 13266,
    "start_time": "2023-03-16T12:23:59.521Z"
   },
   {
    "duration": 4,
    "start_time": "2023-03-16T12:24:12.789Z"
   },
   {
    "duration": 28,
    "start_time": "2023-03-16T12:24:12.795Z"
   },
   {
    "duration": 10,
    "start_time": "2023-03-16T12:24:12.825Z"
   },
   {
    "duration": 40751,
    "start_time": "2023-03-16T12:24:12.837Z"
   },
   {
    "duration": 2,
    "start_time": "2023-03-16T12:25:10.126Z"
   },
   {
    "duration": 52,
    "start_time": "2023-03-16T12:25:10.132Z"
   },
   {
    "duration": 19,
    "start_time": "2023-03-16T12:25:10.186Z"
   },
   {
    "duration": 45,
    "start_time": "2023-03-16T12:25:10.207Z"
   },
   {
    "duration": 36,
    "start_time": "2023-03-16T12:25:10.255Z"
   },
   {
    "duration": 11,
    "start_time": "2023-03-16T12:25:10.292Z"
   },
   {
    "duration": 24,
    "start_time": "2023-03-16T12:25:10.305Z"
   },
   {
    "duration": 120,
    "start_time": "2023-03-16T12:25:10.330Z"
   },
   {
    "duration": 3,
    "start_time": "2023-03-16T12:25:10.452Z"
   },
   {
    "duration": 22,
    "start_time": "2023-03-16T12:25:10.457Z"
   },
   {
    "duration": 22,
    "start_time": "2023-03-16T12:25:10.481Z"
   },
   {
    "duration": 346,
    "start_time": "2023-03-16T12:25:10.504Z"
   },
   {
    "duration": 11,
    "start_time": "2023-03-16T12:25:10.852Z"
   },
   {
    "duration": 23,
    "start_time": "2023-03-16T12:25:10.864Z"
   },
   {
    "duration": 99,
    "start_time": "2023-03-16T12:25:10.889Z"
   },
   {
    "duration": 498,
    "start_time": "2023-03-16T12:25:10.990Z"
   },
   {
    "duration": 3,
    "start_time": "2023-03-16T12:25:11.489Z"
   },
   {
    "duration": 16,
    "start_time": "2023-03-16T12:25:11.493Z"
   },
   {
    "duration": 1773,
    "start_time": "2023-03-16T12:25:11.511Z"
   },
   {
    "duration": 65,
    "start_time": "2023-03-16T12:25:13.286Z"
   },
   {
    "duration": 30,
    "start_time": "2023-03-16T12:25:13.361Z"
   },
   {
    "duration": 910,
    "start_time": "2023-03-16T12:25:13.393Z"
   },
   {
    "duration": 203,
    "start_time": "2023-03-16T12:25:14.305Z"
   },
   {
    "duration": 116,
    "start_time": "2023-03-16T12:25:14.510Z"
   },
   {
    "duration": 37,
    "start_time": "2023-03-16T12:25:14.627Z"
   },
   {
    "duration": 3596,
    "start_time": "2023-03-16T12:25:14.668Z"
   },
   {
    "duration": 23,
    "start_time": "2023-03-16T12:25:18.266Z"
   },
   {
    "duration": 5999,
    "start_time": "2023-03-16T12:25:18.291Z"
   },
   {
    "duration": 6,
    "start_time": "2023-03-16T12:25:24.294Z"
   },
   {
    "duration": 13077,
    "start_time": "2023-03-16T12:25:24.302Z"
   },
   {
    "duration": 17,
    "start_time": "2023-03-16T12:25:37.380Z"
   },
   {
    "duration": 12,
    "start_time": "2023-03-16T12:25:37.398Z"
   },
   {
    "duration": 2,
    "start_time": "2023-03-16T12:25:37.412Z"
   },
   {
    "duration": 10,
    "start_time": "2023-03-16T12:25:37.416Z"
   },
   {
    "duration": 45,
    "start_time": "2023-03-16T12:25:37.427Z"
   },
   {
    "duration": 14,
    "start_time": "2023-03-16T12:25:37.474Z"
   },
   {
    "duration": 7361,
    "start_time": "2023-03-16T12:25:37.489Z"
   },
   {
    "duration": 1666,
    "start_time": "2023-03-16T12:25:44.851Z"
   },
   {
    "duration": 12272,
    "start_time": "2023-03-16T12:25:46.519Z"
   },
   {
    "duration": 2,
    "start_time": "2023-03-16T12:25:58.793Z"
   },
   {
    "duration": 16,
    "start_time": "2023-03-16T12:25:58.797Z"
   },
   {
    "duration": 15,
    "start_time": "2023-03-16T12:25:58.815Z"
   },
   {
    "duration": 40,
    "start_time": "2023-03-16T12:25:58.832Z"
   },
   {
    "duration": 9,
    "start_time": "2023-03-16T12:25:58.874Z"
   },
   {
    "duration": 9,
    "start_time": "2023-03-16T12:25:58.885Z"
   },
   {
    "duration": 10,
    "start_time": "2023-03-16T12:25:58.896Z"
   },
   {
    "duration": 6,
    "start_time": "2023-03-16T12:25:58.908Z"
   },
   {
    "duration": 7,
    "start_time": "2023-03-16T12:25:58.916Z"
   },
   {
    "duration": 9,
    "start_time": "2023-03-16T12:25:58.924Z"
   },
   {
    "duration": 46,
    "start_time": "2023-03-16T12:25:58.935Z"
   },
   {
    "duration": 10,
    "start_time": "2023-03-16T12:25:58.983Z"
   },
   {
    "duration": 7,
    "start_time": "2023-03-16T12:25:58.995Z"
   },
   {
    "duration": 8,
    "start_time": "2023-03-16T12:25:59.004Z"
   },
   {
    "duration": 234158,
    "start_time": "2023-03-16T12:25:59.014Z"
   },
   {
    "duration": 228831,
    "start_time": "2023-03-16T12:29:53.174Z"
   },
   {
    "duration": 3,
    "start_time": "2023-03-16T12:33:42.007Z"
   },
   {
    "duration": 25,
    "start_time": "2023-03-16T12:33:42.011Z"
   },
   {
    "duration": 15750,
    "start_time": "2023-03-16T12:33:42.038Z"
   },
   {
    "duration": 9,
    "start_time": "2023-03-16T12:33:57.839Z"
   },
   {
    "duration": 48,
    "start_time": "2023-03-16T12:33:57.849Z"
   },
   {
    "duration": 3,
    "start_time": "2023-03-16T12:33:57.899Z"
   },
   {
    "duration": 39681,
    "start_time": "2023-03-16T12:33:57.904Z"
   },
   {
    "duration": 3,
    "start_time": "2023-03-16T12:36:54.894Z"
   },
   {
    "duration": 19,
    "start_time": "2023-03-16T12:36:54.899Z"
   },
   {
    "duration": 14,
    "start_time": "2023-03-16T12:36:54.919Z"
   },
   {
    "duration": 42,
    "start_time": "2023-03-16T12:36:54.934Z"
   },
   {
    "duration": 37,
    "start_time": "2023-03-16T12:36:54.978Z"
   },
   {
    "duration": 14,
    "start_time": "2023-03-16T12:36:55.018Z"
   },
   {
    "duration": 52,
    "start_time": "2023-03-16T12:36:55.033Z"
   },
   {
    "duration": 68,
    "start_time": "2023-03-16T12:36:55.087Z"
   },
   {
    "duration": 13,
    "start_time": "2023-03-16T12:36:55.160Z"
   },
   {
    "duration": 11,
    "start_time": "2023-03-16T12:36:55.174Z"
   },
   {
    "duration": 12,
    "start_time": "2023-03-16T12:36:55.186Z"
   },
   {
    "duration": 262,
    "start_time": "2023-03-16T12:36:55.200Z"
   },
   {
    "duration": 6,
    "start_time": "2023-03-16T12:36:55.467Z"
   },
   {
    "duration": 12,
    "start_time": "2023-03-16T12:36:55.475Z"
   },
   {
    "duration": 105,
    "start_time": "2023-03-16T12:36:55.489Z"
   },
   {
    "duration": 462,
    "start_time": "2023-03-16T12:36:55.595Z"
   },
   {
    "duration": 2,
    "start_time": "2023-03-16T12:36:56.059Z"
   },
   {
    "duration": 19,
    "start_time": "2023-03-16T12:36:56.064Z"
   },
   {
    "duration": 1381,
    "start_time": "2023-03-16T12:36:56.085Z"
   },
   {
    "duration": 3,
    "start_time": "2023-03-16T12:36:57.468Z"
   },
   {
    "duration": 29,
    "start_time": "2023-03-16T12:36:57.472Z"
   },
   {
    "duration": 487,
    "start_time": "2023-03-16T12:36:57.503Z"
   },
   {
    "duration": 197,
    "start_time": "2023-03-16T12:36:57.992Z"
   },
   {
    "duration": 176,
    "start_time": "2023-03-16T12:36:58.191Z"
   },
   {
    "duration": 94,
    "start_time": "2023-03-16T12:36:58.375Z"
   },
   {
    "duration": 3744,
    "start_time": "2023-03-16T12:36:58.480Z"
   },
   {
    "duration": 42,
    "start_time": "2023-03-16T12:37:02.225Z"
   },
   {
    "duration": 7711,
    "start_time": "2023-03-16T12:37:02.269Z"
   },
   {
    "duration": 6,
    "start_time": "2023-03-16T12:37:09.982Z"
   },
   {
    "duration": 12745,
    "start_time": "2023-03-16T12:37:09.991Z"
   },
   {
    "duration": 31,
    "start_time": "2023-03-16T12:37:22.741Z"
   },
   {
    "duration": 30,
    "start_time": "2023-03-16T12:37:22.776Z"
   },
   {
    "duration": 8,
    "start_time": "2023-03-16T12:37:22.808Z"
   },
   {
    "duration": 20,
    "start_time": "2023-03-16T12:37:22.817Z"
   },
   {
    "duration": 35,
    "start_time": "2023-03-16T12:37:22.839Z"
   },
   {
    "duration": 11,
    "start_time": "2023-03-16T12:37:22.876Z"
   },
   {
    "duration": 5071,
    "start_time": "2023-03-16T12:37:22.890Z"
   },
   {
    "duration": 1632,
    "start_time": "2023-03-16T12:37:27.966Z"
   },
   {
    "duration": 10627,
    "start_time": "2023-03-16T12:37:29.599Z"
   },
   {
    "duration": 16,
    "start_time": "2023-03-16T12:37:40.228Z"
   },
   {
    "duration": 40,
    "start_time": "2023-03-16T12:37:40.247Z"
   },
   {
    "duration": 11,
    "start_time": "2023-03-16T12:37:40.290Z"
   },
   {
    "duration": 10,
    "start_time": "2023-03-16T12:37:40.302Z"
   },
   {
    "duration": 11,
    "start_time": "2023-03-16T12:37:40.313Z"
   },
   {
    "duration": 19,
    "start_time": "2023-03-16T12:37:40.325Z"
   },
   {
    "duration": 44,
    "start_time": "2023-03-16T12:37:40.345Z"
   },
   {
    "duration": 9,
    "start_time": "2023-03-16T12:37:40.391Z"
   },
   {
    "duration": 7,
    "start_time": "2023-03-16T12:37:40.402Z"
   },
   {
    "duration": 13,
    "start_time": "2023-03-16T12:37:40.410Z"
   },
   {
    "duration": 23,
    "start_time": "2023-03-16T12:37:40.425Z"
   },
   {
    "duration": 40,
    "start_time": "2023-03-16T12:37:40.451Z"
   },
   {
    "duration": 9,
    "start_time": "2023-03-16T12:37:40.493Z"
   },
   {
    "duration": 13,
    "start_time": "2023-03-16T12:37:40.504Z"
   },
   {
    "duration": 248460,
    "start_time": "2023-03-16T12:37:40.519Z"
   },
   {
    "duration": 249375,
    "start_time": "2023-03-16T12:41:48.980Z"
   },
   {
    "duration": 3,
    "start_time": "2023-03-16T12:45:58.357Z"
   },
   {
    "duration": 27,
    "start_time": "2023-03-16T12:45:58.362Z"
   },
   {
    "duration": 14291,
    "start_time": "2023-03-16T12:45:58.390Z"
   },
   {
    "duration": 4,
    "start_time": "2023-03-16T12:46:12.684Z"
   },
   {
    "duration": 42,
    "start_time": "2023-03-16T12:46:12.690Z"
   },
   {
    "duration": 58,
    "start_time": "2023-03-16T12:46:12.734Z"
   },
   {
    "duration": 39213,
    "start_time": "2023-03-16T12:46:12.794Z"
   },
   {
    "duration": 2,
    "start_time": "2023-03-16T12:46:56.314Z"
   },
   {
    "duration": 16,
    "start_time": "2023-03-16T12:46:56.320Z"
   },
   {
    "duration": 43,
    "start_time": "2023-03-16T12:46:56.338Z"
   },
   {
    "duration": 22,
    "start_time": "2023-03-16T12:46:56.383Z"
   },
   {
    "duration": 10,
    "start_time": "2023-03-16T12:46:56.407Z"
   },
   {
    "duration": 11,
    "start_time": "2023-03-16T12:46:56.420Z"
   },
   {
    "duration": 23,
    "start_time": "2023-03-16T12:46:56.433Z"
   },
   {
    "duration": 117,
    "start_time": "2023-03-16T12:46:56.457Z"
   },
   {
    "duration": 4,
    "start_time": "2023-03-16T12:46:56.577Z"
   },
   {
    "duration": 9,
    "start_time": "2023-03-16T12:46:56.582Z"
   },
   {
    "duration": 12,
    "start_time": "2023-03-16T12:46:56.593Z"
   },
   {
    "duration": 251,
    "start_time": "2023-03-16T12:46:56.607Z"
   },
   {
    "duration": 3,
    "start_time": "2023-03-16T12:46:56.862Z"
   },
   {
    "duration": 39,
    "start_time": "2023-03-16T12:46:56.868Z"
   },
   {
    "duration": 99,
    "start_time": "2023-03-16T12:46:56.911Z"
   },
   {
    "duration": 467,
    "start_time": "2023-03-16T12:46:57.011Z"
   },
   {
    "duration": 2,
    "start_time": "2023-03-16T12:46:57.481Z"
   },
   {
    "duration": 14,
    "start_time": "2023-03-16T12:46:57.485Z"
   },
   {
    "duration": 1371,
    "start_time": "2023-03-16T12:46:57.501Z"
   },
   {
    "duration": 2,
    "start_time": "2023-03-16T12:46:58.873Z"
   },
   {
    "duration": 13,
    "start_time": "2023-03-16T12:46:58.877Z"
   },
   {
    "duration": 461,
    "start_time": "2023-03-16T12:46:58.891Z"
   },
   {
    "duration": 149,
    "start_time": "2023-03-16T12:46:59.354Z"
   },
   {
    "duration": 122,
    "start_time": "2023-03-16T12:46:59.504Z"
   },
   {
    "duration": 40,
    "start_time": "2023-03-16T12:46:59.628Z"
   },
   {
    "duration": 4293,
    "start_time": "2023-03-16T12:46:59.670Z"
   },
   {
    "duration": 108,
    "start_time": "2023-03-16T12:47:03.964Z"
   },
   {
    "duration": 6606,
    "start_time": "2023-03-16T12:47:04.074Z"
   },
   {
    "duration": 14,
    "start_time": "2023-03-16T12:47:10.683Z"
   },
   {
    "duration": 12711,
    "start_time": "2023-03-16T12:47:10.698Z"
   },
   {
    "duration": 49,
    "start_time": "2023-03-16T12:47:23.410Z"
   },
   {
    "duration": 39,
    "start_time": "2023-03-16T12:47:23.461Z"
   },
   {
    "duration": 17,
    "start_time": "2023-03-16T12:47:23.502Z"
   },
   {
    "duration": 42,
    "start_time": "2023-03-16T12:47:23.520Z"
   },
   {
    "duration": 15,
    "start_time": "2023-03-16T12:47:23.565Z"
   },
   {
    "duration": 21,
    "start_time": "2023-03-16T12:47:23.581Z"
   },
   {
    "duration": 4776,
    "start_time": "2023-03-16T12:47:23.603Z"
   },
   {
    "duration": 1548,
    "start_time": "2023-03-16T12:47:28.380Z"
   },
   {
    "duration": 10641,
    "start_time": "2023-03-16T12:47:29.940Z"
   },
   {
    "duration": 3,
    "start_time": "2023-03-16T12:47:40.583Z"
   },
   {
    "duration": 15,
    "start_time": "2023-03-16T12:47:40.588Z"
   },
   {
    "duration": 34,
    "start_time": "2023-03-16T12:47:40.641Z"
   },
   {
    "duration": 25,
    "start_time": "2023-03-16T12:47:40.676Z"
   },
   {
    "duration": 11,
    "start_time": "2023-03-16T12:47:40.703Z"
   },
   {
    "duration": 8,
    "start_time": "2023-03-16T12:47:40.715Z"
   },
   {
    "duration": 5,
    "start_time": "2023-03-16T12:47:40.725Z"
   },
   {
    "duration": 38,
    "start_time": "2023-03-16T12:47:40.731Z"
   },
   {
    "duration": 12,
    "start_time": "2023-03-16T12:47:40.772Z"
   },
   {
    "duration": 16,
    "start_time": "2023-03-16T12:47:40.786Z"
   },
   {
    "duration": 9,
    "start_time": "2023-03-16T12:47:40.804Z"
   },
   {
    "duration": 21,
    "start_time": "2023-03-16T12:47:40.814Z"
   },
   {
    "duration": 35,
    "start_time": "2023-03-16T12:47:40.837Z"
   },
   {
    "duration": 10,
    "start_time": "2023-03-16T12:47:40.874Z"
   },
   {
    "duration": 373836,
    "start_time": "2023-03-16T12:47:40.886Z"
   },
   {
    "duration": 318138,
    "start_time": "2023-03-16T12:53:54.723Z"
   },
   {
    "duration": 3,
    "start_time": "2023-03-16T12:59:12.862Z"
   },
   {
    "duration": 25,
    "start_time": "2023-03-16T12:59:12.866Z"
   },
   {
    "duration": 12266,
    "start_time": "2023-03-16T12:59:12.892Z"
   },
   {
    "duration": 4,
    "start_time": "2023-03-16T12:59:25.160Z"
   },
   {
    "duration": 17,
    "start_time": "2023-03-16T12:59:25.165Z"
   },
   {
    "duration": 4,
    "start_time": "2023-03-16T12:59:25.183Z"
   },
   {
    "duration": 37502,
    "start_time": "2023-03-16T12:59:25.189Z"
   },
   {
    "duration": 3,
    "start_time": "2023-03-16T13:07:54.342Z"
   },
   {
    "duration": 3,
    "start_time": "2023-03-16T13:07:56.236Z"
   },
   {
    "duration": 3,
    "start_time": "2023-03-16T13:08:22.680Z"
   },
   {
    "duration": 2,
    "start_time": "2023-03-16T13:09:17.415Z"
   },
   {
    "duration": 179,
    "start_time": "2023-03-16T13:09:17.419Z"
   },
   {
    "duration": 148,
    "start_time": "2023-03-16T13:09:17.600Z"
   },
   {
    "duration": 192,
    "start_time": "2023-03-16T13:09:17.750Z"
   },
   {
    "duration": 236,
    "start_time": "2023-03-16T13:09:17.944Z"
   },
   {
    "duration": 148,
    "start_time": "2023-03-16T13:09:18.181Z"
   },
   {
    "duration": 189,
    "start_time": "2023-03-16T13:09:18.331Z"
   },
   {
    "duration": 240,
    "start_time": "2023-03-16T13:09:18.522Z"
   },
   {
    "duration": 102,
    "start_time": "2023-03-16T13:09:18.764Z"
   },
   {
    "duration": 106,
    "start_time": "2023-03-16T13:09:18.868Z"
   },
   {
    "duration": 137,
    "start_time": "2023-03-16T13:09:18.976Z"
   },
   {
    "duration": 480,
    "start_time": "2023-03-16T13:09:19.114Z"
   },
   {
    "duration": 3,
    "start_time": "2023-03-16T13:09:19.596Z"
   },
   {
    "duration": 214,
    "start_time": "2023-03-16T13:09:19.601Z"
   },
   {
    "duration": 230,
    "start_time": "2023-03-16T13:09:19.817Z"
   },
   {
    "duration": 599,
    "start_time": "2023-03-16T13:09:20.049Z"
   },
   {
    "duration": 2,
    "start_time": "2023-03-16T13:09:20.649Z"
   },
   {
    "duration": 163,
    "start_time": "2023-03-16T13:09:20.653Z"
   },
   {
    "duration": 1147,
    "start_time": "2023-03-16T13:09:20.818Z"
   },
   {
    "duration": 2,
    "start_time": "2023-03-16T13:09:21.967Z"
   },
   {
    "duration": 173,
    "start_time": "2023-03-16T13:09:21.970Z"
   },
   {
    "duration": 609,
    "start_time": "2023-03-16T13:09:22.144Z"
   },
   {
    "duration": 131,
    "start_time": "2023-03-16T13:09:22.754Z"
   },
   {
    "duration": 109,
    "start_time": "2023-03-16T13:09:22.886Z"
   },
   {
    "duration": 43,
    "start_time": "2023-03-16T13:09:22.997Z"
   },
   {
    "duration": 3325,
    "start_time": "2023-03-16T13:09:23.042Z"
   },
   {
    "duration": 24,
    "start_time": "2023-03-16T13:09:26.369Z"
   },
   {
    "duration": 5670,
    "start_time": "2023-03-16T13:09:26.394Z"
   },
   {
    "duration": 6,
    "start_time": "2023-03-16T13:09:32.068Z"
   },
   {
    "duration": 13502,
    "start_time": "2023-03-16T13:09:32.075Z"
   },
   {
    "duration": 17,
    "start_time": "2023-03-16T13:09:45.579Z"
   },
   {
    "duration": 1473,
    "start_time": "2023-03-16T13:09:45.598Z"
   },
   {
    "duration": 2009,
    "start_time": "2023-03-16T13:09:47.072Z"
   },
   {
    "duration": 2276,
    "start_time": "2023-03-16T13:09:49.083Z"
   },
   {
    "duration": 3897,
    "start_time": "2023-03-16T13:09:51.361Z"
   },
   {
    "duration": 11,
    "start_time": "2023-03-16T13:09:55.259Z"
   },
   {
    "duration": 5,
    "start_time": "2023-03-16T13:09:55.272Z"
   },
   {
    "duration": 4716,
    "start_time": "2023-03-16T13:09:55.279Z"
   },
   {
    "duration": 16405,
    "start_time": "2023-03-16T13:09:59.997Z"
   },
   {
    "duration": 2,
    "start_time": "2023-03-16T13:10:16.404Z"
   },
   {
    "duration": 1691,
    "start_time": "2023-03-16T13:10:16.407Z"
   },
   {
    "duration": 48,
    "start_time": "2023-03-16T13:10:18.100Z"
   },
   {
    "duration": 28,
    "start_time": "2023-03-16T13:10:18.150Z"
   },
   {
    "duration": 64,
    "start_time": "2023-03-16T13:10:18.180Z"
   },
   {
    "duration": 53,
    "start_time": "2023-03-16T13:10:18.246Z"
   },
   {
    "duration": 38,
    "start_time": "2023-03-16T13:10:18.300Z"
   },
   {
    "duration": 1706,
    "start_time": "2023-03-16T13:10:18.339Z"
   },
   {
    "duration": 2822,
    "start_time": "2023-03-16T13:10:20.046Z"
   },
   {
    "duration": 2177,
    "start_time": "2023-03-16T13:10:22.870Z"
   },
   {
    "duration": 1629,
    "start_time": "2023-03-16T13:10:25.049Z"
   },
   {
    "duration": 832,
    "start_time": "2023-03-16T13:10:26.680Z"
   },
   {
    "duration": 7,
    "start_time": "2023-03-16T13:10:27.513Z"
   },
   {
    "duration": 8,
    "start_time": "2023-03-16T13:10:27.521Z"
   },
   {
    "duration": 221780,
    "start_time": "2023-03-16T13:10:27.530Z"
   },
   {
    "duration": 211981,
    "start_time": "2023-03-16T13:14:09.312Z"
   },
   {
    "duration": 4,
    "start_time": "2023-03-16T13:17:41.295Z"
   },
   {
    "duration": 19,
    "start_time": "2023-03-16T13:17:41.300Z"
   },
   {
    "duration": 11528,
    "start_time": "2023-03-16T13:17:41.321Z"
   },
   {
    "duration": 4,
    "start_time": "2023-03-16T13:17:52.851Z"
   },
   {
    "duration": 23,
    "start_time": "2023-03-16T13:17:52.857Z"
   },
   {
    "duration": 4,
    "start_time": "2023-03-16T13:17:52.882Z"
   },
   {
    "duration": 34229,
    "start_time": "2023-03-16T13:17:52.887Z"
   },
   {
    "duration": 2,
    "start_time": "2023-03-16T13:20:39.031Z"
   },
   {
    "duration": 4,
    "start_time": "2023-03-16T13:20:39.037Z"
   },
   {
    "duration": 12,
    "start_time": "2023-03-16T13:20:39.043Z"
   },
   {
    "duration": 8,
    "start_time": "2023-03-16T13:20:39.056Z"
   },
   {
    "duration": 10,
    "start_time": "2023-03-16T13:20:39.066Z"
   },
   {
    "duration": 11,
    "start_time": "2023-03-16T13:20:39.078Z"
   },
   {
    "duration": 16,
    "start_time": "2023-03-16T13:20:39.090Z"
   },
   {
    "duration": 52,
    "start_time": "2023-03-16T13:20:39.108Z"
   },
   {
    "duration": 3,
    "start_time": "2023-03-16T13:20:39.162Z"
   },
   {
    "duration": 14,
    "start_time": "2023-03-16T13:20:39.166Z"
   },
   {
    "duration": 28,
    "start_time": "2023-03-16T13:20:39.182Z"
   },
   {
    "duration": 237,
    "start_time": "2023-03-16T13:20:39.211Z"
   },
   {
    "duration": 4,
    "start_time": "2023-03-16T13:20:39.450Z"
   },
   {
    "duration": 19,
    "start_time": "2023-03-16T13:20:39.456Z"
   },
   {
    "duration": 118,
    "start_time": "2023-03-16T13:20:39.476Z"
   },
   {
    "duration": 405,
    "start_time": "2023-03-16T13:20:39.597Z"
   },
   {
    "duration": 38,
    "start_time": "2023-03-16T13:20:40.003Z"
   },
   {
    "duration": 12,
    "start_time": "2023-03-16T13:20:40.043Z"
   },
   {
    "duration": 947,
    "start_time": "2023-03-16T13:20:40.056Z"
   },
   {
    "duration": 2,
    "start_time": "2023-03-16T13:20:41.005Z"
   },
   {
    "duration": 10,
    "start_time": "2023-03-16T13:20:41.009Z"
   },
   {
    "duration": 411,
    "start_time": "2023-03-16T13:20:41.020Z"
   },
   {
    "duration": 154,
    "start_time": "2023-03-16T13:20:41.432Z"
   },
   {
    "duration": 96,
    "start_time": "2023-03-16T13:20:41.588Z"
   },
   {
    "duration": 54,
    "start_time": "2023-03-16T13:20:41.686Z"
   },
   {
    "duration": 3153,
    "start_time": "2023-03-16T13:20:41.742Z"
   },
   {
    "duration": 22,
    "start_time": "2023-03-16T13:20:44.897Z"
   },
   {
    "duration": 5522,
    "start_time": "2023-03-16T13:20:44.920Z"
   },
   {
    "duration": 8,
    "start_time": "2023-03-16T13:20:50.443Z"
   },
   {
    "duration": 10955,
    "start_time": "2023-03-16T13:20:50.452Z"
   },
   {
    "duration": 38,
    "start_time": "2023-03-16T13:21:01.409Z"
   },
   {
    "duration": 51,
    "start_time": "2023-03-16T13:21:01.449Z"
   },
   {
    "duration": 27,
    "start_time": "2023-03-16T13:21:01.502Z"
   },
   {
    "duration": 4736,
    "start_time": "2023-03-16T13:21:01.530Z"
   },
   {
    "duration": 1423,
    "start_time": "2023-03-16T13:21:06.267Z"
   },
   {
    "duration": 4,
    "start_time": "2023-03-16T13:21:07.691Z"
   },
   {
    "duration": 12,
    "start_time": "2023-03-16T13:21:07.696Z"
   },
   {
    "duration": 11,
    "start_time": "2023-03-16T13:21:07.709Z"
   },
   {
    "duration": 3,
    "start_time": "2023-03-16T13:24:12.233Z"
   },
   {
    "duration": 7,
    "start_time": "2023-03-16T13:24:12.240Z"
   },
   {
    "duration": 7,
    "start_time": "2023-03-16T13:24:12.249Z"
   },
   {
    "duration": 32,
    "start_time": "2023-03-16T13:24:12.258Z"
   },
   {
    "duration": 9,
    "start_time": "2023-03-16T13:24:12.292Z"
   },
   {
    "duration": 8,
    "start_time": "2023-03-16T13:24:12.303Z"
   },
   {
    "duration": 9,
    "start_time": "2023-03-16T13:24:12.312Z"
   },
   {
    "duration": 66,
    "start_time": "2023-03-16T13:24:12.322Z"
   },
   {
    "duration": 3,
    "start_time": "2023-03-16T13:24:12.390Z"
   },
   {
    "duration": 17,
    "start_time": "2023-03-16T13:24:12.394Z"
   },
   {
    "duration": 15,
    "start_time": "2023-03-16T13:24:12.413Z"
   },
   {
    "duration": 188,
    "start_time": "2023-03-16T13:24:12.431Z"
   },
   {
    "duration": 3,
    "start_time": "2023-03-16T13:24:12.622Z"
   },
   {
    "duration": 13,
    "start_time": "2023-03-16T13:24:12.627Z"
   },
   {
    "duration": 101,
    "start_time": "2023-03-16T13:24:12.641Z"
   },
   {
    "duration": 445,
    "start_time": "2023-03-16T13:24:12.743Z"
   },
   {
    "duration": 2,
    "start_time": "2023-03-16T13:24:13.190Z"
   },
   {
    "duration": 11,
    "start_time": "2023-03-16T13:24:13.194Z"
   },
   {
    "duration": 956,
    "start_time": "2023-03-16T13:24:13.207Z"
   },
   {
    "duration": 2,
    "start_time": "2023-03-16T13:24:14.165Z"
   },
   {
    "duration": 18,
    "start_time": "2023-03-16T13:24:14.169Z"
   },
   {
    "duration": 346,
    "start_time": "2023-03-16T13:24:14.188Z"
   },
   {
    "duration": 151,
    "start_time": "2023-03-16T13:24:14.539Z"
   },
   {
    "duration": 96,
    "start_time": "2023-03-16T13:24:14.691Z"
   },
   {
    "duration": 54,
    "start_time": "2023-03-16T13:24:14.789Z"
   },
   {
    "duration": 2757,
    "start_time": "2023-03-16T13:24:14.845Z"
   },
   {
    "duration": 18,
    "start_time": "2023-03-16T13:24:17.603Z"
   },
   {
    "duration": 4663,
    "start_time": "2023-03-16T13:24:17.622Z"
   },
   {
    "duration": 6,
    "start_time": "2023-03-16T13:24:22.286Z"
   },
   {
    "duration": 10578,
    "start_time": "2023-03-16T13:24:22.296Z"
   },
   {
    "duration": 15,
    "start_time": "2023-03-16T13:24:32.875Z"
   },
   {
    "duration": 15,
    "start_time": "2023-03-16T13:24:32.892Z"
   },
   {
    "duration": 4,
    "start_time": "2023-03-16T13:24:32.909Z"
   },
   {
    "duration": 26,
    "start_time": "2023-03-16T13:24:32.915Z"
   },
   {
    "duration": 7,
    "start_time": "2023-03-16T13:24:32.942Z"
   },
   {
    "duration": 11,
    "start_time": "2023-03-16T13:24:32.950Z"
   },
   {
    "duration": 5,
    "start_time": "2023-03-16T13:24:32.963Z"
   },
   {
    "duration": 9,
    "start_time": "2023-03-16T13:24:32.970Z"
   },
   {
    "duration": 8491,
    "start_time": "2023-03-16T13:24:32.981Z"
   },
   {
    "duration": 2,
    "start_time": "2023-03-16T13:24:41.474Z"
   },
   {
    "duration": 13,
    "start_time": "2023-03-16T13:24:41.478Z"
   },
   {
    "duration": 19,
    "start_time": "2023-03-16T13:24:41.493Z"
   },
   {
    "duration": 7,
    "start_time": "2023-03-16T13:24:41.513Z"
   },
   {
    "duration": 10,
    "start_time": "2023-03-16T13:24:41.522Z"
   },
   {
    "duration": 14,
    "start_time": "2023-03-16T13:24:41.533Z"
   },
   {
    "duration": 11,
    "start_time": "2023-03-16T13:24:41.548Z"
   },
   {
    "duration": 11,
    "start_time": "2023-03-16T13:24:41.560Z"
   },
   {
    "duration": 17,
    "start_time": "2023-03-16T13:24:41.573Z"
   },
   {
    "duration": 8,
    "start_time": "2023-03-16T13:24:41.592Z"
   },
   {
    "duration": 13,
    "start_time": "2023-03-16T13:24:41.601Z"
   },
   {
    "duration": 16,
    "start_time": "2023-03-16T13:24:41.616Z"
   },
   {
    "duration": 12,
    "start_time": "2023-03-16T13:24:41.634Z"
   },
   {
    "duration": 14,
    "start_time": "2023-03-16T13:24:41.647Z"
   },
   {
    "duration": 236511,
    "start_time": "2023-03-16T13:24:41.662Z"
   },
   {
    "duration": 245205,
    "start_time": "2023-03-16T13:28:38.175Z"
   },
   {
    "duration": 3,
    "start_time": "2023-03-16T13:32:43.382Z"
   },
   {
    "duration": 23,
    "start_time": "2023-03-16T13:32:43.386Z"
   },
   {
    "duration": 12285,
    "start_time": "2023-03-16T13:32:43.411Z"
   },
   {
    "duration": 5,
    "start_time": "2023-03-16T13:32:55.698Z"
   },
   {
    "duration": 16,
    "start_time": "2023-03-16T13:32:55.705Z"
   },
   {
    "duration": 17,
    "start_time": "2023-03-16T13:32:55.722Z"
   },
   {
    "duration": 39330,
    "start_time": "2023-03-16T13:32:55.743Z"
   },
   {
    "duration": 2,
    "start_time": "2023-03-16T13:48:48.749Z"
   },
   {
    "duration": 4,
    "start_time": "2023-03-16T13:48:48.763Z"
   },
   {
    "duration": 15,
    "start_time": "2023-03-16T13:48:48.770Z"
   },
   {
    "duration": 74,
    "start_time": "2023-03-16T13:48:48.787Z"
   },
   {
    "duration": 0,
    "start_time": "2023-03-16T13:48:48.862Z"
   },
   {
    "duration": 0,
    "start_time": "2023-03-16T13:48:48.864Z"
   },
   {
    "duration": 0,
    "start_time": "2023-03-16T13:48:48.865Z"
   },
   {
    "duration": 0,
    "start_time": "2023-03-16T13:48:48.866Z"
   },
   {
    "duration": 0,
    "start_time": "2023-03-16T13:48:48.867Z"
   },
   {
    "duration": 0,
    "start_time": "2023-03-16T13:48:48.868Z"
   },
   {
    "duration": 0,
    "start_time": "2023-03-16T13:48:48.869Z"
   },
   {
    "duration": 0,
    "start_time": "2023-03-16T13:48:48.870Z"
   },
   {
    "duration": 0,
    "start_time": "2023-03-16T13:48:48.871Z"
   },
   {
    "duration": 0,
    "start_time": "2023-03-16T13:48:48.872Z"
   },
   {
    "duration": 0,
    "start_time": "2023-03-16T13:48:48.873Z"
   },
   {
    "duration": 0,
    "start_time": "2023-03-16T13:48:48.874Z"
   },
   {
    "duration": 0,
    "start_time": "2023-03-16T13:48:48.875Z"
   },
   {
    "duration": 87,
    "start_time": "2023-03-16T13:49:23.474Z"
   },
   {
    "duration": 3,
    "start_time": "2023-03-16T13:49:29.087Z"
   },
   {
    "duration": 5,
    "start_time": "2023-03-16T13:49:29.095Z"
   },
   {
    "duration": 6,
    "start_time": "2023-03-16T13:49:29.102Z"
   },
   {
    "duration": 125,
    "start_time": "2023-03-16T13:49:29.110Z"
   },
   {
    "duration": 0,
    "start_time": "2023-03-16T13:49:29.237Z"
   },
   {
    "duration": 0,
    "start_time": "2023-03-16T13:49:29.238Z"
   },
   {
    "duration": 0,
    "start_time": "2023-03-16T13:49:29.240Z"
   },
   {
    "duration": 0,
    "start_time": "2023-03-16T13:49:29.241Z"
   },
   {
    "duration": 0,
    "start_time": "2023-03-16T13:49:29.242Z"
   },
   {
    "duration": 0,
    "start_time": "2023-03-16T13:49:29.243Z"
   },
   {
    "duration": 0,
    "start_time": "2023-03-16T13:49:29.245Z"
   },
   {
    "duration": 0,
    "start_time": "2023-03-16T13:49:29.246Z"
   },
   {
    "duration": 0,
    "start_time": "2023-03-16T13:49:29.247Z"
   },
   {
    "duration": 0,
    "start_time": "2023-03-16T13:49:29.248Z"
   },
   {
    "duration": 0,
    "start_time": "2023-03-16T13:49:29.250Z"
   },
   {
    "duration": 0,
    "start_time": "2023-03-16T13:49:29.251Z"
   },
   {
    "duration": 0,
    "start_time": "2023-03-16T13:49:29.252Z"
   },
   {
    "duration": 2,
    "start_time": "2023-03-16T13:49:55.675Z"
   },
   {
    "duration": 5,
    "start_time": "2023-03-16T13:49:55.684Z"
   },
   {
    "duration": 8,
    "start_time": "2023-03-16T13:49:55.691Z"
   },
   {
    "duration": 11,
    "start_time": "2023-03-16T13:49:55.701Z"
   },
   {
    "duration": 9,
    "start_time": "2023-03-16T13:49:55.714Z"
   },
   {
    "duration": 7,
    "start_time": "2023-03-16T13:49:55.724Z"
   },
   {
    "duration": 7,
    "start_time": "2023-03-16T13:49:55.733Z"
   },
   {
    "duration": 60,
    "start_time": "2023-03-16T13:49:55.742Z"
   },
   {
    "duration": 6,
    "start_time": "2023-03-16T13:49:55.803Z"
   },
   {
    "duration": 12,
    "start_time": "2023-03-16T13:49:55.811Z"
   },
   {
    "duration": 9,
    "start_time": "2023-03-16T13:49:55.825Z"
   },
   {
    "duration": 201,
    "start_time": "2023-03-16T13:49:55.840Z"
   },
   {
    "duration": 526,
    "start_time": "2023-03-16T13:49:56.043Z"
   },
   {
    "duration": 0,
    "start_time": "2023-03-16T13:49:56.572Z"
   },
   {
    "duration": 0,
    "start_time": "2023-03-16T13:49:56.573Z"
   },
   {
    "duration": 0,
    "start_time": "2023-03-16T13:49:56.575Z"
   },
   {
    "duration": 0,
    "start_time": "2023-03-16T13:49:56.577Z"
   },
   {
    "duration": 2,
    "start_time": "2023-03-16T13:50:59.927Z"
   },
   {
    "duration": 7,
    "start_time": "2023-03-16T13:50:59.935Z"
   },
   {
    "duration": 6,
    "start_time": "2023-03-16T13:50:59.944Z"
   },
   {
    "duration": 7,
    "start_time": "2023-03-16T13:50:59.951Z"
   },
   {
    "duration": 10,
    "start_time": "2023-03-16T13:50:59.959Z"
   },
   {
    "duration": 15,
    "start_time": "2023-03-16T13:50:59.971Z"
   },
   {
    "duration": 9,
    "start_time": "2023-03-16T13:50:59.987Z"
   },
   {
    "duration": 84,
    "start_time": "2023-03-16T13:50:59.998Z"
   },
   {
    "duration": 3,
    "start_time": "2023-03-16T13:51:00.083Z"
   },
   {
    "duration": 19,
    "start_time": "2023-03-16T13:51:00.088Z"
   },
   {
    "duration": 21,
    "start_time": "2023-03-16T13:51:00.108Z"
   },
   {
    "duration": 203,
    "start_time": "2023-03-16T13:51:00.131Z"
   },
   {
    "duration": 192,
    "start_time": "2023-03-16T13:51:00.336Z"
   },
   {
    "duration": 2,
    "start_time": "2023-03-16T13:51:00.530Z"
   },
   {
    "duration": 71,
    "start_time": "2023-03-16T13:51:00.533Z"
   },
   {
    "duration": 100,
    "start_time": "2023-03-16T13:51:00.605Z"
   },
   {
    "duration": 402,
    "start_time": "2023-03-16T13:51:00.707Z"
   },
   {
    "duration": 3,
    "start_time": "2023-03-16T13:54:31.552Z"
   },
   {
    "duration": 26,
    "start_time": "2023-03-16T13:54:31.557Z"
   },
   {
    "duration": 36,
    "start_time": "2023-03-16T13:54:31.586Z"
   },
   {
    "duration": 29,
    "start_time": "2023-03-16T13:54:31.625Z"
   },
   {
    "duration": 17,
    "start_time": "2023-03-16T13:54:31.657Z"
   },
   {
    "duration": 23,
    "start_time": "2023-03-16T13:54:31.676Z"
   },
   {
    "duration": 16,
    "start_time": "2023-03-16T13:54:31.701Z"
   },
   {
    "duration": 121,
    "start_time": "2023-03-16T13:54:31.718Z"
   },
   {
    "duration": 3,
    "start_time": "2023-03-16T13:54:31.841Z"
   },
   {
    "duration": 30,
    "start_time": "2023-03-16T13:54:31.846Z"
   },
   {
    "duration": 25,
    "start_time": "2023-03-16T13:54:31.879Z"
   },
   {
    "duration": 178,
    "start_time": "2023-03-16T13:54:31.906Z"
   },
   {
    "duration": 171,
    "start_time": "2023-03-16T13:54:32.085Z"
   },
   {
    "duration": 3,
    "start_time": "2023-03-16T13:54:32.258Z"
   },
   {
    "duration": 18,
    "start_time": "2023-03-16T13:54:32.263Z"
   },
   {
    "duration": 58,
    "start_time": "2023-03-16T13:54:32.283Z"
   },
   {
    "duration": 408,
    "start_time": "2023-03-16T13:54:32.343Z"
   },
   {
    "duration": 71,
    "start_time": "2023-03-16T14:02:15.538Z"
   },
   {
    "duration": 3,
    "start_time": "2023-03-16T14:25:51.336Z"
   },
   {
    "duration": 1168,
    "start_time": "2023-03-16T14:25:51.341Z"
   },
   {
    "duration": 3,
    "start_time": "2023-03-16T14:25:52.511Z"
   },
   {
    "duration": 20,
    "start_time": "2023-03-16T14:25:52.516Z"
   },
   {
    "duration": 15,
    "start_time": "2023-03-16T14:25:52.539Z"
   },
   {
    "duration": 10,
    "start_time": "2023-03-16T14:25:52.555Z"
   },
   {
    "duration": 21,
    "start_time": "2023-03-16T14:25:52.567Z"
   },
   {
    "duration": 389,
    "start_time": "2023-03-16T14:25:52.590Z"
   },
   {
    "duration": 2,
    "start_time": "2023-03-16T14:25:52.981Z"
   },
   {
    "duration": 6,
    "start_time": "2023-03-16T14:25:52.985Z"
   },
   {
    "duration": 14157,
    "start_time": "2023-03-16T14:25:52.993Z"
   },
   {
    "duration": 7922,
    "start_time": "2023-03-16T14:26:07.152Z"
   },
   {
    "duration": 3,
    "start_time": "2023-03-16T14:26:15.075Z"
   },
   {
    "duration": 74,
    "start_time": "2023-03-16T14:26:15.079Z"
   },
   {
    "duration": 686,
    "start_time": "2023-03-16T14:26:15.154Z"
   },
   {
    "duration": 3652,
    "start_time": "2023-03-16T14:26:15.842Z"
   },
   {
    "duration": 46,
    "start_time": "2023-03-16T14:26:19.495Z"
   },
   {
    "duration": 14,
    "start_time": "2023-03-16T14:26:19.542Z"
   },
   {
    "duration": 4096,
    "start_time": "2023-03-16T14:26:19.557Z"
   },
   {
    "duration": 3,
    "start_time": "2023-03-16T14:26:23.654Z"
   },
   {
    "duration": 45,
    "start_time": "2023-03-16T14:26:23.658Z"
   },
   {
    "duration": 2024,
    "start_time": "2023-03-16T14:26:23.740Z"
   },
   {
    "duration": 1477,
    "start_time": "2023-03-16T14:26:25.765Z"
   },
   {
    "duration": 597,
    "start_time": "2023-03-16T14:26:27.244Z"
   },
   {
    "duration": 128,
    "start_time": "2023-03-16T14:26:27.843Z"
   },
   {
    "duration": 10577,
    "start_time": "2023-03-16T14:26:27.972Z"
   },
   {
    "duration": 25,
    "start_time": "2023-03-16T14:26:38.551Z"
   },
   {
    "duration": 12129,
    "start_time": "2023-03-16T14:26:38.578Z"
   },
   {
    "duration": 34,
    "start_time": "2023-03-16T14:26:50.713Z"
   },
   {
    "duration": 19795,
    "start_time": "2023-03-16T14:26:50.749Z"
   },
   {
    "duration": 106,
    "start_time": "2023-03-16T14:27:10.545Z"
   },
   {
    "duration": 11,
    "start_time": "2023-03-16T14:27:10.653Z"
   },
   {
    "duration": 2,
    "start_time": "2023-03-16T14:27:10.666Z"
   },
   {
    "duration": 8,
    "start_time": "2023-03-16T14:27:10.669Z"
   },
   {
    "duration": 9,
    "start_time": "2023-03-16T14:27:10.679Z"
   },
   {
    "duration": 14,
    "start_time": "2023-03-16T14:27:10.689Z"
   },
   {
    "duration": 10,
    "start_time": "2023-03-16T14:27:10.705Z"
   },
   {
    "duration": 8,
    "start_time": "2023-03-16T14:27:10.716Z"
   },
   {
    "duration": 16767,
    "start_time": "2023-03-16T14:27:10.725Z"
   },
   {
    "duration": 3,
    "start_time": "2023-03-16T14:27:27.494Z"
   },
   {
    "duration": 2,
    "start_time": "2023-03-16T14:27:27.540Z"
   },
   {
    "duration": 16,
    "start_time": "2023-03-16T14:27:27.543Z"
   },
   {
    "duration": 8,
    "start_time": "2023-03-16T14:27:27.560Z"
   },
   {
    "duration": 8,
    "start_time": "2023-03-16T14:27:27.570Z"
   },
   {
    "duration": 7,
    "start_time": "2023-03-16T14:27:27.579Z"
   },
   {
    "duration": 12,
    "start_time": "2023-03-16T14:27:27.587Z"
   },
   {
    "duration": 7,
    "start_time": "2023-03-16T14:27:27.600Z"
   },
   {
    "duration": 16,
    "start_time": "2023-03-16T14:27:27.608Z"
   },
   {
    "duration": 80,
    "start_time": "2023-03-16T14:27:27.627Z"
   },
   {
    "duration": 7,
    "start_time": "2023-03-16T14:27:27.709Z"
   },
   {
    "duration": 9,
    "start_time": "2023-03-16T14:27:27.717Z"
   },
   {
    "duration": 21,
    "start_time": "2023-03-16T14:27:27.728Z"
   },
   {
    "duration": 11,
    "start_time": "2023-03-16T14:27:27.751Z"
   },
   {
    "duration": 3,
    "start_time": "2023-03-16T14:37:49.103Z"
   },
   {
    "duration": 1137,
    "start_time": "2023-03-16T14:37:49.109Z"
   },
   {
    "duration": 4,
    "start_time": "2023-03-16T14:37:50.248Z"
   },
   {
    "duration": 7,
    "start_time": "2023-03-16T14:37:50.253Z"
   },
   {
    "duration": 9,
    "start_time": "2023-03-16T14:37:50.262Z"
   },
   {
    "duration": 6,
    "start_time": "2023-03-16T14:37:50.273Z"
   },
   {
    "duration": 8,
    "start_time": "2023-03-16T14:37:50.280Z"
   },
   {
    "duration": 203,
    "start_time": "2023-03-16T14:37:50.289Z"
   },
   {
    "duration": 3,
    "start_time": "2023-03-16T14:37:50.493Z"
   },
   {
    "duration": 9,
    "start_time": "2023-03-16T14:37:50.497Z"
   },
   {
    "duration": 14773,
    "start_time": "2023-03-16T14:37:50.509Z"
   },
   {
    "duration": 7574,
    "start_time": "2023-03-16T14:38:05.284Z"
   },
   {
    "duration": 3,
    "start_time": "2023-03-16T14:38:12.860Z"
   },
   {
    "duration": 23,
    "start_time": "2023-03-16T14:38:12.865Z"
   },
   {
    "duration": 629,
    "start_time": "2023-03-16T14:38:12.941Z"
   },
   {
    "duration": 3794,
    "start_time": "2023-03-16T14:38:13.572Z"
   },
   {
    "duration": 2,
    "start_time": "2023-03-16T14:38:17.367Z"
   },
   {
    "duration": 10,
    "start_time": "2023-03-16T14:38:17.371Z"
   },
   {
    "duration": 3807,
    "start_time": "2023-03-16T14:38:17.441Z"
   },
   {
    "duration": 2,
    "start_time": "2023-03-16T14:38:21.250Z"
   },
   {
    "duration": 27,
    "start_time": "2023-03-16T14:38:21.254Z"
   },
   {
    "duration": 1164,
    "start_time": "2023-03-16T14:38:21.283Z"
   },
   {
    "duration": 1006,
    "start_time": "2023-03-16T14:38:22.449Z"
   },
   {
    "duration": 406,
    "start_time": "2023-03-16T14:38:23.457Z"
   },
   {
    "duration": 187,
    "start_time": "2023-03-16T14:38:23.865Z"
   },
   {
    "duration": 10496,
    "start_time": "2023-03-16T14:38:24.054Z"
   },
   {
    "duration": 24,
    "start_time": "2023-03-16T14:38:34.552Z"
   },
   {
    "duration": 14464,
    "start_time": "2023-03-16T14:38:34.577Z"
   },
   {
    "duration": 9,
    "start_time": "2023-03-16T14:38:49.044Z"
   },
   {
    "duration": 24885,
    "start_time": "2023-03-16T14:38:49.055Z"
   },
   {
    "duration": 99,
    "start_time": "2023-03-16T14:39:13.942Z"
   },
   {
    "duration": 10,
    "start_time": "2023-03-16T14:39:14.043Z"
   },
   {
    "duration": 17,
    "start_time": "2023-03-16T14:39:14.055Z"
   },
   {
    "duration": 13,
    "start_time": "2023-03-16T14:39:14.074Z"
   },
   {
    "duration": 52,
    "start_time": "2023-03-16T14:39:14.088Z"
   },
   {
    "duration": 8,
    "start_time": "2023-03-16T14:39:14.142Z"
   },
   {
    "duration": 23,
    "start_time": "2023-03-16T14:39:14.151Z"
   },
   {
    "duration": 15,
    "start_time": "2023-03-16T14:39:14.175Z"
   },
   {
    "duration": 23403,
    "start_time": "2023-03-16T14:39:14.241Z"
   },
   {
    "duration": 3,
    "start_time": "2023-03-16T14:39:37.645Z"
   },
   {
    "duration": 13,
    "start_time": "2023-03-16T14:39:37.650Z"
   },
   {
    "duration": 10,
    "start_time": "2023-03-16T14:39:37.664Z"
   },
   {
    "duration": 6,
    "start_time": "2023-03-16T14:39:37.675Z"
   },
   {
    "duration": 59,
    "start_time": "2023-03-16T14:39:37.682Z"
   },
   {
    "duration": 16,
    "start_time": "2023-03-16T14:39:37.743Z"
   },
   {
    "duration": 16,
    "start_time": "2023-03-16T14:39:37.760Z"
   },
   {
    "duration": 19,
    "start_time": "2023-03-16T14:39:37.777Z"
   },
   {
    "duration": 4,
    "start_time": "2023-03-16T14:39:37.839Z"
   },
   {
    "duration": 5,
    "start_time": "2023-03-16T14:39:37.845Z"
   },
   {
    "duration": 7,
    "start_time": "2023-03-16T14:39:37.851Z"
   },
   {
    "duration": 198,
    "start_time": "2023-03-16T14:39:37.859Z"
   },
   {
    "duration": 22,
    "start_time": "2023-03-16T14:39:38.059Z"
   },
   {
    "duration": 58,
    "start_time": "2023-03-16T14:39:38.083Z"
   },
   {
    "duration": 2047501,
    "start_time": "2023-03-16T14:39:38.142Z"
   },
   {
    "duration": 2068437,
    "start_time": "2023-03-16T15:13:45.646Z"
   },
   {
    "duration": 4,
    "start_time": "2023-03-16T15:48:14.085Z"
   },
   {
    "duration": 21,
    "start_time": "2023-03-16T15:48:14.091Z"
   },
   {
    "duration": 15522,
    "start_time": "2023-03-16T15:48:14.126Z"
   },
   {
    "duration": 4,
    "start_time": "2023-03-16T15:48:29.650Z"
   },
   {
    "duration": 16,
    "start_time": "2023-03-16T15:48:29.657Z"
   },
   {
    "duration": 4,
    "start_time": "2023-03-16T15:48:29.675Z"
   },
   {
    "duration": 47376,
    "start_time": "2023-03-16T15:48:29.681Z"
   },
   {
    "duration": 87,
    "start_time": "2023-03-17T06:10:10.841Z"
   },
   {
    "duration": 101,
    "start_time": "2023-03-17T06:12:05.960Z"
   },
   {
    "duration": 63,
    "start_time": "2023-03-17T06:12:39.615Z"
   },
   {
    "duration": 111,
    "start_time": "2023-03-17T06:14:47.505Z"
   }
  ],
  "kernelspec": {
   "display_name": "Python 3 (ipykernel)",
   "language": "python",
   "name": "python3"
  },
  "language_info": {
   "codemirror_mode": {
    "name": "ipython",
    "version": 3
   },
   "file_extension": ".py",
   "mimetype": "text/x-python",
   "name": "python",
   "nbconvert_exporter": "python",
   "pygments_lexer": "ipython3",
   "version": "3.8.13"
  },
  "nbTranslate": {
   "displayLangs": [
    "en",
    "ru"
   ],
   "hotkey": "alt-t",
   "langInMainMenu": false,
   "sourceLang": "ru",
   "targetLang": "en",
   "useGoogleTranslate": true
  },
  "toc": {
   "base_numbering": "0",
   "nav_menu": {},
   "number_sections": true,
   "sideBar": true,
   "skip_h1_title": true,
   "title_cell": "Содержание",
   "title_sidebar": "Содержание",
   "toc_cell": false,
   "toc_position": {
    "height": "calc(100% - 180px)",
    "left": "10px",
    "top": "150px",
    "width": "200.5px"
   },
   "toc_section_display": true,
   "toc_window_display": true
  }
 },
 "nbformat": 4,
 "nbformat_minor": 5
}

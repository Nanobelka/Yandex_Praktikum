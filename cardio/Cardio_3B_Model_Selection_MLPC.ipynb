{
 "cells": [
  {
   "cell_type": "markdown",
   "id": "f10e8148",
   "metadata": {
    "toc": true
   },
   "source": [
    "<h1>Содержание<span class=\"tocSkip\"></span></h1>\n",
    "<div class=\"toc\"><ul class=\"toc-item\"><li><span><a href=\"#Initial\" data-toc-modified-id=\"Initial-0\"><span class=\"toc-item-num\">0&nbsp;&nbsp;</span>Initial</a></span><ul class=\"toc-item\"><li><span><a href=\"#Imports\" data-toc-modified-id=\"Imports-0.1\"><span class=\"toc-item-num\">0.1&nbsp;&nbsp;</span>Imports</a></span></li><li><span><a href=\"#Constants\" data-toc-modified-id=\"Constants-0.2\"><span class=\"toc-item-num\">0.2&nbsp;&nbsp;</span>Constants</a></span></li><li><span><a href=\"#Functions\" data-toc-modified-id=\"Functions-0.3\"><span class=\"toc-item-num\">0.3&nbsp;&nbsp;</span>Functions</a></span></li><li><span><a href=\"#Settings\" data-toc-modified-id=\"Settings-0.4\"><span class=\"toc-item-num\">0.4&nbsp;&nbsp;</span>Settings</a></span></li></ul></li><li><span><a href=\"#Read-Data\" data-toc-modified-id=\"Read-Data-1\"><span class=\"toc-item-num\">1&nbsp;&nbsp;</span>Read Data</a></span></li><li><span><a href=\"#Данные-для-моделей\" data-toc-modified-id=\"Данные-для-моделей-2\"><span class=\"toc-item-num\">2&nbsp;&nbsp;</span>Данные для моделей</a></span><ul class=\"toc-item\"><li><span><a href=\"#Выделение-признаков-и-целевой-переменной\" data-toc-modified-id=\"Выделение-признаков-и-целевой-переменной-2.1\"><span class=\"toc-item-num\">2.1&nbsp;&nbsp;</span>Выделение признаков и целевой переменной</a></span></li><li><span><a href=\"#Разделение-на-обучающую-и-валидационную-выборки\" data-toc-modified-id=\"Разделение-на-обучающую-и-валидационную-выборки-2.2\"><span class=\"toc-item-num\">2.2&nbsp;&nbsp;</span>Разделение на обучающую и валидационную выборки</a></span></li></ul></li><li><span><a href=\"#Модель\" data-toc-modified-id=\"Модель-3\"><span class=\"toc-item-num\">3&nbsp;&nbsp;</span>Модель</a></span><ul class=\"toc-item\"><li><span><a href=\"#Preprocessing\" data-toc-modified-id=\"Preprocessing-3.1\"><span class=\"toc-item-num\">3.1&nbsp;&nbsp;</span>Preprocessing</a></span><ul class=\"toc-item\"><li><span><a href=\"#Селекторы-числовых-и-категориальных-признаков\" data-toc-modified-id=\"Селекторы-числовых-и-категориальных-признаков-3.1.1\"><span class=\"toc-item-num\">3.1.1&nbsp;&nbsp;</span>Селекторы числовых и категориальных признаков</a></span></li><li><span><a href=\"#Предбработка-числовых-признаков\" data-toc-modified-id=\"Предбработка-числовых-признаков-3.1.2\"><span class=\"toc-item-num\">3.1.2&nbsp;&nbsp;</span>Предбработка числовых признаков</a></span></li><li><span><a href=\"#Предбработка-категориальных-признаков\" data-toc-modified-id=\"Предбработка-категориальных-признаков-3.1.3\"><span class=\"toc-item-num\">3.1.3&nbsp;&nbsp;</span>Предбработка категориальных признаков</a></span></li><li><span><a href=\"#Объединение-предобработки\" data-toc-modified-id=\"Объединение-предобработки-3.1.4\"><span class=\"toc-item-num\">3.1.4&nbsp;&nbsp;</span>Объединение предобработки</a></span></li><li><span><a href=\"#Pipelines\" data-toc-modified-id=\"Pipelines-3.1.5\"><span class=\"toc-item-num\">3.1.5&nbsp;&nbsp;</span>Pipelines</a></span></li></ul></li><li><span><a href=\"#Подбор-гиперпараметров\" data-toc-modified-id=\"Подбор-гиперпараметров-3.2\"><span class=\"toc-item-num\">3.2&nbsp;&nbsp;</span>Подбор гиперпараметров</a></span><ul class=\"toc-item\"><li><span><a href=\"#Objective-functions-для-Optuna\" data-toc-modified-id=\"Objective-functions-для-Optuna-3.2.1\"><span class=\"toc-item-num\">3.2.1&nbsp;&nbsp;</span>Objective functions для Optuna</a></span></li><li><span><a href=\"#Вызов-Optuna\" data-toc-modified-id=\"Вызов-Optuna-3.2.2\"><span class=\"toc-item-num\">3.2.2&nbsp;&nbsp;</span>Вызов Optuna</a></span></li></ul></li><li><span><a href=\"#Визуализация-результатов-подбора-гиперпараметров\" data-toc-modified-id=\"Визуализация-результатов-подбора-гиперпараметров-3.3\"><span class=\"toc-item-num\">3.3&nbsp;&nbsp;</span>Визуализация результатов подбора гиперпараметров</a></span></li></ul></li><li><span><a href=\"#Results\" data-toc-modified-id=\"Results-4\"><span class=\"toc-item-num\">4&nbsp;&nbsp;</span>Results</a></span><ul class=\"toc-item\"><li><span><a href=\"#Выбор-лучшей-модели\" data-toc-modified-id=\"Выбор-лучшей-модели-4.1\"><span class=\"toc-item-num\">4.1&nbsp;&nbsp;</span>Выбор лучшей модели</a></span></li><li><span><a href=\"#Важность-признаков\" data-toc-modified-id=\"Важность-признаков-4.2\"><span class=\"toc-item-num\">4.2&nbsp;&nbsp;</span>Важность признаков</a></span></li><li><span><a href=\"#Additional-metrics\" data-toc-modified-id=\"Additional-metrics-4.3\"><span class=\"toc-item-num\">4.3&nbsp;&nbsp;</span>Additional metrics</a></span></li><li><span><a href=\"#Save-models-parameters-and-metrics\" data-toc-modified-id=\"Save-models-parameters-and-metrics-4.4\"><span class=\"toc-item-num\">4.4&nbsp;&nbsp;</span>Save models parameters and metrics</a></span></li></ul></li><li><span><a href=\"#Подготовка-прогноза-для-участия-в-соревновании\" data-toc-modified-id=\"Подготовка-прогноза-для-участия-в-соревновании-5\"><span class=\"toc-item-num\">5&nbsp;&nbsp;</span>Подготовка прогноза для участия в соревновании</a></span><ul class=\"toc-item\"><li><span><a href=\"#Save-best-model-dump\" data-toc-modified-id=\"Save-best-model-dump-5.1\"><span class=\"toc-item-num\">5.1&nbsp;&nbsp;</span>Save best model dump</a></span></li></ul></li></ul></div>"
   ]
  },
  {
   "cell_type": "markdown",
   "id": "0f19e804",
   "metadata": {},
   "source": [
    "# [Cardiovascular Disease](https://www.kaggle.com/datasets/sulianova/cardiovascular-disease-dataset) Part 3 – Model Selection – MLPClassifier\n",
    "\n",
    "---\n",
    "\n",
    "**Заказчик**\n",
    "\n",
    "Для внутреннего (Яндекс.Практикум) соревнования [Heart diseases prediction](https://www.kaggle.com/competitions/yap15-heart-diseases-predictions).\n",
    "\n",
    "---\n",
    "\n",
    "**Входные данные**: параметры обследованных пациентов; данные изначально разделены на обучающий и тестовый наборы.\n",
    "\n",
    "---\n",
    "\n",
    "**Цель**\n",
    "\n",
    "Predict risk of heart diseases from patient lifestyle information.  \n",
    "Целевая метрика – ROC-AUC-score.\n",
    "\n",
    "---\n",
    "\n",
    "**Задачи:**  \n",
    "\n",
    "- \n",
    "-\n",
    "-"
   ]
  },
  {
   "cell_type": "markdown",
   "id": "c776e062-dd2f-4742-b0b3-350fff61fa32",
   "metadata": {
    "tags": []
   },
   "source": [
    "## Initial"
   ]
  },
  {
   "cell_type": "markdown",
   "id": "a6dea4cb-8fe1-4691-88af-0385a44a1442",
   "metadata": {},
   "source": [
    "### Imports"
   ]
  },
  {
   "cell_type": "code",
   "execution_count": 565,
   "id": "c6cf7e9a-b2eb-41f3-b3ff-e1853871bb75",
   "metadata": {},
   "outputs": [],
   "source": [
    "import pandas as pd\n",
    "import numpy as np\n",
    "\n",
    "import matplotlib.pyplot as plt\n",
    "import seaborn as sns\n",
    "from matplotlib.colors import LinearSegmentedColormap\n",
    "import plotly.graph_objects as go\n",
    "import plotly.io as pio\n",
    "\n",
    "import os\n",
    "import json\n",
    "import joblib\n",
    "# import pickle\n",
    "import warnings\n",
    "from datetime import date, time, datetime\n",
    "from tqdm.notebook import tqdm\n",
    "\n",
    "from sklearn.compose import ColumnTransformer, make_column_transformer, make_column_selector\n",
    "from sklearn.preprocessing import StandardScaler, OrdinalEncoder, OneHotEncoder, SplineTransformer\n",
    "from feature_engine.selection import DropFeatures\n",
    "from sklearn.decomposition import PCA\n",
    "from sklearn.preprocessing import FunctionTransformer\n",
    "\n",
    "from sklearn.model_selection import train_test_split, cross_val_score, StratifiedKFold\n",
    "from imblearn.pipeline import Pipeline, make_pipeline\n",
    "\n",
    "# estimators\n",
    "from sklearn.dummy import DummyClassifier\n",
    "from xgboost import XGBClassifier\n",
    "from sklearn.ensemble import RandomForestClassifier, HistGradientBoostingClassifier, StackingClassifier\n",
    "from sklearn.svm import SVC, LinearSVC\n",
    "from sklearn.linear_model import LogisticRegression, LinearRegression\n",
    "from sklearn.neighbors import KNeighborsClassifier\n",
    "from sklearn.neural_network import MLPClassifier\n",
    "# from lightgbm import LGBMClassifier\n",
    "\n",
    "from sklearn.metrics import roc_auc_score, matthews_corrcoef, cohen_kappa_score, accuracy_score\n",
    "from sklearn.inspection import permutation_importance\n",
    "\n",
    "import optuna\n",
    "from optuna.integration import OptunaSearchCV\n",
    "from optuna.distributions import FloatDistribution, IntDistribution, CategoricalDistribution"
   ]
  },
  {
   "cell_type": "markdown",
   "id": "5630fba8-205b-4687-911e-952f83e6d0fe",
   "metadata": {},
   "source": [
    "### Constants"
   ]
  },
  {
   "cell_type": "code",
   "execution_count": 566,
   "id": "d910918e",
   "metadata": {},
   "outputs": [],
   "source": [
    "PATH_LOCAL = 'datasets/'                                           # local path to data\n",
    "PATH_REMOTE = '/kaggle/input/yap15-heart-diseases-predictions/'    # remote path to data\n",
    "\n",
    "CR = '\\n'                                                          # new line"
   ]
  },
  {
   "cell_type": "code",
   "execution_count": 567,
   "id": "2315cf52-77df-44c4-b3a4-189fb9340455",
   "metadata": {},
   "outputs": [],
   "source": [
    "RANDOM_STATE = RS = 66                                             # random_state\n",
    "N_CV = 10                                                          # num of cross-val batches\n",
    "\n",
    "VALID_FRAC = 0.0                                        # размер валидационной выборки, выделяемой из обучающей\n",
    "N_TRIALS = 1000                                         # количество попыток для Optuna\n",
    "TIMEOUT = 3600                                          # максимальный порог времени для Optuna\n",
    "SCORING = 'roc_auc'                                     # основная метрика\n",
    "\n",
    "ESTIMATOR_LIST = [                                      # список алгоритмов для запуска (закомментировать ненужные)\n",
    "#                   'DummyClassifier',\n",
    "#                   'XGBClassifier',\n",
    "#                   'HistGradientBoostingClassifier',\n",
    "#                   'SVC',                              # не подходит для больших датасетов! быстро падает скорость!\n",
    "#                   'LogisticRegression',\n",
    "#                   'RandomForestClassifier',\n",
    "#                   'LinearRegression',\n",
    "#                   'KNeighborsClassifier',\n",
    "                  'MLPClassifier',\n",
    "                 ]"
   ]
  },
  {
   "cell_type": "markdown",
   "id": "8f604c27-7ed0-4d57-b384-5ee31a89df87",
   "metadata": {},
   "source": [
    "### Functions"
   ]
  },
  {
   "cell_type": "code",
   "execution_count": 568,
   "id": "838029c7",
   "metadata": {},
   "outputs": [],
   "source": [
    "def custom_read_csv(file_name, separator=','):\n",
    "    \"\"\"\n",
    "    чтение датасета в формате CSV:\n",
    "      сначала из локального хранилища;\n",
    "      при неудаче — из удаленного хранилища Kaggle.\n",
    "    \"\"\"\n",
    "\n",
    "    path_local = f'{PATH_LOCAL}{file_name}'\n",
    "    path_remote = f'{PATH_REMOTE}{file_name}'\n",
    "    \n",
    "    if os.path.exists(path_local):\n",
    "        return pd.read_csv(path_local, sep=separator)\n",
    "\n",
    "    elif os.path.exists(path_remote):\n",
    "        return pd.read_csv(path_remote, sep=separator)\n",
    "\n",
    "    else:\n",
    "        print(f'File \"{file_name}\" not found at the specified path ')"
   ]
  },
  {
   "cell_type": "code",
   "execution_count": 569,
   "id": "d07c1248",
   "metadata": {},
   "outputs": [],
   "source": [
    "def add_model_metrics(models, X_train, Y_train, X_valid, Y_valid, cv=N_CV, scoring_list=['f1']):\n",
    "    '''\n",
    "    Принимает датафрейм со списком моделей и их характеристиками.\n",
    "    Добавляет в принятый датафрейм несколько метрик.\n",
    "    \n",
    "    :models: датафрейм с информацией об обученных моделях\n",
    "    :X_train: обучающая выборка (признаки)\n",
    "    :Y_train: обучающая выборка (целевая переменная)\n",
    "    :X_test: тестовая выборка (признаки)\n",
    "    :Y_test: тестовая выборка (целевая переменная)\n",
    "    :scoring: метрики для оценки\n",
    "    '''\n",
    "\n",
    "    for scoring in scoring_list:\n",
    "    \n",
    "        # результаты моделей на обучающей выборке (усреднение на кроссвалидации)\n",
    "        models[scoring + '_train'] = models.model.apply(\n",
    "                              lambda model: cross_val_score(model, X_train, Y_train, scoring=scoring, cv=cv, n_jobs=-1).mean())\n",
    "\n",
    "        # результаты моделей на тестовой выборке (усреднение на кроссвалидации)\n",
    "        models[scoring + '_valid'] = models.model.apply(\n",
    "                              lambda model: cross_val_score(model, X_valid, Y_valid, scoring=scoring, cv=cv, n_jobs=-1).mean())\n",
    "    \n",
    "    # ROC_AUC, коэффициент корреляции Мэтьюса, коэффициент каппа Коэна\n",
    "    models['ROC_AUC'] = models.model.apply(lambda model: roc_auc_score(Y_valid, model.predict_proba(X_valid)[:,1]))\n",
    "    models['matthews_coeff'] = models.model.apply(lambda model: matthews_corrcoef(Y_valid, model.predict(X_valid)))\n",
    "    models['cohen_kappa'] = models.model.apply(lambda model: cohen_kappa_score(Y_valid, model.predict(X_valid)))\n",
    "    \n",
    "    # оптимальные гиперпараметры\n",
    "    models['best_params'] = models.study.apply(lambda model: model.best_params)\n",
    "    \n",
    "    return models"
   ]
  },
  {
   "cell_type": "code",
   "execution_count": 570,
   "id": "0fda8601",
   "metadata": {},
   "outputs": [],
   "source": [
    "def plot_Optuna(study, plot_kind='plot_slice', model_name=''):\n",
    "    '''\n",
    "    Дополнительная настройка оригинальных графиков Optuna.\n",
    "    Например, на графике `plot_slice` изначально цвет точек зависел от номера итерации.\n",
    "    Теперь они все одинакового цвета и полупрозрачные, лучше видны скопления точек.\n",
    "    \n",
    "    :study: обученный объект класса OptunaSearchCV\n",
    "    :plot_kind: тип графика Optuna\n",
    "    :model_name: название модели\n",
    "    '''\n",
    "    \n",
    "    if plot_kind == 'plot_slice':\n",
    "        fig = optuna.visualization.plot_slice(study)\n",
    "        fig.update_traces(\n",
    "                          marker_color='Darkgrey',\n",
    "                          marker_size=3,\n",
    "                          marker_opacity=0.2,\n",
    "                          marker_line_width=1,\n",
    "                          marker_line_color='Black',\n",
    "                         )\n",
    "    \n",
    "    elif plot_kind == 'plot_param_importances':\n",
    "        fig = optuna.visualization.plot_param_importances(study)\n",
    "        \n",
    "    elif plot_kind == 'plot_optimization_history':\n",
    "        fig = optuna.visualization.plot_optimization_history(study)\n",
    "        fig.update_traces(\n",
    "                          marker_size=5,\n",
    "                          marker_opacity=0.3,\n",
    "                          marker_line_width=1,\n",
    "                          marker_line_color='Black',\n",
    "                         )\n",
    "\n",
    "    fig.update_layout(\n",
    "                      title_text=model_name,\n",
    "                      title_x=0,\n",
    "                      font_size=10,\n",
    "                     )    \n",
    "    fig.show()"
   ]
  },
  {
   "cell_type": "code",
   "execution_count": 571,
   "id": "6c4b3b67",
   "metadata": {},
   "outputs": [],
   "source": [
    "def plot_feature_importances(chart_title, feature_names, feature_importances):\n",
    "    \"\"\"\n",
    "    Выводит график важности признаков, использованных моделью.\n",
    "    \n",
    "    :chart_title: заголовок графика\n",
    "    :feature_names: названия признаков\n",
    "    :feature_importances: важность признаков\n",
    "    \"\"\"\n",
    "    \n",
    "    fig, ax = plt.subplots(figsize=(15,5), dpi=PLOT_DPI)\n",
    "\n",
    "    df = pd.DataFrame({'features': feature_names,\n",
    "                       'importances': feature_importances.importances_mean,\n",
    "                       'std_err': feature_importances.importances_std,\n",
    "                      }).sort_values('importances', ascending=False)\n",
    "    \n",
    "    sns.barplot(\n",
    "                x=df.importances,\n",
    "                y=df.features,\n",
    "                xerr=df.std_err,\n",
    "                color='skyblue',\n",
    "               )\n",
    "    \n",
    "    ax.set_title(f'{chart_title}')\n",
    "    ax.set_xlim(-0.02,)"
   ]
  },
  {
   "cell_type": "markdown",
   "id": "5c3a9ff4-71f9-4b6b-a138-deca9d6a8949",
   "metadata": {},
   "source": [
    "### Settings"
   ]
  },
  {
   "cell_type": "code",
   "execution_count": 572,
   "id": "638b82e7-b556-46d7-948f-bb0b79a62f85",
   "metadata": {},
   "outputs": [],
   "source": [
    "# text styles\n",
    "class f:\n",
    "    BOLD = \"\\033[1m\"\n",
    "    ITALIC = \"\\033[3m\"\n",
    "    END = \"\\033[0m\""
   ]
  },
  {
   "cell_type": "code",
   "execution_count": 573,
   "id": "aa93ad3d",
   "metadata": {},
   "outputs": [],
   "source": [
    "# defaults for charts\n",
    "\n",
    "# Matplotlib, Seaborn\n",
    "PLOT_DPI = 150  # dpi for charts rendering \n",
    "sns.set_style('whitegrid', {'axes.facecolor': '0.98', 'grid.color': '0.9', 'axes.edgecolor': '1.0'})\n",
    "plt.rc(\n",
    "       'axes',\n",
    "       labelweight='bold',\n",
    "       titlesize=14,\n",
    "       titlepad=10,\n",
    "      )\n",
    "\n",
    "# Plotly Graph_Objects\n",
    "pio.templates['my_theme'] = go.layout.Template(\n",
    "                                               layout_autosize=True,\n",
    "                                               # width=900,\n",
    "                                               layout_height=200,\n",
    "                                               layout_legend_orientation=\"h\",\n",
    "                                               layout_margin=dict(t=40, b=40),         # (l=0, r=0, b=0, t=0, pad=0)\n",
    "                                               layout_template='seaborn',\n",
    "                                              )\n",
    "pio.templates.default = 'my_theme'\n",
    "\n",
    "# colors and maps\n",
    "SYMMETRIC_CMAP = LinearSegmentedColormap.from_list('', ['steelblue', 'aliceblue', 'steelblue'])"
   ]
  },
  {
   "cell_type": "code",
   "execution_count": 574,
   "id": "95be01d9-d78c-43ae-85e8-59e7a00ba932",
   "metadata": {},
   "outputs": [],
   "source": [
    "# Pandas defaults\n",
    "pd.options.display.max_colwidth = 100\n",
    "pd.options.display.max_rows = 500\n",
    "pd.options.display.max_columns = 100\n",
    "pd.options.display.float_format = '{:.3f}'.format\n",
    "pd.options.display.colheader_justify = 'left'"
   ]
  },
  {
   "cell_type": "code",
   "execution_count": 575,
   "id": "82859ec9",
   "metadata": {},
   "outputs": [],
   "source": [
    "# оформление Optuna\n",
    "optuna.logging.set_verbosity(optuna.logging.WARNING)  # отключение вывода логов при работе optuna"
   ]
  },
  {
   "cell_type": "code",
   "execution_count": 576,
   "id": "411a2afa-bac5-4aea-a287-4df5e34e6a26",
   "metadata": {},
   "outputs": [],
   "source": [
    "# others\n",
    "warnings.filterwarnings('ignore')"
   ]
  },
  {
   "cell_type": "markdown",
   "id": "30757a9f",
   "metadata": {},
   "source": [
    "## Read Data"
   ]
  },
  {
   "cell_type": "code",
   "execution_count": 577,
   "id": "2ab72067",
   "metadata": {},
   "outputs": [],
   "source": [
    "data_train = custom_read_csv('FE_train.csv')  # обучающая выборка после этапа EDA\n",
    "data_test = custom_read_csv('FE_test.csv')    # тестовая выборка после этапа EDA"
   ]
  },
  {
   "cell_type": "code",
   "execution_count": 578,
   "id": "6a72a048",
   "metadata": {},
   "outputs": [
    {
     "data": {
      "text/html": [
       "<div>\n",
       "<style scoped>\n",
       "    .dataframe tbody tr th:only-of-type {\n",
       "        vertical-align: middle;\n",
       "    }\n",
       "\n",
       "    .dataframe tbody tr th {\n",
       "        vertical-align: top;\n",
       "    }\n",
       "\n",
       "    .dataframe thead th {\n",
       "        text-align: right;\n",
       "    }\n",
       "</style>\n",
       "<table border=\"1\" class=\"dataframe\">\n",
       "  <thead>\n",
       "    <tr style=\"text-align: left;\">\n",
       "      <th></th>\n",
       "      <th>cardio</th>\n",
       "      <th>gender_aphi_bined_aplo_bined_TRG_mean</th>\n",
       "      <th>gender_age_TRG_mean</th>\n",
       "      <th>gender_weight_bined_height_bined_TRG_mean</th>\n",
       "      <th>gender_cholesterol_gluc_active_TRG_mean</th>\n",
       "    </tr>\n",
       "  </thead>\n",
       "  <tbody>\n",
       "    <tr>\n",
       "      <th>0</th>\n",
       "      <td>0</td>\n",
       "      <td>0.265</td>\n",
       "      <td>0.461</td>\n",
       "      <td>0.383</td>\n",
       "      <td>0.429</td>\n",
       "    </tr>\n",
       "    <tr>\n",
       "      <th>1</th>\n",
       "      <td>1</td>\n",
       "      <td>0.820</td>\n",
       "      <td>0.539</td>\n",
       "      <td>0.634</td>\n",
       "      <td>0.829</td>\n",
       "    </tr>\n",
       "    <tr>\n",
       "      <th>2</th>\n",
       "      <td>1</td>\n",
       "      <td>0.528</td>\n",
       "      <td>0.467</td>\n",
       "      <td>0.390</td>\n",
       "      <td>0.845</td>\n",
       "    </tr>\n",
       "    <tr>\n",
       "      <th>3</th>\n",
       "      <td>1</td>\n",
       "      <td>0.858</td>\n",
       "      <td>0.491</td>\n",
       "      <td>0.577</td>\n",
       "      <td>0.429</td>\n",
       "    </tr>\n",
       "    <tr>\n",
       "      <th>4</th>\n",
       "      <td>0</td>\n",
       "      <td>0.193</td>\n",
       "      <td>0.451</td>\n",
       "      <td>0.361</td>\n",
       "      <td>0.465</td>\n",
       "    </tr>\n",
       "  </tbody>\n",
       "</table>\n",
       "</div>"
      ],
      "text/plain": [
       "   cardio  gender_aphi_bined_aplo_bined_TRG_mean  gender_age_TRG_mean  \\\n",
       "0  0      0.265                                  0.461                  \n",
       "1  1      0.820                                  0.539                  \n",
       "2  1      0.528                                  0.467                  \n",
       "3  1      0.858                                  0.491                  \n",
       "4  0      0.193                                  0.451                  \n",
       "\n",
       "   gender_weight_bined_height_bined_TRG_mean  \\\n",
       "0 0.383                                        \n",
       "1 0.634                                        \n",
       "2 0.390                                        \n",
       "3 0.577                                        \n",
       "4 0.361                                        \n",
       "\n",
       "   gender_cholesterol_gluc_active_TRG_mean  \n",
       "0 0.429                                     \n",
       "1 0.829                                     \n",
       "2 0.845                                     \n",
       "3 0.429                                     \n",
       "4 0.465                                     "
      ]
     },
     "execution_count": 578,
     "metadata": {},
     "output_type": "execute_result"
    }
   ],
   "source": [
    "data_train.head()"
   ]
  },
  {
   "cell_type": "code",
   "execution_count": 579,
   "id": "02d93fb1",
   "metadata": {},
   "outputs": [
    {
     "data": {
      "text/plain": [
       "id                                           30000\n",
       "gender_aphi_bined_aplo_bined_TRG_mean        30000\n",
       "gender_age_TRG_mean                          30000\n",
       "gender_weight_bined_height_bined_TRG_mean    30000\n",
       "gender_cholesterol_gluc_active_TRG_mean      30000\n",
       "dtype: int64"
      ]
     },
     "execution_count": 579,
     "metadata": {},
     "output_type": "execute_result"
    }
   ],
   "source": [
    "data_test[data_test.notna()].count()"
   ]
  },
  {
   "cell_type": "markdown",
   "id": "4c9f2023",
   "metadata": {},
   "source": [
    "## Данные для моделей"
   ]
  },
  {
   "cell_type": "markdown",
   "id": "c56a434d",
   "metadata": {
    "tags": []
   },
   "source": [
    "### Выделение признаков и целевой переменной"
   ]
  },
  {
   "cell_type": "code",
   "execution_count": 580,
   "id": "2cfc12b0",
   "metadata": {},
   "outputs": [
    {
     "data": {
      "text/plain": [
       "((69994, 4), (69994,))"
      ]
     },
     "execution_count": 580,
     "metadata": {},
     "output_type": "execute_result"
    }
   ],
   "source": [
    "X = data_train.drop('cardio', axis=1)\n",
    "Y = data_train.cardio\n",
    "\n",
    "X.shape, Y.shape"
   ]
  },
  {
   "cell_type": "markdown",
   "id": "56162361",
   "metadata": {},
   "source": [
    "### Разделение на обучающую и валидационную выборки\n",
    "\n",
    "Валидационная выборка – часть, отрезанная от train. Нужна для локальной проверки модели."
   ]
  },
  {
   "cell_type": "markdown",
   "id": "61851b48",
   "metadata": {},
   "source": [
    "Если VALID_FRAC <= 0 для подбора гиперпараметров используется вся обучающая выборка (X, Y). Валидационная выборка также равна (X, Y). Следует помнить, что применение валидационной выборки в этом случае — лишь формальность (заглушка), и результаты валидации не следует интерпретировать ни как."
   ]
  },
  {
   "cell_type": "code",
   "execution_count": 581,
   "id": "0426d5ab",
   "metadata": {},
   "outputs": [
    {
     "data": {
      "text/plain": [
       "((69994, 4), (69994,), (69994, 4), (69994,))"
      ]
     },
     "execution_count": 581,
     "metadata": {},
     "output_type": "execute_result"
    }
   ],
   "source": [
    "if VALID_FRAC > 0 :\n",
    "    X_train, X_valid, Y_train, Y_valid = train_test_split(X, Y, test_size=VALID_FRAC, stratify=Y, random_state=RS)\n",
    "else:\n",
    "    X_train, X_valid, Y_train, Y_valid = X, X, Y, Y\n",
    "\n",
    "X_train.shape, Y_train.shape, X_valid.shape, Y_valid.shape"
   ]
  },
  {
   "cell_type": "markdown",
   "id": "e7351110",
   "metadata": {},
   "source": [
    "## Модель"
   ]
  },
  {
   "cell_type": "markdown",
   "id": "2f9e2f83",
   "metadata": {},
   "source": [
    "### Preprocessing"
   ]
  },
  {
   "cell_type": "markdown",
   "id": "55d145cb",
   "metadata": {},
   "source": [
    "#### Селекторы числовых и категориальных признаков"
   ]
  },
  {
   "cell_type": "code",
   "execution_count": 582,
   "id": "30d679ac",
   "metadata": {},
   "outputs": [],
   "source": [
    "selector_num = make_column_selector(dtype_include=np.number)\n",
    "selector_cat = make_column_selector(dtype_exclude=np.number)"
   ]
  },
  {
   "cell_type": "markdown",
   "id": "c8051076",
   "metadata": {},
   "source": [
    "#### Предбработка числовых признаков"
   ]
  },
  {
   "cell_type": "code",
   "execution_count": 583,
   "id": "7c8567d3",
   "metadata": {},
   "outputs": [],
   "source": [
    "num_preprocessor = make_pipeline(\n",
    "                                 StandardScaler(),\n",
    "#                                IterativeImputer(initial_strategy='mean', random_state=RS),  # в данных нет пропусков\n",
    "                                )"
   ]
  },
  {
   "cell_type": "markdown",
   "id": "61a32fb3",
   "metadata": {},
   "source": [
    "#### Предбработка категориальных признаков\n",
    "\n",
    "Раздельно для линейных моделей и моделей на базе деревьев."
   ]
  },
  {
   "cell_type": "code",
   "execution_count": 584,
   "id": "39fed897",
   "metadata": {},
   "outputs": [],
   "source": [
    "# for linear models\n",
    "cat_preprocessor_linr = OneHotEncoder(sparse=False, drop='first', handle_unknown='ignore')\n",
    "\n",
    "# for tree models\n",
    "cat_preprocessor_tree = OrdinalEncoder(handle_unknown='use_encoded_value', unknown_value=999)"
   ]
  },
  {
   "cell_type": "markdown",
   "id": "b93d3cb8",
   "metadata": {},
   "source": [
    "#### Объединение предобработки"
   ]
  },
  {
   "cell_type": "code",
   "execution_count": 585,
   "id": "d99f57d5",
   "metadata": {},
   "outputs": [],
   "source": [
    "# for linear models\n",
    "preprocessing_linr = make_column_transformer(\n",
    "                                             (num_preprocessor, selector_num),\n",
    "                                             (cat_preprocessor_linr, selector_cat),\n",
    "                                             remainder='passthrough'\n",
    "                                            )\n",
    "# for tree models\n",
    "preprocessing_tree = make_column_transformer(\n",
    "                                             (num_preprocessor, selector_num),\n",
    "                                             (cat_preprocessor_tree, selector_cat),\n",
    "                                             remainder='passthrough'\n",
    "                                            )"
   ]
  },
  {
   "cell_type": "markdown",
   "id": "64928dd1",
   "metadata": {},
   "source": [
    "#### Pipelines"
   ]
  },
  {
   "cell_type": "code",
   "execution_count": 586,
   "id": "9b005769",
   "metadata": {},
   "outputs": [
    {
     "data": {
      "text/html": [
       "<div>\n",
       "<style scoped>\n",
       "    .dataframe tbody tr th:only-of-type {\n",
       "        vertical-align: middle;\n",
       "    }\n",
       "\n",
       "    .dataframe tbody tr th {\n",
       "        vertical-align: top;\n",
       "    }\n",
       "\n",
       "    .dataframe thead th {\n",
       "        text-align: right;\n",
       "    }\n",
       "</style>\n",
       "<table border=\"1\" class=\"dataframe\">\n",
       "  <thead>\n",
       "    <tr style=\"text-align: left;\">\n",
       "      <th></th>\n",
       "      <th>name</th>\n",
       "      <th>short_name</th>\n",
       "      <th>model</th>\n",
       "    </tr>\n",
       "  </thead>\n",
       "  <tbody>\n",
       "    <tr>\n",
       "      <th>0</th>\n",
       "      <td>DummyClassifier</td>\n",
       "      <td>DC</td>\n",
       "      <td>(ColumnTransformer(remainder='passthrough',\\n                  transformers=[('pipeline',\\n     ...</td>\n",
       "    </tr>\n",
       "    <tr>\n",
       "      <th>1</th>\n",
       "      <td>XGBClassifier</td>\n",
       "      <td>XGBC</td>\n",
       "      <td>(ColumnTransformer(remainder='passthrough',\\n                  transformers=[('pipeline',\\n     ...</td>\n",
       "    </tr>\n",
       "    <tr>\n",
       "      <th>2</th>\n",
       "      <td>HistGradientBoostingClassifier</td>\n",
       "      <td>HGBC</td>\n",
       "      <td>(ColumnTransformer(remainder='passthrough',\\n                  transformers=[('pipeline',\\n     ...</td>\n",
       "    </tr>\n",
       "    <tr>\n",
       "      <th>3</th>\n",
       "      <td>SVC</td>\n",
       "      <td>SVC</td>\n",
       "      <td>(ColumnTransformer(remainder='passthrough',\\n                  transformers=[('pipeline',\\n     ...</td>\n",
       "    </tr>\n",
       "    <tr>\n",
       "      <th>4</th>\n",
       "      <td>LogisticRegression</td>\n",
       "      <td>LogReg</td>\n",
       "      <td>(ColumnTransformer(remainder='passthrough',\\n                  transformers=[('pipeline',\\n     ...</td>\n",
       "    </tr>\n",
       "    <tr>\n",
       "      <th>5</th>\n",
       "      <td>RandomForestClassifier</td>\n",
       "      <td>RFC</td>\n",
       "      <td>(ColumnTransformer(remainder='passthrough',\\n                  transformers=[('pipeline',\\n     ...</td>\n",
       "    </tr>\n",
       "    <tr>\n",
       "      <th>6</th>\n",
       "      <td>LinearRegression</td>\n",
       "      <td>LinReg</td>\n",
       "      <td>(ColumnTransformer(remainder='passthrough',\\n                  transformers=[('pipeline',\\n     ...</td>\n",
       "    </tr>\n",
       "    <tr>\n",
       "      <th>7</th>\n",
       "      <td>MLPClassifier</td>\n",
       "      <td>MLPC</td>\n",
       "      <td>(ColumnTransformer(remainder='passthrough',\\n                  transformers=[('pipeline',\\n     ...</td>\n",
       "    </tr>\n",
       "  </tbody>\n",
       "</table>\n",
       "</div>"
      ],
      "text/plain": [
       "  name                            short_name  \\\n",
       "0                 DummyClassifier      DC      \n",
       "1                   XGBClassifier    XGBC      \n",
       "2  HistGradientBoostingClassifier    HGBC      \n",
       "3                             SVC     SVC      \n",
       "4              LogisticRegression  LogReg      \n",
       "5          RandomForestClassifier     RFC      \n",
       "6                LinearRegression  LinReg      \n",
       "7                   MLPClassifier    MLPC      \n",
       "\n",
       "  model                                                                                                 \n",
       "0  (ColumnTransformer(remainder='passthrough',\\n                  transformers=[('pipeline',\\n     ...  \n",
       "1  (ColumnTransformer(remainder='passthrough',\\n                  transformers=[('pipeline',\\n     ...  \n",
       "2  (ColumnTransformer(remainder='passthrough',\\n                  transformers=[('pipeline',\\n     ...  \n",
       "3  (ColumnTransformer(remainder='passthrough',\\n                  transformers=[('pipeline',\\n     ...  \n",
       "4  (ColumnTransformer(remainder='passthrough',\\n                  transformers=[('pipeline',\\n     ...  \n",
       "5  (ColumnTransformer(remainder='passthrough',\\n                  transformers=[('pipeline',\\n     ...  \n",
       "6  (ColumnTransformer(remainder='passthrough',\\n                  transformers=[('pipeline',\\n     ...  \n",
       "7  (ColumnTransformer(remainder='passthrough',\\n                  transformers=[('pipeline',\\n     ...  "
      ]
     },
     "execution_count": 586,
     "metadata": {},
     "output_type": "execute_result"
    }
   ],
   "source": [
    "pipelines_list = [\n",
    "                  Pipeline([('PT', preprocessing_tree),\n",
    "                            ('DC', DummyClassifier(random_state=RS))]),\n",
    "    \n",
    "                  Pipeline([\n",
    "#                             ('Drop_Features', DropFeatures(features_to_drop=feature_drop_XGBC)),\n",
    "                            ('PT', preprocessing_tree),\n",
    "                            ('XGBC', XGBClassifier(objective='binary:logistic', eval_metric='auc', random_state=RS))]),\n",
    "\n",
    "                  Pipeline([('PT', preprocessing_tree),\n",
    "                            ('HGBC', HistGradientBoostingClassifier(random_state=RS))]),\n",
    "    \n",
    "                  Pipeline([('PL', preprocessing_linr),\n",
    "                            ('SVC', SVC(probability=True, cache_size=4000, random_state=RS))]),\n",
    "    \n",
    "                  Pipeline([('PL', preprocessing_linr),\n",
    "                            ('ST', SplineTransformer()),\n",
    "                            ('LogReg', LogisticRegression())]),\n",
    "    \n",
    "                  Pipeline([('PT', preprocessing_tree),\n",
    "                            ('RFC', RandomForestClassifier(random_state=RS))]),\n",
    "                  \n",
    "                  Pipeline([\n",
    "#                             ('Drop_Features', DropFeatures(features_to_drop=feature_drop_LinReg)),\n",
    "                            ('PL', preprocessing_linr),\n",
    "                            ('ST', SplineTransformer()),\n",
    "                            ('LinReg', LinearRegression())]),\n",
    "    \n",
    "                  Pipeline([\n",
    "#                             ('Drop_Features', DropFeatures(features_to_drop=feature_drop_MLPC)),\n",
    "                            ('PL', preprocessing_linr),\n",
    "                            ('MLPC', MLPClassifier(random_state=RS))]),\n",
    "    \n",
    "                 ]\n",
    "\n",
    "names_list = ['DummyClassifier','XGBClassifier','HistGradientBoostingClassifier',\n",
    "              'SVC','LogisticRegression','RandomForestClassifier','LinearRegression',\n",
    "              'MLPClassifier',\n",
    "             ]\n",
    "\n",
    "short_names_list = ['DC','XGBC','HGBC','SVC','LogReg','RFC','LinReg','MLPC']\n",
    "\n",
    "models = pd.DataFrame(\n",
    "                      data={'name': names_list,\n",
    "                            'short_name': short_names_list,\n",
    "                            'model': pipelines_list,\n",
    "                           },\n",
    "                     )\n",
    "models"
   ]
  },
  {
   "cell_type": "markdown",
   "id": "58c8f2a8",
   "metadata": {},
   "source": [
    "В таблице моделей необходимо оставить только те, что есть в списке ESTIMATOR_LIST (то есть удалить лишние)."
   ]
  },
  {
   "cell_type": "code",
   "execution_count": 587,
   "id": "8c3f4a39",
   "metadata": {},
   "outputs": [
    {
     "data": {
      "text/html": [
       "<div>\n",
       "<style scoped>\n",
       "    .dataframe tbody tr th:only-of-type {\n",
       "        vertical-align: middle;\n",
       "    }\n",
       "\n",
       "    .dataframe tbody tr th {\n",
       "        vertical-align: top;\n",
       "    }\n",
       "\n",
       "    .dataframe thead th {\n",
       "        text-align: right;\n",
       "    }\n",
       "</style>\n",
       "<table border=\"1\" class=\"dataframe\">\n",
       "  <thead>\n",
       "    <tr style=\"text-align: left;\">\n",
       "      <th></th>\n",
       "      <th>index</th>\n",
       "      <th>name</th>\n",
       "      <th>short_name</th>\n",
       "      <th>model</th>\n",
       "    </tr>\n",
       "  </thead>\n",
       "  <tbody>\n",
       "    <tr>\n",
       "      <th>0</th>\n",
       "      <td>7</td>\n",
       "      <td>MLPClassifier</td>\n",
       "      <td>MLPC</td>\n",
       "      <td>(ColumnTransformer(remainder='passthrough',\\n                  transformers=[('pipeline',\\n     ...</td>\n",
       "    </tr>\n",
       "  </tbody>\n",
       "</table>\n",
       "</div>"
      ],
      "text/plain": [
       "   index name           short_name  \\\n",
       "0  7      MLPClassifier  MLPC        \n",
       "\n",
       "  model                                                                                                 \n",
       "0  (ColumnTransformer(remainder='passthrough',\\n                  transformers=[('pipeline',\\n     ...  "
      ]
     },
     "execution_count": 587,
     "metadata": {},
     "output_type": "execute_result"
    }
   ],
   "source": [
    "for item in range(models.shape[0]):\n",
    "    if models.loc[item,'name'] not in ESTIMATOR_LIST:\n",
    "        models = models.drop(item, axis=0)\n",
    "        \n",
    "models = models.reset_index()\n",
    "\n",
    "models"
   ]
  },
  {
   "cell_type": "markdown",
   "id": "088da08f",
   "metadata": {},
   "source": [
    "### Подбор гиперпараметров"
   ]
  },
  {
   "cell_type": "markdown",
   "id": "2e804053",
   "metadata": {},
   "source": [
    "#### Objective functions для Optuna"
   ]
  },
  {
   "cell_type": "code",
   "execution_count": 588,
   "id": "9737a39f",
   "metadata": {},
   "outputs": [],
   "source": [
    "def objective_DC(trial):\n",
    "\n",
    "    params = {'DC__strategy': trial.suggest_categorical('DC__strategy', ['most_frequent', 'prior','stratified','uniform'])}\n",
    "    model.set_params(**params)\n",
    "    cv_SKF = StratifiedKFold(n_splits=5)\n",
    "    \n",
    "    return cross_val_score(model, X_train, Y_train, scoring=SCORING, cv=cv_SKF, n_jobs=-1).mean()"
   ]
  },
  {
   "cell_type": "code",
   "execution_count": 589,
   "id": "a2bf4f48",
   "metadata": {},
   "outputs": [],
   "source": [
    "def objective_XGBC(trial):\n",
    "\n",
    "    params = {\n",
    "              'XGBC__max_depth': trial.suggest_int('XGBC__max_depth', 1, 20),\n",
    "              'XGBC__n_estimators': trial.suggest_int('XGBC__n_estimators', 10, 200, log=True),\n",
    "              'XGBC__subsample': trial.suggest_float('XGBC__subsample', 0.3, 1.0),\n",
    "#               'XGBC__colsample_bytree': trial.suggest_float('XGBC__colsample_bytree', 0.3, 1.0),\n",
    "              'XGBC__scale_pos_weight': trial.suggest_float('XGBC__scale_pos_weight', 0.4, 0.6),\n",
    "              'XGBC__learning_rate': trial.suggest_float('XGBC__learning_rate', 0.01, 0.99),\n",
    "              'XGBC__gamma': trial.suggest_float('XGBC__gamma', 0.1, 10, log=True),\n",
    "              'XGBC__min_child_weight': trial.suggest_float('XGBC__min_child_weight', 0.1, 10, log=True),\n",
    "              'XGBC__lambda': trial.suggest_float('XGBC__lambda', 0.1, 10, log=True),\n",
    "#               'XGBC__max_leaves': trial.suggest_int('XGBC__max_leaves', 2, 200, log=True),\n",
    "#               'XGBC__max_bin': trial.suggest_int('XGBC__max_bin', 10, 1000, log=True),\n",
    "             }\n",
    "    model.set_params(**params)\n",
    "    cv_SKF = StratifiedKFold(n_splits=N_CV)\n",
    "    \n",
    "    return cross_val_score(model, X_train, Y_train, scoring=SCORING, cv=cv_SKF, n_jobs=-1).mean()"
   ]
  },
  {
   "cell_type": "code",
   "execution_count": 590,
   "id": "31bf8d31",
   "metadata": {},
   "outputs": [],
   "source": [
    "def objective_HGBC(trial):\n",
    "\n",
    "    params = {\n",
    "              'HGBC__max_depth': trial.suggest_int('HGBC__max_depth', 2, 200),\n",
    "              'HGBC__max_leaf_nodes': trial.suggest_int('HGBC__max_leaf_nodes', 2, 100),\n",
    "              'HGBC__learning_rate': trial.suggest_float('HGBC__learning_rate', 0.01, 1.0, log=True),\n",
    "              'HGBC__max_iter': trial.suggest_int('HGBC__max_iter', 10, 500, log=True),\n",
    "#               'HGBC__l2_regularization': trial.suggest_float('HGBC__l2_regularization', 0.001, 1000),\n",
    "              'HGBC__max_bins': trial.suggest_int('HGBC__max_bins', 5, 255),\n",
    "             }\n",
    "    model.set_params(**params)\n",
    "    cv_SKF = StratifiedKFold(n_splits=N_CV)\n",
    "    \n",
    "    return cross_val_score(model, X_train, Y_train, scoring=SCORING, cv=cv_SKF, n_jobs=-1).mean()"
   ]
  },
  {
   "cell_type": "code",
   "execution_count": 591,
   "id": "55a89c4c",
   "metadata": {},
   "outputs": [],
   "source": [
    "def objective_SVC(trial):\n",
    "\n",
    "    params = {\n",
    "              'SVC__C': trial.suggest_float('SVC__C', 0.1, 1),\n",
    "              'SVC__kernel': trial.suggest_categorical('SVC__kernel', ['linear', 'poly', 'rbf', 'sigmoid']),\n",
    "              'SVC__degree': trial.suggest_int('SVC__degree', 1, 3),\n",
    "             }\n",
    "    model.set_params(**params)\n",
    "    cv_SKF = StratifiedKFold(n_splits=N_CV)\n",
    "    \n",
    "    return cross_val_score(model, X_train, Y_train, scoring=SCORING, cv=cv_SKF, n_jobs=-1).mean()"
   ]
  },
  {
   "cell_type": "code",
   "execution_count": 592,
   "id": "bc1d9050",
   "metadata": {},
   "outputs": [],
   "source": [
    "def objective_LogReg(trial):\n",
    "\n",
    "    params = {\n",
    "              'ST__n_knots': trial.suggest_int('ST__n_knots', 2, 16),\n",
    "              'ST__degree': trial.suggest_int('ST__degree', 1, 4),\n",
    "        \n",
    "              'LogReg__C': trial.suggest_float('LogReg__C', 0.1, 10),\n",
    "#               'LogReg__penalty': trial.suggest_categorical('LogReg__penalty', ['l1', 'l2', 'elasticnet']),\n",
    "              'LogReg__solver': trial.suggest_categorical('LogReg__solver', ['lbfgs', 'liblinear', 'newton-cg', 'sag', 'saga']),\n",
    "              'LogReg__max_iter': trial.suggest_int('LogReg__max_iter', 10, 300, log=True),\n",
    "             }\n",
    "    model.set_params(**params)\n",
    "    cv_SKF = StratifiedKFold(n_splits=N_CV)\n",
    "    \n",
    "    return cross_val_score(model, X_train, Y_train, scoring=SCORING, cv=cv_SKF, n_jobs=-1).mean()"
   ]
  },
  {
   "cell_type": "code",
   "execution_count": 593,
   "id": "c3f2998f",
   "metadata": {},
   "outputs": [],
   "source": [
    "def objective_RFC(trial):\n",
    "\n",
    "    params = {\n",
    "              'RFC__n_estimators': trial.suggest_int('RFC__n_estimators', 50, 1000, log=True),\n",
    "              'RFC__max_depth': trial.suggest_int('RFC__max_depth', 1, 50),\n",
    "              'RFC__class_weight': trial.suggest_categorical('RFC__class_weight', ['balanced', 'balanced_subsample', None]),\n",
    "             }\n",
    "    model.set_params(**params)\n",
    "    cv_SKF = StratifiedKFold(n_splits=5)\n",
    "    \n",
    "    return cross_val_score(model, X_train, Y_train, scoring=SCORING, cv=cv_SKF, n_jobs=-1).mean()"
   ]
  },
  {
   "cell_type": "code",
   "execution_count": 594,
   "id": "62a3340d",
   "metadata": {},
   "outputs": [],
   "source": [
    "def objective_LinReg(trial):\n",
    "\n",
    "    params = {\n",
    "              'ST__n_knots': trial.suggest_int('ST__n_knots', 2, 16),\n",
    "              'ST__degree': trial.suggest_int('ST__degree', 1, 4),\n",
    "             }\n",
    "    model.set_params(**params)\n",
    "    cv_SKF = StratifiedKFold(n_splits=N_CV)\n",
    "    \n",
    "    return cross_val_score(model, X_train, Y_train, scoring=SCORING, cv=cv_SKF, n_jobs=-1).mean()"
   ]
  },
  {
   "cell_type": "code",
   "execution_count": 595,
   "id": "a1d30e2f",
   "metadata": {},
   "outputs": [],
   "source": [
    "def objective_KNC(trial):\n",
    "\n",
    "    params = {\n",
    "              'KNC__n_neighbors': trial.suggest_int('KNC__n_neighbors', 1, 11),\n",
    "              'KNC__weights': trial.suggest_categorical('KNC__weights', ['uniform', 'distance']),\n",
    "#               'RNC__leaf_size': trial.suggest_int('RNC__leaf_size', 10, 40, log=True),\n",
    "             }\n",
    "    model.set_params(**params)\n",
    "    cv_SKF = StratifiedKFold(n_splits=N_CV)\n",
    "    \n",
    "    return cross_val_score(model, X_train, Y_train, scoring=SCORING, cv=cv_SKF, n_jobs=-1).mean()"
   ]
  },
  {
   "cell_type": "code",
   "execution_count": 596,
   "id": "afc418e7",
   "metadata": {},
   "outputs": [],
   "source": [
    "def objective_MLPC(trial):\n",
    "\n",
    "    params = {\n",
    "              'MLPC__hidden_layer_sizes': trial.suggest_categorical('MLPC__hidden_layer_sizes', [(100,50,10),(50,20,),(50,20,10,),(20,20,10,10,)]),\n",
    "              'MLPC__activation': trial.suggest_categorical('MLPC__activation', ['identity','logistic','tanh','relu']),\n",
    "              'MLPC__solver': trial.suggest_categorical('MLPC__solver', ['lbfgs','sgd','adam']),\n",
    "              'MLPC__learning_rate': trial.suggest_categorical('MLPC__learning_rate', ['constant','invscaling','adaptive']),\n",
    "              'MLPC__learning_rate_init': trial.suggest_float('MLPC__learning_rate_init', 0.00005, 0.01, log=True),\n",
    "              'MLPC__power_t': trial.suggest_float('MLPC__power_t', 0.1, 0.9),\n",
    "              'MLPC__momentum': trial.suggest_float('MLPC__momentum', 0.1, 0.99),\n",
    "              'MLPC__max_iter': trial.suggest_int('MLPC__max_iter', 2, 200, log=True),\n",
    "              'MLPC__batch_size': trial.suggest_int('MLPC__batch_size', 50, 500, log=True),\n",
    "              'MLPC__alpha': trial.suggest_float('MLPC__alpha', 0.0001, 1, log=True),\n",
    "             }\n",
    "    model.set_params(**params)\n",
    "    cv_SKF = StratifiedKFold(n_splits=N_CV)\n",
    "    \n",
    "    return cross_val_score(model, X_train, Y_train, scoring=SCORING, cv=cv_SKF, n_jobs=-1).mean()"
   ]
  },
  {
   "cell_type": "markdown",
   "id": "fbb7df53",
   "metadata": {},
   "source": [
    "#### Вызов Optuna"
   ]
  },
  {
   "cell_type": "code",
   "execution_count": 597,
   "id": "c6140395",
   "metadata": {
    "scrolled": false
   },
   "outputs": [
    {
     "name": "stderr",
     "output_type": "stream",
     "text": [
      "Best trial: 101. Best value: 0.806029:  13%|█▎        | 129/1000 [1:14:12<8:21:01, 34.51s/it, 4452.25/3600 seconds] \n"
     ]
    },
    {
     "name": "stdout",
     "output_type": "stream",
     "text": [
      "\n",
      "\u001b[1mMLPClassifier\u001b[0m\n",
      "\n",
      "Количество попыток: 129\n",
      "Лучший результат: \u001b[1m0.8060\u001b[0m\n",
      "\n",
      "Комбинация гиперпараметров:\n",
      "{\n",
      " \"MLPC__activation\": \"tanh\",\n",
      " \"MLPC__alpha\": 0.11500516047529719,\n",
      " \"MLPC__batch_size\": 245,\n",
      " \"MLPC__hidden_layer_sizes\": [\n",
      "  50,\n",
      "  20\n",
      " ],\n",
      " \"MLPC__learning_rate\": \"invscaling\",\n",
      " \"MLPC__learning_rate_init\": 0.0007184213682589532,\n",
      " \"MLPC__max_iter\": 93,\n",
      " \"MLPC__momentum\": 0.84879187933645,\n",
      " \"MLPC__power_t\": 0.29125089616951116,\n",
      " \"MLPC__solver\": \"lbfgs\"\n",
      "} \n",
      "\n"
     ]
    }
   ],
   "source": [
    "for item in range(models.shape[0]):\n",
    "    \n",
    "    model = models.loc[item,'model']\n",
    "\n",
    "    # создание объекта optuna.study\n",
    "    study = optuna.create_study(\n",
    "                                study_name=models.loc[item,'name'],\n",
    "                                direction=\"maximize\",\n",
    "                                sampler=optuna.samplers.TPESampler(seed=RS)\n",
    "                               )\n",
    "\n",
    "    # оптимизация (подбор гиперпараметров)\n",
    "    study.optimize(eval(f\"objective_{models.loc[item,'short_name']}\"),\n",
    "                   n_trials=N_TRIALS, timeout=TIMEOUT, show_progress_bar=True, n_jobs=-1)\n",
    "\n",
    "    # извлечение и обучение лучшей модели (здесь можно сделать обучение на полном наборе данных X, Y)\n",
    "    model.set_params(**study.best_params).fit(X_train, Y_train)\n",
    "\n",
    "    # сохранение результатов в таблице моделей\n",
    "    models.loc[item,'model'] = model\n",
    "    models.loc[item,'study'] = study\n",
    "    models.loc[item,'features'] = ', '.join(model.feature_names_in_)\n",
    "\n",
    "    print(f'{CR}{f.BOLD}{study.study_name}{f.END}{CR}')\n",
    "    print(f'Количество попыток: {len(study.trials)}')\n",
    "    print(f'Лучший результат: {f.BOLD}{study.best_value:0.4f}{f.END}{CR}')\n",
    "    print('Комбинация гиперпараметров:')\n",
    "    print(json.dumps(study.best_params, indent=1, sort_keys=True), f'{CR}')"
   ]
  },
  {
   "cell_type": "markdown",
   "id": "71a5f0bf",
   "metadata": {},
   "source": [
    "### Визуализация результатов подбора гиперпараметров\n",
    "\n",
    "Помогает cкорректировать процесс подбора."
   ]
  },
  {
   "cell_type": "code",
   "execution_count": 598,
   "id": "f91b9c11",
   "metadata": {},
   "outputs": [
    {
     "data": {
      "application/vnd.plotly.v1+json": {
       "config": {
        "plotlyServerURL": "https://plot.ly"
       },
       "data": [
        {
         "marker": {
          "color": "Darkgrey",
          "colorbar": {
           "title": {
            "text": "Trial"
           },
           "x": 1,
           "xpad": 40
          },
          "colorscale": [
           [
            0,
            "rgb(247,251,255)"
           ],
           [
            0.125,
            "rgb(222,235,247)"
           ],
           [
            0.25,
            "rgb(198,219,239)"
           ],
           [
            0.375,
            "rgb(158,202,225)"
           ],
           [
            0.5,
            "rgb(107,174,214)"
           ],
           [
            0.625,
            "rgb(66,146,198)"
           ],
           [
            0.75,
            "rgb(33,113,181)"
           ],
           [
            0.875,
            "rgb(8,81,156)"
           ],
           [
            1,
            "rgb(8,48,107)"
           ]
          ],
          "line": {
           "color": "Black",
           "width": 1
          },
          "opacity": 0.2,
          "showscale": true,
          "size": 3
         },
         "mode": "markers",
         "showlegend": false,
         "type": "scatter",
         "x": [
          "identity",
          "logistic",
          "identity",
          "identity",
          "tanh",
          "identity",
          "tanh",
          "relu",
          "identity",
          "tanh",
          "relu",
          "relu",
          "relu",
          "relu",
          "logistic",
          "relu",
          "identity",
          "logistic",
          "relu",
          "logistic",
          "tanh",
          "identity",
          "logistic",
          "tanh",
          "logistic",
          "tanh",
          "relu",
          "logistic",
          "relu",
          "relu",
          "relu",
          "relu",
          "relu",
          "relu",
          "relu",
          "relu",
          "relu",
          "relu",
          "relu",
          "relu",
          "relu",
          "relu",
          "relu",
          "relu",
          "relu",
          "tanh",
          "relu",
          "relu",
          "relu",
          "tanh",
          "tanh",
          "tanh",
          "tanh",
          "tanh",
          "tanh",
          "tanh",
          "tanh",
          "tanh",
          "tanh",
          "tanh",
          "tanh",
          "tanh",
          "tanh",
          "tanh",
          "tanh",
          "tanh",
          "tanh",
          "tanh",
          "tanh",
          "tanh",
          "tanh",
          "tanh",
          "tanh",
          "tanh",
          "tanh",
          "tanh",
          "tanh",
          "tanh",
          "tanh",
          "tanh",
          "tanh",
          "tanh",
          "identity",
          "tanh",
          "identity",
          "identity",
          "tanh",
          "identity",
          "identity",
          "tanh",
          "identity",
          "tanh",
          "identity",
          "identity",
          "identity",
          "identity",
          "identity",
          "identity",
          "tanh",
          "tanh",
          "tanh",
          "tanh",
          "tanh",
          "logistic",
          "logistic",
          "logistic",
          "tanh",
          "logistic",
          "logistic",
          "logistic",
          "logistic",
          "tanh",
          "logistic",
          "logistic",
          "logistic",
          "logistic",
          "logistic",
          "logistic",
          "logistic",
          "tanh",
          "tanh",
          "tanh",
          "tanh",
          "tanh",
          "tanh",
          "tanh",
          "tanh",
          "tanh",
          "tanh"
         ],
         "xaxis": "x",
         "y": [
          0.8039319490473605,
          0.8050113561076104,
          0.8051694458734472,
          0.8050396254228935,
          0.805205568334222,
          0.804939127512597,
          0.8052528907986536,
          0.805205568334222,
          0.805205568334222,
          0.8005617382464406,
          0.8055799194768671,
          0.8055799194768671,
          0.8055799194768671,
          0.8055799194768671,
          0.8055799194768671,
          0.8055799194768671,
          0.799665448877115,
          0.8004565144777599,
          0.7863385175612394,
          0.8037609442244132,
          0.8010462652689906,
          0.7996669478012236,
          0.42011446307081607,
          0.8038191359788552,
          0.7997179597903943,
          0.8057994854994057,
          0.8058263939302487,
          0.47178240450056474,
          0.7905055199103558,
          0.7939758122295435,
          0.7923684663706522,
          0.791501076979501,
          0.7921751505023412,
          0.8048521875363589,
          0.8047199469993002,
          0.8019010975958508,
          0.7980232627215751,
          0.7986092674248728,
          0.8000224066666867,
          0.8000757719727349,
          0.8004470337572223,
          0.7989732438442463,
          0.8033175803119079,
          0.8030954681631215,
          0.8046600269529964,
          0.8035130432138168,
          0.8035951958449365,
          0.8033166157251077,
          0.8026385184989226,
          0.8058000377367668,
          0.8058125878756919,
          0.8058640168927693,
          0.8056257355841427,
          0.8058337560838871,
          0.8058613796085137,
          0.8058382269659529,
          0.8027051963315877,
          0.8035952584777091,
          0.8035950665884153,
          0.8039361987885105,
          0.802704730887586,
          0.8045182213631751,
          0.8035951972403709,
          0.8043924291026443,
          0.804575091718333,
          0.8058773068325309,
          0.8059108373544766,
          0.8058637887736685,
          0.8058324406731334,
          0.8058138118886718,
          0.8058699526630992,
          0.8058732579987685,
          0.8058471745028172,
          0.8059543942008542,
          0.8058757252467664,
          0.8058350440728368,
          0.8058493106517549,
          0.8058194389759021,
          0.8058287146863181,
          0.8058756358436101,
          0.8057996758335267,
          0.8058611155262707,
          0.7996642489139104,
          0.805861937345105,
          0.7996642734060486,
          0.7996643019786563,
          0.8058920143670998,
          0.7996643019786563,
          0.7996643019786563,
          0.8060134024835733,
          0.7996630568433181,
          0.8057544144066222,
          0.7996643019786563,
          0.7996083791339866,
          0.79963154491412,
          0.799695666763541,
          0.7996643019786537,
          0.799656516881854,
          0.8050879169412808,
          0.805255707423773,
          0.8051158299662692,
          0.806029077621093,
          0.8046337619307209,
          0.800134178773266,
          0.7998210796166856,
          0.7997635140111644,
          0.805233859138245,
          0.7997294312640862,
          0.7998423154208509,
          0.799735760170175,
          0.8040839804702073,
          0.8058053661857519,
          0.804223120827902,
          0.8042598015404542,
          0.8039456573927841,
          0.8040231265803384,
          0.8042721767087533,
          0.8049353861467778,
          0.8056413482976691,
          0.8058053590346574,
          0.8059181037512266,
          0.8059937891589242,
          0.8059815089757546,
          0.805913701783752,
          0.8057539506987113,
          0.8057601901288078,
          0.8057666786681956,
          0.8057824580753321,
          0.8057554246329455
         ],
         "yaxis": "y"
        },
        {
         "marker": {
          "color": "Darkgrey",
          "colorbar": {
           "title": {
            "text": "Trial"
           },
           "x": 1,
           "xpad": 40
          },
          "colorscale": [
           [
            0,
            "rgb(247,251,255)"
           ],
           [
            0.125,
            "rgb(222,235,247)"
           ],
           [
            0.25,
            "rgb(198,219,239)"
           ],
           [
            0.375,
            "rgb(158,202,225)"
           ],
           [
            0.5,
            "rgb(107,174,214)"
           ],
           [
            0.625,
            "rgb(66,146,198)"
           ],
           [
            0.75,
            "rgb(33,113,181)"
           ],
           [
            0.875,
            "rgb(8,81,156)"
           ],
           [
            1,
            "rgb(8,48,107)"
           ]
          ],
          "line": {
           "color": "Black",
           "width": 1
          },
          "opacity": 0.2,
          "showscale": false,
          "size": 3
         },
         "mode": "markers",
         "showlegend": false,
         "type": "scatter",
         "x": [
          0.13281299596812662,
          0.009118806660389797,
          0.12207667507401107,
          0.00043540061065302696,
          0.19973681371320312,
          0.002740420360314875,
          0.024180653340246713,
          0.0020477375955767255,
          0.0024064928460703185,
          0.01180546585820185,
          0.470476387551983,
          0.00028207256673652757,
          0.0003571633099727836,
          0.035895720036602345,
          0.0008906337829781544,
          0.0005648407706700723,
          0.038149851445067745,
          0.001226796097489377,
          0.019025827397269296,
          0.001270418908320726,
          0.0018189279699328726,
          0.8856386184619658,
          0.05384033719757909,
          0.07886395461602827,
          0.00017550545982631036,
          0.8887315758563168,
          0.00013416180877579405,
          0.00015351641834907416,
          0.00012017035959506322,
          0.761160118300482,
          0.7962218263641,
          0.0001225617558594555,
          0.7231955194701486,
          0.00010733316086811605,
          0.00010894244949578626,
          0.8316371345000723,
          0.00015372452003263788,
          0.00011568946886638006,
          0.00010634916690562961,
          0.00010299910352357836,
          0.00011913838781648824,
          0.00028288085352906774,
          0.00010543876885299423,
          0.00031050541842784916,
          0.44426985087797166,
          0.3356538991513904,
          0.3286265813074384,
          0.3684993863183654,
          0.2741474375931752,
          0.3777067595355365,
          0.3230140968533872,
          0.38129896517334627,
          0.2833725570373288,
          0.3132287116627601,
          0.32341951289427273,
          0.3222457147221017,
          0.000303371308897464,
          0.0038947093538659896,
          0.0002654706447473537,
          0.0002658394398706131,
          0.23237877228128606,
          0.15040567867276078,
          0.0033036159737873314,
          0.13917659900953178,
          0.004801779785179678,
          0.16608805886228556,
          0.16315721325927918,
          0.1403638835947833,
          0.142159743032804,
          0.19298427646321145,
          0.1810379271675205,
          0.17571139066933925,
          0.1696531426091429,
          0.1822016706992077,
          0.1675610577235656,
          0.182482018992116,
          0.14492682380686764,
          0.5576845064808217,
          0.6065844076959247,
          0.18357257157431972,
          0.17745396564607496,
          0.19883442841280033,
          0.18812126713257066,
          0.19301002628617062,
          0.1991153290097723,
          0.10057480652128953,
          0.09815785768970588,
          0.09904068072161987,
          0.09933429065177503,
          0.08627594959056524,
          0.1197424304642022,
          0.09977600676972438,
          0.10087836092107351,
          0.10603506230595096,
          0.08383752365009584,
          0.10998981713686169,
          0.10527960290342014,
          0.10654650135470341,
          0.10067507456517184,
          0.09662625809422648,
          0.10561575730295678,
          0.11500516047529719,
          0.2435816570441697,
          0.06902219040368306,
          0.08206825564328646,
          0.24136639457169046,
          0.07260353654058034,
          0.24064123324596898,
          0.06727975804073176,
          0.2736969996050988,
          0.08094129638010013,
          0.07532987149069956,
          0.234646849512771,
          0.2542700109969543,
          0.06784209347264791,
          0.2551554703761662,
          0.23809502953013992,
          0.25693931758501265,
          0.05914917604335439,
          0.1305112564103281,
          0.2412624973920765,
          0.0589333397075374,
          0.24610634993601516,
          0.05967118943358443,
          0.15437775524486452,
          0.15966124991079844,
          0.13184669437826352,
          0.1290317854163704,
          0.15766754120963755
         ],
         "xaxis": "x2",
         "y": [
          0.8039319490473605,
          0.8050113561076104,
          0.8051694458734472,
          0.8050396254228935,
          0.805205568334222,
          0.804939127512597,
          0.8052528907986536,
          0.805205568334222,
          0.805205568334222,
          0.8005617382464406,
          0.8055799194768671,
          0.8055799194768671,
          0.8055799194768671,
          0.8055799194768671,
          0.8055799194768671,
          0.8055799194768671,
          0.799665448877115,
          0.8004565144777599,
          0.7863385175612394,
          0.8037609442244132,
          0.8010462652689906,
          0.7996669478012236,
          0.42011446307081607,
          0.8038191359788552,
          0.7997179597903943,
          0.8057994854994057,
          0.8058263939302487,
          0.47178240450056474,
          0.7905055199103558,
          0.7939758122295435,
          0.7923684663706522,
          0.791501076979501,
          0.7921751505023412,
          0.8048521875363589,
          0.8047199469993002,
          0.8019010975958508,
          0.7980232627215751,
          0.7986092674248728,
          0.8000224066666867,
          0.8000757719727349,
          0.8004470337572223,
          0.7989732438442463,
          0.8033175803119079,
          0.8030954681631215,
          0.8046600269529964,
          0.8035130432138168,
          0.8035951958449365,
          0.8033166157251077,
          0.8026385184989226,
          0.8058000377367668,
          0.8058125878756919,
          0.8058640168927693,
          0.8056257355841427,
          0.8058337560838871,
          0.8058613796085137,
          0.8058382269659529,
          0.8027051963315877,
          0.8035952584777091,
          0.8035950665884153,
          0.8039361987885105,
          0.802704730887586,
          0.8045182213631751,
          0.8035951972403709,
          0.8043924291026443,
          0.804575091718333,
          0.8058773068325309,
          0.8059108373544766,
          0.8058637887736685,
          0.8058324406731334,
          0.8058138118886718,
          0.8058699526630992,
          0.8058732579987685,
          0.8058471745028172,
          0.8059543942008542,
          0.8058757252467664,
          0.8058350440728368,
          0.8058493106517549,
          0.8058194389759021,
          0.8058287146863181,
          0.8058756358436101,
          0.8057996758335267,
          0.8058611155262707,
          0.7996642489139104,
          0.805861937345105,
          0.7996642734060486,
          0.7996643019786563,
          0.8058920143670998,
          0.7996643019786563,
          0.7996643019786563,
          0.8060134024835733,
          0.7996630568433181,
          0.8057544144066222,
          0.7996643019786563,
          0.7996083791339866,
          0.79963154491412,
          0.799695666763541,
          0.7996643019786537,
          0.799656516881854,
          0.8050879169412808,
          0.805255707423773,
          0.8051158299662692,
          0.806029077621093,
          0.8046337619307209,
          0.800134178773266,
          0.7998210796166856,
          0.7997635140111644,
          0.805233859138245,
          0.7997294312640862,
          0.7998423154208509,
          0.799735760170175,
          0.8040839804702073,
          0.8058053661857519,
          0.804223120827902,
          0.8042598015404542,
          0.8039456573927841,
          0.8040231265803384,
          0.8042721767087533,
          0.8049353861467778,
          0.8056413482976691,
          0.8058053590346574,
          0.8059181037512266,
          0.8059937891589242,
          0.8059815089757546,
          0.805913701783752,
          0.8057539506987113,
          0.8057601901288078,
          0.8057666786681956,
          0.8057824580753321,
          0.8057554246329455
         ],
         "yaxis": "y2"
        },
        {
         "marker": {
          "color": "Darkgrey",
          "colorbar": {
           "title": {
            "text": "Trial"
           },
           "x": 1,
           "xpad": 40
          },
          "colorscale": [
           [
            0,
            "rgb(247,251,255)"
           ],
           [
            0.125,
            "rgb(222,235,247)"
           ],
           [
            0.25,
            "rgb(198,219,239)"
           ],
           [
            0.375,
            "rgb(158,202,225)"
           ],
           [
            0.5,
            "rgb(107,174,214)"
           ],
           [
            0.625,
            "rgb(66,146,198)"
           ],
           [
            0.75,
            "rgb(33,113,181)"
           ],
           [
            0.875,
            "rgb(8,81,156)"
           ],
           [
            1,
            "rgb(8,48,107)"
           ]
          ],
          "line": {
           "color": "Black",
           "width": 1
          },
          "opacity": 0.2,
          "showscale": false,
          "size": 3
         },
         "mode": "markers",
         "showlegend": false,
         "type": "scatter",
         "x": [
          409,
          337,
          426,
          323,
          179,
          139,
          412,
          137,
          63,
          76,
          50,
          98,
          81,
          168,
          110,
          183,
          105,
          106,
          128,
          74,
          82,
          125,
          67,
          135,
          52,
          241,
          233,
          94,
          50,
          51,
          51,
          51,
          58,
          52,
          50,
          54,
          52,
          50,
          52,
          50,
          51,
          52,
          51,
          61,
          225,
          214,
          213,
          221,
          234,
          217,
          215,
          219,
          213,
          208,
          203,
          212,
          217,
          215,
          224,
          263,
          264,
          295,
          306,
          293,
          68,
          283,
          281,
          268,
          263,
          265,
          261,
          266,
          264,
          260,
          175,
          185,
          190,
          189,
          192,
          191,
          190,
          189,
          174,
          194,
          354,
          188,
          192,
          341,
          334,
          343,
          366,
          327,
          341,
          360,
          361,
          358,
          372,
          247,
          250,
          249,
          245,
          245,
          244,
          247,
          244,
          245,
          246,
          251,
          242,
          242,
          245,
          244,
          237,
          153,
          236,
          171,
          161,
          231,
          159,
          162,
          230,
          162,
          229,
          230,
          229,
          286,
          283,
          272,
          295
         ],
         "xaxis": "x3",
         "y": [
          0.8039319490473605,
          0.8050113561076104,
          0.8051694458734472,
          0.8050396254228935,
          0.805205568334222,
          0.804939127512597,
          0.8052528907986536,
          0.805205568334222,
          0.805205568334222,
          0.8005617382464406,
          0.8055799194768671,
          0.8055799194768671,
          0.8055799194768671,
          0.8055799194768671,
          0.8055799194768671,
          0.8055799194768671,
          0.799665448877115,
          0.8004565144777599,
          0.7863385175612394,
          0.8037609442244132,
          0.8010462652689906,
          0.7996669478012236,
          0.42011446307081607,
          0.8038191359788552,
          0.7997179597903943,
          0.8057994854994057,
          0.8058263939302487,
          0.47178240450056474,
          0.7905055199103558,
          0.7939758122295435,
          0.7923684663706522,
          0.791501076979501,
          0.7921751505023412,
          0.8048521875363589,
          0.8047199469993002,
          0.8019010975958508,
          0.7980232627215751,
          0.7986092674248728,
          0.8000224066666867,
          0.8000757719727349,
          0.8004470337572223,
          0.7989732438442463,
          0.8033175803119079,
          0.8030954681631215,
          0.8046600269529964,
          0.8035130432138168,
          0.8035951958449365,
          0.8033166157251077,
          0.8026385184989226,
          0.8058000377367668,
          0.8058125878756919,
          0.8058640168927693,
          0.8056257355841427,
          0.8058337560838871,
          0.8058613796085137,
          0.8058382269659529,
          0.8027051963315877,
          0.8035952584777091,
          0.8035950665884153,
          0.8039361987885105,
          0.802704730887586,
          0.8045182213631751,
          0.8035951972403709,
          0.8043924291026443,
          0.804575091718333,
          0.8058773068325309,
          0.8059108373544766,
          0.8058637887736685,
          0.8058324406731334,
          0.8058138118886718,
          0.8058699526630992,
          0.8058732579987685,
          0.8058471745028172,
          0.8059543942008542,
          0.8058757252467664,
          0.8058350440728368,
          0.8058493106517549,
          0.8058194389759021,
          0.8058287146863181,
          0.8058756358436101,
          0.8057996758335267,
          0.8058611155262707,
          0.7996642489139104,
          0.805861937345105,
          0.7996642734060486,
          0.7996643019786563,
          0.8058920143670998,
          0.7996643019786563,
          0.7996643019786563,
          0.8060134024835733,
          0.7996630568433181,
          0.8057544144066222,
          0.7996643019786563,
          0.7996083791339866,
          0.79963154491412,
          0.799695666763541,
          0.7996643019786537,
          0.799656516881854,
          0.8050879169412808,
          0.805255707423773,
          0.8051158299662692,
          0.806029077621093,
          0.8046337619307209,
          0.800134178773266,
          0.7998210796166856,
          0.7997635140111644,
          0.805233859138245,
          0.7997294312640862,
          0.7998423154208509,
          0.799735760170175,
          0.8040839804702073,
          0.8058053661857519,
          0.804223120827902,
          0.8042598015404542,
          0.8039456573927841,
          0.8040231265803384,
          0.8042721767087533,
          0.8049353861467778,
          0.8056413482976691,
          0.8058053590346574,
          0.8059181037512266,
          0.8059937891589242,
          0.8059815089757546,
          0.805913701783752,
          0.8057539506987113,
          0.8057601901288078,
          0.8057666786681956,
          0.8057824580753321,
          0.8057554246329455
         ],
         "yaxis": "y3"
        },
        {
         "marker": {
          "color": "Darkgrey",
          "colorbar": {
           "title": {
            "text": "Trial"
           },
           "x": 1,
           "xpad": 40
          },
          "colorscale": [
           [
            0,
            "rgb(247,251,255)"
           ],
           [
            0.125,
            "rgb(222,235,247)"
           ],
           [
            0.25,
            "rgb(198,219,239)"
           ],
           [
            0.375,
            "rgb(158,202,225)"
           ],
           [
            0.5,
            "rgb(107,174,214)"
           ],
           [
            0.625,
            "rgb(66,146,198)"
           ],
           [
            0.75,
            "rgb(33,113,181)"
           ],
           [
            0.875,
            "rgb(8,81,156)"
           ],
           [
            1,
            "rgb(8,48,107)"
           ]
          ],
          "line": {
           "color": "Black",
           "width": 1
          },
          "opacity": 0.2,
          "showscale": false,
          "size": 3
         },
         "mode": "markers",
         "showlegend": false,
         "type": "scatter",
         "x": [
          [
           100,
           50,
           10
          ],
          [
           20,
           20,
           10,
           10
          ],
          [
           50,
           20,
           10
          ],
          [
           20,
           20,
           10,
           10
          ],
          [
           50,
           20,
           10
          ],
          [
           50,
           20
          ],
          [
           20,
           20,
           10,
           10
          ],
          [
           20,
           20,
           10,
           10
          ],
          [
           50,
           20,
           10
          ],
          [
           50,
           20
          ],
          [
           50,
           20
          ],
          [
           100,
           50,
           10
          ],
          [
           50,
           20,
           10
          ],
          [
           50,
           20
          ],
          [
           50,
           20,
           10
          ],
          [
           100,
           50,
           10
          ],
          [
           50,
           20,
           10
          ],
          [
           100,
           50,
           10
          ],
          [
           20,
           20,
           10,
           10
          ],
          [
           50,
           20
          ],
          [
           50,
           20,
           10
          ],
          [
           50,
           20,
           10
          ],
          [
           20,
           20,
           10,
           10
          ],
          [
           50,
           20
          ],
          [
           50,
           20,
           10
          ],
          [
           100,
           50,
           10
          ],
          [
           100,
           50,
           10
          ],
          [
           100,
           50,
           10
          ],
          [
           100,
           50,
           10
          ],
          [
           100,
           50,
           10
          ],
          [
           100,
           50,
           10
          ],
          [
           100,
           50,
           10
          ],
          [
           100,
           50,
           10
          ],
          [
           100,
           50,
           10
          ],
          [
           100,
           50,
           10
          ],
          [
           100,
           50,
           10
          ],
          [
           100,
           50,
           10
          ],
          [
           100,
           50,
           10
          ],
          [
           100,
           50,
           10
          ],
          [
           100,
           50,
           10
          ],
          [
           100,
           50,
           10
          ],
          [
           100,
           50,
           10
          ],
          [
           100,
           50,
           10
          ],
          [
           100,
           50,
           10
          ],
          [
           100,
           50,
           10
          ],
          [
           100,
           50,
           10
          ],
          [
           100,
           50,
           10
          ],
          [
           100,
           50,
           10
          ],
          [
           100,
           50,
           10
          ],
          [
           100,
           50,
           10
          ],
          [
           100,
           50,
           10
          ],
          [
           50,
           20
          ],
          [
           50,
           20
          ],
          [
           50,
           20
          ],
          [
           50,
           20
          ],
          [
           50,
           20
          ],
          [
           50,
           20
          ],
          [
           50,
           20
          ],
          [
           50,
           20
          ],
          [
           50,
           20
          ],
          [
           50,
           20
          ],
          [
           50,
           20
          ],
          [
           50,
           20
          ],
          [
           50,
           20
          ],
          [
           50,
           20
          ],
          [
           50,
           20
          ],
          [
           50,
           20
          ],
          [
           50,
           20
          ],
          [
           50,
           20
          ],
          [
           50,
           20
          ],
          [
           50,
           20
          ],
          [
           50,
           20
          ],
          [
           50,
           20
          ],
          [
           50,
           20
          ],
          [
           50,
           20
          ],
          [
           50,
           20
          ],
          [
           20,
           20,
           10,
           10
          ],
          [
           20,
           20,
           10,
           10
          ],
          [
           20,
           20,
           10,
           10
          ],
          [
           50,
           20
          ],
          [
           20,
           20,
           10,
           10
          ],
          [
           50,
           20
          ],
          [
           50,
           20
          ],
          [
           50,
           20
          ],
          [
           50,
           20
          ],
          [
           50,
           20
          ],
          [
           50,
           20
          ],
          [
           50,
           20
          ],
          [
           50,
           20
          ],
          [
           50,
           20
          ],
          [
           20,
           20,
           10,
           10
          ],
          [
           20,
           20,
           10,
           10
          ],
          [
           50,
           20
          ],
          [
           50,
           20
          ],
          [
           50,
           20
          ],
          [
           50,
           20
          ],
          [
           50,
           20
          ],
          [
           50,
           20
          ],
          [
           50,
           20
          ],
          [
           50,
           20
          ],
          [
           50,
           20
          ],
          [
           50,
           20
          ],
          [
           50,
           20
          ],
          [
           50,
           20
          ],
          [
           50,
           20
          ],
          [
           50,
           20,
           10
          ],
          [
           50,
           20
          ],
          [
           50,
           20
          ],
          [
           50,
           20,
           10
          ],
          [
           50,
           20,
           10
          ],
          [
           50,
           20,
           10
          ],
          [
           50,
           20,
           10
          ],
          [
           50,
           20,
           10
          ],
          [
           50,
           20,
           10
          ],
          [
           50,
           20,
           10
          ],
          [
           50,
           20,
           10
          ],
          [
           50,
           20,
           10
          ],
          [
           50,
           20
          ],
          [
           50,
           20,
           10
          ],
          [
           50,
           20,
           10
          ],
          [
           50,
           20,
           10
          ],
          [
           50,
           20,
           10
          ],
          [
           50,
           20,
           10
          ],
          [
           50,
           20,
           10
          ],
          [
           50,
           20
          ],
          [
           50,
           20
          ],
          [
           50,
           20
          ],
          [
           50,
           20
          ],
          [
           50,
           20
          ]
         ],
         "xaxis": "x4",
         "y": [
          0.8039319490473605,
          0.8050113561076104,
          0.8051694458734472,
          0.8050396254228935,
          0.805205568334222,
          0.804939127512597,
          0.8052528907986536,
          0.805205568334222,
          0.805205568334222,
          0.8005617382464406,
          0.8055799194768671,
          0.8055799194768671,
          0.8055799194768671,
          0.8055799194768671,
          0.8055799194768671,
          0.8055799194768671,
          0.799665448877115,
          0.8004565144777599,
          0.7863385175612394,
          0.8037609442244132,
          0.8010462652689906,
          0.7996669478012236,
          0.42011446307081607,
          0.8038191359788552,
          0.7997179597903943,
          0.8057994854994057,
          0.8058263939302487,
          0.47178240450056474,
          0.7905055199103558,
          0.7939758122295435,
          0.7923684663706522,
          0.791501076979501,
          0.7921751505023412,
          0.8048521875363589,
          0.8047199469993002,
          0.8019010975958508,
          0.7980232627215751,
          0.7986092674248728,
          0.8000224066666867,
          0.8000757719727349,
          0.8004470337572223,
          0.7989732438442463,
          0.8033175803119079,
          0.8030954681631215,
          0.8046600269529964,
          0.8035130432138168,
          0.8035951958449365,
          0.8033166157251077,
          0.8026385184989226,
          0.8058000377367668,
          0.8058125878756919,
          0.8058640168927693,
          0.8056257355841427,
          0.8058337560838871,
          0.8058613796085137,
          0.8058382269659529,
          0.8027051963315877,
          0.8035952584777091,
          0.8035950665884153,
          0.8039361987885105,
          0.802704730887586,
          0.8045182213631751,
          0.8035951972403709,
          0.8043924291026443,
          0.804575091718333,
          0.8058773068325309,
          0.8059108373544766,
          0.8058637887736685,
          0.8058324406731334,
          0.8058138118886718,
          0.8058699526630992,
          0.8058732579987685,
          0.8058471745028172,
          0.8059543942008542,
          0.8058757252467664,
          0.8058350440728368,
          0.8058493106517549,
          0.8058194389759021,
          0.8058287146863181,
          0.8058756358436101,
          0.8057996758335267,
          0.8058611155262707,
          0.7996642489139104,
          0.805861937345105,
          0.7996642734060486,
          0.7996643019786563,
          0.8058920143670998,
          0.7996643019786563,
          0.7996643019786563,
          0.8060134024835733,
          0.7996630568433181,
          0.8057544144066222,
          0.7996643019786563,
          0.7996083791339866,
          0.79963154491412,
          0.799695666763541,
          0.7996643019786537,
          0.799656516881854,
          0.8050879169412808,
          0.805255707423773,
          0.8051158299662692,
          0.806029077621093,
          0.8046337619307209,
          0.800134178773266,
          0.7998210796166856,
          0.7997635140111644,
          0.805233859138245,
          0.7997294312640862,
          0.7998423154208509,
          0.799735760170175,
          0.8040839804702073,
          0.8058053661857519,
          0.804223120827902,
          0.8042598015404542,
          0.8039456573927841,
          0.8040231265803384,
          0.8042721767087533,
          0.8049353861467778,
          0.8056413482976691,
          0.8058053590346574,
          0.8059181037512266,
          0.8059937891589242,
          0.8059815089757546,
          0.805913701783752,
          0.8057539506987113,
          0.8057601901288078,
          0.8057666786681956,
          0.8057824580753321,
          0.8057554246329455
         ],
         "yaxis": "y4"
        },
        {
         "marker": {
          "color": "Darkgrey",
          "colorbar": {
           "title": {
            "text": "Trial"
           },
           "x": 1,
           "xpad": 40
          },
          "colorscale": [
           [
            0,
            "rgb(247,251,255)"
           ],
           [
            0.125,
            "rgb(222,235,247)"
           ],
           [
            0.25,
            "rgb(198,219,239)"
           ],
           [
            0.375,
            "rgb(158,202,225)"
           ],
           [
            0.5,
            "rgb(107,174,214)"
           ],
           [
            0.625,
            "rgb(66,146,198)"
           ],
           [
            0.75,
            "rgb(33,113,181)"
           ],
           [
            0.875,
            "rgb(8,81,156)"
           ],
           [
            1,
            "rgb(8,48,107)"
           ]
          ],
          "line": {
           "color": "Black",
           "width": 1
          },
          "opacity": 0.2,
          "showscale": false,
          "size": 3
         },
         "mode": "markers",
         "showlegend": false,
         "type": "scatter",
         "x": [
          "invscaling",
          "constant",
          "invscaling",
          "constant",
          "constant",
          "invscaling",
          "invscaling",
          "invscaling",
          "adaptive",
          "invscaling",
          "adaptive",
          "constant",
          "constant",
          "invscaling",
          "invscaling",
          "invscaling",
          "invscaling",
          "constant",
          "constant",
          "invscaling",
          "adaptive",
          "adaptive",
          "constant",
          "constant",
          "constant",
          "adaptive",
          "adaptive",
          "adaptive",
          "adaptive",
          "adaptive",
          "adaptive",
          "adaptive",
          "adaptive",
          "adaptive",
          "adaptive",
          "adaptive",
          "adaptive",
          "adaptive",
          "adaptive",
          "adaptive",
          "adaptive",
          "adaptive",
          "adaptive",
          "adaptive",
          "adaptive",
          "adaptive",
          "adaptive",
          "adaptive",
          "adaptive",
          "adaptive",
          "adaptive",
          "adaptive",
          "adaptive",
          "adaptive",
          "constant",
          "constant",
          "constant",
          "constant",
          "constant",
          "constant",
          "constant",
          "constant",
          "constant",
          "constant",
          "constant",
          "constant",
          "constant",
          "adaptive",
          "adaptive",
          "adaptive",
          "adaptive",
          "constant",
          "constant",
          "invscaling",
          "invscaling",
          "invscaling",
          "adaptive",
          "adaptive",
          "adaptive",
          "invscaling",
          "adaptive",
          "constant",
          "constant",
          "constant",
          "constant",
          "constant",
          "constant",
          "constant",
          "constant",
          "invscaling",
          "invscaling",
          "invscaling",
          "invscaling",
          "invscaling",
          "invscaling",
          "invscaling",
          "invscaling",
          "invscaling",
          "invscaling",
          "invscaling",
          "invscaling",
          "invscaling",
          "invscaling",
          "invscaling",
          "invscaling",
          "invscaling",
          "invscaling",
          "invscaling",
          "invscaling",
          "invscaling",
          "invscaling",
          "invscaling",
          "invscaling",
          "invscaling",
          "invscaling",
          "invscaling",
          "invscaling",
          "invscaling",
          "invscaling",
          "invscaling",
          "invscaling",
          "invscaling",
          "invscaling",
          "invscaling",
          "invscaling",
          "invscaling",
          "constant",
          "constant",
          "constant"
         ],
         "xaxis": "x5",
         "y": [
          0.8039319490473605,
          0.8050113561076104,
          0.8051694458734472,
          0.8050396254228935,
          0.805205568334222,
          0.804939127512597,
          0.8052528907986536,
          0.805205568334222,
          0.805205568334222,
          0.8005617382464406,
          0.8055799194768671,
          0.8055799194768671,
          0.8055799194768671,
          0.8055799194768671,
          0.8055799194768671,
          0.8055799194768671,
          0.799665448877115,
          0.8004565144777599,
          0.7863385175612394,
          0.8037609442244132,
          0.8010462652689906,
          0.7996669478012236,
          0.42011446307081607,
          0.8038191359788552,
          0.7997179597903943,
          0.8057994854994057,
          0.8058263939302487,
          0.47178240450056474,
          0.7905055199103558,
          0.7939758122295435,
          0.7923684663706522,
          0.791501076979501,
          0.7921751505023412,
          0.8048521875363589,
          0.8047199469993002,
          0.8019010975958508,
          0.7980232627215751,
          0.7986092674248728,
          0.8000224066666867,
          0.8000757719727349,
          0.8004470337572223,
          0.7989732438442463,
          0.8033175803119079,
          0.8030954681631215,
          0.8046600269529964,
          0.8035130432138168,
          0.8035951958449365,
          0.8033166157251077,
          0.8026385184989226,
          0.8058000377367668,
          0.8058125878756919,
          0.8058640168927693,
          0.8056257355841427,
          0.8058337560838871,
          0.8058613796085137,
          0.8058382269659529,
          0.8027051963315877,
          0.8035952584777091,
          0.8035950665884153,
          0.8039361987885105,
          0.802704730887586,
          0.8045182213631751,
          0.8035951972403709,
          0.8043924291026443,
          0.804575091718333,
          0.8058773068325309,
          0.8059108373544766,
          0.8058637887736685,
          0.8058324406731334,
          0.8058138118886718,
          0.8058699526630992,
          0.8058732579987685,
          0.8058471745028172,
          0.8059543942008542,
          0.8058757252467664,
          0.8058350440728368,
          0.8058493106517549,
          0.8058194389759021,
          0.8058287146863181,
          0.8058756358436101,
          0.8057996758335267,
          0.8058611155262707,
          0.7996642489139104,
          0.805861937345105,
          0.7996642734060486,
          0.7996643019786563,
          0.8058920143670998,
          0.7996643019786563,
          0.7996643019786563,
          0.8060134024835733,
          0.7996630568433181,
          0.8057544144066222,
          0.7996643019786563,
          0.7996083791339866,
          0.79963154491412,
          0.799695666763541,
          0.7996643019786537,
          0.799656516881854,
          0.8050879169412808,
          0.805255707423773,
          0.8051158299662692,
          0.806029077621093,
          0.8046337619307209,
          0.800134178773266,
          0.7998210796166856,
          0.7997635140111644,
          0.805233859138245,
          0.7997294312640862,
          0.7998423154208509,
          0.799735760170175,
          0.8040839804702073,
          0.8058053661857519,
          0.804223120827902,
          0.8042598015404542,
          0.8039456573927841,
          0.8040231265803384,
          0.8042721767087533,
          0.8049353861467778,
          0.8056413482976691,
          0.8058053590346574,
          0.8059181037512266,
          0.8059937891589242,
          0.8059815089757546,
          0.805913701783752,
          0.8057539506987113,
          0.8057601901288078,
          0.8057666786681956,
          0.8057824580753321,
          0.8057554246329455
         ],
         "yaxis": "y5"
        },
        {
         "marker": {
          "color": "Darkgrey",
          "colorbar": {
           "title": {
            "text": "Trial"
           },
           "x": 1,
           "xpad": 40
          },
          "colorscale": [
           [
            0,
            "rgb(247,251,255)"
           ],
           [
            0.125,
            "rgb(222,235,247)"
           ],
           [
            0.25,
            "rgb(198,219,239)"
           ],
           [
            0.375,
            "rgb(158,202,225)"
           ],
           [
            0.5,
            "rgb(107,174,214)"
           ],
           [
            0.625,
            "rgb(66,146,198)"
           ],
           [
            0.75,
            "rgb(33,113,181)"
           ],
           [
            0.875,
            "rgb(8,81,156)"
           ],
           [
            1,
            "rgb(8,48,107)"
           ]
          ],
          "line": {
           "color": "Black",
           "width": 1
          },
          "opacity": 0.2,
          "showscale": false,
          "size": 3
         },
         "mode": "markers",
         "showlegend": false,
         "type": "scatter",
         "x": [
          0.000894129462249482,
          0.0004012912935046734,
          0.00032163160386884014,
          0.008589657556506917,
          0.0008299423276443044,
          0.00010171409424448409,
          0.0010830318405529865,
          0.0002970362275945353,
          0.0001782325032844542,
          0.0007107554710225228,
          0.00033589210588678595,
          0.0008711765626540533,
          0.007274029540251575,
          0.00024498743883542563,
          0.0002245266279257101,
          0.00404336953553843,
          0.0013383983450147663,
          9.24518539508144e-05,
          6.786060221573421e-05,
          5.7589156343957956e-05,
          9.821707596997198e-05,
          0.0028329919014989146,
          0.0012460310744058032,
          0.002282812532961193,
          0.00038756370659173846,
          0.0023948230622575888,
          0.0017161187080437133,
          5.196849445145706e-05,
          5.5083829951680814e-05,
          6.202076163511434e-05,
          6.224422020944337e-05,
          5.39160830903907e-05,
          6.62920872876836e-05,
          0.0019722773907731453,
          0.0019000417108663457,
          0.001731157286999121,
          0.0004662460268748593,
          0.0004954648068207682,
          0.0005557221634444025,
          0.0005441748907578295,
          0.0006054640397833622,
          0.0005445456766284594,
          0.0005735167304384921,
          0.0006394836414436132,
          0.0005638111573034265,
          0.001610937389483143,
          0.0005799164624390048,
          0.0005385641287570449,
          0.000550505712921801,
          0.0005873866877771627,
          0.000649739079390983,
          0.000570250820246517,
          0.0008186001842169443,
          0.0007847026370123278,
          0.0008757576786026637,
          0.0009056659146536928,
          0.0009070009036652107,
          0.006889433973876143,
          0.00889005265953257,
          0.005158706330240794,
          0.008626378735946127,
          0.0007952169885708397,
          0.0008577638584811487,
          0.0009360273360854442,
          0.0009110237219278828,
          0.0008558532649898838,
          0.0008681178648179936,
          0.0010383273943722225,
          0.0008381052504052679,
          0.0009324062823904928,
          0.001030812583182706,
          0.0009677119835937512,
          0.000978323594376791,
          0.000948004791752027,
          0.0012941649978878062,
          0.0009777030308700087,
          0.001042957663741369,
          0.0009599118228848035,
          0.0011069055337315837,
          0.0011238350262691144,
          0.0010804545907721378,
          0.0010479561467403753,
          0.001031971505040687,
          0.0010507486526976303,
          0.0010954710000061188,
          0.0011041470286305979,
          0.0011262736225019837,
          0.0011176837513651372,
          0.0011267540932533345,
          0.0012100424375245996,
          0.0012527737266608454,
          0.0011895648898652192,
          0.0011441187394263207,
          0.0011414010983312453,
          0.0013209556127671614,
          0.0012936930226010545,
          0.0012925468542116154,
          0.0013127841098030477,
          0.0014629034867007272,
          0.0014173707416248339,
          0.0013760064534630815,
          0.0007184213682589532,
          0.001463588060465764,
          0.0013582546277352487,
          0.0007358563702667197,
          0.0014018007391357697,
          0.001399024151580992,
          0.0014052603047060494,
          0.001411657235178825,
          0.0007287682909463041,
          0.001436061972021101,
          0.000707992007978381,
          0.0007186875437584436,
          0.0007151643720160985,
          0.0007278014651168462,
          0.0015385683068812222,
          0.0007151502297783,
          0.0007022382992422036,
          0.000651887898640447,
          0.0006382304770871885,
          0.0007133750947328186,
          0.0007036103749356853,
          0.0006879356700215901,
          0.0006989548888352802,
          0.00075461303100351,
          0.0006762165077027055,
          0.000682004080384101,
          0.0006482986336130492,
          0.0007873258734201062
         ],
         "xaxis": "x6",
         "y": [
          0.8039319490473605,
          0.8050113561076104,
          0.8051694458734472,
          0.8050396254228935,
          0.805205568334222,
          0.804939127512597,
          0.8052528907986536,
          0.805205568334222,
          0.805205568334222,
          0.8005617382464406,
          0.8055799194768671,
          0.8055799194768671,
          0.8055799194768671,
          0.8055799194768671,
          0.8055799194768671,
          0.8055799194768671,
          0.799665448877115,
          0.8004565144777599,
          0.7863385175612394,
          0.8037609442244132,
          0.8010462652689906,
          0.7996669478012236,
          0.42011446307081607,
          0.8038191359788552,
          0.7997179597903943,
          0.8057994854994057,
          0.8058263939302487,
          0.47178240450056474,
          0.7905055199103558,
          0.7939758122295435,
          0.7923684663706522,
          0.791501076979501,
          0.7921751505023412,
          0.8048521875363589,
          0.8047199469993002,
          0.8019010975958508,
          0.7980232627215751,
          0.7986092674248728,
          0.8000224066666867,
          0.8000757719727349,
          0.8004470337572223,
          0.7989732438442463,
          0.8033175803119079,
          0.8030954681631215,
          0.8046600269529964,
          0.8035130432138168,
          0.8035951958449365,
          0.8033166157251077,
          0.8026385184989226,
          0.8058000377367668,
          0.8058125878756919,
          0.8058640168927693,
          0.8056257355841427,
          0.8058337560838871,
          0.8058613796085137,
          0.8058382269659529,
          0.8027051963315877,
          0.8035952584777091,
          0.8035950665884153,
          0.8039361987885105,
          0.802704730887586,
          0.8045182213631751,
          0.8035951972403709,
          0.8043924291026443,
          0.804575091718333,
          0.8058773068325309,
          0.8059108373544766,
          0.8058637887736685,
          0.8058324406731334,
          0.8058138118886718,
          0.8058699526630992,
          0.8058732579987685,
          0.8058471745028172,
          0.8059543942008542,
          0.8058757252467664,
          0.8058350440728368,
          0.8058493106517549,
          0.8058194389759021,
          0.8058287146863181,
          0.8058756358436101,
          0.8057996758335267,
          0.8058611155262707,
          0.7996642489139104,
          0.805861937345105,
          0.7996642734060486,
          0.7996643019786563,
          0.8058920143670998,
          0.7996643019786563,
          0.7996643019786563,
          0.8060134024835733,
          0.7996630568433181,
          0.8057544144066222,
          0.7996643019786563,
          0.7996083791339866,
          0.79963154491412,
          0.799695666763541,
          0.7996643019786537,
          0.799656516881854,
          0.8050879169412808,
          0.805255707423773,
          0.8051158299662692,
          0.806029077621093,
          0.8046337619307209,
          0.800134178773266,
          0.7998210796166856,
          0.7997635140111644,
          0.805233859138245,
          0.7997294312640862,
          0.7998423154208509,
          0.799735760170175,
          0.8040839804702073,
          0.8058053661857519,
          0.804223120827902,
          0.8042598015404542,
          0.8039456573927841,
          0.8040231265803384,
          0.8042721767087533,
          0.8049353861467778,
          0.8056413482976691,
          0.8058053590346574,
          0.8059181037512266,
          0.8059937891589242,
          0.8059815089757546,
          0.805913701783752,
          0.8057539506987113,
          0.8057601901288078,
          0.8057666786681956,
          0.8057824580753321,
          0.8057554246329455
         ],
         "yaxis": "y6"
        },
        {
         "marker": {
          "color": "Darkgrey",
          "colorbar": {
           "title": {
            "text": "Trial"
           },
           "x": 1,
           "xpad": 40
          },
          "colorscale": [
           [
            0,
            "rgb(247,251,255)"
           ],
           [
            0.125,
            "rgb(222,235,247)"
           ],
           [
            0.25,
            "rgb(198,219,239)"
           ],
           [
            0.375,
            "rgb(158,202,225)"
           ],
           [
            0.5,
            "rgb(107,174,214)"
           ],
           [
            0.625,
            "rgb(66,146,198)"
           ],
           [
            0.75,
            "rgb(33,113,181)"
           ],
           [
            0.875,
            "rgb(8,81,156)"
           ],
           [
            1,
            "rgb(8,48,107)"
           ]
          ],
          "line": {
           "color": "Black",
           "width": 1
          },
          "opacity": 0.2,
          "showscale": false,
          "size": 3
         },
         "mode": "markers",
         "showlegend": false,
         "type": "scatter",
         "x": [
          14,
          22,
          4,
          96,
          2,
          6,
          16,
          73,
          12,
          13,
          16,
          11,
          11,
          19,
          4,
          22,
          163,
          85,
          4,
          50,
          4,
          85,
          114,
          2,
          3,
          197,
          36,
          2,
          2,
          38,
          32,
          33,
          34,
          35,
          32,
          35,
          8,
          8,
          8,
          8,
          8,
          8,
          38,
          33,
          37,
          200,
          186,
          187,
          9,
          172,
          176,
          191,
          199,
          181,
          169,
          179,
          12,
          14,
          14,
          15,
          12,
          18,
          14,
          16,
          19,
          130,
          116,
          131,
          139,
          145,
          137,
          140,
          140,
          127,
          138,
          137,
          139,
          145,
          148,
          140,
          142,
          140,
          138,
          139,
          136,
          112,
          121,
          118,
          118,
          110,
          112,
          109,
          112,
          110,
          111,
          106,
          115,
          107,
          110,
          115,
          114,
          93,
          84,
          95,
          80,
          88,
          102,
          96,
          94,
          91,
          85,
          90,
          94,
          96,
          86,
          91,
          90,
          90,
          161,
          94,
          165,
          154,
          161,
          166,
          163,
          158,
          162,
          159,
          156
         ],
         "xaxis": "x7",
         "y": [
          0.8039319490473605,
          0.8050113561076104,
          0.8051694458734472,
          0.8050396254228935,
          0.805205568334222,
          0.804939127512597,
          0.8052528907986536,
          0.805205568334222,
          0.805205568334222,
          0.8005617382464406,
          0.8055799194768671,
          0.8055799194768671,
          0.8055799194768671,
          0.8055799194768671,
          0.8055799194768671,
          0.8055799194768671,
          0.799665448877115,
          0.8004565144777599,
          0.7863385175612394,
          0.8037609442244132,
          0.8010462652689906,
          0.7996669478012236,
          0.42011446307081607,
          0.8038191359788552,
          0.7997179597903943,
          0.8057994854994057,
          0.8058263939302487,
          0.47178240450056474,
          0.7905055199103558,
          0.7939758122295435,
          0.7923684663706522,
          0.791501076979501,
          0.7921751505023412,
          0.8048521875363589,
          0.8047199469993002,
          0.8019010975958508,
          0.7980232627215751,
          0.7986092674248728,
          0.8000224066666867,
          0.8000757719727349,
          0.8004470337572223,
          0.7989732438442463,
          0.8033175803119079,
          0.8030954681631215,
          0.8046600269529964,
          0.8035130432138168,
          0.8035951958449365,
          0.8033166157251077,
          0.8026385184989226,
          0.8058000377367668,
          0.8058125878756919,
          0.8058640168927693,
          0.8056257355841427,
          0.8058337560838871,
          0.8058613796085137,
          0.8058382269659529,
          0.8027051963315877,
          0.8035952584777091,
          0.8035950665884153,
          0.8039361987885105,
          0.802704730887586,
          0.8045182213631751,
          0.8035951972403709,
          0.8043924291026443,
          0.804575091718333,
          0.8058773068325309,
          0.8059108373544766,
          0.8058637887736685,
          0.8058324406731334,
          0.8058138118886718,
          0.8058699526630992,
          0.8058732579987685,
          0.8058471745028172,
          0.8059543942008542,
          0.8058757252467664,
          0.8058350440728368,
          0.8058493106517549,
          0.8058194389759021,
          0.8058287146863181,
          0.8058756358436101,
          0.8057996758335267,
          0.8058611155262707,
          0.7996642489139104,
          0.805861937345105,
          0.7996642734060486,
          0.7996643019786563,
          0.8058920143670998,
          0.7996643019786563,
          0.7996643019786563,
          0.8060134024835733,
          0.7996630568433181,
          0.8057544144066222,
          0.7996643019786563,
          0.7996083791339866,
          0.79963154491412,
          0.799695666763541,
          0.7996643019786537,
          0.799656516881854,
          0.8050879169412808,
          0.805255707423773,
          0.8051158299662692,
          0.806029077621093,
          0.8046337619307209,
          0.800134178773266,
          0.7998210796166856,
          0.7997635140111644,
          0.805233859138245,
          0.7997294312640862,
          0.7998423154208509,
          0.799735760170175,
          0.8040839804702073,
          0.8058053661857519,
          0.804223120827902,
          0.8042598015404542,
          0.8039456573927841,
          0.8040231265803384,
          0.8042721767087533,
          0.8049353861467778,
          0.8056413482976691,
          0.8058053590346574,
          0.8059181037512266,
          0.8059937891589242,
          0.8059815089757546,
          0.805913701783752,
          0.8057539506987113,
          0.8057601901288078,
          0.8057666786681956,
          0.8057824580753321,
          0.8057554246329455
         ],
         "yaxis": "y7"
        },
        {
         "marker": {
          "color": "Darkgrey",
          "colorbar": {
           "title": {
            "text": "Trial"
           },
           "x": 1,
           "xpad": 40
          },
          "colorscale": [
           [
            0,
            "rgb(247,251,255)"
           ],
           [
            0.125,
            "rgb(222,235,247)"
           ],
           [
            0.25,
            "rgb(198,219,239)"
           ],
           [
            0.375,
            "rgb(158,202,225)"
           ],
           [
            0.5,
            "rgb(107,174,214)"
           ],
           [
            0.625,
            "rgb(66,146,198)"
           ],
           [
            0.75,
            "rgb(33,113,181)"
           ],
           [
            0.875,
            "rgb(8,81,156)"
           ],
           [
            1,
            "rgb(8,48,107)"
           ]
          ],
          "line": {
           "color": "Black",
           "width": 1
          },
          "opacity": 0.2,
          "showscale": false,
          "size": 3
         },
         "mode": "markers",
         "showlegend": false,
         "type": "scatter",
         "x": [
          0.39553364550084347,
          0.7929076242145102,
          0.5534702422398163,
          0.3664194646590948,
          0.2896477039314306,
          0.4485911051975997,
          0.7538576342253716,
          0.12641642151741628,
          0.7567070855270775,
          0.45433650901891054,
          0.17261535299160624,
          0.16919176735761493,
          0.4058047913499585,
          0.8004549822837725,
          0.7362497959544606,
          0.20030114610790878,
          0.4644532240506173,
          0.7502417226837936,
          0.8237723455651543,
          0.7318125511522601,
          0.45942875761727586,
          0.1631725529543427,
          0.7814649905473259,
          0.4119826057839877,
          0.39847150751782523,
          0.9729072847861336,
          0.9860152888090212,
          0.9551050006297708,
          0.8891131793540279,
          0.10879689044857052,
          0.11859897295671691,
          0.12948718435613488,
          0.10324301168141897,
          0.19058659026369956,
          0.13001313857110552,
          0.12010835311546997,
          0.11722088770069497,
          0.10157949844311531,
          0.24169546420763507,
          0.2367244176890523,
          0.23601497653962272,
          0.1014841442383651,
          0.22165773252805196,
          0.22459380251923644,
          0.9569588337010934,
          0.9754349484074221,
          0.2343890175446679,
          0.9551213524172674,
          0.9666111251556093,
          0.9870920936470385,
          0.2621050245200834,
          0.262238794829846,
          0.9845401373258481,
          0.9896580227660654,
          0.28567693103532377,
          0.3028738941311149,
          0.3307547011138685,
          0.2883762063045823,
          0.3332797191357779,
          0.2886190777536171,
          0.315904659763369,
          0.3113135771009654,
          0.31244190004021044,
          0.32822762116072784,
          0.3293909845738885,
          0.2820682347042745,
          0.2806481007132797,
          0.305762789141117,
          0.90971233401955,
          0.9098354682943569,
          0.905568466339986,
          0.3231166492697907,
          0.922787220809449,
          0.8958298110221893,
          0.9099034259621873,
          0.8917747133075563,
          0.9223688180589171,
          0.9253426928037458,
          0.915003777557909,
          0.9228434299782777,
          0.36605018842474457,
          0.382046634340034,
          0.26847382203150616,
          0.3604309460802716,
          0.3687770221188931,
          0.3574109917632892,
          0.3667214100482311,
          0.37136426764061314,
          0.36905022166130447,
          0.3709950644607724,
          0.3752239674593441,
          0.38219553935670925,
          0.8461184078151012,
          0.353617587740686,
          0.377505780506854,
          0.852365566470772,
          0.8560286282367733,
          0.8639032432260785,
          0.8566894941404848,
          0.8509698661829167,
          0.8453279759253143,
          0.84879187933645,
          0.8355600407734958,
          0.8410360077953414,
          0.8631989431674533,
          0.8413462483260511,
          0.8561711376189457,
          0.8573958244191611,
          0.6951111152560627,
          0.8672934091809364,
          0.8643358177503655,
          0.43432921441861017,
          0.6380493851691471,
          0.6907844654934632,
          0.42008591901268777,
          0.5684784707761894,
          0.42883231138104005,
          0.4217929717820904,
          0.9454414901261057,
          0.9371287613794154,
          0.4123744023427318,
          0.4148917535110275,
          0.8106896648856093,
          0.9439518927795973,
          0.94712979639462,
          0.9420360436813016,
          0.9441477475714231,
          0.2656022821012789,
          0.9514678016934005
         ],
         "xaxis": "x8",
         "y": [
          0.8039319490473605,
          0.8050113561076104,
          0.8051694458734472,
          0.8050396254228935,
          0.805205568334222,
          0.804939127512597,
          0.8052528907986536,
          0.805205568334222,
          0.805205568334222,
          0.8005617382464406,
          0.8055799194768671,
          0.8055799194768671,
          0.8055799194768671,
          0.8055799194768671,
          0.8055799194768671,
          0.8055799194768671,
          0.799665448877115,
          0.8004565144777599,
          0.7863385175612394,
          0.8037609442244132,
          0.8010462652689906,
          0.7996669478012236,
          0.42011446307081607,
          0.8038191359788552,
          0.7997179597903943,
          0.8057994854994057,
          0.8058263939302487,
          0.47178240450056474,
          0.7905055199103558,
          0.7939758122295435,
          0.7923684663706522,
          0.791501076979501,
          0.7921751505023412,
          0.8048521875363589,
          0.8047199469993002,
          0.8019010975958508,
          0.7980232627215751,
          0.7986092674248728,
          0.8000224066666867,
          0.8000757719727349,
          0.8004470337572223,
          0.7989732438442463,
          0.8033175803119079,
          0.8030954681631215,
          0.8046600269529964,
          0.8035130432138168,
          0.8035951958449365,
          0.8033166157251077,
          0.8026385184989226,
          0.8058000377367668,
          0.8058125878756919,
          0.8058640168927693,
          0.8056257355841427,
          0.8058337560838871,
          0.8058613796085137,
          0.8058382269659529,
          0.8027051963315877,
          0.8035952584777091,
          0.8035950665884153,
          0.8039361987885105,
          0.802704730887586,
          0.8045182213631751,
          0.8035951972403709,
          0.8043924291026443,
          0.804575091718333,
          0.8058773068325309,
          0.8059108373544766,
          0.8058637887736685,
          0.8058324406731334,
          0.8058138118886718,
          0.8058699526630992,
          0.8058732579987685,
          0.8058471745028172,
          0.8059543942008542,
          0.8058757252467664,
          0.8058350440728368,
          0.8058493106517549,
          0.8058194389759021,
          0.8058287146863181,
          0.8058756358436101,
          0.8057996758335267,
          0.8058611155262707,
          0.7996642489139104,
          0.805861937345105,
          0.7996642734060486,
          0.7996643019786563,
          0.8058920143670998,
          0.7996643019786563,
          0.7996643019786563,
          0.8060134024835733,
          0.7996630568433181,
          0.8057544144066222,
          0.7996643019786563,
          0.7996083791339866,
          0.79963154491412,
          0.799695666763541,
          0.7996643019786537,
          0.799656516881854,
          0.8050879169412808,
          0.805255707423773,
          0.8051158299662692,
          0.806029077621093,
          0.8046337619307209,
          0.800134178773266,
          0.7998210796166856,
          0.7997635140111644,
          0.805233859138245,
          0.7997294312640862,
          0.7998423154208509,
          0.799735760170175,
          0.8040839804702073,
          0.8058053661857519,
          0.804223120827902,
          0.8042598015404542,
          0.8039456573927841,
          0.8040231265803384,
          0.8042721767087533,
          0.8049353861467778,
          0.8056413482976691,
          0.8058053590346574,
          0.8059181037512266,
          0.8059937891589242,
          0.8059815089757546,
          0.805913701783752,
          0.8057539506987113,
          0.8057601901288078,
          0.8057666786681956,
          0.8057824580753321,
          0.8057554246329455
         ],
         "yaxis": "y8"
        },
        {
         "marker": {
          "color": "Darkgrey",
          "colorbar": {
           "title": {
            "text": "Trial"
           },
           "x": 1,
           "xpad": 40
          },
          "colorscale": [
           [
            0,
            "rgb(247,251,255)"
           ],
           [
            0.125,
            "rgb(222,235,247)"
           ],
           [
            0.25,
            "rgb(198,219,239)"
           ],
           [
            0.375,
            "rgb(158,202,225)"
           ],
           [
            0.5,
            "rgb(107,174,214)"
           ],
           [
            0.625,
            "rgb(66,146,198)"
           ],
           [
            0.75,
            "rgb(33,113,181)"
           ],
           [
            0.875,
            "rgb(8,81,156)"
           ],
           [
            1,
            "rgb(8,48,107)"
           ]
          ],
          "line": {
           "color": "Black",
           "width": 1
          },
          "opacity": 0.2,
          "showscale": false,
          "size": 3
         },
         "mode": "markers",
         "showlegend": false,
         "type": "scatter",
         "x": [
          0.3820119151769098,
          0.5782762049707322,
          0.342496698070512,
          0.722574969636709,
          0.6796106761344147,
          0.2682714455487789,
          0.19354321937643482,
          0.5340165428811545,
          0.7423902841875316,
          0.2613111882616349,
          0.7784852113131052,
          0.7931713258907771,
          0.10271547659851593,
          0.8197072642557214,
          0.8597625878018141,
          0.29983967901152475,
          0.852208430808881,
          0.4958958412984765,
          0.40439179722997465,
          0.7200250363943698,
          0.7276903054449556,
          0.31944745736792335,
          0.4651178468075041,
          0.702568459789342,
          0.8661673972098244,
          0.14185636647496458,
          0.10451262309639302,
          0.8990781688847818,
          0.8899640192157744,
          0.8969007160392888,
          0.8796548728946331,
          0.6321272160247514,
          0.8991374655683119,
          0.6592059831053355,
          0.6216415480566865,
          0.8963038835377646,
          0.1563892946229919,
          0.13762767814757315,
          0.12201146580422556,
          0.10950147063029525,
          0.6318173343777395,
          0.1407093033584899,
          0.6022438618729108,
          0.6165171690156981,
          0.17675287472750328,
          0.1124251523464522,
          0.12204015530735417,
          0.5908211322048375,
          0.10496384379610037,
          0.1275105040160099,
          0.8012281998648882,
          0.5729579586510832,
          0.21081812901073957,
          0.1997905828360382,
          0.19628066329947946,
          0.1835838891225895,
          0.18290296537439332,
          0.21687624333408462,
          0.19704313811506802,
          0.2158805728649901,
          0.20843106471607498,
          0.7810501794588293,
          0.21166169506867538,
          0.20520269599111507,
          0.21583080972074864,
          0.23427900949026756,
          0.2232894974094214,
          0.7670867853995854,
          0.20881878740456117,
          0.22465793509707482,
          0.22524101075067038,
          0.2265924238658229,
          0.2306905479340835,
          0.23633943293417348,
          0.2588976546078786,
          0.26797801800315085,
          0.24375297020574377,
          0.24438272129738345,
          0.24035346248659994,
          0.27533506741249136,
          0.26094337031767034,
          0.2530674457536686,
          0.26066775847023116,
          0.2684107314550592,
          0.255093106277329,
          0.26022052881146907,
          0.2780471192346629,
          0.2651938186560183,
          0.28839522183778243,
          0.26627239045836737,
          0.2773337438721283,
          0.29353202867508416,
          0.29510364887070717,
          0.3072338093251561,
          0.27685026449141265,
          0.2878630972995102,
          0.29687145842093576,
          0.28602056194379594,
          0.30659884615474464,
          0.29260783085014325,
          0.3027357130495631,
          0.29125089616951116,
          0.3355978469071595,
          0.3482622238884898,
          0.3215169275992805,
          0.30329693100148386,
          0.31399124871898876,
          0.3172381589331842,
          0.32220644824608596,
          0.354760010436146,
          0.321411150103079,
          0.33379405849291366,
          0.3333930827459307,
          0.3444049324078119,
          0.3426739426446251,
          0.16560153307468303,
          0.33212996671840955,
          0.23079639379786546,
          0.22939368354398795,
          0.23383433129911035,
          0.23464414159448294,
          0.23260964361726993,
          0.166014475619288,
          0.23234317403295354,
          0.2355801843403865,
          0.16235463695209798,
          0.23004619489363085,
          0.23860952039934913,
          0.23060241825839828
         ],
         "xaxis": "x9",
         "y": [
          0.8039319490473605,
          0.8050113561076104,
          0.8051694458734472,
          0.8050396254228935,
          0.805205568334222,
          0.804939127512597,
          0.8052528907986536,
          0.805205568334222,
          0.805205568334222,
          0.8005617382464406,
          0.8055799194768671,
          0.8055799194768671,
          0.8055799194768671,
          0.8055799194768671,
          0.8055799194768671,
          0.8055799194768671,
          0.799665448877115,
          0.8004565144777599,
          0.7863385175612394,
          0.8037609442244132,
          0.8010462652689906,
          0.7996669478012236,
          0.42011446307081607,
          0.8038191359788552,
          0.7997179597903943,
          0.8057994854994057,
          0.8058263939302487,
          0.47178240450056474,
          0.7905055199103558,
          0.7939758122295435,
          0.7923684663706522,
          0.791501076979501,
          0.7921751505023412,
          0.8048521875363589,
          0.8047199469993002,
          0.8019010975958508,
          0.7980232627215751,
          0.7986092674248728,
          0.8000224066666867,
          0.8000757719727349,
          0.8004470337572223,
          0.7989732438442463,
          0.8033175803119079,
          0.8030954681631215,
          0.8046600269529964,
          0.8035130432138168,
          0.8035951958449365,
          0.8033166157251077,
          0.8026385184989226,
          0.8058000377367668,
          0.8058125878756919,
          0.8058640168927693,
          0.8056257355841427,
          0.8058337560838871,
          0.8058613796085137,
          0.8058382269659529,
          0.8027051963315877,
          0.8035952584777091,
          0.8035950665884153,
          0.8039361987885105,
          0.802704730887586,
          0.8045182213631751,
          0.8035951972403709,
          0.8043924291026443,
          0.804575091718333,
          0.8058773068325309,
          0.8059108373544766,
          0.8058637887736685,
          0.8058324406731334,
          0.8058138118886718,
          0.8058699526630992,
          0.8058732579987685,
          0.8058471745028172,
          0.8059543942008542,
          0.8058757252467664,
          0.8058350440728368,
          0.8058493106517549,
          0.8058194389759021,
          0.8058287146863181,
          0.8058756358436101,
          0.8057996758335267,
          0.8058611155262707,
          0.7996642489139104,
          0.805861937345105,
          0.7996642734060486,
          0.7996643019786563,
          0.8058920143670998,
          0.7996643019786563,
          0.7996643019786563,
          0.8060134024835733,
          0.7996630568433181,
          0.8057544144066222,
          0.7996643019786563,
          0.7996083791339866,
          0.79963154491412,
          0.799695666763541,
          0.7996643019786537,
          0.799656516881854,
          0.8050879169412808,
          0.805255707423773,
          0.8051158299662692,
          0.806029077621093,
          0.8046337619307209,
          0.800134178773266,
          0.7998210796166856,
          0.7997635140111644,
          0.805233859138245,
          0.7997294312640862,
          0.7998423154208509,
          0.799735760170175,
          0.8040839804702073,
          0.8058053661857519,
          0.804223120827902,
          0.8042598015404542,
          0.8039456573927841,
          0.8040231265803384,
          0.8042721767087533,
          0.8049353861467778,
          0.8056413482976691,
          0.8058053590346574,
          0.8059181037512266,
          0.8059937891589242,
          0.8059815089757546,
          0.805913701783752,
          0.8057539506987113,
          0.8057601901288078,
          0.8057666786681956,
          0.8057824580753321,
          0.8057554246329455
         ],
         "yaxis": "y9"
        },
        {
         "marker": {
          "color": "Darkgrey",
          "colorbar": {
           "title": {
            "text": "Trial"
           },
           "x": 1,
           "xpad": 40
          },
          "colorscale": [
           [
            0,
            "rgb(247,251,255)"
           ],
           [
            0.125,
            "rgb(222,235,247)"
           ],
           [
            0.25,
            "rgb(198,219,239)"
           ],
           [
            0.375,
            "rgb(158,202,225)"
           ],
           [
            0.5,
            "rgb(107,174,214)"
           ],
           [
            0.625,
            "rgb(66,146,198)"
           ],
           [
            0.75,
            "rgb(33,113,181)"
           ],
           [
            0.875,
            "rgb(8,81,156)"
           ],
           [
            1,
            "rgb(8,48,107)"
           ]
          ],
          "line": {
           "color": "Black",
           "width": 1
          },
          "opacity": 0.2,
          "showscale": false,
          "size": 3
         },
         "mode": "markers",
         "showlegend": false,
         "type": "scatter",
         "x": [
          "adam",
          "adam",
          "adam",
          "adam",
          "adam",
          "sgd",
          "lbfgs",
          "lbfgs",
          "sgd",
          "adam",
          "sgd",
          "lbfgs",
          "lbfgs",
          "adam",
          "lbfgs",
          "lbfgs",
          "lbfgs",
          "adam",
          "lbfgs",
          "lbfgs",
          "adam",
          "sgd",
          "adam",
          "adam",
          "adam",
          "lbfgs",
          "lbfgs",
          "lbfgs",
          "lbfgs",
          "sgd",
          "sgd",
          "sgd",
          "sgd",
          "sgd",
          "sgd",
          "sgd",
          "sgd",
          "sgd",
          "sgd",
          "sgd",
          "sgd",
          "sgd",
          "sgd",
          "sgd",
          "sgd",
          "sgd",
          "lbfgs",
          "lbfgs",
          "lbfgs",
          "lbfgs",
          "lbfgs",
          "lbfgs",
          "lbfgs",
          "lbfgs",
          "lbfgs",
          "lbfgs",
          "lbfgs",
          "lbfgs",
          "lbfgs",
          "lbfgs",
          "lbfgs",
          "lbfgs",
          "lbfgs",
          "lbfgs",
          "lbfgs",
          "lbfgs",
          "lbfgs",
          "lbfgs",
          "lbfgs",
          "lbfgs",
          "lbfgs",
          "lbfgs",
          "lbfgs",
          "lbfgs",
          "lbfgs",
          "lbfgs",
          "lbfgs",
          "lbfgs",
          "lbfgs",
          "lbfgs",
          "lbfgs",
          "lbfgs",
          "lbfgs",
          "lbfgs",
          "lbfgs",
          "lbfgs",
          "lbfgs",
          "lbfgs",
          "lbfgs",
          "lbfgs",
          "lbfgs",
          "lbfgs",
          "lbfgs",
          "adam",
          "adam",
          "adam",
          "lbfgs",
          "adam",
          "adam",
          "adam",
          "adam",
          "lbfgs",
          "adam",
          "adam",
          "adam",
          "adam",
          "adam",
          "adam",
          "adam",
          "adam",
          "lbfgs",
          "lbfgs",
          "lbfgs",
          "lbfgs",
          "lbfgs",
          "lbfgs",
          "lbfgs",
          "lbfgs",
          "lbfgs",
          "lbfgs",
          "lbfgs",
          "lbfgs",
          "lbfgs",
          "lbfgs",
          "lbfgs",
          "lbfgs",
          "lbfgs",
          "lbfgs",
          "lbfgs"
         ],
         "xaxis": "x10",
         "y": [
          0.8039319490473605,
          0.8050113561076104,
          0.8051694458734472,
          0.8050396254228935,
          0.805205568334222,
          0.804939127512597,
          0.8052528907986536,
          0.805205568334222,
          0.805205568334222,
          0.8005617382464406,
          0.8055799194768671,
          0.8055799194768671,
          0.8055799194768671,
          0.8055799194768671,
          0.8055799194768671,
          0.8055799194768671,
          0.799665448877115,
          0.8004565144777599,
          0.7863385175612394,
          0.8037609442244132,
          0.8010462652689906,
          0.7996669478012236,
          0.42011446307081607,
          0.8038191359788552,
          0.7997179597903943,
          0.8057994854994057,
          0.8058263939302487,
          0.47178240450056474,
          0.7905055199103558,
          0.7939758122295435,
          0.7923684663706522,
          0.791501076979501,
          0.7921751505023412,
          0.8048521875363589,
          0.8047199469993002,
          0.8019010975958508,
          0.7980232627215751,
          0.7986092674248728,
          0.8000224066666867,
          0.8000757719727349,
          0.8004470337572223,
          0.7989732438442463,
          0.8033175803119079,
          0.8030954681631215,
          0.8046600269529964,
          0.8035130432138168,
          0.8035951958449365,
          0.8033166157251077,
          0.8026385184989226,
          0.8058000377367668,
          0.8058125878756919,
          0.8058640168927693,
          0.8056257355841427,
          0.8058337560838871,
          0.8058613796085137,
          0.8058382269659529,
          0.8027051963315877,
          0.8035952584777091,
          0.8035950665884153,
          0.8039361987885105,
          0.802704730887586,
          0.8045182213631751,
          0.8035951972403709,
          0.8043924291026443,
          0.804575091718333,
          0.8058773068325309,
          0.8059108373544766,
          0.8058637887736685,
          0.8058324406731334,
          0.8058138118886718,
          0.8058699526630992,
          0.8058732579987685,
          0.8058471745028172,
          0.8059543942008542,
          0.8058757252467664,
          0.8058350440728368,
          0.8058493106517549,
          0.8058194389759021,
          0.8058287146863181,
          0.8058756358436101,
          0.8057996758335267,
          0.8058611155262707,
          0.7996642489139104,
          0.805861937345105,
          0.7996642734060486,
          0.7996643019786563,
          0.8058920143670998,
          0.7996643019786563,
          0.7996643019786563,
          0.8060134024835733,
          0.7996630568433181,
          0.8057544144066222,
          0.7996643019786563,
          0.7996083791339866,
          0.79963154491412,
          0.799695666763541,
          0.7996643019786537,
          0.799656516881854,
          0.8050879169412808,
          0.805255707423773,
          0.8051158299662692,
          0.806029077621093,
          0.8046337619307209,
          0.800134178773266,
          0.7998210796166856,
          0.7997635140111644,
          0.805233859138245,
          0.7997294312640862,
          0.7998423154208509,
          0.799735760170175,
          0.8040839804702073,
          0.8058053661857519,
          0.804223120827902,
          0.8042598015404542,
          0.8039456573927841,
          0.8040231265803384,
          0.8042721767087533,
          0.8049353861467778,
          0.8056413482976691,
          0.8058053590346574,
          0.8059181037512266,
          0.8059937891589242,
          0.8059815089757546,
          0.805913701783752,
          0.8057539506987113,
          0.8057601901288078,
          0.8057666786681956,
          0.8057824580753321,
          0.8057554246329455
         ],
         "yaxis": "y10"
        }
       ],
       "layout": {
        "font": {
         "size": 10
        },
        "template": {
         "layout": {
          "autosize": true,
          "height": 200,
          "legend": {
           "orientation": "h"
          },
          "margin": {
           "b": 40,
           "t": 40
          },
          "template": {
           "data": {
            "bar": [
             {
              "error_x": {
               "color": "rgb(36,36,36)"
              },
              "error_y": {
               "color": "rgb(36,36,36)"
              },
              "marker": {
               "line": {
                "color": "rgb(234,234,242)",
                "width": 0.5
               },
               "pattern": {
                "fillmode": "overlay",
                "size": 10,
                "solidity": 0.2
               }
              },
              "type": "bar"
             }
            ],
            "barpolar": [
             {
              "marker": {
               "line": {
                "color": "rgb(234,234,242)",
                "width": 0.5
               },
               "pattern": {
                "fillmode": "overlay",
                "size": 10,
                "solidity": 0.2
               }
              },
              "type": "barpolar"
             }
            ],
            "carpet": [
             {
              "aaxis": {
               "endlinecolor": "rgb(36,36,36)",
               "gridcolor": "white",
               "linecolor": "white",
               "minorgridcolor": "white",
               "startlinecolor": "rgb(36,36,36)"
              },
              "baxis": {
               "endlinecolor": "rgb(36,36,36)",
               "gridcolor": "white",
               "linecolor": "white",
               "minorgridcolor": "white",
               "startlinecolor": "rgb(36,36,36)"
              },
              "type": "carpet"
             }
            ],
            "choropleth": [
             {
              "colorbar": {
               "outlinewidth": 0,
               "tickcolor": "rgb(36,36,36)",
               "ticklen": 8,
               "ticks": "outside",
               "tickwidth": 2
              },
              "type": "choropleth"
             }
            ],
            "contour": [
             {
              "colorbar": {
               "outlinewidth": 0,
               "tickcolor": "rgb(36,36,36)",
               "ticklen": 8,
               "ticks": "outside",
               "tickwidth": 2
              },
              "colorscale": [
               [
                0,
                "rgb(2,4,25)"
               ],
               [
                0.06274509803921569,
                "rgb(24,15,41)"
               ],
               [
                0.12549019607843137,
                "rgb(47,23,57)"
               ],
               [
                0.18823529411764706,
                "rgb(71,28,72)"
               ],
               [
                0.25098039215686274,
                "rgb(97,30,82)"
               ],
               [
                0.3137254901960784,
                "rgb(123,30,89)"
               ],
               [
                0.3764705882352941,
                "rgb(150,27,91)"
               ],
               [
                0.4392156862745098,
                "rgb(177,22,88)"
               ],
               [
                0.5019607843137255,
                "rgb(203,26,79)"
               ],
               [
                0.5647058823529412,
                "rgb(223,47,67)"
               ],
               [
                0.6274509803921569,
                "rgb(236,76,61)"
               ],
               [
                0.6901960784313725,
                "rgb(242,107,73)"
               ],
               [
                0.7529411764705882,
                "rgb(244,135,95)"
               ],
               [
                0.8156862745098039,
                "rgb(245,162,122)"
               ],
               [
                0.8784313725490196,
                "rgb(246,188,153)"
               ],
               [
                0.9411764705882353,
                "rgb(247,212,187)"
               ],
               [
                1,
                "rgb(250,234,220)"
               ]
              ],
              "type": "contour"
             }
            ],
            "contourcarpet": [
             {
              "colorbar": {
               "outlinewidth": 0,
               "tickcolor": "rgb(36,36,36)",
               "ticklen": 8,
               "ticks": "outside",
               "tickwidth": 2
              },
              "type": "contourcarpet"
             }
            ],
            "heatmap": [
             {
              "colorbar": {
               "outlinewidth": 0,
               "tickcolor": "rgb(36,36,36)",
               "ticklen": 8,
               "ticks": "outside",
               "tickwidth": 2
              },
              "colorscale": [
               [
                0,
                "rgb(2,4,25)"
               ],
               [
                0.06274509803921569,
                "rgb(24,15,41)"
               ],
               [
                0.12549019607843137,
                "rgb(47,23,57)"
               ],
               [
                0.18823529411764706,
                "rgb(71,28,72)"
               ],
               [
                0.25098039215686274,
                "rgb(97,30,82)"
               ],
               [
                0.3137254901960784,
                "rgb(123,30,89)"
               ],
               [
                0.3764705882352941,
                "rgb(150,27,91)"
               ],
               [
                0.4392156862745098,
                "rgb(177,22,88)"
               ],
               [
                0.5019607843137255,
                "rgb(203,26,79)"
               ],
               [
                0.5647058823529412,
                "rgb(223,47,67)"
               ],
               [
                0.6274509803921569,
                "rgb(236,76,61)"
               ],
               [
                0.6901960784313725,
                "rgb(242,107,73)"
               ],
               [
                0.7529411764705882,
                "rgb(244,135,95)"
               ],
               [
                0.8156862745098039,
                "rgb(245,162,122)"
               ],
               [
                0.8784313725490196,
                "rgb(246,188,153)"
               ],
               [
                0.9411764705882353,
                "rgb(247,212,187)"
               ],
               [
                1,
                "rgb(250,234,220)"
               ]
              ],
              "type": "heatmap"
             }
            ],
            "heatmapgl": [
             {
              "colorbar": {
               "outlinewidth": 0,
               "tickcolor": "rgb(36,36,36)",
               "ticklen": 8,
               "ticks": "outside",
               "tickwidth": 2
              },
              "colorscale": [
               [
                0,
                "rgb(2,4,25)"
               ],
               [
                0.06274509803921569,
                "rgb(24,15,41)"
               ],
               [
                0.12549019607843137,
                "rgb(47,23,57)"
               ],
               [
                0.18823529411764706,
                "rgb(71,28,72)"
               ],
               [
                0.25098039215686274,
                "rgb(97,30,82)"
               ],
               [
                0.3137254901960784,
                "rgb(123,30,89)"
               ],
               [
                0.3764705882352941,
                "rgb(150,27,91)"
               ],
               [
                0.4392156862745098,
                "rgb(177,22,88)"
               ],
               [
                0.5019607843137255,
                "rgb(203,26,79)"
               ],
               [
                0.5647058823529412,
                "rgb(223,47,67)"
               ],
               [
                0.6274509803921569,
                "rgb(236,76,61)"
               ],
               [
                0.6901960784313725,
                "rgb(242,107,73)"
               ],
               [
                0.7529411764705882,
                "rgb(244,135,95)"
               ],
               [
                0.8156862745098039,
                "rgb(245,162,122)"
               ],
               [
                0.8784313725490196,
                "rgb(246,188,153)"
               ],
               [
                0.9411764705882353,
                "rgb(247,212,187)"
               ],
               [
                1,
                "rgb(250,234,220)"
               ]
              ],
              "type": "heatmapgl"
             }
            ],
            "histogram": [
             {
              "marker": {
               "pattern": {
                "fillmode": "overlay",
                "size": 10,
                "solidity": 0.2
               }
              },
              "type": "histogram"
             }
            ],
            "histogram2d": [
             {
              "colorbar": {
               "outlinewidth": 0,
               "tickcolor": "rgb(36,36,36)",
               "ticklen": 8,
               "ticks": "outside",
               "tickwidth": 2
              },
              "colorscale": [
               [
                0,
                "rgb(2,4,25)"
               ],
               [
                0.06274509803921569,
                "rgb(24,15,41)"
               ],
               [
                0.12549019607843137,
                "rgb(47,23,57)"
               ],
               [
                0.18823529411764706,
                "rgb(71,28,72)"
               ],
               [
                0.25098039215686274,
                "rgb(97,30,82)"
               ],
               [
                0.3137254901960784,
                "rgb(123,30,89)"
               ],
               [
                0.3764705882352941,
                "rgb(150,27,91)"
               ],
               [
                0.4392156862745098,
                "rgb(177,22,88)"
               ],
               [
                0.5019607843137255,
                "rgb(203,26,79)"
               ],
               [
                0.5647058823529412,
                "rgb(223,47,67)"
               ],
               [
                0.6274509803921569,
                "rgb(236,76,61)"
               ],
               [
                0.6901960784313725,
                "rgb(242,107,73)"
               ],
               [
                0.7529411764705882,
                "rgb(244,135,95)"
               ],
               [
                0.8156862745098039,
                "rgb(245,162,122)"
               ],
               [
                0.8784313725490196,
                "rgb(246,188,153)"
               ],
               [
                0.9411764705882353,
                "rgb(247,212,187)"
               ],
               [
                1,
                "rgb(250,234,220)"
               ]
              ],
              "type": "histogram2d"
             }
            ],
            "histogram2dcontour": [
             {
              "colorbar": {
               "outlinewidth": 0,
               "tickcolor": "rgb(36,36,36)",
               "ticklen": 8,
               "ticks": "outside",
               "tickwidth": 2
              },
              "colorscale": [
               [
                0,
                "rgb(2,4,25)"
               ],
               [
                0.06274509803921569,
                "rgb(24,15,41)"
               ],
               [
                0.12549019607843137,
                "rgb(47,23,57)"
               ],
               [
                0.18823529411764706,
                "rgb(71,28,72)"
               ],
               [
                0.25098039215686274,
                "rgb(97,30,82)"
               ],
               [
                0.3137254901960784,
                "rgb(123,30,89)"
               ],
               [
                0.3764705882352941,
                "rgb(150,27,91)"
               ],
               [
                0.4392156862745098,
                "rgb(177,22,88)"
               ],
               [
                0.5019607843137255,
                "rgb(203,26,79)"
               ],
               [
                0.5647058823529412,
                "rgb(223,47,67)"
               ],
               [
                0.6274509803921569,
                "rgb(236,76,61)"
               ],
               [
                0.6901960784313725,
                "rgb(242,107,73)"
               ],
               [
                0.7529411764705882,
                "rgb(244,135,95)"
               ],
               [
                0.8156862745098039,
                "rgb(245,162,122)"
               ],
               [
                0.8784313725490196,
                "rgb(246,188,153)"
               ],
               [
                0.9411764705882353,
                "rgb(247,212,187)"
               ],
               [
                1,
                "rgb(250,234,220)"
               ]
              ],
              "type": "histogram2dcontour"
             }
            ],
            "mesh3d": [
             {
              "colorbar": {
               "outlinewidth": 0,
               "tickcolor": "rgb(36,36,36)",
               "ticklen": 8,
               "ticks": "outside",
               "tickwidth": 2
              },
              "type": "mesh3d"
             }
            ],
            "parcoords": [
             {
              "line": {
               "colorbar": {
                "outlinewidth": 0,
                "tickcolor": "rgb(36,36,36)",
                "ticklen": 8,
                "ticks": "outside",
                "tickwidth": 2
               }
              },
              "type": "parcoords"
             }
            ],
            "pie": [
             {
              "automargin": true,
              "type": "pie"
             }
            ],
            "scatter": [
             {
              "fillpattern": {
               "fillmode": "overlay",
               "size": 10,
               "solidity": 0.2
              },
              "type": "scatter"
             }
            ],
            "scatter3d": [
             {
              "line": {
               "colorbar": {
                "outlinewidth": 0,
                "tickcolor": "rgb(36,36,36)",
                "ticklen": 8,
                "ticks": "outside",
                "tickwidth": 2
               }
              },
              "marker": {
               "colorbar": {
                "outlinewidth": 0,
                "tickcolor": "rgb(36,36,36)",
                "ticklen": 8,
                "ticks": "outside",
                "tickwidth": 2
               }
              },
              "type": "scatter3d"
             }
            ],
            "scattercarpet": [
             {
              "marker": {
               "colorbar": {
                "outlinewidth": 0,
                "tickcolor": "rgb(36,36,36)",
                "ticklen": 8,
                "ticks": "outside",
                "tickwidth": 2
               }
              },
              "type": "scattercarpet"
             }
            ],
            "scattergeo": [
             {
              "marker": {
               "colorbar": {
                "outlinewidth": 0,
                "tickcolor": "rgb(36,36,36)",
                "ticklen": 8,
                "ticks": "outside",
                "tickwidth": 2
               }
              },
              "type": "scattergeo"
             }
            ],
            "scattergl": [
             {
              "marker": {
               "colorbar": {
                "outlinewidth": 0,
                "tickcolor": "rgb(36,36,36)",
                "ticklen": 8,
                "ticks": "outside",
                "tickwidth": 2
               }
              },
              "type": "scattergl"
             }
            ],
            "scattermapbox": [
             {
              "marker": {
               "colorbar": {
                "outlinewidth": 0,
                "tickcolor": "rgb(36,36,36)",
                "ticklen": 8,
                "ticks": "outside",
                "tickwidth": 2
               }
              },
              "type": "scattermapbox"
             }
            ],
            "scatterpolar": [
             {
              "marker": {
               "colorbar": {
                "outlinewidth": 0,
                "tickcolor": "rgb(36,36,36)",
                "ticklen": 8,
                "ticks": "outside",
                "tickwidth": 2
               }
              },
              "type": "scatterpolar"
             }
            ],
            "scatterpolargl": [
             {
              "marker": {
               "colorbar": {
                "outlinewidth": 0,
                "tickcolor": "rgb(36,36,36)",
                "ticklen": 8,
                "ticks": "outside",
                "tickwidth": 2
               }
              },
              "type": "scatterpolargl"
             }
            ],
            "scatterternary": [
             {
              "marker": {
               "colorbar": {
                "outlinewidth": 0,
                "tickcolor": "rgb(36,36,36)",
                "ticklen": 8,
                "ticks": "outside",
                "tickwidth": 2
               }
              },
              "type": "scatterternary"
             }
            ],
            "surface": [
             {
              "colorbar": {
               "outlinewidth": 0,
               "tickcolor": "rgb(36,36,36)",
               "ticklen": 8,
               "ticks": "outside",
               "tickwidth": 2
              },
              "colorscale": [
               [
                0,
                "rgb(2,4,25)"
               ],
               [
                0.06274509803921569,
                "rgb(24,15,41)"
               ],
               [
                0.12549019607843137,
                "rgb(47,23,57)"
               ],
               [
                0.18823529411764706,
                "rgb(71,28,72)"
               ],
               [
                0.25098039215686274,
                "rgb(97,30,82)"
               ],
               [
                0.3137254901960784,
                "rgb(123,30,89)"
               ],
               [
                0.3764705882352941,
                "rgb(150,27,91)"
               ],
               [
                0.4392156862745098,
                "rgb(177,22,88)"
               ],
               [
                0.5019607843137255,
                "rgb(203,26,79)"
               ],
               [
                0.5647058823529412,
                "rgb(223,47,67)"
               ],
               [
                0.6274509803921569,
                "rgb(236,76,61)"
               ],
               [
                0.6901960784313725,
                "rgb(242,107,73)"
               ],
               [
                0.7529411764705882,
                "rgb(244,135,95)"
               ],
               [
                0.8156862745098039,
                "rgb(245,162,122)"
               ],
               [
                0.8784313725490196,
                "rgb(246,188,153)"
               ],
               [
                0.9411764705882353,
                "rgb(247,212,187)"
               ],
               [
                1,
                "rgb(250,234,220)"
               ]
              ],
              "type": "surface"
             }
            ],
            "table": [
             {
              "cells": {
               "fill": {
                "color": "rgb(231,231,240)"
               },
               "line": {
                "color": "white"
               }
              },
              "header": {
               "fill": {
                "color": "rgb(183,183,191)"
               },
               "line": {
                "color": "white"
               }
              },
              "type": "table"
             }
            ]
           },
           "layout": {
            "annotationdefaults": {
             "arrowcolor": "rgb(67,103,167)"
            },
            "autotypenumbers": "strict",
            "coloraxis": {
             "colorbar": {
              "outlinewidth": 0,
              "tickcolor": "rgb(36,36,36)",
              "ticklen": 8,
              "ticks": "outside",
              "tickwidth": 2
             }
            },
            "colorscale": {
             "sequential": [
              [
               0,
               "rgb(2,4,25)"
              ],
              [
               0.06274509803921569,
               "rgb(24,15,41)"
              ],
              [
               0.12549019607843137,
               "rgb(47,23,57)"
              ],
              [
               0.18823529411764706,
               "rgb(71,28,72)"
              ],
              [
               0.25098039215686274,
               "rgb(97,30,82)"
              ],
              [
               0.3137254901960784,
               "rgb(123,30,89)"
              ],
              [
               0.3764705882352941,
               "rgb(150,27,91)"
              ],
              [
               0.4392156862745098,
               "rgb(177,22,88)"
              ],
              [
               0.5019607843137255,
               "rgb(203,26,79)"
              ],
              [
               0.5647058823529412,
               "rgb(223,47,67)"
              ],
              [
               0.6274509803921569,
               "rgb(236,76,61)"
              ],
              [
               0.6901960784313725,
               "rgb(242,107,73)"
              ],
              [
               0.7529411764705882,
               "rgb(244,135,95)"
              ],
              [
               0.8156862745098039,
               "rgb(245,162,122)"
              ],
              [
               0.8784313725490196,
               "rgb(246,188,153)"
              ],
              [
               0.9411764705882353,
               "rgb(247,212,187)"
              ],
              [
               1,
               "rgb(250,234,220)"
              ]
             ],
             "sequentialminus": [
              [
               0,
               "rgb(2,4,25)"
              ],
              [
               0.06274509803921569,
               "rgb(24,15,41)"
              ],
              [
               0.12549019607843137,
               "rgb(47,23,57)"
              ],
              [
               0.18823529411764706,
               "rgb(71,28,72)"
              ],
              [
               0.25098039215686274,
               "rgb(97,30,82)"
              ],
              [
               0.3137254901960784,
               "rgb(123,30,89)"
              ],
              [
               0.3764705882352941,
               "rgb(150,27,91)"
              ],
              [
               0.4392156862745098,
               "rgb(177,22,88)"
              ],
              [
               0.5019607843137255,
               "rgb(203,26,79)"
              ],
              [
               0.5647058823529412,
               "rgb(223,47,67)"
              ],
              [
               0.6274509803921569,
               "rgb(236,76,61)"
              ],
              [
               0.6901960784313725,
               "rgb(242,107,73)"
              ],
              [
               0.7529411764705882,
               "rgb(244,135,95)"
              ],
              [
               0.8156862745098039,
               "rgb(245,162,122)"
              ],
              [
               0.8784313725490196,
               "rgb(246,188,153)"
              ],
              [
               0.9411764705882353,
               "rgb(247,212,187)"
              ],
              [
               1,
               "rgb(250,234,220)"
              ]
             ]
            },
            "colorway": [
             "rgb(76,114,176)",
             "rgb(221,132,82)",
             "rgb(85,168,104)",
             "rgb(196,78,82)",
             "rgb(129,114,179)",
             "rgb(147,120,96)",
             "rgb(218,139,195)",
             "rgb(140,140,140)",
             "rgb(204,185,116)",
             "rgb(100,181,205)"
            ],
            "font": {
             "color": "rgb(36,36,36)"
            },
            "geo": {
             "bgcolor": "white",
             "lakecolor": "white",
             "landcolor": "rgb(234,234,242)",
             "showlakes": true,
             "showland": true,
             "subunitcolor": "white"
            },
            "hoverlabel": {
             "align": "left"
            },
            "hovermode": "closest",
            "paper_bgcolor": "white",
            "plot_bgcolor": "rgb(234,234,242)",
            "polar": {
             "angularaxis": {
              "gridcolor": "white",
              "linecolor": "white",
              "showgrid": true,
              "ticks": ""
             },
             "bgcolor": "rgb(234,234,242)",
             "radialaxis": {
              "gridcolor": "white",
              "linecolor": "white",
              "showgrid": true,
              "ticks": ""
             }
            },
            "scene": {
             "xaxis": {
              "backgroundcolor": "rgb(234,234,242)",
              "gridcolor": "white",
              "gridwidth": 2,
              "linecolor": "white",
              "showbackground": true,
              "showgrid": true,
              "ticks": "",
              "zerolinecolor": "white"
             },
             "yaxis": {
              "backgroundcolor": "rgb(234,234,242)",
              "gridcolor": "white",
              "gridwidth": 2,
              "linecolor": "white",
              "showbackground": true,
              "showgrid": true,
              "ticks": "",
              "zerolinecolor": "white"
             },
             "zaxis": {
              "backgroundcolor": "rgb(234,234,242)",
              "gridcolor": "white",
              "gridwidth": 2,
              "linecolor": "white",
              "showbackground": true,
              "showgrid": true,
              "ticks": "",
              "zerolinecolor": "white"
             }
            },
            "shapedefaults": {
             "fillcolor": "rgb(67,103,167)",
             "line": {
              "width": 0
             },
             "opacity": 0.5
            },
            "ternary": {
             "aaxis": {
              "gridcolor": "white",
              "linecolor": "white",
              "showgrid": true,
              "ticks": ""
             },
             "baxis": {
              "gridcolor": "white",
              "linecolor": "white",
              "showgrid": true,
              "ticks": ""
             },
             "bgcolor": "rgb(234,234,242)",
             "caxis": {
              "gridcolor": "white",
              "linecolor": "white",
              "showgrid": true,
              "ticks": ""
             }
            },
            "xaxis": {
             "automargin": true,
             "gridcolor": "white",
             "linecolor": "white",
             "showgrid": true,
             "ticks": "",
             "title": {
              "standoff": 15
             },
             "zerolinecolor": "white"
            },
            "yaxis": {
             "automargin": true,
             "gridcolor": "white",
             "linecolor": "white",
             "showgrid": true,
             "ticks": "",
             "title": {
              "standoff": 15
             },
             "zerolinecolor": "white"
            }
           }
          }
         }
        },
        "title": {
         "text": "MLPClassifier",
         "x": 0
        },
        "width": 3000,
        "xaxis": {
         "anchor": "y",
         "domain": [
          0,
          0.082
         ],
         "title": {
          "text": "MLPC__activation"
         }
        },
        "xaxis10": {
         "anchor": "y10",
         "domain": [
          0.9179999999999999,
          0.9999999999999999
         ],
         "title": {
          "text": "MLPC__solver"
         }
        },
        "xaxis2": {
         "anchor": "y2",
         "domain": [
          0.10200000000000001,
          0.184
         ],
         "title": {
          "text": "MLPC__alpha"
         },
         "type": "log"
        },
        "xaxis3": {
         "anchor": "y3",
         "domain": [
          0.20400000000000001,
          0.28600000000000003
         ],
         "title": {
          "text": "MLPC__batch_size"
         },
         "type": "log"
        },
        "xaxis4": {
         "anchor": "y4",
         "domain": [
          0.306,
          0.388
         ],
         "title": {
          "text": "MLPC__hidden_layer_sizes"
         }
        },
        "xaxis5": {
         "anchor": "y5",
         "domain": [
          0.40800000000000003,
          0.49000000000000005
         ],
         "title": {
          "text": "MLPC__learning_rate"
         }
        },
        "xaxis6": {
         "anchor": "y6",
         "domain": [
          0.51,
          0.592
         ],
         "title": {
          "text": "MLPC__learning_rate_init"
         },
         "type": "log"
        },
        "xaxis7": {
         "anchor": "y7",
         "domain": [
          0.6120000000000001,
          0.6940000000000001
         ],
         "title": {
          "text": "MLPC__max_iter"
         },
         "type": "log"
        },
        "xaxis8": {
         "anchor": "y8",
         "domain": [
          0.7140000000000001,
          0.796
         ],
         "title": {
          "text": "MLPC__momentum"
         }
        },
        "xaxis9": {
         "anchor": "y9",
         "domain": [
          0.8160000000000001,
          0.898
         ],
         "title": {
          "text": "MLPC__power_t"
         }
        },
        "yaxis": {
         "anchor": "x",
         "domain": [
          0,
          1
         ],
         "title": {
          "text": "Objective Value"
         }
        },
        "yaxis10": {
         "anchor": "x10",
         "domain": [
          0,
          1
         ],
         "matches": "y",
         "showticklabels": false
        },
        "yaxis2": {
         "anchor": "x2",
         "domain": [
          0,
          1
         ],
         "matches": "y",
         "showticklabels": false
        },
        "yaxis3": {
         "anchor": "x3",
         "domain": [
          0,
          1
         ],
         "matches": "y",
         "showticklabels": false
        },
        "yaxis4": {
         "anchor": "x4",
         "domain": [
          0,
          1
         ],
         "matches": "y",
         "showticklabels": false
        },
        "yaxis5": {
         "anchor": "x5",
         "domain": [
          0,
          1
         ],
         "matches": "y",
         "showticklabels": false
        },
        "yaxis6": {
         "anchor": "x6",
         "domain": [
          0,
          1
         ],
         "matches": "y",
         "showticklabels": false
        },
        "yaxis7": {
         "anchor": "x7",
         "domain": [
          0,
          1
         ],
         "matches": "y",
         "showticklabels": false
        },
        "yaxis8": {
         "anchor": "x8",
         "domain": [
          0,
          1
         ],
         "matches": "y",
         "showticklabels": false
        },
        "yaxis9": {
         "anchor": "x9",
         "domain": [
          0,
          1
         ],
         "matches": "y",
         "showticklabels": false
        }
       }
      }
     },
     "metadata": {},
     "output_type": "display_data"
    }
   ],
   "source": [
    "for item in range(models.shape[0]):\n",
    "    plot_Optuna(models.loc[item,'study'], 'plot_slice', models.loc[item, 'name'])\n",
    "#     plot_Optuna(models.loc[item,'study'], 'plot_param_importances', models.loc[item, 'name'])     # может работать долго !\n",
    "#     plot_Optuna(models.loc[item,'study'], 'plot_optimization_history', models.loc[item, 'name'])"
   ]
  },
  {
   "cell_type": "markdown",
   "id": "cf7259d8",
   "metadata": {},
   "source": [
    "## Results"
   ]
  },
  {
   "cell_type": "markdown",
   "id": "d838d74e",
   "metadata": {},
   "source": [
    "### Выбор лучшей модели\n",
    "\n",
    "Нужно указать название вручную.\n",
    "\n",
    "Надо добавить еще и автовыбор."
   ]
  },
  {
   "cell_type": "code",
   "execution_count": 599,
   "id": "dae693a3",
   "metadata": {},
   "outputs": [],
   "source": [
    "# выбор модели из таблицы\n",
    "\n",
    "BEST_MODEL_NAME = 'MLPClassifier'\n",
    "model = models.model.values[models.name == BEST_MODEL_NAME][0]"
   ]
  },
  {
   "cell_type": "markdown",
   "id": "1e710475",
   "metadata": {},
   "source": [
    "### Важность признаков"
   ]
  },
  {
   "cell_type": "code",
   "execution_count": 600,
   "id": "aa9ce721",
   "metadata": {},
   "outputs": [
    {
     "data": {
      "image/png": "[encoded data removed]",
      "text/plain": [
       "<Figure size 2250x750 with 1 Axes>"
      ]
     },
     "metadata": {},
     "output_type": "display_data"
    },
    {
     "data": {
      "image/png": "[encoded data removed]",
      "text/plain": [
       "<Figure size 2250x750 with 1 Axes>"
      ]
     },
     "metadata": {},
     "output_type": "display_data"
    }
   ],
   "source": [
    "# permutation importance for train\n",
    "plot_feature_importances(\n",
    "                         'Permutation importance for train',\n",
    "                         # извлечение списка признаков\n",
    "                         model.feature_names_in_,\n",
    "                         # вычисление важности признаков\n",
    "                         permutation_importance(model,\n",
    "                                                X_train, Y_train,\n",
    "                                                scoring=SCORING, n_repeats=5, n_jobs=-1, random_state=RS)\n",
    "                        )\n",
    "\n",
    "# permutation importance for valid\n",
    "plot_feature_importances(\n",
    "                         'Permutation importance for valid',\n",
    "                         # извлечение списка признаков\n",
    "                         model.feature_names_in_,\n",
    "                         # вычисление важности признаков\n",
    "                         permutation_importance(model,\n",
    "                                                X_valid, Y_valid,\n",
    "                                                scoring=SCORING, n_repeats=5, n_jobs=-1, random_state=RS)\n",
    "                        )"
   ]
  },
  {
   "cell_type": "markdown",
   "id": "373f1397",
   "metadata": {},
   "source": [
    "### Additional metrics"
   ]
  },
  {
   "cell_type": "code",
   "execution_count": 601,
   "id": "0f26624e",
   "metadata": {},
   "outputs": [
    {
     "data": {
      "text/html": [
       "<div>\n",
       "<style scoped>\n",
       "    .dataframe tbody tr th:only-of-type {\n",
       "        vertical-align: middle;\n",
       "    }\n",
       "\n",
       "    .dataframe tbody tr th {\n",
       "        vertical-align: top;\n",
       "    }\n",
       "\n",
       "    .dataframe thead th {\n",
       "        text-align: right;\n",
       "    }\n",
       "</style>\n",
       "<table border=\"1\" class=\"dataframe\">\n",
       "  <thead>\n",
       "    <tr style=\"text-align: left;\">\n",
       "      <th></th>\n",
       "      <th>index</th>\n",
       "      <th>name</th>\n",
       "      <th>features</th>\n",
       "      <th>roc_auc_train</th>\n",
       "      <th>roc_auc_valid</th>\n",
       "      <th>f1_train</th>\n",
       "      <th>f1_valid</th>\n",
       "      <th>accuracy_train</th>\n",
       "      <th>accuracy_valid</th>\n",
       "      <th>ROC_AUC</th>\n",
       "      <th>matthews_coeff</th>\n",
       "      <th>cohen_kappa</th>\n",
       "    </tr>\n",
       "  </thead>\n",
       "  <tbody>\n",
       "    <tr>\n",
       "      <th>0</th>\n",
       "      <td>7</td>\n",
       "      <td>MLPClassifier</td>\n",
       "      <td>gender_aphi_bined_aplo_bined_TRG_mean, gender_age_TRG_mean, gender_weight_bined_height_bined_TRG...</td>\n",
       "      <td>0.806</td>\n",
       "      <td>0.806</td>\n",
       "      <td>0.729</td>\n",
       "      <td>0.729</td>\n",
       "      <td>0.739</td>\n",
       "      <td>0.739</td>\n",
       "      <td>0.807</td>\n",
       "      <td>0.479</td>\n",
       "      <td>0.478</td>\n",
       "    </tr>\n",
       "  </tbody>\n",
       "</table>\n",
       "</div>"
      ],
      "text/plain": [
       "   index name            \\\n",
       "0  7      MLPClassifier   \n",
       "\n",
       "  features                                                                                              \\\n",
       "0  gender_aphi_bined_aplo_bined_TRG_mean, gender_age_TRG_mean, gender_weight_bined_height_bined_TRG...   \n",
       "\n",
       "   roc_auc_train  roc_auc_valid  f1_train  f1_valid  accuracy_train  \\\n",
       "0 0.806          0.806          0.729     0.729     0.739             \n",
       "\n",
       "   accuracy_valid  ROC_AUC  matthews_coeff  cohen_kappa  \n",
       "0 0.739           0.807    0.479           0.478         "
      ]
     },
     "execution_count": 601,
     "metadata": {},
     "output_type": "execute_result"
    }
   ],
   "source": [
    "# дополнительные метрики моделей\n",
    "models = add_model_metrics(models, X_train, Y_train, X_valid, Y_valid, cv=5, scoring_list=['roc_auc','f1','accuracy'])\n",
    "\n",
    "models.drop(['short_name','model','study','best_params'], axis=1)"
   ]
  },
  {
   "cell_type": "markdown",
   "id": "ffcd7fb5",
   "metadata": {},
   "source": [
    "### Save models parameters and metrics"
   ]
  },
  {
   "cell_type": "code",
   "execution_count": 602,
   "id": "5e7f39b6",
   "metadata": {},
   "outputs": [],
   "source": [
    "# запись в файл\n",
    "\n",
    "models.to_excel(f'results/models {datetime.now().strftime(\"%Y-%m-%d_at_%H-%M\")}, {SCORING}_{study.best_value:0.4f}, CV_{N_CV}.xlsx',\n",
    "                sheet_name='best params', index=False)"
   ]
  },
  {
   "cell_type": "markdown",
   "id": "a4e615fa",
   "metadata": {},
   "source": [
    "## Подготовка прогноза для участия в соревновании"
   ]
  },
  {
   "cell_type": "code",
   "execution_count": 603,
   "id": "1d83fc00",
   "metadata": {},
   "outputs": [],
   "source": [
    "data_pred = data_test[['id']].copy()"
   ]
  },
  {
   "cell_type": "code",
   "execution_count": 604,
   "id": "71142c0e",
   "metadata": {},
   "outputs": [],
   "source": [
    "# обучение модели на полном наборе данных и прогноз модели (в данном случае — вероятность)\n",
    "data_pred['cardio'] = model.fit(X,Y).predict_proba(data_test)[:,1]"
   ]
  },
  {
   "cell_type": "markdown",
   "id": "e99306b4",
   "metadata": {},
   "source": [
    "Распределение прогноза (вероятности отнесения к классу).  \n",
    "Вертикальная линия разделяет два класса. Ее положение определяется соотношением классов в обучающей выборке."
   ]
  },
  {
   "cell_type": "code",
   "execution_count": 605,
   "id": "6ff5b06c",
   "metadata": {},
   "outputs": [],
   "source": [
    "# среднее значение таргета\n",
    "target_mean = data_train.cardio.mean()\n",
    "\n",
    "# вероятность, соотвествующая среднему значению таргета\n",
    "proba_mean = data_pred.cardio.quantile(target_mean)"
   ]
  },
  {
   "cell_type": "code",
   "execution_count": 606,
   "id": "dad9f8e1",
   "metadata": {},
   "outputs": [
    {
     "data": {
      "image/png": "[encoded data removed]",
      "text/plain": [
       "<Figure size 2250x450 with 1 Axes>"
      ]
     },
     "metadata": {},
     "output_type": "display_data"
    }
   ],
   "source": [
    "fig, ax = plt.subplots(figsize=(15,3), dpi=PLOT_DPI)\n",
    "sns.histplot(x=data_pred.cardio, bins=100)\n",
    "plt.axvline(proba_mean, color='red');"
   ]
  },
  {
   "cell_type": "code",
   "execution_count": 607,
   "id": "71f38d6a",
   "metadata": {},
   "outputs": [
    {
     "data": {
      "text/plain": [
       "(0.00503, 0.464]    15000\n",
       "(0.464, 0.988]      15000\n",
       "Name: cardio, dtype: int64"
      ]
     },
     "execution_count": 607,
     "metadata": {},
     "output_type": "execute_result"
    }
   ],
   "source": [
    "pd.qcut(data_pred.cardio, q=2).value_counts()"
   ]
  },
  {
   "cell_type": "code",
   "execution_count": 608,
   "id": "309217aa",
   "metadata": {},
   "outputs": [],
   "source": [
    "# запись прогноза в файл\n",
    "\n",
    "data_pred[['id','cardio']].to_csv(\n",
    "    f'results/submit {datetime.now().strftime(\"%Y-%m-%d_at_%H-%M\")}, {SCORING}_{study.best_value:0.4f}, {model.steps[-1][0]}, CV_{N_CV}.csv',\n",
    "                      index=False,\n",
    ")"
   ]
  },
  {
   "cell_type": "markdown",
   "id": "b76abc72",
   "metadata": {},
   "source": [
    "### Save best model dump"
   ]
  },
  {
   "cell_type": "code",
   "execution_count": 609,
   "id": "8fe83ffa",
   "metadata": {},
   "outputs": [
    {
     "data": {
      "text/plain": [
       "['results/dump 2023-03-06_at_21-08, roc_auc_0.8060, MLPC, CV=10.mdl']"
      ]
     },
     "execution_count": 609,
     "metadata": {},
     "output_type": "execute_result"
    }
   ],
   "source": [
    "# запись лучшей модели в файл\n",
    "\n",
    "\n",
    "joblib.dump(model, f'results/dump {datetime.now().strftime(\"%Y-%m-%d_at_%H-%M\")}, {SCORING}_{study.best_value:0.4f}, {model.steps[-1][0]}, CV={N_CV}.mdl')"
   ]
  },
  {
   "cell_type": "code",
   "execution_count": 610,
   "id": "7a5361d3",
   "metadata": {},
   "outputs": [],
   "source": [
    "# # запись лучшей модели в файл\n",
    "\n",
    "# with open(f'results/dump {datetime.now().strftime(\"%Y-%m-%d_at_%H-%M\")}, {SCORING}_{study.best_value:0.4f}, {model.steps[-1][0]}, CV={N_CV}.mdl') as model_dump:\n",
    "#     joblib.dump(model, model_dump)"
   ]
  },
  {
   "cell_type": "code",
   "execution_count": 611,
   "id": "6e9c70d9",
   "metadata": {},
   "outputs": [],
   "source": [
    "# # запись лучшей модели в файл\n",
    "\n",
    "# with open(f'results/dump {datetime.now().strftime(\"%Y-%m-%d_at_%H-%M\")}, {SCORING}_{study.best_value:0.4f}, {model.steps[-1][0]}, CV={N_CV}.pcl',\n",
    "#           'wb') as model_dump:\n",
    "#     pickle.dump(model, model_dump)"
   ]
  }
 ],
 "metadata": {
  "kernelspec": {
   "display_name": "Python 3 (ipykernel)",
   "language": "python",
   "name": "python3"
  },
  "language_info": {
   "codemirror_mode": {
    "name": "ipython",
    "version": 3
   },
   "file_extension": ".py",
   "mimetype": "text/x-python",
   "name": "python",
   "nbconvert_exporter": "python",
   "pygments_lexer": "ipython3",
   "version": "3.8.13"
  },
  "nbTranslate": {
   "displayLangs": [
    "en",
    "ru"
   ],
   "hotkey": "alt-t",
   "langInMainMenu": false,
   "sourceLang": "ru",
   "targetLang": "en",
   "useGoogleTranslate": true
  },
  "toc": {
   "base_numbering": "0",
   "nav_menu": {},
   "number_sections": true,
   "sideBar": true,
   "skip_h1_title": true,
   "title_cell": "Содержание",
   "title_sidebar": "Содержание",
   "toc_cell": true,
   "toc_position": {
    "height": "calc(100% - 180px)",
    "left": "10px",
    "top": "150px",
    "width": "206.9px"
   },
   "toc_section_display": true,
   "toc_window_display": true
  },
  "toc-autonumbering": true,
  "toc-showcode": false,
  "toc-showmarkdowntxt": false,
  "toc-showtags": false,
  "vscode": {
   "interpreter": {
    "hash": "2f9d6cf1e3d8195079a65c851de355134a77367bcd714b1a5d498c42d3c07114"
   }
  }
 },
 "nbformat": 4,
 "nbformat_minor": 5
}

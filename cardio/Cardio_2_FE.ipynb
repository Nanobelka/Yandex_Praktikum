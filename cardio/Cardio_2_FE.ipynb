{
 "cells": [
  {
   "cell_type": "markdown",
   "id": "048a187c",
   "metadata": {
    "toc": true
   },
   "source": [
    "<h1>Содержание<span class=\"tocSkip\"></span></h1>\n",
    "<div class=\"toc\"><ul class=\"toc-item\"><li><span><a href=\"#Intro\" data-toc-modified-id=\"Intro-0\"><span class=\"toc-item-num\">0&nbsp;&nbsp;</span>Intro</a></span></li><li><span><a href=\"#Initial\" data-toc-modified-id=\"Initial-1\"><span class=\"toc-item-num\">1&nbsp;&nbsp;</span>Initial</a></span><ul class=\"toc-item\"><li><span><a href=\"#Imports\" data-toc-modified-id=\"Imports-1.1\"><span class=\"toc-item-num\">1.1&nbsp;&nbsp;</span>Imports</a></span></li><li><span><a href=\"#Constants\" data-toc-modified-id=\"Constants-1.2\"><span class=\"toc-item-num\">1.2&nbsp;&nbsp;</span>Constants</a></span></li><li><span><a href=\"#Functions\" data-toc-modified-id=\"Functions-1.3\"><span class=\"toc-item-num\">1.3&nbsp;&nbsp;</span>Functions</a></span></li><li><span><a href=\"#Settings\" data-toc-modified-id=\"Settings-1.4\"><span class=\"toc-item-num\">1.4&nbsp;&nbsp;</span>Settings</a></span></li></ul></li><li><span><a href=\"#Read-data\" data-toc-modified-id=\"Read-data-2\"><span class=\"toc-item-num\">2&nbsp;&nbsp;</span>Read data</a></span></li><li><span><a href=\"#New-features\" data-toc-modified-id=\"New-features-3\"><span class=\"toc-item-num\">3&nbsp;&nbsp;</span><strong>New features</strong></a></span></li><li><span><a href=\"#Correlation\" data-toc-modified-id=\"Correlation-4\"><span class=\"toc-item-num\">4&nbsp;&nbsp;</span>Correlation</a></span><ul class=\"toc-item\"><li><span><a href=\"#Feature-correlations\" data-toc-modified-id=\"Feature-correlations-4.1\"><span class=\"toc-item-num\">4.1&nbsp;&nbsp;</span>Feature correlations</a></span></li><li><span><a href=\"#Correlation-to-target-&amp;-Significance-of-the-correlations\" data-toc-modified-id=\"Correlation-to-target-&amp;-Significance-of-the-correlations-4.2\"><span class=\"toc-item-num\">4.2&nbsp;&nbsp;</span>Correlation to target &amp; Significance of the correlations</a></span></li><li><span><a href=\"#Outlier-significance\" data-toc-modified-id=\"Outlier-significance-4.3\"><span class=\"toc-item-num\">4.3&nbsp;&nbsp;</span>Outlier significance</a></span></li></ul></li><li><span><a href=\"#Mutual-info\" data-toc-modified-id=\"Mutual-info-5\"><span class=\"toc-item-num\">5&nbsp;&nbsp;</span>Mutual info</a></span></li><li><span><a href=\"#Data-save\" data-toc-modified-id=\"Data-save-6\"><span class=\"toc-item-num\">6&nbsp;&nbsp;</span>Data save</a></span></li></ul></div>"
   ]
  },
  {
   "cell_type": "markdown",
   "id": "0f19e804",
   "metadata": {},
   "source": [
    "# [Cardiovascular Disease](https://www.kaggle.com/datasets/sulianova/cardiovascular-disease-dataset) Part 2 – Feature Engineering\n",
    "\n",
    "---\n",
    "\n",
    "**Заказчик**\n",
    "\n",
    "Для внутреннего (Яндекс.Практикум) соревнования [Heart diseases prediction](https://www.kaggle.com/competitions/yap15-heart-diseases-predictions).\n",
    "\n",
    "---\n",
    "\n",
    "**Входные данные**: параметры обследованных пациентов; данные изначально разделены на обучающий и тестовый наборы.\n",
    "\n",
    "---\n",
    "\n",
    "**Цель**\n",
    "\n",
    "Predict risk of heart diseases from patient lifestyle information.  \n",
    "Целевая метрика – ROC-AUC-score.\n",
    "\n",
    "---\n",
    "\n",
    "**Задачи:**  \n",
    "\n",
    "- исследовать варианты создания новых признаков;\n",
    "- оценить значимость исходных и новых признаков для модели;\n",
    "- подготовить данные для обучения модели."
   ]
  },
  {
   "cell_type": "markdown",
   "id": "64d3b239",
   "metadata": {},
   "source": [
    "**Some explanations**\n",
    "\n",
    "---\n",
    "\n",
    "Permanent data tables named like: **data**.  \n",
    "\n",
    "Temporary data tables named like: **df**.  \n",
    "\n",
    "---\n",
    "\n",
    "Intermediate conclusions are highlighted as follows:\n",
    "\n",
    "> Intermediate conclusion.\n",
    "\n",
    "---\n",
    "\n",
    "The code of the cells are as independent as possible from each other in order to freely manipulate the cells."
   ]
  },
  {
   "cell_type": "markdown",
   "id": "a5d94030",
   "metadata": {},
   "source": [
    "---"
   ]
  },
  {
   "cell_type": "markdown",
   "id": "782fee2d",
   "metadata": {
    "tags": []
   },
   "source": [
    "## Intro"
   ]
  },
  {
   "cell_type": "markdown",
   "id": "7eb7deb4",
   "metadata": {},
   "source": [
    "Features:\n",
    "\n",
    "|                      Feature Full Name       |  Feature origin   | Feature Name |                    Data Type (units)       |\n",
    "|:---------------------------------------------|:-------------------|:-----------|:--------------------------------------------|\n",
    "|                      Age                      |  Objective Feature  |     age     |                    int (days)                    |\n",
    "| Height                                        | Objective Feature   | height      | int (cm)                                         |\n",
    "| Weight                                        | Objective Feature   | weight      | float (kg)                                       |\n",
    "| Gender                                        | Objective Feature   | gender      | categorical code                                 |\n",
    "| Systolic blood pressure                       | Examination Feature | ap_hi       | int                                              |\n",
    "| Diastolic blood pressure                      | Examination Feature | ap_lo       | int                                              |\n",
    "| Cholesterol                                   | Examination Feature | cholesterol | 1: normal, 2: above normal, 3: well above normal |\n",
    "| Glucose                                       | Examination Feature | gluc        | 1: normal, 2: above normal, 3: well above normal |\n",
    "| Smoking                                       | Subjective Feature  | smoke       | binary                                           |\n",
    "| Alcohol intake                                | Subjective Feature  | alco        | binary                                           |\n",
    "| Physical activity                             | Subjective Feature  | active      | binary                                           |\n",
    "| Presence or absence of cardiovascular disease | Target Variable     | cardio      | binary                                           |\n",
    "\n",
    "All of the dataset values were collected at the moment of medical examination. "
   ]
  },
  {
   "cell_type": "markdown",
   "id": "ae7325b3",
   "metadata": {},
   "source": [
    "---"
   ]
  },
  {
   "cell_type": "markdown",
   "id": "bb9072f2",
   "metadata": {
    "tags": []
   },
   "source": [
    "## Initial"
   ]
  },
  {
   "cell_type": "markdown",
   "id": "f5cef155",
   "metadata": {},
   "source": [
    "### Imports"
   ]
  },
  {
   "cell_type": "code",
   "execution_count": 1,
   "id": "9c0bf8a2",
   "metadata": {},
   "outputs": [],
   "source": [
    "import pandas as pd\n",
    "import numpy as np\n",
    "\n",
    "import os\n",
    "import warnings\n",
    "\n",
    "import matplotlib.pyplot as plt\n",
    "import seaborn as sns\n",
    "from matplotlib.colors import LinearSegmentedColormap\n",
    "import plotly.graph_objects as go\n",
    "import plotly.io as pio\n",
    "\n",
    "import phik\n",
    "from sklearn.feature_selection import mutual_info_classif, mutual_info_regression\n",
    "from sklearn.decomposition import PCA"
   ]
  },
  {
   "cell_type": "markdown",
   "id": "7c9327a4",
   "metadata": {},
   "source": [
    "### Constants"
   ]
  },
  {
   "cell_type": "code",
   "execution_count": 2,
   "id": "13e07bee",
   "metadata": {},
   "outputs": [],
   "source": [
    "PATH_LOCAL = 'datasets/'                                              # local path to data\n",
    "PATH_REMOTE = '/kaggle/input/yap15-heart-diseases-predictions/'       # remote path to data\n",
    "\n",
    "CR = '\\n'                                                             # new line\n",
    "RANDOM_STATE = RS = 88                                                # random_state"
   ]
  },
  {
   "cell_type": "markdown",
   "id": "c3161820",
   "metadata": {},
   "source": [
    "### Functions"
   ]
  },
  {
   "cell_type": "code",
   "execution_count": 3,
   "id": "a8068b9c",
   "metadata": {},
   "outputs": [],
   "source": [
    "def custom_read_csv(file_name, separator=','):\n",
    "    \"\"\"\n",
    "    чтение датасета в формате CSV:\n",
    "      сначала из локального хранилища;\n",
    "      при неудаче — из удаленного хранилища Kaggle.\n",
    "    \"\"\"\n",
    "\n",
    "    path_local = f'{PATH_LOCAL}{file_name}'\n",
    "    path_remote = f'{PATH_REMOTE}{file_name}'\n",
    "    \n",
    "    if os.path.exists(path_local):\n",
    "        return pd.read_csv(path_local, sep=separator)\n",
    "\n",
    "    elif os.path.exists(path_remote):\n",
    "        return pd.read_csv(path_remote, sep=separator)\n",
    "\n",
    "    else:\n",
    "        print(f'File \"{file_name}\" not found at the specified path ')"
   ]
  },
  {
   "cell_type": "code",
   "execution_count": 4,
   "id": "6bc6110a",
   "metadata": {},
   "outputs": [],
   "source": [
    "def df_name(df):\n",
    "    \"\"\"\n",
    "    table name determination\n",
    "    \"\"\"\n",
    "    return [name for name in globals() if globals()[name] is df][0]"
   ]
  },
  {
   "cell_type": "code",
   "execution_count": 5,
   "id": "b81973c1",
   "metadata": {},
   "outputs": [],
   "source": [
    "def basic_info(df: pd.DataFrame, sample_type='sample', samples=5, describe='all'):\n",
    "    \"\"\"\n",
    "    first info about dataframe: info(), sample()/head()/tail(), describe()\n",
    "    \"\"\"\n",
    "    \n",
    "    # title (name of dataframe)\n",
    "    \n",
    "    print(f'\\n\\ndataframe {f.BOLD}{df_name(df)}{f.END}', '≋'*30)\n",
    "\n",
    "\n",
    "    # method info()\n",
    "    \n",
    "    print('\\n\\n--- method info() ---\\n')\n",
    "    print(df.info())\n",
    "\n",
    "    \n",
    "    # several random records\n",
    "    \n",
    "    print(f'\\n\\n--- method {sample_type}({samples}) ---')\n",
    "    \n",
    "    if sample_type == 'sample':\n",
    "        display(df.sample(samples))\n",
    "    elif sample_type == 'head':\n",
    "        display(df.head(samples))\n",
    "    elif sample_type == 'tail':\n",
    "        display(df.tail(samples))\n",
    "    else:\n",
    "        print(f'{sample_type} – invalid value for parameter \"sample_type\" ')\n",
    "    \n",
    "    \n",
    "    # method describe()\n",
    "    \n",
    "    print(f'\\n\\n--- method describe({describe}) ---')\n",
    "    \n",
    "    if describe=='all' or describe=='numeric':\n",
    "        try:\n",
    "            display(df.describe(include=np.number))\n",
    "        except ValueError:\n",
    "            pass\n",
    "\n",
    "    if describe=='all' or describe=='categorical':\n",
    "        try:\n",
    "            display(df.describe(exclude=np.number).T)\n",
    "        except ValueError:\n",
    "            pass\n",
    "    \n",
    "    if describe not in ['numeric','categorical','all']:\n",
    "        print(f'{describe} – invalid value for parameter \"describe\" ')"
   ]
  },
  {
   "cell_type": "code",
   "execution_count": 6,
   "id": "56a64a81",
   "metadata": {},
   "outputs": [],
   "source": [
    "def apply_PCA(X_train, X_test, prefix='', standardize=True):\n",
    "    \n",
    "    # Standardize\n",
    "    if standardize:\n",
    "        X_train = (X_train - X_train.mean(axis=0)) / X_train.std(axis=0)\n",
    "    \n",
    "    # Create principal components\n",
    "    pca = PCA()\n",
    "    X_train_pca = pca.fit_transform(X_train)\n",
    "    X_test_pca = pca.transform(X_test)\n",
    "    \n",
    "    # Convert to dataframe\n",
    "    component_names = [f'{prefix}PC{i+1}' for i in range(X_train_pca.shape[1])]\n",
    "    X_train_pca = pd.DataFrame(X_train_pca, columns=component_names)\n",
    "    X_test_pca = pd.DataFrame(X_test_pca, columns=component_names)\n",
    "    \n",
    "    # Create loadings\n",
    "    loadings = pd.DataFrame(\n",
    "        pca.components_.T,        # transpose the matrix of loadings\n",
    "        columns=component_names,  # so the columns are the principal components\n",
    "        index=X_train.columns,    # and the rows are the original features\n",
    "    )\n",
    "    \n",
    "    return X_train_pca, X_test_pca, loadings, component_names"
   ]
  },
  {
   "cell_type": "code",
   "execution_count": 7,
   "id": "2605c1f8",
   "metadata": {},
   "outputs": [],
   "source": [
    "def mutual_info(X: pd.DataFrame, Y: pd.DataFrame, task=None, min_neighbors=1, max_neighbors=7):\n",
    "    \n",
    "    if max_neighbors < min_neighbors:\n",
    "        print(\"Parameter 'max_neighbors' can't be less then parameter 'min_neighbors'.\")\n",
    "        return\n",
    "    \n",
    "    df_mutual_info = pd.DataFrame(index=X.columns)\n",
    "    \n",
    "    # Label encoding for categoricals\n",
    "    for column in X.select_dtypes(exclude='number'):\n",
    "        X[column], _ = X[column].factorize()\n",
    "\n",
    "    # All discrete features should have integer dtypes\n",
    "#     discrete_features_lst = (X.dtypes == int)             # маска (булевый вектор) выделяющий дискретные признаки\n",
    "#     df_mutual_info[f'k_{k_neighbors}'] = mutual_info_classif(X, Y, n_neighbors=n, discrete_features=discrete_features_lst, random_state=RS)\n",
    "\n",
    "    for k in range(min_neighbors, max_neighbors+1, 2):\n",
    "        if task=='classification':\n",
    "            df_mutual_info[f'k_{k}'] = mutual_info_classif(X, Y, n_neighbors=k, random_state=RS)\n",
    "        elif task=='regression':\n",
    "            df_mutual_info[f'k_{k}'] = mutual_info_regression(X, Y, n_neighbors=k, random_state=RS)\n",
    "        else:\n",
    "            print('Wrong parameter \"task\". Available task=\"classification\" or task=\"regression\".')\n",
    "            return\n",
    "    \n",
    "    df_mutual_info['average'] = df_mutual_info.mean(axis=1)\n",
    "    df_mutual_info = df_mutual_info.sort_values('average', ascending=False)\n",
    "    \n",
    "    display(df_mutual_info)\n",
    "    \n",
    "    fig, ax = plt.subplots(figsize=(15, df_mutual_info.shape[0]/3), dpi=PLOT_DPI)\n",
    "    sns.barplot(x=df_mutual_info.average, y=df_mutual_info.index, color='steelblue')\n",
    "    ax.set_xlabel(f'mutual_info (average across from 1 to {max_neighbors} neighbours)');"
   ]
  },
  {
   "cell_type": "markdown",
   "id": "f4825471",
   "metadata": {},
   "source": [
    "### Settings"
   ]
  },
  {
   "cell_type": "code",
   "execution_count": 8,
   "id": "604a0591",
   "metadata": {},
   "outputs": [],
   "source": [
    "# text styles\n",
    "class f:\n",
    "    BOLD = \"\\033[1m\"\n",
    "    ITALIC = \"\\033[3m\"\n",
    "    END = \"\\033[0m\""
   ]
  },
  {
   "cell_type": "code",
   "execution_count": 9,
   "id": "67297223",
   "metadata": {},
   "outputs": [],
   "source": [
    "# defaults for charts\n",
    "\n",
    "# Matplotlib, Seaborn\n",
    "PLOT_DPI = 150  # dpi for charts rendering \n",
    "sns.set_style('whitegrid', {'axes.facecolor': '0.98', 'grid.color': '0.9', 'axes.edgecolor': '1.0'})\n",
    "plt.rc(\n",
    "       'axes',\n",
    "       labelweight='bold',\n",
    "       titlesize=14,\n",
    "       titlepad=10,\n",
    "      )\n",
    "\n",
    "# Plotly Graph_Objects\n",
    "pio.templates['my_theme'] = go.layout.Template(\n",
    "                                               layout_autosize=True,\n",
    "                                               # width=900,\n",
    "                                               layout_height=200,\n",
    "                                               layout_legend_orientation=\"h\",\n",
    "                                               layout_margin=dict(t=40, b=40),         # (l=0, r=0, b=0, t=0, pad=0)\n",
    "                                               layout_template='seaborn',\n",
    "                                              )\n",
    "pio.templates.default = 'my_theme'\n",
    "\n",
    "# colors, color schemes\n",
    "CMAP_SYMMETRIC = LinearSegmentedColormap.from_list('', ['steelblue', 'aliceblue', 'steelblue'])"
   ]
  },
  {
   "cell_type": "code",
   "execution_count": 10,
   "id": "705dd986",
   "metadata": {},
   "outputs": [],
   "source": [
    "# Pandas defaults\n",
    "pd.options.display.max_colwidth = 100\n",
    "pd.options.display.max_rows = 500\n",
    "pd.options.display.max_columns = 100\n",
    "pd.options.display.float_format = '{:.3f}'.format\n",
    "pd.options.display.colheader_justify = 'left'"
   ]
  },
  {
   "cell_type": "code",
   "execution_count": 11,
   "id": "a0d24efb",
   "metadata": {},
   "outputs": [],
   "source": [
    "# others\n",
    "warnings.filterwarnings('ignore')"
   ]
  },
  {
   "cell_type": "markdown",
   "id": "d6e7da7a",
   "metadata": {},
   "source": [
    "---"
   ]
  },
  {
   "cell_type": "markdown",
   "id": "52961e98",
   "metadata": {},
   "source": [
    "## Read data"
   ]
  },
  {
   "cell_type": "code",
   "execution_count": 12,
   "id": "a1e9bc01",
   "metadata": {},
   "outputs": [],
   "source": [
    "data_train = custom_read_csv('EDA_train.csv')  # обучающая выборка после этапа EDA\n",
    "data_test = custom_read_csv('EDA_test.csv')    # тестовая выборка после этапа EDA"
   ]
  },
  {
   "cell_type": "markdown",
   "id": "50c7e0a5",
   "metadata": {},
   "source": [
    "Перемещение целевого признака `cardio` в начало датафрейма."
   ]
  },
  {
   "cell_type": "code",
   "execution_count": 13,
   "id": "62a0431e",
   "metadata": {},
   "outputs": [],
   "source": [
    "data_train = pd.concat([data_train[['cardio']], data_train.drop('cardio', axis=1)], axis=1)"
   ]
  },
  {
   "cell_type": "markdown",
   "id": "e5d598d7",
   "metadata": {},
   "source": [
    "---"
   ]
  },
  {
   "cell_type": "markdown",
   "id": "ac19b272",
   "metadata": {},
   "source": [
    "## **New features**"
   ]
  },
  {
   "cell_type": "markdown",
   "id": "54e0e280",
   "metadata": {},
   "source": [
    "**Списки для удобства отслеживания новых признаков**"
   ]
  },
  {
   "cell_type": "code",
   "execution_count": 14,
   "id": "9489e442",
   "metadata": {},
   "outputs": [],
   "source": [
    "new_num_features_list = []\n",
    "new_cat_features_list = []"
   ]
  },
  {
   "cell_type": "markdown",
   "id": "409dcce4",
   "metadata": {},
   "source": [
    "**PCA** all features"
   ]
  },
  {
   "cell_type": "code",
   "execution_count": 15,
   "id": "133f1d32",
   "metadata": {},
   "outputs": [],
   "source": [
    "# feature_list = data_train.drop('cardio', axis=1).columns.to_list()\n",
    "\n",
    "# data_train_pca, data_test_pca, loadings, columns = apply_PCA(data_train[feature_list], data_test[feature_list], prefix='')\n",
    "# display(loadings)\n",
    "\n",
    "# data_train = data_train.join(data_train_pca)\n",
    "# data_test = data_test.join(data_test_pca)\n",
    "# new_num_features_list = new_num_features_list + columns"
   ]
  },
  {
   "cell_type": "code",
   "execution_count": 16,
   "id": "f6e3b5e5",
   "metadata": {},
   "outputs": [],
   "source": [
    "def target_encode(df_train, df_test, feature_list, target, agg_func_list=['mean'], fill_na=0.5):\n",
    "    '''\n",
    "    Принимает feature_list и делает для него target encoding,\n",
    "    используя заданную агрегирующую функцию agg_func.\n",
    "    '''\n",
    "    \n",
    "    for agg_func in agg_func_list:\n",
    "    \n",
    "        new_feature = '_'.join(feature_list) + '_TRG_' + agg_func\n",
    "\n",
    "        df_train[new_feature] = df_train.groupby(feature_list)[target].transform(agg_func)\n",
    "        df_train[new_feature] = df_train[new_feature].fillna(fill_na)\n",
    "\n",
    "        df_test = df_test.merge(\n",
    "                                df_train[feature_list + [new_feature]].drop_duplicates(),\n",
    "                                on=feature_list,\n",
    "                                how=\"left\",\n",
    "                               )\n",
    "        df_test[new_feature] = df_test[new_feature].fillna(fill_na)\n",
    "\n",
    "        new_num_features_list.append(new_feature)\n",
    "    \n",
    "    return df_train, df_test"
   ]
  },
  {
   "cell_type": "markdown",
   "id": "58a7dfda",
   "metadata": {},
   "source": [
    "**Дискреизация интервальных признаков**\n",
    "\n",
    "Оригинальный **age** имеет странные регулярные провалы – где малое количество пациентов определенного возраста. Из-за этого в местах провалов возникает риск переобучения. Дискретизация сглаживает этот деффект."
   ]
  },
  {
   "cell_type": "code",
   "execution_count": 17,
   "id": "d922c1ca",
   "metadata": {},
   "outputs": [],
   "source": [
    "for df in [data_train, data_test]:\n",
    "    df['weight_bined'] = pd.cut(df.weight, bins=np.linspace(0, 200, 51), labels=False)\n",
    "    df['height_bined'] = pd.cut(df.height, bins=np.linspace(0, 200, 51), labels=False)\n",
    "    df['age_bined'] = pd.cut(df.age, bins=np.linspace(0, 100, 51), labels=False)\n",
    "    df['aphi_bined'] = pd.cut(df.ap_hi, bins=np.linspace(0, 250, 26), labels=False)\n",
    "    df['aplo_bined'] = pd.cut(df.ap_lo, bins=np.linspace(0, 150, 16), labels=False)"
   ]
  },
  {
   "cell_type": "markdown",
   "id": "df63765d",
   "metadata": {},
   "source": [
    "**Сalculated features**"
   ]
  },
  {
   "cell_type": "code",
   "execution_count": 18,
   "id": "5f0ac4f1",
   "metadata": {},
   "outputs": [],
   "source": [
    "# for df in [data_train, data_test]:\n",
    "    \n",
    "#     df['weight_LOG'] = df.age * df.weight\n",
    "#     df['weight_to_squared_height'] = df.weight / df.height**2\n",
    "#     df['ap_prod'] = df.ap_hi * df.ap_lo\n",
    "#     df['weight_height_ratio'] = df.weight / df.height\n",
    "#     df['squared_weight_to_height'] = df.weight**2 / df.height\n",
    "#     df['aphi_aplo_ratio'] = df.ap_hi / df.ap_lo\n",
    "#     df['aphi_aplo_difference'] = df.ap_hi - df.ap_lo\n",
    "    \n",
    "# new_num_features_list.append('weight_to_squared_height')\n",
    "# new_num_features_list.append('aphi_aplo_difference')"
   ]
  },
  {
   "cell_type": "markdown",
   "id": "276c73a3",
   "metadata": {},
   "source": [
    "**Target Encoding: gender, aphi_bined, aplo_bined**\n",
    "\n",
    "С дискретизацией и без нее результаты близки. Оставил с бинизацией на всякий случай."
   ]
  },
  {
   "cell_type": "code",
   "execution_count": 19,
   "id": "ddf4b8d2",
   "metadata": {},
   "outputs": [],
   "source": [
    "data_train, data_test = target_encode(data_train, data_test,\n",
    "                                      feature_list=['gender','aphi_bined','aplo_bined'],\n",
    "                                      target='cardio', agg_func_list=['mean'], fill_na=0.5)"
   ]
  },
  {
   "cell_type": "markdown",
   "id": "56627e21",
   "metadata": {},
   "source": [
    "**Target Encoding: gender, age**\n",
    "\n",
    "Без дискретизации происходит overfit из-за того, что распределение возраста имеет странные разрежения."
   ]
  },
  {
   "cell_type": "code",
   "execution_count": 20,
   "id": "e5640a3d",
   "metadata": {},
   "outputs": [],
   "source": [
    "data_train, data_test = target_encode(data_train, data_test,\n",
    "                                      feature_list=['gender','age'],\n",
    "                                      target='cardio', agg_func_list=['mean'], fill_na=0.5)"
   ]
  },
  {
   "cell_type": "markdown",
   "id": "2f500304",
   "metadata": {},
   "source": [
    "**Target Encoding: gender, weight_bined, height_bined**"
   ]
  },
  {
   "cell_type": "code",
   "execution_count": 21,
   "id": "b651bbb6",
   "metadata": {},
   "outputs": [],
   "source": [
    "data_train, data_test = target_encode(data_train, data_test,\n",
    "                                      feature_list=['gender','weight_bined','height_bined'],\n",
    "                                      target='cardio', agg_func_list=['mean'], fill_na=0.5)"
   ]
  },
  {
   "cell_type": "markdown",
   "id": "8cb33739",
   "metadata": {},
   "source": [
    "**Target Encoding: gender, cholesterol, gluc, active**"
   ]
  },
  {
   "cell_type": "code",
   "execution_count": 22,
   "id": "9a0f8f5f",
   "metadata": {},
   "outputs": [],
   "source": [
    "data_train, data_test = target_encode(data_train, data_test,\n",
    "                                      feature_list=['gender','cholesterol','gluc','active'],\n",
    "                                      target='cardio', agg_func_list=['mean'], fill_na=0.5)"
   ]
  },
  {
   "cell_type": "code",
   "execution_count": 23,
   "id": "8c7ee132",
   "metadata": {
    "scrolled": false
   },
   "outputs": [
    {
     "data": {
      "text/html": [
       "<div>\n",
       "<style scoped>\n",
       "    .dataframe tbody tr th:only-of-type {\n",
       "        vertical-align: middle;\n",
       "    }\n",
       "\n",
       "    .dataframe tbody tr th {\n",
       "        vertical-align: top;\n",
       "    }\n",
       "\n",
       "    .dataframe thead th {\n",
       "        text-align: right;\n",
       "    }\n",
       "</style>\n",
       "<table border=\"1\" class=\"dataframe\">\n",
       "  <thead>\n",
       "    <tr style=\"text-align: left;\">\n",
       "      <th></th>\n",
       "      <th></th>\n",
       "      <th>cholesterol</th>\n",
       "      <th>1</th>\n",
       "      <th>2</th>\n",
       "      <th>3</th>\n",
       "    </tr>\n",
       "    <tr>\n",
       "      <th>gender</th>\n",
       "      <th>active</th>\n",
       "      <th>gluc</th>\n",
       "      <th></th>\n",
       "      <th></th>\n",
       "      <th></th>\n",
       "    </tr>\n",
       "  </thead>\n",
       "  <tbody>\n",
       "    <tr>\n",
       "      <th rowspan=\"6\" valign=\"top\">0</th>\n",
       "      <th rowspan=\"3\" valign=\"top\">0</th>\n",
       "      <th>1</th>\n",
       "      <td>0.512</td>\n",
       "      <td>0.700</td>\n",
       "      <td>0.768</td>\n",
       "    </tr>\n",
       "    <tr>\n",
       "      <th>2</th>\n",
       "      <td>0.571</td>\n",
       "      <td>0.690</td>\n",
       "      <td>0.778</td>\n",
       "    </tr>\n",
       "    <tr>\n",
       "      <th>3</th>\n",
       "      <td>0.404</td>\n",
       "      <td>0.450</td>\n",
       "      <td>0.654</td>\n",
       "    </tr>\n",
       "    <tr>\n",
       "      <th rowspan=\"3\" valign=\"top\">1</th>\n",
       "      <th>1</th>\n",
       "      <td>0.429</td>\n",
       "      <td>0.628</td>\n",
       "      <td>0.805</td>\n",
       "    </tr>\n",
       "    <tr>\n",
       "      <th>2</th>\n",
       "      <td>0.556</td>\n",
       "      <td>0.625</td>\n",
       "      <td>0.820</td>\n",
       "    </tr>\n",
       "    <tr>\n",
       "      <th>3</th>\n",
       "      <td>0.426</td>\n",
       "      <td>0.584</td>\n",
       "      <td>0.690</td>\n",
       "    </tr>\n",
       "    <tr>\n",
       "      <th rowspan=\"6\" valign=\"top\">1</th>\n",
       "      <th rowspan=\"3\" valign=\"top\">0</th>\n",
       "      <th>1</th>\n",
       "      <td>0.465</td>\n",
       "      <td>0.616</td>\n",
       "      <td>0.845</td>\n",
       "    </tr>\n",
       "    <tr>\n",
       "      <th>2</th>\n",
       "      <td>0.555</td>\n",
       "      <td>0.615</td>\n",
       "      <td>0.789</td>\n",
       "    </tr>\n",
       "    <tr>\n",
       "      <th>3</th>\n",
       "      <td>0.576</td>\n",
       "      <td>0.717</td>\n",
       "      <td>0.690</td>\n",
       "    </tr>\n",
       "    <tr>\n",
       "      <th rowspan=\"3\" valign=\"top\">1</th>\n",
       "      <th>1</th>\n",
       "      <td>0.420</td>\n",
       "      <td>0.578</td>\n",
       "      <td>0.829</td>\n",
       "    </tr>\n",
       "    <tr>\n",
       "      <th>2</th>\n",
       "      <td>0.520</td>\n",
       "      <td>0.565</td>\n",
       "      <td>0.821</td>\n",
       "    </tr>\n",
       "    <tr>\n",
       "      <th>3</th>\n",
       "      <td>0.463</td>\n",
       "      <td>0.599</td>\n",
       "      <td>0.698</td>\n",
       "    </tr>\n",
       "  </tbody>\n",
       "</table>\n",
       "</div>"
      ],
      "text/plain": [
       "cholesterol         1     2     3   \n",
       "gender active gluc                  \n",
       "0      0      1    0.512 0.700 0.768\n",
       "              2    0.571 0.690 0.778\n",
       "              3    0.404 0.450 0.654\n",
       "       1      1    0.429 0.628 0.805\n",
       "              2    0.556 0.625 0.820\n",
       "              3    0.426 0.584 0.690\n",
       "1      0      1    0.465 0.616 0.845\n",
       "              2    0.555 0.615 0.789\n",
       "              3    0.576 0.717 0.690\n",
       "       1      1    0.420 0.578 0.829\n",
       "              2    0.520 0.565 0.821\n",
       "              3    0.463 0.599 0.698"
      ]
     },
     "execution_count": 23,
     "metadata": {},
     "output_type": "execute_result"
    }
   ],
   "source": [
    "data_train.groupby(['gender','active','gluc','cholesterol']).cardio.mean().unstack()"
   ]
  },
  {
   "cell_type": "code",
   "execution_count": 24,
   "id": "e4a5dffc",
   "metadata": {},
   "outputs": [],
   "source": [
    "# data_train, data_test = target_encode(data_train, data_test,\n",
    "#                                       feature_list=['gender','cholesterol','gluc'],\n",
    "#                                       target='cardio', agg_func_list=['mean'], fill_na=0.5)"
   ]
  },
  {
   "cell_type": "code",
   "execution_count": 25,
   "id": "7fe78b77",
   "metadata": {
    "scrolled": true
   },
   "outputs": [],
   "source": [
    "# data_train.groupby(['gender','cholesterol','gluc']).cardio.mean().unstack()"
   ]
  },
  {
   "cell_type": "code",
   "execution_count": 26,
   "id": "5b92b765",
   "metadata": {},
   "outputs": [],
   "source": [
    "# data_train, data_test = target_encode(data_train, data_test,\n",
    "#                                       feature_list=['gender','cholesterol','active'],\n",
    "#                                       target='cardio', agg_func_list=['mean'], fill_na=0.5)"
   ]
  },
  {
   "cell_type": "code",
   "execution_count": 27,
   "id": "62da83c8",
   "metadata": {
    "scrolled": true
   },
   "outputs": [],
   "source": [
    "# data_train.groupby(['gender','active','cholesterol']).cardio.mean().unstack()"
   ]
  },
  {
   "cell_type": "markdown",
   "id": "cca43d86",
   "metadata": {},
   "source": [
    "**Target Encoding: gender, smoke, alco**"
   ]
  },
  {
   "cell_type": "code",
   "execution_count": 28,
   "id": "243528b0",
   "metadata": {},
   "outputs": [],
   "source": [
    "# data_train, data_test = target_encode(data_train, data_test,\n",
    "#                                       feature_list=['gender','smoke'],\n",
    "#                                       target='cardio', agg_func_list=['mean'], fill_na=0.5)"
   ]
  },
  {
   "cell_type": "code",
   "execution_count": 29,
   "id": "e1db9be8",
   "metadata": {
    "scrolled": true
   },
   "outputs": [],
   "source": [
    "# data_train.groupby(['gender','smoke']).cardio.mean().unstack()"
   ]
  },
  {
   "cell_type": "code",
   "execution_count": 30,
   "id": "b879b2d5",
   "metadata": {},
   "outputs": [],
   "source": [
    "# data_train, data_test = target_encode(data_train, data_test,\n",
    "#                                       feature_list=['gender','alco'],\n",
    "#                                       target='cardio', agg_func_list=['mean'], fill_na=0.5)"
   ]
  },
  {
   "cell_type": "code",
   "execution_count": 31,
   "id": "e43578fc",
   "metadata": {},
   "outputs": [],
   "source": [
    "# data_train.groupby(['gender','alco']).cardio.mean().unstack()"
   ]
  },
  {
   "cell_type": "markdown",
   "id": "6919025a",
   "metadata": {},
   "source": [
    "**new_num_features_list**"
   ]
  },
  {
   "cell_type": "code",
   "execution_count": 32,
   "id": "aa247a2a",
   "metadata": {},
   "outputs": [
    {
     "data": {
      "text/plain": [
       "['gender_aphi_bined_aplo_bined_TRG_mean',\n",
       " 'gender_age_TRG_mean',\n",
       " 'gender_weight_bined_height_bined_TRG_mean',\n",
       " 'gender_cholesterol_gluc_active_TRG_mean']"
      ]
     },
     "execution_count": 32,
     "metadata": {},
     "output_type": "execute_result"
    }
   ],
   "source": [
    "new_num_features_list"
   ]
  },
  {
   "cell_type": "markdown",
   "id": "3eb09a71",
   "metadata": {},
   "source": [
    "**new_cat_features_list**"
   ]
  },
  {
   "cell_type": "code",
   "execution_count": 33,
   "id": "16c02208",
   "metadata": {},
   "outputs": [
    {
     "data": {
      "text/plain": [
       "[]"
      ]
     },
     "execution_count": 33,
     "metadata": {},
     "output_type": "execute_result"
    }
   ],
   "source": [
    "new_cat_features_list"
   ]
  },
  {
   "cell_type": "markdown",
   "id": "553731e9",
   "metadata": {},
   "source": [
    "**Drop unnecessary features**"
   ]
  },
  {
   "cell_type": "code",
   "execution_count": 34,
   "id": "d264a186",
   "metadata": {},
   "outputs": [],
   "source": [
    "data_train = data_train.drop(['age_bined', 'weight_bined', 'height_bined', 'aphi_bined', 'aplo_bined'], axis=1)"
   ]
  },
  {
   "cell_type": "code",
   "execution_count": null,
   "id": "f219690c",
   "metadata": {},
   "outputs": [],
   "source": []
  },
  {
   "cell_type": "code",
   "execution_count": 35,
   "id": "d279563f",
   "metadata": {},
   "outputs": [],
   "source": [
    "# feature_list = ['age','height','weight']\n",
    "\n",
    "# data_train_pca, data_test_pca, loadings, columns = apply_PCA(data_train[feature_list], data_test[feature_list], prefix='age_height_weight_')\n",
    "# display(loadings)\n",
    "\n",
    "# data_train = data_train.join(data_train_pca)\n",
    "# data_test = data_test.join(data_test_pca)\n",
    "# new_num_features_list = new_num_features_list + columns"
   ]
  },
  {
   "cell_type": "markdown",
   "id": "164aac2d",
   "metadata": {},
   "source": [
    "---"
   ]
  },
  {
   "cell_type": "markdown",
   "id": "08cf6de4",
   "metadata": {},
   "source": [
    "## Correlation"
   ]
  },
  {
   "cell_type": "markdown",
   "id": "7672be74",
   "metadata": {},
   "source": [
    "Для правильной и быстрой работы Phik необходимо указать интервальные признаки."
   ]
  },
  {
   "cell_type": "code",
   "execution_count": 36,
   "id": "4004d5ca",
   "metadata": {},
   "outputs": [],
   "source": [
    "# список интервальных признаков\n",
    "interval_cols_list = ['age','height','weight','ap_hi','ap_lo'] + new_num_features_list"
   ]
  },
  {
   "cell_type": "markdown",
   "id": "4100c26d",
   "metadata": {},
   "source": [
    "### Feature correlations"
   ]
  },
  {
   "cell_type": "code",
   "execution_count": 37,
   "id": "e3e58533",
   "metadata": {},
   "outputs": [],
   "source": [
    "# df = data_train.phik_matrix(interval_cols=interval_cols_list)\n",
    "\n",
    "# fig, ax = plt.subplots(figsize=(15, 0.4*df.shape[1]), dpi=PLOT_DPI)\n",
    "# sns.heatmap(df[(0.2 < df) & (df < 1.0)], annot=True, fmt='.2f', linewidths=0.2, annot_kws={'fontsize':10}, cmap='Blues')\n",
    "# plt.show()"
   ]
  },
  {
   "cell_type": "markdown",
   "id": "4075ee71",
   "metadata": {},
   "source": [
    "### Correlation to target & Significance of the correlations\n",
    "\n",
    "Корреляция признаков с целевой переменной и нормированная статистическая значимость корреляций, а также их произведение и гармоническое среднее."
   ]
  },
  {
   "cell_type": "code",
   "execution_count": 38,
   "id": "c8d4cc18",
   "metadata": {},
   "outputs": [
    {
     "data": {
      "text/html": [
       "<div>\n",
       "<style scoped>\n",
       "    .dataframe tbody tr th:only-of-type {\n",
       "        vertical-align: middle;\n",
       "    }\n",
       "\n",
       "    .dataframe tbody tr th {\n",
       "        vertical-align: top;\n",
       "    }\n",
       "\n",
       "    .dataframe thead th {\n",
       "        text-align: right;\n",
       "    }\n",
       "</style>\n",
       "<table border=\"1\" class=\"dataframe\">\n",
       "  <thead>\n",
       "    <tr style=\"text-align: left;\">\n",
       "      <th></th>\n",
       "      <th>correlation</th>\n",
       "      <th>significance</th>\n",
       "      <th>product</th>\n",
       "      <th>harmonic_mean</th>\n",
       "    </tr>\n",
       "  </thead>\n",
       "  <tbody>\n",
       "    <tr>\n",
       "      <th>gender_aphi_bined_aplo_bined_TRG_mean</th>\n",
       "      <td>0.609</td>\n",
       "      <td>1.000</td>\n",
       "      <td>0.609</td>\n",
       "      <td>0.757</td>\n",
       "    </tr>\n",
       "    <tr>\n",
       "      <th>ap_hi</th>\n",
       "      <td>0.601</td>\n",
       "      <td>0.983</td>\n",
       "      <td>0.591</td>\n",
       "      <td>0.746</td>\n",
       "    </tr>\n",
       "    <tr>\n",
       "      <th>ap_lo</th>\n",
       "      <td>0.486</td>\n",
       "      <td>0.784</td>\n",
       "      <td>0.381</td>\n",
       "      <td>0.600</td>\n",
       "    </tr>\n",
       "    <tr>\n",
       "      <th>gender_age_TRG_mean</th>\n",
       "      <td>0.321</td>\n",
       "      <td>0.508</td>\n",
       "      <td>0.163</td>\n",
       "      <td>0.393</td>\n",
       "    </tr>\n",
       "    <tr>\n",
       "      <th>age</th>\n",
       "      <td>0.313</td>\n",
       "      <td>0.495</td>\n",
       "      <td>0.155</td>\n",
       "      <td>0.383</td>\n",
       "    </tr>\n",
       "    <tr>\n",
       "      <th>gender_cholesterol_gluc_active_TRG_mean</th>\n",
       "      <td>0.305</td>\n",
       "      <td>0.486</td>\n",
       "      <td>0.148</td>\n",
       "      <td>0.375</td>\n",
       "    </tr>\n",
       "    <tr>\n",
       "      <th>gender_weight_bined_height_bined_TRG_mean</th>\n",
       "      <td>0.282</td>\n",
       "      <td>0.449</td>\n",
       "      <td>0.127</td>\n",
       "      <td>0.346</td>\n",
       "    </tr>\n",
       "    <tr>\n",
       "      <th>weight</th>\n",
       "      <td>0.236</td>\n",
       "      <td>0.369</td>\n",
       "      <td>0.087</td>\n",
       "      <td>0.288</td>\n",
       "    </tr>\n",
       "    <tr>\n",
       "      <th>cholesterol</th>\n",
       "      <td>0.134</td>\n",
       "      <td>0.460</td>\n",
       "      <td>0.062</td>\n",
       "      <td>0.207</td>\n",
       "    </tr>\n",
       "    <tr>\n",
       "      <th>gluc</th>\n",
       "      <td>0.055</td>\n",
       "      <td>0.187</td>\n",
       "      <td>0.010</td>\n",
       "      <td>0.085</td>\n",
       "    </tr>\n",
       "    <tr>\n",
       "      <th>active</th>\n",
       "      <td>0.056</td>\n",
       "      <td>0.072</td>\n",
       "      <td>0.004</td>\n",
       "      <td>0.063</td>\n",
       "    </tr>\n",
       "    <tr>\n",
       "      <th>height</th>\n",
       "      <td>0.033</td>\n",
       "      <td>0.042</td>\n",
       "      <td>0.001</td>\n",
       "      <td>0.037</td>\n",
       "    </tr>\n",
       "    <tr>\n",
       "      <th>smoke</th>\n",
       "      <td>0.023</td>\n",
       "      <td>0.030</td>\n",
       "      <td>0.001</td>\n",
       "      <td>0.026</td>\n",
       "    </tr>\n",
       "    <tr>\n",
       "      <th>gender</th>\n",
       "      <td>0.011</td>\n",
       "      <td>0.014</td>\n",
       "      <td>0.000</td>\n",
       "      <td>0.013</td>\n",
       "    </tr>\n",
       "    <tr>\n",
       "      <th>alco</th>\n",
       "      <td>0.010</td>\n",
       "      <td>0.013</td>\n",
       "      <td>0.000</td>\n",
       "      <td>0.011</td>\n",
       "    </tr>\n",
       "  </tbody>\n",
       "</table>\n",
       "</div>"
      ],
      "text/plain": [
       "                                           correlation  significance  product  \\\n",
       "gender_aphi_bined_aplo_bined_TRG_mean     0.609        1.000         0.609      \n",
       "ap_hi                                     0.601        0.983         0.591      \n",
       "ap_lo                                     0.486        0.784         0.381      \n",
       "gender_age_TRG_mean                       0.321        0.508         0.163      \n",
       "age                                       0.313        0.495         0.155      \n",
       "gender_cholesterol_gluc_active_TRG_mean   0.305        0.486         0.148      \n",
       "gender_weight_bined_height_bined_TRG_mean 0.282        0.449         0.127      \n",
       "weight                                    0.236        0.369         0.087      \n",
       "cholesterol                               0.134        0.460         0.062      \n",
       "gluc                                      0.055        0.187         0.010      \n",
       "active                                    0.056        0.072         0.004      \n",
       "height                                    0.033        0.042         0.001      \n",
       "smoke                                     0.023        0.030         0.001      \n",
       "gender                                    0.011        0.014         0.000      \n",
       "alco                                      0.010        0.013         0.000      \n",
       "\n",
       "                                           harmonic_mean  \n",
       "gender_aphi_bined_aplo_bined_TRG_mean     0.757           \n",
       "ap_hi                                     0.746           \n",
       "ap_lo                                     0.600           \n",
       "gender_age_TRG_mean                       0.393           \n",
       "age                                       0.383           \n",
       "gender_cholesterol_gluc_active_TRG_mean   0.375           \n",
       "gender_weight_bined_height_bined_TRG_mean 0.346           \n",
       "weight                                    0.288           \n",
       "cholesterol                               0.207           \n",
       "gluc                                      0.085           \n",
       "active                                    0.063           \n",
       "height                                    0.037           \n",
       "smoke                                     0.026           \n",
       "gender                                    0.013           \n",
       "alco                                      0.011           "
      ]
     },
     "execution_count": 38,
     "metadata": {},
     "output_type": "execute_result"
    }
   ],
   "source": [
    "# по отношению к целевому признаку\n",
    "# объединенная таблица корреляций и их нормированной статистической значимости\n",
    "# сортировка по произведению корреляции и статистической значимости\n",
    "# дополнительно: гармоническое среднее корреляции и статистической значимости\n",
    "# вопрос: что более показательно – произведение или гармоническое среднее?\n",
    "\n",
    "# correlation to target\n",
    "df_1 = (data_train.phik_matrix(interval_cols=interval_cols_list)\n",
    "                  .cardio\n",
    "                  .to_frame()\n",
    "                  .drop('cardio', axis=0)  # correlation to self\n",
    "                  .rename(columns={'cardio': 'correlation'})\n",
    "       )\n",
    "\n",
    "# significance of the correlations\n",
    "df_2 = (data_train.significance_matrix(interval_cols=interval_cols_list, nsim=50)\n",
    "                  .cardio\n",
    "                  .to_frame()\n",
    "                  .drop('cardio', axis=0)  # correlation to self\n",
    "                  .assign(cardio = lambda x: x.cardio / x.cardio.max())\n",
    "                  .rename(columns={'cardio': 'significance'})\n",
    "       )\n",
    "\n",
    "# joined\n",
    "(\n",
    "    df_1.join(df_2, how='outer')\n",
    "        .assign(product = lambda x: x.correlation * x.significance)\n",
    "        .assign(harmonic_mean = lambda x: 2 * x.correlation * x.significance / (x.correlation + x.significance))\n",
    "        .sort_values('harmonic_mean', ascending=False)\n",
    ")"
   ]
  },
  {
   "cell_type": "markdown",
   "id": "51329a23",
   "metadata": {},
   "source": [
    "### Outlier significance\n",
    "\n",
    "Поиск наиболее статистически различимых интервалов (признак и целевая переменная)."
   ]
  },
  {
   "cell_type": "code",
   "execution_count": 39,
   "id": "dfa446ea",
   "metadata": {},
   "outputs": [],
   "source": [
    "def plot_outlier_significance_matrix(df, feature_1, feature_2, n_bins=10):\n",
    "    \n",
    "    df_1 = df[[feature_1, feature_2]].outlier_significance_matrix(interval_cols=[feature_2], ndecimals=0, bins=n_bins, quantile=True)\n",
    "    fig, ax = plt.subplots(figsize=(15,1), dpi=PLOT_DPI)\n",
    "    sns.heatmap(df_1, annot=True, fmt='.1f', linewidths=0.2, annot_kws={'fontsize':10}, cmap=CMAP_SYMMETRIC, vmin=-75, vmax=75);\n",
    "    ax.set_title(f'{feature_2}: quantile binning')\n",
    "\n",
    "    df_2 = df[[feature_1, feature_2]].outlier_significance_matrix(interval_cols=[feature_2], ndecimals=0, bins=n_bins+1)\n",
    "    fig, ax = plt.subplots(figsize=(15,1), dpi=PLOT_DPI)\n",
    "    sns.heatmap(df_2, annot=True, fmt='.1f', linewidths=0.2, annot_kws={'fontsize':10}, cmap=CMAP_SYMMETRIC, vmin=-75, vmax=75)\n",
    "    ax.set_title(f'{feature_2}: uniform binning')\n",
    "    ax.set_xlabel(feature_2);"
   ]
  },
  {
   "cell_type": "code",
   "execution_count": 40,
   "id": "f6908ede",
   "metadata": {},
   "outputs": [],
   "source": [
    "# features_to_explore = ['age','height','weight','ap_hi','ap_lo']\n",
    "\n",
    "# for feature in features_to_explore:\n",
    "#     plot_outlier_significance_matrix(df=data_train, feature_1='cardio', feature_2=feature)"
   ]
  },
  {
   "cell_type": "markdown",
   "id": "19cf4852",
   "metadata": {},
   "source": [
    "Для примера: попарное сравнение признаков для обнаружения статистических отклонений."
   ]
  },
  {
   "cell_type": "code",
   "execution_count": 41,
   "id": "5eb2701e",
   "metadata": {},
   "outputs": [],
   "source": [
    "# feature_1 = \"ap_lo\"\n",
    "# feature_2 = \"ap_hi\"\n",
    "# interval_cols_list = [\"ap_hi\", \"ap_lo\"]\n",
    "\n",
    "# df = data_train[[feature_1, feature_2]].outlier_significance_matrix(interval_cols=interval_cols_list, ndecimals=0, bins={feature_1:3,feature_2:6})\n",
    "\n",
    "# fig, ax = plt.subplots(figsize=(15,3), dpi=PLOT_DPI)\n",
    "# sns.heatmap(df, annot=True, fmt='.1f', linewidths=0.2, annot_kws={'fontsize':10}, cmap=CMAP_SYMMETRIC, vmin=-75, vmax=75);"
   ]
  },
  {
   "cell_type": "markdown",
   "id": "4d13c7e9",
   "metadata": {},
   "source": [
    "## Mutual info"
   ]
  },
  {
   "cell_type": "code",
   "execution_count": 42,
   "id": "492c892e",
   "metadata": {
    "scrolled": false
   },
   "outputs": [
    {
     "data": {
      "text/html": [
       "<div>\n",
       "<style scoped>\n",
       "    .dataframe tbody tr th:only-of-type {\n",
       "        vertical-align: middle;\n",
       "    }\n",
       "\n",
       "    .dataframe tbody tr th {\n",
       "        vertical-align: top;\n",
       "    }\n",
       "\n",
       "    .dataframe thead th {\n",
       "        text-align: right;\n",
       "    }\n",
       "</style>\n",
       "<table border=\"1\" class=\"dataframe\">\n",
       "  <thead>\n",
       "    <tr style=\"text-align: left;\">\n",
       "      <th></th>\n",
       "      <th>k_1</th>\n",
       "      <th>k_3</th>\n",
       "      <th>k_5</th>\n",
       "      <th>k_7</th>\n",
       "      <th>average</th>\n",
       "    </tr>\n",
       "  </thead>\n",
       "  <tbody>\n",
       "    <tr>\n",
       "      <th>gender_aphi_bined_aplo_bined_TRG_mean</th>\n",
       "      <td>0.121</td>\n",
       "      <td>0.121</td>\n",
       "      <td>0.121</td>\n",
       "      <td>0.123</td>\n",
       "      <td>0.121</td>\n",
       "    </tr>\n",
       "    <tr>\n",
       "      <th>ap_hi</th>\n",
       "      <td>0.118</td>\n",
       "      <td>0.121</td>\n",
       "      <td>0.120</td>\n",
       "      <td>0.119</td>\n",
       "      <td>0.120</td>\n",
       "    </tr>\n",
       "    <tr>\n",
       "      <th>ap_lo</th>\n",
       "      <td>0.072</td>\n",
       "      <td>0.078</td>\n",
       "      <td>0.076</td>\n",
       "      <td>0.075</td>\n",
       "      <td>0.075</td>\n",
       "    </tr>\n",
       "    <tr>\n",
       "      <th>age</th>\n",
       "      <td>0.038</td>\n",
       "      <td>0.033</td>\n",
       "      <td>0.032</td>\n",
       "      <td>0.032</td>\n",
       "      <td>0.033</td>\n",
       "    </tr>\n",
       "    <tr>\n",
       "      <th>gender_age_TRG_mean</th>\n",
       "      <td>0.031</td>\n",
       "      <td>0.032</td>\n",
       "      <td>0.031</td>\n",
       "      <td>0.030</td>\n",
       "      <td>0.031</td>\n",
       "    </tr>\n",
       "    <tr>\n",
       "      <th>gender_cholesterol_gluc_active_TRG_mean</th>\n",
       "      <td>0.028</td>\n",
       "      <td>0.029</td>\n",
       "      <td>0.031</td>\n",
       "      <td>0.030</td>\n",
       "      <td>0.029</td>\n",
       "    </tr>\n",
       "    <tr>\n",
       "      <th>cholesterol</th>\n",
       "      <td>0.021</td>\n",
       "      <td>0.032</td>\n",
       "      <td>0.030</td>\n",
       "      <td>0.028</td>\n",
       "      <td>0.028</td>\n",
       "    </tr>\n",
       "    <tr>\n",
       "      <th>gender_weight_bined_height_bined_TRG_mean</th>\n",
       "      <td>0.019</td>\n",
       "      <td>0.025</td>\n",
       "      <td>0.025</td>\n",
       "      <td>0.024</td>\n",
       "      <td>0.023</td>\n",
       "    </tr>\n",
       "    <tr>\n",
       "      <th>weight</th>\n",
       "      <td>0.021</td>\n",
       "      <td>0.017</td>\n",
       "      <td>0.017</td>\n",
       "      <td>0.016</td>\n",
       "      <td>0.018</td>\n",
       "    </tr>\n",
       "    <tr>\n",
       "      <th>gluc</th>\n",
       "      <td>0.000</td>\n",
       "      <td>0.009</td>\n",
       "      <td>0.007</td>\n",
       "      <td>0.005</td>\n",
       "      <td>0.005</td>\n",
       "    </tr>\n",
       "    <tr>\n",
       "      <th>active</th>\n",
       "      <td>0.000</td>\n",
       "      <td>0.006</td>\n",
       "      <td>0.005</td>\n",
       "      <td>0.004</td>\n",
       "      <td>0.004</td>\n",
       "    </tr>\n",
       "    <tr>\n",
       "      <th>gender</th>\n",
       "      <td>0.002</td>\n",
       "      <td>0.006</td>\n",
       "      <td>0.001</td>\n",
       "      <td>0.001</td>\n",
       "      <td>0.002</td>\n",
       "    </tr>\n",
       "    <tr>\n",
       "      <th>alco</th>\n",
       "      <td>0.000</td>\n",
       "      <td>0.003</td>\n",
       "      <td>0.002</td>\n",
       "      <td>0.000</td>\n",
       "      <td>0.001</td>\n",
       "    </tr>\n",
       "    <tr>\n",
       "      <th>smoke</th>\n",
       "      <td>0.001</td>\n",
       "      <td>0.000</td>\n",
       "      <td>0.000</td>\n",
       "      <td>0.000</td>\n",
       "      <td>0.000</td>\n",
       "    </tr>\n",
       "    <tr>\n",
       "      <th>height</th>\n",
       "      <td>0.000</td>\n",
       "      <td>0.000</td>\n",
       "      <td>0.000</td>\n",
       "      <td>0.001</td>\n",
       "      <td>0.000</td>\n",
       "    </tr>\n",
       "  </tbody>\n",
       "</table>\n",
       "</div>"
      ],
      "text/plain": [
       "                                           k_1   k_3   k_5   k_7   average\n",
       "gender_aphi_bined_aplo_bined_TRG_mean     0.121 0.121 0.121 0.123 0.121   \n",
       "ap_hi                                     0.118 0.121 0.120 0.119 0.120   \n",
       "ap_lo                                     0.072 0.078 0.076 0.075 0.075   \n",
       "age                                       0.038 0.033 0.032 0.032 0.033   \n",
       "gender_age_TRG_mean                       0.031 0.032 0.031 0.030 0.031   \n",
       "gender_cholesterol_gluc_active_TRG_mean   0.028 0.029 0.031 0.030 0.029   \n",
       "cholesterol                               0.021 0.032 0.030 0.028 0.028   \n",
       "gender_weight_bined_height_bined_TRG_mean 0.019 0.025 0.025 0.024 0.023   \n",
       "weight                                    0.021 0.017 0.017 0.016 0.018   \n",
       "gluc                                      0.000 0.009 0.007 0.005 0.005   \n",
       "active                                    0.000 0.006 0.005 0.004 0.004   \n",
       "gender                                    0.002 0.006 0.001 0.001 0.002   \n",
       "alco                                      0.000 0.003 0.002 0.000 0.001   \n",
       "smoke                                     0.001 0.000 0.000 0.000 0.000   \n",
       "height                                    0.000 0.000 0.000 0.001 0.000   "
      ]
     },
     "metadata": {},
     "output_type": "display_data"
    },
    {
     "data": {
      "image/png": "[encoded data removed]",
      "text/plain": [
       "<Figure size 2250x750 with 1 Axes>"
      ]
     },
     "metadata": {},
     "output_type": "display_data"
    }
   ],
   "source": [
    "mutual_info(data_train.drop('cardio', axis=1), data_train.cardio, task='classification', max_neighbors=7)"
   ]
  },
  {
   "cell_type": "markdown",
   "id": "07088502",
   "metadata": {},
   "source": [
    "## Data save\n",
    "\n",
    "Сохранение обработанных данных для следующего этапа."
   ]
  },
  {
   "cell_type": "code",
   "execution_count": 43,
   "id": "1ee6adaf",
   "metadata": {},
   "outputs": [
    {
     "data": {
      "text/plain": [
       "['gender_aphi_bined_aplo_bined_TRG_mean',\n",
       " 'gender_age_TRG_mean',\n",
       " 'gender_weight_bined_height_bined_TRG_mean',\n",
       " 'gender_cholesterol_gluc_active_TRG_mean']"
      ]
     },
     "execution_count": 43,
     "metadata": {},
     "output_type": "execute_result"
    }
   ],
   "source": [
    "new_num_features_list"
   ]
  },
  {
   "cell_type": "code",
   "execution_count": 44,
   "id": "5e1897ab",
   "metadata": {
    "scrolled": true
   },
   "outputs": [
    {
     "data": {
      "text/plain": [
       "[]"
      ]
     },
     "execution_count": 44,
     "metadata": {},
     "output_type": "execute_result"
    }
   ],
   "source": [
    "new_cat_features_list"
   ]
  },
  {
   "cell_type": "code",
   "execution_count": 45,
   "id": "6f944c55",
   "metadata": {},
   "outputs": [],
   "source": [
    "features_list = (\n",
    "                 [                           # source features\n",
    "#                   'age',\n",
    "#                   'gender',\n",
    "#                   'height',\n",
    "#                   'weight',\n",
    "#                   'ap_hi',\n",
    "#                   'ap_lo',\n",
    "#                   'cholesterol',\n",
    "#                   'gluc',\n",
    "#                   'smoke',\n",
    "#                   'alco',\n",
    "#                   'active',\n",
    "                 ] +                         # new features\n",
    "                 new_num_features_list\n",
    "                )"
   ]
  },
  {
   "cell_type": "code",
   "execution_count": 46,
   "id": "d7bbe657",
   "metadata": {},
   "outputs": [],
   "source": [
    "data_train[['cardio'] + features_list].to_csv(f'datasets/FE_train.csv', index=False)\n",
    "data_test[['id'] + features_list].to_csv(f'datasets/FE_test.csv', index=False)"
   ]
  }
 ],
 "metadata": {
  "kernelspec": {
   "display_name": "Python 3 (ipykernel)",
   "language": "python",
   "name": "python3"
  },
  "language_info": {
   "codemirror_mode": {
    "name": "ipython",
    "version": 3
   },
   "file_extension": ".py",
   "mimetype": "text/x-python",
   "name": "python",
   "nbconvert_exporter": "python",
   "pygments_lexer": "ipython3",
   "version": "3.8.13"
  },
  "nbTranslate": {
   "displayLangs": [
    "en",
    "ru"
   ],
   "hotkey": "alt-t",
   "langInMainMenu": false,
   "sourceLang": "ru",
   "targetLang": "en",
   "useGoogleTranslate": true
  },
  "toc": {
   "base_numbering": "0",
   "nav_menu": {},
   "number_sections": true,
   "sideBar": true,
   "skip_h1_title": true,
   "title_cell": "Содержание",
   "title_sidebar": "Содержание",
   "toc_cell": true,
   "toc_position": {
    "height": "calc(100% - 180px)",
    "left": "10px",
    "top": "150px",
    "width": "198.9px"
   },
   "toc_section_display": true,
   "toc_window_display": true
  }
 },
 "nbformat": 4,
 "nbformat_minor": 5
}
